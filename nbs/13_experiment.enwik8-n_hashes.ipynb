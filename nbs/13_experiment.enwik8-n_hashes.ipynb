{
 "cells": [
  {
   "cell_type": "code",
   "execution_count": null,
   "metadata": {},
   "outputs": [
    {
     "name": "stdout",
     "output_type": "stream",
     "text": [
      "Fri Jan 22 21:41:18 2021       \n",
      "+-----------------------------------------------------------------------------+\n",
      "| NVIDIA-SMI 460.32.03    Driver Version: 418.67       CUDA Version: 10.1     |\n",
      "|-------------------------------+----------------------+----------------------+\n",
      "| GPU  Name        Persistence-M| Bus-Id        Disp.A | Volatile Uncorr. ECC |\n",
      "| Fan  Temp  Perf  Pwr:Usage/Cap|         Memory-Usage | GPU-Util  Compute M. |\n",
      "|                               |                      |               MIG M. |\n",
      "|===============================+======================+======================|\n",
      "|   0  Tesla T4            Off  | 00000000:00:04.0 Off |                    0 |\n",
      "| N/A   36C    P8     9W /  70W |      0MiB / 15079MiB |      0%      Default |\n",
      "|                               |                      |                 ERR! |\n",
      "+-------------------------------+----------------------+----------------------+\n",
      "                                                                               \n",
      "+-----------------------------------------------------------------------------+\n",
      "| Processes:                                                                  |\n",
      "|  GPU   GI   CI        PID   Type   Process name                  GPU Memory |\n",
      "|        ID   ID                                                   Usage      |\n",
      "|=============================================================================|\n",
      "|  No running processes found                                                 |\n",
      "+-----------------------------------------------------------------------------+\n"
     ]
    }
   ],
   "source": [
    "#hide\n",
    "!nvidia-smi"
   ]
  },
  {
   "cell_type": "code",
   "execution_count": null,
   "metadata": {},
   "outputs": [
    {
     "name": "stdout",
     "output_type": "stream",
     "text": [
      "\u001b[K     |████████████████████████████████| 194kB 15.1MB/s \n",
      "\u001b[K     |████████████████████████████████| 163kB 45.2MB/s \n",
      "\u001b[K     |████████████████████████████████| 1.9MB 43.7MB/s \n",
      "\u001b[K     |████████████████████████████████| 61kB 11.8MB/s \n",
      "\u001b[K     |████████████████████████████████| 245kB 50.5MB/s \n",
      "\u001b[K     |████████████████████████████████| 17.7MB 201kB/s \n",
      "\u001b[K     |████████████████████████████████| 133kB 63.4MB/s \n",
      "\u001b[K     |████████████████████████████████| 163kB 47.8MB/s \n",
      "\u001b[K     |████████████████████████████████| 102kB 15.8MB/s \n",
      "\u001b[K     |████████████████████████████████| 102kB 13.9MB/s \n",
      "\u001b[K     |████████████████████████████████| 71kB 12.0MB/s \n",
      "\u001b[?25h  Building wheel for axial-positional-embedding (setup.py) ... \u001b[?25l\u001b[?25hdone\n",
      "  Building wheel for subprocess32 (setup.py) ... \u001b[?25l\u001b[?25hdone\n",
      "  Building wheel for watchdog (setup.py) ... \u001b[?25l\u001b[?25hdone\n",
      "  Building wheel for pathtools (setup.py) ... \u001b[?25l\u001b[?25hdone\n",
      "  Building wheel for reformer-fastai (setup.py) ... \u001b[?25l\u001b[?25hdone\n"
     ]
    }
   ],
   "source": [
    "#hide\n",
    "import sys\n",
    "if 'google.colab' in sys.modules:\n",
    "    !pip install -Uqq fastai einops datasets axial_positional_embedding wandb\n",
    "    !pip install -qq git+git://github.com/arampacha/reformer_fastai.git"
   ]
  },
  {
   "cell_type": "code",
   "execution_count": null,
   "metadata": {},
   "outputs": [],
   "source": [
    "#hide\n",
    "%load_ext autoreload\n",
    "%autoreload 2"
   ]
  },
  {
   "cell_type": "code",
   "execution_count": null,
   "metadata": {},
   "outputs": [],
   "source": [
    "#all_slow"
   ]
  },
  {
   "cell_type": "markdown",
   "metadata": {},
   "source": [
    "# LSH attention\n",
    "\n",
    "> model performance as function of number of hashing rounds"
   ]
  },
  {
   "cell_type": "code",
   "execution_count": null,
   "metadata": {},
   "outputs": [],
   "source": [
    "#hide\n",
    "from fastai.text.all import *\n",
    "from reformer_fastai.all import *"
   ]
  },
  {
   "cell_type": "markdown",
   "metadata": {},
   "source": [
    "## Experiment Tracking"
   ]
  },
  {
   "cell_type": "markdown",
   "metadata": {},
   "source": [
    "Make sure you have wandb and are logged in:"
   ]
  },
  {
   "cell_type": "code",
   "execution_count": null,
   "metadata": {},
   "outputs": [
    {
     "name": "stdout",
     "output_type": "stream",
     "text": [
      "\u001b[34m\u001b[1mwandb\u001b[0m: You can find your API key in your browser here: https://wandb.ai/authorize\n",
      "\u001b[34m\u001b[1mwandb\u001b[0m: Paste an API key from your profile and hit enter: \n",
      "\u001b[34m\u001b[1mwandb\u001b[0m: Appending key for api.wandb.ai to your netrc file: /root/.netrc\n"
     ]
    }
   ],
   "source": [
    "#hide\n",
    "!wandb login"
   ]
  },
  {
   "cell_type": "markdown",
   "metadata": {},
   "source": [
    "Load Experiment Tracking with Weights & Biases:"
   ]
  },
  {
   "cell_type": "code",
   "execution_count": null,
   "metadata": {},
   "outputs": [],
   "source": [
    "import wandb\n",
    "\n",
    "WANDB_NAME = 'test_n_hashes_enwik8'\n",
    "GROUP = 'TEST'\n",
    "NOTES = 'LSHLM on enwik8 sl 4096'\n",
    "CONFIG = {}\n",
    "TAGS = ['lm','lsh','enwik8', 'test']"
   ]
  },
  {
   "cell_type": "markdown",
   "metadata": {},
   "source": [
    "## Download and Unpack enwik8 Data\n",
    "\n",
    "Download and unzip enwik8 data"
   ]
  },
  {
   "cell_type": "code",
   "execution_count": null,
   "metadata": {},
   "outputs": [
    {
     "data": {
      "text/html": [],
      "text/plain": [
       "<IPython.core.display.HTML object>"
      ]
     },
     "metadata": {},
     "output_type": "display_data"
    }
   ],
   "source": [
    "path = untar_data('http://mattmahoney.net/dc/enwik8.zip', dest='/data')"
   ]
  },
  {
   "cell_type": "markdown",
   "metadata": {},
   "source": [
    "## Prepare Data"
   ]
  },
  {
   "cell_type": "code",
   "execution_count": null,
   "metadata": {},
   "outputs": [
    {
     "data": {
      "text/html": [
       "<div>\n",
       "<style scoped>\n",
       "    .dataframe tbody tr th:only-of-type {\n",
       "        vertical-align: middle;\n",
       "    }\n",
       "\n",
       "    .dataframe tbody tr th {\n",
       "        vertical-align: top;\n",
       "    }\n",
       "\n",
       "    .dataframe thead th {\n",
       "        text-align: right;\n",
       "    }\n",
       "</style>\n",
       "<table border=\"1\" class=\"dataframe\">\n",
       "  <thead>\n",
       "    <tr style=\"text-align: right;\">\n",
       "      <th></th>\n",
       "      <th>text</th>\n",
       "    </tr>\n",
       "  </thead>\n",
       "  <tbody>\n",
       "    <tr>\n",
       "      <th>0</th>\n",
       "      <td>&lt;mediawiki xmlns=\"http://www.mediawiki.org/xml/export-0.3/\" xmlns:xsi=\"http://www.w3.org/2001/XMLSchema-instance\" xsi:schemaLocation=\"http://www.mediawiki.org/xml/export-0.3/ http://www.mediawiki.org/xml/export-0.3.xsd\" version=\"0.3\" xml:lang=\"en\"&gt;\\n</td>\n",
       "    </tr>\n",
       "    <tr>\n",
       "      <th>1</th>\n",
       "      <td>&lt;siteinfo&gt;\\n</td>\n",
       "    </tr>\n",
       "    <tr>\n",
       "      <th>2</th>\n",
       "      <td>&lt;sitename&gt;Wikipedia&lt;/sitename&gt;\\n</td>\n",
       "    </tr>\n",
       "    <tr>\n",
       "      <th>3</th>\n",
       "      <td>&lt;base&gt;http://en.wikipedia.org/wiki/Main_Page&lt;/base&gt;\\n</td>\n",
       "    </tr>\n",
       "    <tr>\n",
       "      <th>4</th>\n",
       "      <td>&lt;generator&gt;MediaWiki 1.6alpha&lt;/generator&gt;\\n</td>\n",
       "    </tr>\n",
       "  </tbody>\n",
       "</table>\n",
       "</div>"
      ],
      "text/plain": [
       "                                                                                                                                                                                                                                                         text\n",
       "0  <mediawiki xmlns=\"http://www.mediawiki.org/xml/export-0.3/\" xmlns:xsi=\"http://www.w3.org/2001/XMLSchema-instance\" xsi:schemaLocation=\"http://www.mediawiki.org/xml/export-0.3/ http://www.mediawiki.org/xml/export-0.3.xsd\" version=\"0.3\" xml:lang=\"en\">\\n\n",
       "1                                                                                                                                                                                                                                                <siteinfo>\\n\n",
       "2                                                                                                                                                                                                                            <sitename>Wikipedia</sitename>\\n\n",
       "3                                                                                                                                                                                                       <base>http://en.wikipedia.org/wiki/Main_Page</base>\\n\n",
       "4                                                                                                                                                                                                                 <generator>MediaWiki 1.6alpha</generator>\\n"
      ]
     },
     "execution_count": null,
     "metadata": {},
     "output_type": "execute_result"
    }
   ],
   "source": [
    "df = pd.DataFrame({'text':read_lines(path)})\n",
    "df.head()"
   ]
  },
  {
   "cell_type": "code",
   "execution_count": null,
   "metadata": {},
   "outputs": [],
   "source": [
    "btt = ByteTextTokenizer(is_lm=True, add_bos=False, add_eos=False)"
   ]
  },
  {
   "cell_type": "code",
   "execution_count": null,
   "metadata": {},
   "outputs": [
    {
     "name": "stdout",
     "output_type": "stream",
     "text": [
      "CPU times: user 1min 56s, sys: 2.56 s, total: 1min 58s\n",
      "Wall time: 1min 55s\n"
     ]
    }
   ],
   "source": [
    "%%time\n",
    "df['toks'] = df['text'].apply(btt)\n",
    "df['lens'] = df['toks'].apply(len)\n",
    "df['lens_cum_sum'] = df.lens.cumsum()"
   ]
  },
  {
   "cell_type": "code",
   "execution_count": null,
   "metadata": {},
   "outputs": [],
   "source": [
    "train_cutoff = df.lens.sum() - 10_000_000  # keep all but 10M characters for val and test\n",
    "train_idxs = df.loc[df['lens_cum_sum'] < train_cutoff].index.values\n",
    "train_idxs = list(range(0, max(train_idxs)))\n",
    "\n",
    "remaining_idxs = len(df) - max(train_idxs)\n",
    "validation_idxs = list(range(max(train_idxs), max(train_idxs) + int(remaining_idxs/2)))\n",
    "test_idxs = list(range(max(validation_idxs), len(df)))\n",
    "\n",
    "splits = [train_idxs, validation_idxs]"
   ]
  },
  {
   "cell_type": "code",
   "execution_count": null,
   "metadata": {},
   "outputs": [],
   "source": [
    "tfms = [attrgetter(\"text\"), btt]\n",
    "dsets = Datasets(df, [tfms], splits=splits, dl_type=LMDataLoader)"
   ]
  },
  {
   "cell_type": "code",
   "execution_count": null,
   "metadata": {},
   "outputs": [
    {
     "name": "stdout",
     "output_type": "stream",
     "text": [
      "CPU times: user 28.5 s, sys: 2.43 s, total: 30.9 s\n",
      "Wall time: 36.4 s\n"
     ]
    }
   ],
   "source": [
    "%%time\n",
    "bs, sl = 4, 4096\n",
    "# pad_seq2seq = partial(pad_input, pad_idx=bte.pad_token_id, pad_fields=[0,1])\n",
    "dl_kwargs = [{'lens':df['lens'].values[train_idxs]},\n",
    "             {'val_lens':df['lens'].values[validation_idxs]}]\n",
    "dls = dsets.dataloaders(bs=bs, seq_len=sl, dl_kwargs=dl_kwargs, shuffle_train=True, n_workers=2)"
   ]
  },
  {
   "cell_type": "code",
   "execution_count": null,
   "metadata": {},
   "outputs": [
    {
     "data": {
      "text/html": [
       "<table border=\"1\" class=\"dataframe\">\n",
       "  <thead>\n",
       "    <tr style=\"text-align: right;\">\n",
       "      <th></th>\n",
       "      <th>text</th>\n",
       "      <th>text_</th>\n",
       "    </tr>\n",
       "  </thead>\n",
       "  <tbody>\n",
       "    <tr>\n",
       "      <th>0</th>\n",
       "      <td>*[[Shot (film)|Shot]]\\n* [[Computer network]]\\n== Grammar ==\\nThe 46 city divisions are combined into 16 area districts or ''[[Ortsbezirke]]'', which each have a district committee and chairperson.\\n*The [[Kennedy School of Government|John F. Kennedy School of Government]] (1936)\\n*[[swallow]]\\n\\n\\n[[ro:Alfred Nobel]]\\nPerhaps the most notorious incident of these centuries was the massacre of Christians in [[1860]], when fighting between [[Druze]] and [[Maronites]] in [[Mount Lebanon]] spilled over into the city. Some thousands of Christians were killed, with many more being saved through the intervention of the Algerian exile [[Abd al-Qadir]] and his soldiers, who brought them to safety in Abd al-Qadir's residence and the citadel. The Christian quarter of the old city, including a number of churches, was burnt down. The Christian inhabitants of the notoriously poor and refractory Midan district outside the walls were, however, protected by their Muslim neighbours.\\n\\n      &lt;comment&gt;/* Marriage */&lt;/comment&gt;\\n[[br:Albert Speer]]\\n* [[Transportation in Luxembourg|Luxembourg]] &amp;amp;mdash; yes\\n[[fr:Alaric II]]\\nThe</td>\n",
       "      <td>[[Shot (film)|Shot]]\\n* [[Computer network]]\\n== Grammar ==\\nThe 46 city divisions are combined into 16 area districts or ''[[Ortsbezirke]]'', which each have a district committee and chairperson.\\n*The [[Kennedy School of Government|John F. Kennedy School of Government]] (1936)\\n*[[swallow]]\\n\\n\\n[[ro:Alfred Nobel]]\\nPerhaps the most notorious incident of these centuries was the massacre of Christians in [[1860]], when fighting between [[Druze]] and [[Maronites]] in [[Mount Lebanon]] spilled over into the city. Some thousands of Christians were killed, with many more being saved through the intervention of the Algerian exile [[Abd al-Qadir]] and his soldiers, who brought them to safety in Abd al-Qadir's residence and the citadel. The Christian quarter of the old city, including a number of churches, was burnt down. The Christian inhabitants of the notoriously poor and refractory Midan district outside the walls were, however, protected by their Muslim neighbours.\\n\\n      &lt;comment&gt;/* Marriage */&lt;/comment&gt;\\n[[br:Albert Speer]]\\n* [[Transportation in Luxembourg|Luxembourg]] &amp;amp;mdash; yes\\n[[fr:Alaric II]]\\nThe</td>\n",
       "    </tr>\n",
       "    <tr>\n",
       "      <th>1</th>\n",
       "      <td>ca's revolt.\\n== W ==\\n\\n[[Image:Stairs_of_Finnish_Parliament.jpg|thumb|[[Finnish Parliament]] House in [[Helsinki]]]]\\n[[Category:Christian music]]\\n| 1986&amp;amp;ndash;1996 || Frank Shrontz \\n*[[Kleemann]]\\n      &lt;text xml:space=\"preserve\"&gt;#REDIRECT [[March 1]]&lt;/text&gt;\\n[[fr:Bataille de Blenheim]]\\nBDC&amp;lt;br&amp;gt;\\n      &lt;/contributor&gt;\\n[[es:Congreso Nacional Africano]]\\n*''[[Blackmail (1929 film)|Blackmail]]'' (1929), the first British [[talkie]]\\n{{expand list}}\\n# [[Diapason (movie)|Diapason]] (Italy, 2001) [http://www.imdb.com/title/tt0274460/ (IMDb entry)]\\n      &lt;minor /&gt;\\n\\n[[Image:Ethnic Composition of BiH in 2005.GIF|thumb|150px|right|Ethnic composition of Bosnia &amp;amp; Herzegovina in 2005. &amp;lt;br&amp;gt; '''Green:''' Predominantly ethnic Bosniaks &amp;lt;br&amp;gt; '''Red:''' Predominantly ethnic Serbs &amp;lt;br&amp;gt; '''Blue:''' Predominantly ethnic Croats]]\\n | url = http://patft.uspto.gov/netacgi/nph-Parser?Sect1=PTO2&amp;amp;Sect2=HITOFF&amp;amp;u=%2Fnetahtml%2Fsearch-adv.htm&amp;amp;r=0&amp;amp;p=1&amp;amp;f=S&amp;amp;l=50&amp;amp;Query=an%2F%22Cessna+Aircraft+Company%22&amp;amp;d=ptxt\\n\\n* [[Panama Canal]]\\n*[http://www.liverpoolmuseums.org.uk/walker/exhibitions/heathrobinson Heath Robinson online exhibition]\\n\\n* Doyle, J. &amp;amp; Carlson, J. M. (2000) ''Phys. Rev. Lett.'' '''84,''' 5656–5659.\\n  &lt;page&gt;\\n\\n[[lt:Žemynai]]\\n{{coor dm|15|00|N|86|30|W|type:country}}\\n    &lt;revision&gt;\\n***[[Newberry Caldera]] ([[Oregon]], US)\\nThe programme makers emphasised that it was to be about 'everyday life' in the inner city 'today' and regard it as a 'slice of life'. Creator/ producer Julia Smith declared that 'we don't make life, we reflect</td>\n",
       "      <td>a's revolt.\\n== W ==\\n\\n[[Image:Stairs_of_Finnish_Parliament.jpg|thumb|[[Finnish Parliament]] House in [[Helsinki]]]]\\n[[Category:Christian music]]\\n| 1986&amp;amp;ndash;1996 || Frank Shrontz \\n*[[Kleemann]]\\n      &lt;text xml:space=\"preserve\"&gt;#REDIRECT [[March 1]]&lt;/text&gt;\\n[[fr:Bataille de Blenheim]]\\nBDC&amp;lt;br&amp;gt;\\n      &lt;/contributor&gt;\\n[[es:Congreso Nacional Africano]]\\n*''[[Blackmail (1929 film)|Blackmail]]'' (1929), the first British [[talkie]]\\n{{expand list}}\\n# [[Diapason (movie)|Diapason]] (Italy, 2001) [http://www.imdb.com/title/tt0274460/ (IMDb entry)]\\n      &lt;minor /&gt;\\n\\n[[Image:Ethnic Composition of BiH in 2005.GIF|thumb|150px|right|Ethnic composition of Bosnia &amp;amp; Herzegovina in 2005. &amp;lt;br&amp;gt; '''Green:''' Predominantly ethnic Bosniaks &amp;lt;br&amp;gt; '''Red:''' Predominantly ethnic Serbs &amp;lt;br&amp;gt; '''Blue:''' Predominantly ethnic Croats]]\\n | url = http://patft.uspto.gov/netacgi/nph-Parser?Sect1=PTO2&amp;amp;Sect2=HITOFF&amp;amp;u=%2Fnetahtml%2Fsearch-adv.htm&amp;amp;r=0&amp;amp;p=1&amp;amp;f=S&amp;amp;l=50&amp;amp;Query=an%2F%22Cessna+Aircraft+Company%22&amp;amp;d=ptxt\\n\\n* [[Panama Canal]]\\n*[http://www.liverpoolmuseums.org.uk/walker/exhibitions/heathrobinson Heath Robinson online exhibition]\\n\\n* Doyle, J. &amp;amp; Carlson, J. M. (2000) ''Phys. Rev. Lett.'' '''84,''' 5656–5659.\\n  &lt;page&gt;\\n\\n[[lt:Žemynai]]\\n{{coor dm|15|00|N|86|30|W|type:country}}\\n    &lt;revision&gt;\\n***[[Newberry Caldera]] ([[Oregon]], US)\\nThe programme makers emphasised that it was to be about 'everyday life' in the inner city 'today' and regard it as a 'slice of life'. Creator/ producer Julia Smith declared that 'we don't make life, we reflect</td>\n",
       "    </tr>\n",
       "  </tbody>\n",
       "</table>"
      ],
      "text/plain": [
       "<IPython.core.display.HTML object>"
      ]
     },
     "metadata": {},
     "output_type": "display_data"
    }
   ],
   "source": [
    "#collapse_output\n",
    "dls.show_batch(max_n=2)"
   ]
  },
  {
   "cell_type": "code",
   "execution_count": null,
   "metadata": {},
   "outputs": [],
   "source": [
    "vocab_sz = btt.vocab_size"
   ]
  },
  {
   "cell_type": "code",
   "execution_count": null,
   "metadata": {},
   "outputs": [
    {
     "data": {
      "text/plain": [
       "((4, 4096), (4, 4096))"
      ]
     },
     "execution_count": null,
     "metadata": {},
     "output_type": "execute_result"
    }
   ],
   "source": [
    "xb, yb = dls.one_batch()\n",
    "xb.shape, yb.shape"
   ]
  },
  {
   "cell_type": "code",
   "execution_count": null,
   "metadata": {},
   "outputs": [],
   "source": [
    "#hide\n",
    "del xb, yb\n",
    "torch.cuda.empty_cache()"
   ]
  },
  {
   "cell_type": "markdown",
   "metadata": {},
   "source": [
    "## Training"
   ]
  },
  {
   "cell_type": "code",
   "execution_count": null,
   "metadata": {},
   "outputs": [
    {
     "name": "stderr",
     "output_type": "stream",
     "text": [
      "\u001b[34m\u001b[1mwandb\u001b[0m: Currently logged in as: \u001b[33mfastai_community\u001b[0m (use `wandb login --relogin` to force relogin)\n"
     ]
    },
    {
     "data": {
      "text/html": [
       "\n",
       "                Tracking run with wandb version 0.10.14<br/>\n",
       "                Syncing run <strong style=\"color:#cdcd00\">test_n_hashes_enwik8</strong> to <a href=\"https://wandb.ai\" target=\"_blank\">Weights & Biases</a> <a href=\"https://docs.wandb.com/integrations/jupyter.html\" target=\"_blank\">(Documentation)</a>.<br/>\n",
       "                Project page: <a href=\"https://wandb.ai/fastai_community/reformer-fastai\" target=\"_blank\">https://wandb.ai/fastai_community/reformer-fastai</a><br/>\n",
       "                Run page: <a href=\"https://wandb.ai/fastai_community/reformer-fastai/runs/1qljo1hi\" target=\"_blank\">https://wandb.ai/fastai_community/reformer-fastai/runs/1qljo1hi</a><br/>\n",
       "                Run data is saved locally in <code>/content/wandb/run-20210122_214729-1qljo1hi</code><br/><br/>\n",
       "            "
      ],
      "text/plain": [
       "<IPython.core.display.HTML object>"
      ]
     },
     "metadata": {},
     "output_type": "display_data"
    },
    {
     "data": {
      "text/html": [
       "<h1>Run(1qljo1hi)</h1><p></p><iframe src=\"https://wandb.ai/fastai_community/reformer-fastai/runs/1qljo1hi\" style=\"border:none;width:100%;height:400px\"></iframe>"
      ],
      "text/plain": [
       "<wandb.sdk.wandb_run.Run at 0x7f62b2266630>"
      ]
     },
     "execution_count": null,
     "metadata": {},
     "output_type": "execute_result"
    }
   ],
   "source": [
    "#hide_output\n",
    "wandb.init(reinit=True, project=\"reformer-fastai\", entity=\"fastai_community\", \n",
    "           name=WANDB_NAME, group=GROUP, notes=NOTES, tags=TAGS, config=CONFIG)"
   ]
  },
  {
   "cell_type": "code",
   "execution_count": null,
   "metadata": {},
   "outputs": [],
   "source": [
    "config = NHashesConfig(n_hashes=2)"
   ]
  },
  {
   "cell_type": "code",
   "execution_count": null,
   "metadata": {},
   "outputs": [],
   "source": [
    "learn = Learner(dls, LSHLM.from_config(config),\n",
    "                loss_func=CrossEntropyLossFlat(), opt_func=adafactor,\n",
    "                cbs = [GradientAccumulation(n_acc=8), GradientClip(1.0),\n",
    "                       PadBatchCallback(bucket_size=config.bucket_size)],\n",
    "                metrics=[accuracy, perplexity, bpc]).to_fp16()"
   ]
  },
  {
   "cell_type": "code",
   "execution_count": null,
   "metadata": {},
   "outputs": [],
   "source": [
    "#hide\n",
    "# learn.lr_find()"
   ]
  },
  {
   "cell_type": "code",
   "execution_count": null,
   "metadata": {},
   "outputs": [
    {
     "data": {
      "text/html": [
       "\n",
       "    <div>\n",
       "        <style>\n",
       "            /* Turns off some styling */\n",
       "            progress {\n",
       "                /* gets rid of default border in Firefox and Opera. */\n",
       "                border: none;\n",
       "                /* Needs to be in here for Safari polyfill so background images work as expected. */\n",
       "                background-size: auto;\n",
       "            }\n",
       "            .progress-bar-interrupted, .progress-bar-interrupted::-webkit-progress-bar {\n",
       "                background: #F44336;\n",
       "            }\n",
       "        </style>\n",
       "      <progress value='0' class='' max='1' style='width:300px; height:20px; vertical-align: middle;'></progress>\n",
       "      0.00% [0/1 00:00<00:00]\n",
       "    </div>\n",
       "    \n",
       "<table border=\"1\" class=\"dataframe\">\n",
       "  <thead>\n",
       "    <tr style=\"text-align: left;\">\n",
       "      <th>epoch</th>\n",
       "      <th>train_loss</th>\n",
       "      <th>valid_loss</th>\n",
       "      <th>accuracy</th>\n",
       "      <th>perplexity</th>\n",
       "      <th>bpc</th>\n",
       "      <th>time</th>\n",
       "    </tr>\n",
       "  </thead>\n",
       "  <tbody>\n",
       "  </tbody>\n",
       "</table><p>\n",
       "\n",
       "    <div>\n",
       "        <style>\n",
       "            /* Turns off some styling */\n",
       "            progress {\n",
       "                /* gets rid of default border in Firefox and Opera. */\n",
       "                border: none;\n",
       "                /* Needs to be in here for Safari polyfill so background images work as expected. */\n",
       "                background-size: auto;\n",
       "            }\n",
       "            .progress-bar-interrupted, .progress-bar-interrupted::-webkit-progress-bar {\n",
       "                background: #F44336;\n",
       "            }\n",
       "        </style>\n",
       "      <progress value='2323' class='' max='5494' style='width:300px; height:20px; vertical-align: middle;'></progress>\n",
       "      42.28% [2323/5494 29:55<40:50 1.9139]\n",
       "    </div>\n",
       "    "
      ],
      "text/plain": [
       "<IPython.core.display.HTML object>"
      ]
     },
     "metadata": {},
     "output_type": "display_data"
    },
    {
     "data": {
      "text/html": [
       "<table border=\"1\" class=\"dataframe\">\n",
       "  <thead>\n",
       "    <tr style=\"text-align: left;\">\n",
       "      <th>epoch</th>\n",
       "      <th>train_loss</th>\n",
       "      <th>valid_loss</th>\n",
       "      <th>accuracy</th>\n",
       "      <th>perplexity</th>\n",
       "      <th>bpc</th>\n",
       "      <th>time</th>\n",
       "    </tr>\n",
       "  </thead>\n",
       "  <tbody>\n",
       "    <tr>\n",
       "      <td>0</td>\n",
       "      <td>1.703077</td>\n",
       "      <td>1.629281</td>\n",
       "      <td>0.525945</td>\n",
       "      <td>5.100204</td>\n",
       "      <td>2.350555</td>\n",
       "      <td>1:12:49</td>\n",
       "    </tr>\n",
       "  </tbody>\n",
       "</table>"
      ],
      "text/plain": [
       "<IPython.core.display.HTML object>"
      ]
     },
     "metadata": {},
     "output_type": "display_data"
    }
   ],
   "source": [
    "learn.fit(1, cbs=WandbCallback(log_model=False, log_preds=False))"
   ]
  },
  {
   "cell_type": "code",
   "execution_count": null,
   "metadata": {},
   "outputs": [
    {
     "data": {
      "image/png": "[encoded data removed]",
      "text/plain": [
       "<Figure size 432x288 with 1 Axes>"
      ]
     },
     "metadata": {
      "needs_background": "light"
     },
     "output_type": "display_data"
    }
   ],
   "source": [
    "learn.recorder.plot_loss()"
   ]
  },
  {
   "cell_type": "code",
   "execution_count": null,
   "metadata": {},
   "outputs": [],
   "source": []
  }
 ],
 "metadata": {
  "kernelspec": {
   "display_name": "Python 3",
   "language": "python",
   "name": "python3"
  }
 },
 "nbformat": 4,
 "nbformat_minor": 4
}
