{
 "cells": [
  {
   "cell_type": "code",
   "execution_count": null,
   "metadata": {},
   "outputs": [],
   "source": [
    "#default_exp transformer"
   ]
  },
  {
   "cell_type": "code",
   "execution_count": null,
   "metadata": {},
   "outputs": [],
   "source": [
    "#hide\n",
    "from nbdev.showdoc import *"
   ]
  },
  {
   "cell_type": "code",
   "execution_count": null,
   "metadata": {},
   "outputs": [],
   "source": [
    "#hide\n",
    "%load_ext autoreload\n",
    "%autoreload 2"
   ]
  },
  {
   "cell_type": "code",
   "execution_count": null,
   "metadata": {},
   "outputs": [],
   "source": [
    "#export\n",
    "from fastai.basics import *\n",
    "from reformer_fastai.core import *\n",
    "from reformer_fastai.layers import *\n",
    "from reformer_fastai.attention import *"
   ]
  },
  {
   "cell_type": "markdown",
   "metadata": {},
   "source": [
    "# Standard Transformer"
   ]
  },
  {
   "cell_type": "markdown",
   "metadata": {},
   "source": [
    "## Mixin"
   ]
  },
  {
   "cell_type": "code",
   "execution_count": null,
   "metadata": {},
   "outputs": [],
   "source": [
    "#export\n",
    "class LMMixin:\n",
    "    #TODO maybe refactor\n",
    "    @torch.no_grad()\n",
    "    def generate(self, inp,\n",
    "                max_len=50,\n",
    "                temperature=1.,\n",
    "                method = 'top_k',\n",
    "                top_k = 20,\n",
    "                top_p = 0.9,\n",
    "                early_stopping=False, #need eos_idx to work\n",
    "                eos_idx=None):\n",
    "        self.to(inp.device) #TODO test for potential problems\n",
    "        self.eval()\n",
    "        thresh = top_k if method=='top_k' else top_p\n",
    "        sampler = _sampler[method]\n",
    "        inp = expand_dim1(inp)\n",
    "        b, t = inp.shape\n",
    "        out = inp\n",
    "        for _ in range(max_len):\n",
    "            x = out[:, -self.max_seq_len:]\n",
    "\n",
    "            logits = self(x)[:, -1, :]\n",
    "            if method == 'greedy':\n",
    "                sample = sampler(logits)\n",
    "            else:\n",
    "                filtered_logits = sampler(logits)\n",
    "                probs = F.softmax(filtered_logits / temperature, dim=-1)\n",
    "                sample = torch.multinomial(probs, 1)\n",
    "\n",
    "            out = torch.cat((out, sample), dim=-1)\n",
    "\n",
    "            if early_stopping and (sample == eos_idx).all():\n",
    "                break\n",
    "        # out = out[:, t:]\n",
    "        return out\n",
    "\n",
    "    def store_attention(self, layer_ids=None):\n",
    "        #defaults to storing attention for all layers\n",
    "        layer_ids = default(layer_ids, list(range(self.n_layers)))\n",
    "        for module in self.children():\n",
    "            if isinstance(module, (TransformerEncoder, TransformerDecoder)):\n",
    "                for i, l in enumerate(module.layers):\n",
    "                    if i in layer_ids:\n",
    "                        for m in l.modules():\n",
    "                            if isinstance(m, (ScaledDotProdAttention)):\n",
    "                                m.store_attention = True\n",
    "    def get_attention_matrix(self):\n",
    "        res = []\n",
    "        for m in self.modules():\n",
    "            if isinstance(m, (ScaledDotProdAttention)):\n",
    "                attention = getattr(m, 'attention', None)\n",
    "                if attention is not None:\n",
    "                    res.append(attention)\n",
    "                # reset stored attention\n",
    "                m.attention = None\n",
    "                m.store_attention = False\n",
    "        return res"
   ]
  },
  {
   "cell_type": "code",
   "execution_count": null,
   "metadata": {},
   "outputs": [],
   "source": [
    "#export\n",
    "class EncDecMixin:\n",
    "    #TODO add beam search and refactor\n",
    "    @torch.no_grad()\n",
    "    def generate(self, src,\n",
    "                src_mask=None,\n",
    "                max_len=50,\n",
    "                temperature=1.,\n",
    "                method = 'top_k',\n",
    "                top_k = 20,\n",
    "                top_p = 0.9,\n",
    "                early_stopping=False,\n",
    "                bos_idx=2, # TODO change to match future usecases\n",
    "                eos_idx=None):\n",
    "        self.to(src.device) #TODO test for potential problems\n",
    "        self.eval()\n",
    "        thresh = top_k if method=='top_k' else top_p\n",
    "        sampler = _sampler[method]\n",
    "        src = expand_dim1(src)\n",
    "        bs = src.size(0)\n",
    "        inp = src.new_full((bs, 1), bos_idx) #start with bos tokens\n",
    "        src_mask = default(src_mask, self.get_padding_mask(src))\n",
    "        enc = self.encoder(self.enc_emb(src), mask = src_mask)\n",
    "        out = inp\n",
    "        for _ in range(max_len):\n",
    "            x = out[:, -self.max_seq_len:]\n",
    "            dec = self.decoder(self.dec_emb(out), context=enc)\n",
    "            logits = self.proj(dec)[:, -1, :]\n",
    "            if method == 'greedy':\n",
    "                sample = sampler(logits)\n",
    "            else:\n",
    "                filtered_logits = sampler(logits, thresh)\n",
    "                probs = F.softmax(filtered_logits / temperature, dim=-1)\n",
    "                sample = torch.multinomial(probs, 1)\n",
    "\n",
    "            out = torch.cat((out, sample), dim=-1)\n",
    "\n",
    "            if (early_stopping and \n",
    "                ((sample == eos_idx).all() or \n",
    "                (sample == self.pad_idx).all())):\n",
    "                break\n",
    "        #TODO mb output cleanup\n",
    "        return out\n",
    "\n",
    "    def store_attention(self, layer_ids=None, store_encoder=False, store_decoder=True):\n",
    "        #defaults to storing attention for all layers\n",
    "        layer_ids = default(layer_ids, list(range(self.n_enc_layers)))\n",
    "        for module in self.children():\n",
    "            if isinstance(module, TransformerEncoder) and store_encoder:\n",
    "                for i, l in enumerate(module.layers):\n",
    "                    if i in layer_ids:\n",
    "                        for m in l.modules():\n",
    "                            if isinstance(m, (ScaledDotProdAttention)):\n",
    "                                m.store_attention = True\n",
    "            elif isinstance(module, TransformerDecoder) and store_encoder:\n",
    "                for i, l in enumerate(module.layers):\n",
    "                    if i in layer_ids:\n",
    "                        for m in l.modules():\n",
    "                            if isinstance(m, (ScaledDotProdAttention)):\n",
    "                                m.store_attention = True\n",
    "    #TODO mb separate encoder and decoder attention\n",
    "    def get_attention_matrix(self, get_encoder=False, get_decoder=True):\n",
    "        res = []\n",
    "        if get_encoder:\n",
    "            for m in self.encoder.modules():\n",
    "                if isinstance(m, (ScaledDotProdAttention)):\n",
    "                    attention = getattr(m, 'attention', None)\n",
    "                    if attention is not None:\n",
    "                        res.append(attention)\n",
    "                    # reset stored attention\n",
    "                    m.attention = None\n",
    "                    m.store_attention = False\n",
    "        if get_decoder:\n",
    "            for m in self.decoder.modules():\n",
    "                if isinstance(m, (ScaledDotProdAttention)):\n",
    "                    attention = getattr(m, 'attention', None)\n",
    "                    if attention is not None:\n",
    "                        res.append(attention)\n",
    "                    # reset stored attention\n",
    "                    m.attention = None\n",
    "                    m.store_attention = False\n",
    "        return res"
   ]
  },
  {
   "cell_type": "markdown",
   "metadata": {},
   "source": [
    "## Transformer blocks"
   ]
  },
  {
   "cell_type": "markdown",
   "metadata": {},
   "source": [
    "### Encoder"
   ]
  },
  {
   "cell_type": "code",
   "execution_count": null,
   "metadata": {},
   "outputs": [],
   "source": [
    "#export\n",
    "class TransformerEncoderBlock(Module):\n",
    "    \"\"\"\n",
    "    Bacis transformer encoder block. Consists of multi-head attention and positional \n",
    "    feedforward layers\n",
    "    \"\"\"\n",
    "    def __init__(self, \n",
    "                 d_model, \n",
    "                 n_heads = 8, \n",
    "                 d_ff = None, \n",
    "                 attn_dropout = 0.1,\n",
    "                 ff_dropout = 0.1,\n",
    "                 causal = False, \n",
    "                 mask = None, \n",
    "                 attn_bias = False, \n",
    "                 prenorm=False):\n",
    "        store_attr('attn_dropout') # mb separate argument attn_post_dropout\n",
    "        if prenorm:\n",
    "            self.attn = Residual(PreNorm(d_model, Attention(d_model, n_heads=n_heads, causal=causal, dropout=attn_dropout, bias=attn_bias)))\n",
    "            self.ff = Residual(PreNorm(d_model, FeedForward(d_model, d_ff=d_ff, dropout=ff_dropout)))\n",
    "        else:\n",
    "            self.attn = PostNorm(d_model, Residual(Attention(d_model, n_heads=n_heads, causal=causal, dropout=attn_dropout, bias=attn_bias)))\n",
    "            self.ff = PostNorm(d_model, Residual(FeedForward(d_model, d_ff=d_ff, dropout=ff_dropout)))\n",
    "        \n",
    "    def forward(self, x, mask=None): #? more args\n",
    "        out = self.attn(x, mask=mask)\n",
    "        return self.ff(out)"
   ]
  },
  {
   "cell_type": "code",
   "execution_count": null,
   "metadata": {},
   "outputs": [
    {
     "data": {
      "text/plain": [
       "torch.Size([4, 128, 64])"
      ]
     },
     "execution_count": null,
     "metadata": {},
     "output_type": "execute_result"
    }
   ],
   "source": [
    "bs = 4\n",
    "sl = 128\n",
    "d = 64\n",
    "x = torch.randn(bs, sl, d)\n",
    "m = TransformerEncoderBlock(d)\n",
    "out = m(x)\n",
    "assert (out.size() == (bs, sl, d))\n",
    "out.shape"
   ]
  },
  {
   "cell_type": "code",
   "execution_count": null,
   "metadata": {},
   "outputs": [],
   "source": [
    "#export\n",
    "class TransformerEncoder(Module):\n",
    "    \"\"\"Stack of TransformerEncoderBlocks\"\"\"\n",
    "    def __init__(self, \n",
    "                 d_model, \n",
    "                 n_layers=6, \n",
    "                 n_heads=8, \n",
    "                 d_ff=None,\n",
    "                 ff_dropout=0.1, \n",
    "                 attn_dropout=0.1,\n",
    "                 attn_bias=False,\n",
    "                 causal=False, \n",
    "                 prenorm=False, \n",
    "                 final_norm=None):\n",
    "        store_attr('d_model')\n",
    "        self.layers = nn.ModuleList([])    \n",
    "        for _ in range(n_layers):\n",
    "            self.layers.append(TransformerEncoderBlock(d_model, n_heads, causal=causal, \n",
    "                                    d_ff=d_ff, attn_dropout=attn_dropout, ff_dropout=ff_dropout, \n",
    "                                    prenorm=prenorm, attn_bias=attn_bias))\n",
    "        self.norm = None if final_norm is None else final_norm(d_model)\n",
    "        \n",
    "    def forward(self, x, mask=None):\n",
    "        for layer in self.layers: x = layer(x, mask=mask)\n",
    "        if self.norm is not None: x = self.norm(x)\n",
    "        return x"
   ]
  },
  {
   "cell_type": "code",
   "execution_count": null,
   "metadata": {},
   "outputs": [
    {
     "data": {
      "text/plain": [
       "torch.Size([4, 128, 64])"
      ]
     },
     "execution_count": null,
     "metadata": {},
     "output_type": "execute_result"
    }
   ],
   "source": [
    "x = torch.randn(bs, sl, d)\n",
    "m = TransformerEncoder(d)\n",
    "out = m(x)\n",
    "assert (out.size() == (bs, sl, d))\n",
    "out.shape"
   ]
  },
  {
   "cell_type": "markdown",
   "metadata": {},
   "source": [
    "## Decoder"
   ]
  },
  {
   "cell_type": "code",
   "execution_count": null,
   "metadata": {},
   "outputs": [],
   "source": [
    "#export\n",
    "class TransformerDecoderBlock(Module):\n",
    "    \"\"\"\n",
    "    Standart transformer decoder block. Consist of self-attention, encoder-decoder attention \n",
    "    and positiona feed-forward alyers\n",
    "    \"\"\"\n",
    "    def __init__(self, \n",
    "                 d_model, \n",
    "                 n_heads = 8, \n",
    "                 d_ff = None,\n",
    "                 attn_dropout = 0.1, \n",
    "                 ff_dropout=0.1,\n",
    "                 mask = None ,\n",
    "                 attn_bias=False,\n",
    "                 prenorm=False):\n",
    "        # mb separate argument attn_post_dropout\n",
    "        if prenorm:\n",
    "            self.attn = Residual(PreNorm(d_model, Attention(d_model, n_heads=n_heads, causal=True, dropout=attn_dropout, bias=attn_bias)))\n",
    "            self.cross = Residual(PreNorm(d_model, Attention(d_model, n_heads=n_heads, causal=False, dropout=attn_dropout, bias=attn_bias)))\n",
    "            self.ff = Residual(PreNorm(d_model, FeedForward(d_model, d_ff=d_ff, dropout=ff_dropout)))\n",
    "        else:\n",
    "            self.attn = PostNorm(d_model, Residual(Attention(d_model, n_heads=n_heads, causal=True, dropout=attn_dropout, bias=attn_bias)))\n",
    "            self.cross = PostNorm(d_model, Residual(Attention(d_model, n_heads=n_heads, causal=False, dropout=attn_dropout, bias=attn_bias)))\n",
    "            self.ff = PostNorm(d_model, Residual(FeedForward(d_model, d_ff=d_ff, dropout=ff_dropout)))\n",
    "        \n",
    "    def forward(self, x, context, mask=None, context_mask=None):\n",
    "        out = self.attn(x, mask=mask)\n",
    "        out = self.cross(out, context, mask=mask, context_mask=context_mask)\n",
    "        return self.ff(out)"
   ]
  },
  {
   "cell_type": "code",
   "execution_count": null,
   "metadata": {},
   "outputs": [],
   "source": [
    "#export\n",
    "class TransformerDecoderBlockV2(Module):\n",
    "    \"\"\"Transformer decoder block using additive attention layer instead of self-attention \n",
    "    followed by cross-attention\"\"\"\n",
    "    def __init__(self,\n",
    "                 d_model, \n",
    "                 n_heads = 8, \n",
    "                 mask = None, \n",
    "                 d_ff=None,\n",
    "                 attn_dropout=0.1, \n",
    "                 ff_dropout=0.1, \n",
    "                 attn_bias=False,\n",
    "                 prenorm=False):\n",
    "        if prenorm:\n",
    "            self.attn = Residual(PreNorm(d_model, AdditiveAttention(d_model, n_heads=n_heads, causal=True, dropout=attn_dropout, bias=attn_bias)))\n",
    "            self.ff = Residual(PreNorm(d_model, FeedForward(d_model, d_ff=d_ff, dropout=ff_dropout)))\n",
    "        else:\n",
    "            self.attn = PostNorm(d_model, Residual(AdditiveAttention(d_model, n_heads=n_heads, causal=True, dropout=attn_dropout, bias=attn_bias)))\n",
    "            self.ff = PostNorm(d_model, Residual(FeedForward(d_model, d_ff=d_ff, dropout=ff_dropout)))\n",
    "        \n",
    "    def forward(self, x, context, mask=None, context_mask=None):\n",
    "        out = self.attn(x, context, mask=mask, context_mask=context_mask)\n",
    "        out = self.ff(out)\n",
    "        return out"
   ]
  },
  {
   "cell_type": "code",
   "execution_count": null,
   "metadata": {},
   "outputs": [],
   "source": [
    "#export   \n",
    "class TransformerDecoder(Module):\n",
    "    \"\"\"Stack of TransformerDecoder layers\"\"\"\n",
    "    def __init__(self, \n",
    "                 d_model, \n",
    "                 n_layers=6, \n",
    "                 n_heads=8, \n",
    "                 d_ff=None, \n",
    "                 attn_dropout=0.1, \n",
    "                 ff_dropout=0.1, \n",
    "                 prenorm=False, \n",
    "                 comb_attn=False, \n",
    "                 attn_bias=False, \n",
    "                 final_norm=None):\n",
    "        store_attr('d_model')\n",
    "        #TODO(Arto) refactor\n",
    "        block = TransformerDecoderBlockV2 if comb_attn else TransformerDecoderBlock\n",
    "        self.layers = nn.ModuleList([])\n",
    "        for _ in range(n_layers):\n",
    "            self.layers.append(block(d_model, n_heads, d_ff=d_ff, attn_dropout=attn_dropout, \n",
    "                                     ff_dropout=ff_dropout, prenorm=prenorm, attn_bias=attn_bias))\n",
    "        self.norm = None if final_norm is None else final_norm(d_model)\n",
    "        \n",
    "    def forward(self, x, context, mask=None, context_mask=None):\n",
    "        for layer in self.layers: x = layer(x, context, mask, context_mask)\n",
    "        if self.norm is not None: x = self.norm(x)\n",
    "        return x"
   ]
  },
  {
   "cell_type": "code",
   "execution_count": null,
   "metadata": {},
   "outputs": [
    {
     "data": {
      "text/plain": [
       "torch.Size([4, 128, 64])"
      ]
     },
     "execution_count": null,
     "metadata": {},
     "output_type": "execute_result"
    }
   ],
   "source": [
    "x = torch.randn(bs, sl, d)\n",
    "context = torch.randn(bs, sl, d)\n",
    "m = TransformerDecoder(d)\n",
    "out = m(x, context)\n",
    "assert (out.size() == (bs, sl, d))\n",
    "out.shape"
   ]
  },
  {
   "cell_type": "markdown",
   "metadata": {},
   "source": [
    "## Language model"
   ]
  },
  {
   "cell_type": "code",
   "execution_count": null,
   "metadata": {},
   "outputs": [],
   "source": [
    "#export\n",
    "class TransformerLM(Module, LMMixin):\n",
    "    \"\"\"\n",
    "    Basic Transformer for language modelling\n",
    "    \n",
    "    Parameters:\n",
    "        * vocab_sz: int\n",
    "        * d_model: int - inner dimension of the model\n",
    "        * n_layers: int (default: 6) \n",
    "        * heads: int (default: 8)\n",
    "        * d_ff: int - inner dimension of the pointwise FeedForward net, if None defaults to 4*d_model\n",
    "        * attn_dropout: float - attention dropout\n",
    "        * ff_dropout: float - feed-forward dropout\n",
    "        * emb_dropout: float - embedding dropout\n",
    "        * causal: bool (default: True) - if True does causal masking automatically\n",
    "        * max_seq_len: int (default: 512)\n",
    "        * tie_weights: bool - if True target embedding weights are used for computation output projection\n",
    "        * prenorm: bool - wether to use PreNorm or PostNorm\n",
    "        * attn_bias: bool - wether to allow biases in attention projection layers\n",
    "        * pad_idx: int - padding token id, required for autogeneration of padding mask\n",
    "        * pos_enc: str from {'absolute', 'fixed', 'axial'} - type of positional encoding to use\n",
    "        * axial_shape: tuple - required if 'axial' positional encoding are used, should be factors of \n",
    "                max_seq_len\n",
    "        * axial_emb_dims: tuple - [optional] axial embedding components, should sum to d_model\n",
    "    Inputs:\n",
    "        * x - input ids, shape [bs, sl]\n",
    "        * mask - optional boolean mask, shape [bs, sl]\n",
    "    Returns:\n",
    "        * logits - target token logits, shape [bs, sl, vocab_sz]\n",
    "    \"\"\"\n",
    "    def __init__(self, \n",
    "                 vocab_sz, \n",
    "                 d_model, \n",
    "                 n_layers=6,\n",
    "                 n_heads=8,\n",
    "                 d_ff=None,\n",
    "                 attn_dropout=0.1,\n",
    "                 ff_dropout=0.1,\n",
    "                 emb_dropout=0.1,\n",
    "                 tie_weights=True,\n",
    "                 causal=True,\n",
    "                 pos_enc='absolute',\n",
    "                 max_seq_len=512,\n",
    "                 axial_shape=None,\n",
    "                 axial_emb_dims=None,\n",
    "                 pad_idx=None,\n",
    "                 prenorm=False,\n",
    "                 attn_bias=False):\n",
    "        store_attr('max_seq_len, n_layers, pad_idx')\n",
    "        self.emb = TransformerEmbedding(vocab_sz, d_model, max_seq_len, dropout=emb_dropout, \n",
    "                                        pos_enc=pos_enc, axial_shape=axial_shape, \n",
    "                                        axial_emb_dims=axial_emb_dims)\n",
    "        final_norm = nn.LayerNorm if prenorm else None\n",
    "        self.encoder = TransformerEncoder(d_model, n_layers, n_heads, causal=causal, d_ff=d_ff,\n",
    "                                          attn_dropout=attn_dropout, ff_dropout=ff_dropout,\n",
    "                                          prenorm=prenorm, attn_bias=attn_bias,\n",
    "                                          final_norm=final_norm)\n",
    "        self.proj = nn.Linear(d_model, vocab_sz)\n",
    "        if tie_weights: self.proj.weight = self.emb.emb.weight\n",
    "        \n",
    "    def forward(self, x, mask=None):\n",
    "        x = self.emb(x)\n",
    "        x = self.encoder(x, mask=mask)\n",
    "        return self.proj(x)\n"
   ]
  },
  {
   "cell_type": "code",
   "execution_count": null,
   "metadata": {},
   "outputs": [
    {
     "data": {
      "text/plain": [
       "torch.Size([4, 128, 256])"
      ]
     },
     "execution_count": null,
     "metadata": {},
     "output_type": "execute_result"
    }
   ],
   "source": [
    "bs = 4\n",
    "sl = 128\n",
    "d = 64\n",
    "vocab_sz = 256\n",
    "x = torch.randint(vocab_sz, (bs, sl))\n",
    "model = TransformerLM(vocab_sz, d, n_layers=2, causal=False)\n",
    "out = model(x)\n",
    "assert (out.size() == (bs, sl, vocab_sz))\n",
    "out.shape"
   ]
  },
  {
   "cell_type": "code",
   "execution_count": null,
   "metadata": {},
   "outputs": [],
   "source": [
    "#hide\n",
    "model = TransformerLM(vocab_sz, d, n_layers=2, causal=True, prenorm=True)\n",
    "out = model(x)\n",
    "assert (out.size() == (bs, sl, vocab_sz))"
   ]
  },
  {
   "cell_type": "markdown",
   "metadata": {},
   "source": [
    "## Encoder-Decoder model"
   ]
  },
  {
   "cell_type": "code",
   "execution_count": null,
   "metadata": {},
   "outputs": [],
   "source": [
    "#export\n",
    "#TODO test weight tying\n",
    "# Note on weight tying: it's done like here in fastai AWD_LSTM model\n",
    "# Lucidrains does it with custom MatrixMultiply module https://github.com/lucidrains/reformer-pytorch/blob/master/reformer_pytorch/reformer_pytorch.py#L106\n",
    "#TODO: update docstrings\n",
    "class TransformerEncDec(Module, EncDecMixin):\n",
    "    \"\"\"\n",
    "    Basic Transformer Encoder-Decoder model\n",
    "    Parameters:\n",
    "        * enc_vocab_sz: int - source vocab size \n",
    "        * dec_vocab_sz: int - target vocab size\n",
    "        * d_model: int - inner dimension of the model\n",
    "        * n_enc_layers: int (default: 6) \n",
    "        * n_dec_layers: int (default: 6) \n",
    "        * heads: int (default: 8)\n",
    "        * d_ff: int - inner dimension of the pointwise FeedForward net, if None defaults to 4*d_model\n",
    "        * attn_dropout: float - attention dropout\n",
    "        * ff_dropout: float - feed-forward dropout\n",
    "        * emb_dropout: float - embedding dropout\n",
    "        * max_seq_len: int (default: 512)\n",
    "        * prenorm: bool - whether to use PreNorm or PostNorm\n",
    "        * attn_bias: bool - whether to allow biases in attention projection layers\n",
    "        * pad_idx: int - padding token id, if pad_idx is provided, and no mask/context_mask are \n",
    "                passed to forward method will be used to generate padding masks\n",
    "        * tie_weights: bool - if True target embedding weights are used for computation output projection\n",
    "        * shared_emb: bool - if True encoder and decoder will use shared embedding layer\n",
    "        * pos_enc: str from {'absolute', 'fixed', 'axial'} - type of positional encoding to use\n",
    "        * axial_shape: tuple - required if 'axial' positional encoding are used, should be factors of \n",
    "                max_seq_len\n",
    "        * axial_emb_dims: tuple - [optional] axial embedding components, should sum to d_model\n",
    "    Inputs:\n",
    "        * src - source input ids, shape [bs, src_sl]\n",
    "        * tgt - target input ids, shape [bs, tgt_sl]\n",
    "        * src_mask - optional boolean source mask, shape [bs, src_sl]\n",
    "        * tgt_mask - optional boolean target mask, shape [bs, tgt_sl]\n",
    "    Returns:\n",
    "        * logits - target token logits, shape [bs, tgt_sl, tgt_vocab_sz]\n",
    "    \"\"\"\n",
    "    def __init__(self, \n",
    "                 enc_vocab_sz, \n",
    "                 dec_vocab_sz, \n",
    "                 d_model, \n",
    "                 n_enc_layers=6, \n",
    "                 n_dec_layers=6, \n",
    "                 heads=8, \n",
    "                 d_ff=None,\n",
    "                 pad_idx=None, \n",
    "                 tie_weights=True,\n",
    "                 shared_emb = False,\n",
    "                 attn_dropout=0.1, \n",
    "                 ff_dropout=0.1, \n",
    "                 emb_dropout=0.1,\n",
    "                 prenorm=False, \n",
    "                 attn_bias=False,\n",
    "                 comb_attn=False, \n",
    "                 pos_enc='absolute', \n",
    "                 max_seq_len=512, \n",
    "                 axial_shape=None, \n",
    "                 axial_emb_dims=None):\n",
    "        store_attr('max_seq_len, n_enc_layers, n_dec_layers, pad_idx')\n",
    "        self.enc_emb = TransformerEmbedding(enc_vocab_sz, d_model, max_seq_len, dropout=emb_dropout, pos_enc=pos_enc,\n",
    "                                            axial_shape=axial_shape, axial_emb_dims=axial_emb_dims)\n",
    "        if shared_emb:\n",
    "            assert (enc_vocab_sz == dec_vocab_sz), \"Encoder and decoder vocab size doesn't match\"\n",
    "            self.dec_emb = self.enc_emb\n",
    "        else:\n",
    "            self.dec_emb = TransformerEmbedding(dec_vocab_sz, d_model, max_seq_len, dropout=emb_dropout, pos_enc=pos_enc,\n",
    "                                                axial_shape=axial_shape, axial_emb_dims=axial_emb_dims)\n",
    "        final_norm = nn.LayerNorm if prenorm else None\n",
    "        self.encoder = TransformerEncoder(d_model, n_enc_layers, heads, d_ff=d_ff, attn_dropout=attn_dropout, ff_dropout=ff_dropout, \n",
    "                                          prenorm=prenorm, attn_bias=attn_bias, final_norm=final_norm, causal=False)\n",
    "        self.decoder = TransformerDecoder(d_model, n_dec_layers, heads, d_ff=d_ff, attn_dropout=attn_dropout, ff_dropout=ff_dropout, \n",
    "                                          prenorm=prenorm, comb_attn=comb_attn, attn_bias=attn_bias, final_norm=final_norm)\n",
    "        self.proj = nn.Linear(d_model, dec_vocab_sz)\n",
    "        if tie_weights: self.proj.weight = self.dec_emb.emb.weight\n",
    "\n",
    "    def forward(self, src, tgt, src_mask=None, tgt_mask=None):\n",
    "        src_mask = default(src_mask, self.get_padding_mask(src))\n",
    "        tgt_mask = default(tgt_mask, self.get_padding_mask(tgt))\n",
    "        enc = self.encoder(self.enc_emb(src), mask=src_mask)\n",
    "        out = self.decoder(self.dec_emb(tgt), context=enc, mask=tgt_mask, context_mask=src_mask)\n",
    "        return self.proj(out)\n",
    "    \n",
    "    def get_padding_mask(self, x):\n",
    "        if self.pad_idx is None: return None\n",
    "        return (x != self.pad_idx)\n"
   ]
  },
  {
   "cell_type": "code",
   "execution_count": null,
   "metadata": {},
   "outputs": [
    {
     "data": {
      "text/plain": [
       "torch.Size([4, 80, 256])"
      ]
     },
     "execution_count": null,
     "metadata": {},
     "output_type": "execute_result"
    }
   ],
   "source": [
    "bs = 4\n",
    "src_sl = 70\n",
    "tgt_sl = 80\n",
    "d = 64\n",
    "src_vocab_sz = 256\n",
    "tgt_vocab_sz = 256\n",
    "src = torch.randint(src_vocab_sz, (bs, src_sl))\n",
    "tgt = torch.randint(tgt_vocab_sz, (bs, tgt_sl))\n",
    "model = TransformerEncDec(src_vocab_sz, tgt_vocab_sz, d, n_enc_layers=2, n_dec_layers=2)\n",
    "out = model(src, tgt)\n",
    "assert (out.size() == (bs, tgt_sl, tgt_vocab_sz))\n",
    "out.shape"
   ]
  },
  {
   "cell_type": "code",
   "execution_count": null,
   "metadata": {},
   "outputs": [
    {
     "name": "stdout",
     "output_type": "stream",
     "text": [
      "Converted 00_core.ipynb.\n",
      "Converted 01_layers.ipynb.\n",
      "Converted 02_attention.ipynb.\n",
      "Converted 03_transformer.ipynb.\n",
      "Converted 04_reformer.ipynb.\n",
      "Converted 05_tokenizers.ipynb.\n",
      "Converted 06_data.ipynb.\n",
      "Converted 07_metrics.ipynb.\n",
      "Converted 08_optimizers.ipynb.\n",
      "Converted 10_experiment.synthetic-task.ipynb.\n",
      "Converted index.ipynb.\n"
     ]
    }
   ],
   "source": [
    "#hide\n",
    "from nbdev.export import notebook2script; notebook2script()"
   ]
  },
  {
   "cell_type": "code",
   "execution_count": null,
   "metadata": {},
   "outputs": [],
   "source": []
  }
 ],
 "metadata": {
  "kernelspec": {
   "display_name": "Python 3",
   "language": "python",
   "name": "python3"
  }
 },
 "nbformat": 4,
 "nbformat_minor": 4
}
