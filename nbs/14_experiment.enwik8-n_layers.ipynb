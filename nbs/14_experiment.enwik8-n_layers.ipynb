{
  "nbformat": 4,
  "nbformat_minor": 0,
  "metadata": {
    "kernelspec": {
      "display_name": "Python 3",
      "language": "python",
      "name": "python3"
    },
    "colab": {
      "name": "14_experiment.enwik8-n_layers.ipynb",
      "provenance": []
    },
    "accelerator": "GPU"
  },
  "cells": [
    {
      "cell_type": "code",
      "metadata": {
        "id": "MtsSIM4OvYf_",
        "outputId": "d7d40ae3-ff2d-4c27-8589-c5a8aa029c2b",
        "colab": {
          "base_uri": "https://localhost:8080/"
        }
      },
      "source": [
        "#hide\n",
        "!nvidia-smi"
      ],
      "execution_count": 25,
      "outputs": [
        {
          "output_type": "stream",
          "text": [
            "Sat Jan 23 17:23:08 2021       \n",
            "+-----------------------------------------------------------------------------+\n",
            "| NVIDIA-SMI 460.32.03    Driver Version: 418.67       CUDA Version: 10.1     |\n",
            "|-------------------------------+----------------------+----------------------+\n",
            "| GPU  Name        Persistence-M| Bus-Id        Disp.A | Volatile Uncorr. ECC |\n",
            "| Fan  Temp  Perf  Pwr:Usage/Cap|         Memory-Usage | GPU-Util  Compute M. |\n",
            "|                               |                      |               MIG M. |\n",
            "|===============================+======================+======================|\n",
            "|   0  Tesla V100-SXM2...  Off  | 00000000:00:04.0 Off |                    0 |\n",
            "| N/A   45C    P0    41W / 300W |   9799MiB / 16130MiB |      0%      Default |\n",
            "|                               |                      |                 ERR! |\n",
            "+-------------------------------+----------------------+----------------------+\n",
            "                                                                               \n",
            "+-----------------------------------------------------------------------------+\n",
            "| Processes:                                                                  |\n",
            "|  GPU   GI   CI        PID   Type   Process name                  GPU Memory |\n",
            "|        ID   ID                                                   Usage      |\n",
            "|=============================================================================|\n",
            "|  No running processes found                                                 |\n",
            "+-----------------------------------------------------------------------------+\n"
          ],
          "name": "stdout"
        }
      ]
    },
    {
      "cell_type": "code",
      "metadata": {
        "id": "kF2uaO72vYgO",
        "outputId": "fd7bb27e-327f-4c30-881c-39f1e053f562",
        "colab": {
          "base_uri": "https://localhost:8080/"
        }
      },
      "source": [
        "#hide\n",
        "import sys\n",
        "if 'google.colab' in sys.modules:\n",
        "    !pip install -Uqq fastai einops datasets axial_positional_embedding wandb\n",
        "    !pip install -qq git+git://github.com/arampacha/reformer_fastai.git"
      ],
      "execution_count": 1,
      "outputs": [
        {
          "output_type": "stream",
          "text": [
            "\u001b[K     |████████████████████████████████| 194kB 13.0MB/s \n",
            "\u001b[K     |████████████████████████████████| 163kB 21.5MB/s \n",
            "\u001b[K     |████████████████████████████████| 1.9MB 22.6MB/s \n",
            "\u001b[K     |████████████████████████████████| 61kB 8.5MB/s \n",
            "\u001b[K     |████████████████████████████████| 17.7MB 76.2MB/s \n",
            "\u001b[K     |████████████████████████████████| 245kB 58.7MB/s \n",
            "\u001b[K     |████████████████████████████████| 133kB 60.2MB/s \n",
            "\u001b[K     |████████████████████████████████| 102kB 14.4MB/s \n",
            "\u001b[K     |████████████████████████████████| 163kB 57.6MB/s \n",
            "\u001b[K     |████████████████████████████████| 102kB 14.5MB/s \n",
            "\u001b[K     |████████████████████████████████| 71kB 10.2MB/s \n",
            "\u001b[?25h  Building wheel for axial-positional-embedding (setup.py) ... \u001b[?25l\u001b[?25hdone\n",
            "  Building wheel for subprocess32 (setup.py) ... \u001b[?25l\u001b[?25hdone\n",
            "  Building wheel for watchdog (setup.py) ... \u001b[?25l\u001b[?25hdone\n",
            "  Building wheel for pathtools (setup.py) ... \u001b[?25l\u001b[?25hdone\n",
            "  Building wheel for reformer-fastai (setup.py) ... \u001b[?25l\u001b[?25hdone\n"
          ],
          "name": "stdout"
        }
      ]
    },
    {
      "cell_type": "code",
      "metadata": {
        "id": "dljhR_HRvYgR"
      },
      "source": [
        "#hide\n",
        "%load_ext autoreload\n",
        "%autoreload 2"
      ],
      "execution_count": 1,
      "outputs": []
    },
    {
      "cell_type": "code",
      "metadata": {
        "id": "hF-nrBy8vYgU"
      },
      "source": [
        "#all_slow"
      ],
      "execution_count": 2,
      "outputs": []
    },
    {
      "cell_type": "markdown",
      "metadata": {
        "id": "q-VDJ2ACvYgW"
      },
      "source": [
        "# enwik8 - shared QK"
      ]
    },
    {
      "cell_type": "code",
      "metadata": {
        "id": "snVAhCZ9vYgX"
      },
      "source": [
        "from fastai.text.all import *\n",
        "from reformer_fastai.all import *"
      ],
      "execution_count": 3,
      "outputs": []
    },
    {
      "cell_type": "code",
      "metadata": {
        "id": "wtnQQZQvvYga"
      },
      "source": [
        "#Run setup\n",
        "n_epochs = 4\n",
        "bs = 1\n",
        "sl = 2**14\n",
        "n_layers = 3\n",
        "seed = 2"
      ],
      "execution_count": 4,
      "outputs": []
    },
    {
      "cell_type": "markdown",
      "metadata": {
        "id": "H8ofvIIXvYgb"
      },
      "source": [
        "## Experiment Tracking"
      ]
    },
    {
      "cell_type": "markdown",
      "metadata": {
        "id": "DD9a-ZyXvYgc"
      },
      "source": [
        "Make sure you have wandb and are logged in:"
      ]
    },
    {
      "cell_type": "code",
      "metadata": {
        "id": "y7FqTBD7vYgd",
        "outputId": "b962579d-d964-42d7-c7b5-8adbf4e4f63d",
        "colab": {
          "base_uri": "https://localhost:8080/"
        }
      },
      "source": [
        "# hide\n",
        "!wandb login"
      ],
      "execution_count": 5,
      "outputs": [
        {
          "output_type": "stream",
          "text": [
            "\u001b[34m\u001b[1mwandb\u001b[0m: You can find your API key in your browser here: https://wandb.ai/authorize\n",
            "\u001b[34m\u001b[1mwandb\u001b[0m: Paste an API key from your profile and hit enter: \n",
            "\u001b[34m\u001b[1mwandb\u001b[0m: Appending key for api.wandb.ai to your netrc file: /root/.netrc\n"
          ],
          "name": "stdout"
        }
      ]
    },
    {
      "cell_type": "markdown",
      "metadata": {
        "id": "j1AZNZf1vYgf"
      },
      "source": [
        "Load Experiment Tracking with Weights & Biases:"
      ]
    },
    {
      "cell_type": "code",
      "metadata": {
        "id": "k6eVDWkIvYgh"
      },
      "source": [
        "import wandb\n",
        "\n",
        "WANDB_NAME = f'n_layers-{n_layers}_enwik8_sl-{sl}_bs-{bs}_n_eps-{n_epochs}_seed-{seed}'\n",
        "GROUP = 'n_layers'\n",
        "NOTES = 'ReformerLM on enwik8 sl=32k'\n",
        "CONFIG = {}\n",
        "TAGS = ['lm','lsh','enwik8', 'nlayers']"
      ],
      "execution_count": 6,
      "outputs": []
    },
    {
      "cell_type": "markdown",
      "metadata": {
        "id": "ZD2t6HQbvYgi"
      },
      "source": [
        "## Download and Unpack enwik8 Data\n",
        "\n",
        "Download and unzip enwik8 data"
      ]
    },
    {
      "cell_type": "code",
      "metadata": {
        "id": "2BHl5s75vYgk",
        "outputId": "5e7c3506-36b0-4c3d-e27f-e0fb4537d27b",
        "colab": {
          "base_uri": "https://localhost:8080/",
          "height": 17
        }
      },
      "source": [
        "path = untar_data('http://mattmahoney.net/dc/enwik8.zip', dest='/data')"
      ],
      "execution_count": 7,
      "outputs": [
        {
          "output_type": "display_data",
          "data": {
            "text/html": [
              ""
            ],
            "text/plain": [
              "<IPython.core.display.HTML object>"
            ]
          },
          "metadata": {
            "tags": []
          }
        }
      ]
    },
    {
      "cell_type": "markdown",
      "metadata": {
        "id": "ZDsNDjbgvYgk"
      },
      "source": [
        "## Prepare Data"
      ]
    },
    {
      "cell_type": "code",
      "metadata": {
        "id": "NBf-A9dqvYgk",
        "outputId": "5d5b251b-620a-470a-ee15-e309b9916eb5",
        "colab": {
          "base_uri": "https://localhost:8080/",
          "height": 223
        }
      },
      "source": [
        "df = pd.DataFrame({'text':read_lines(path)})\n",
        "df.head()"
      ],
      "execution_count": 8,
      "outputs": [
        {
          "output_type": "execute_result",
          "data": {
            "text/html": [
              "<div>\n",
              "<style scoped>\n",
              "    .dataframe tbody tr th:only-of-type {\n",
              "        vertical-align: middle;\n",
              "    }\n",
              "\n",
              "    .dataframe tbody tr th {\n",
              "        vertical-align: top;\n",
              "    }\n",
              "\n",
              "    .dataframe thead th {\n",
              "        text-align: right;\n",
              "    }\n",
              "</style>\n",
              "<table border=\"1\" class=\"dataframe\">\n",
              "  <thead>\n",
              "    <tr style=\"text-align: right;\">\n",
              "      <th></th>\n",
              "      <th>text</th>\n",
              "    </tr>\n",
              "  </thead>\n",
              "  <tbody>\n",
              "    <tr>\n",
              "      <th>0</th>\n",
              "      <td>&lt;mediawiki xmlns=\"http://www.mediawiki.org/xml/export-0.3/\" xmlns:xsi=\"http://www.w3.org/2001/XMLSchema-instance\" xsi:schemaLocation=\"http://www.mediawiki.org/xml/export-0.3/ http://www.mediawiki.org/xml/export-0.3.xsd\" version=\"0.3\" xml:lang=\"en\"&gt;\\n</td>\n",
              "    </tr>\n",
              "    <tr>\n",
              "      <th>1</th>\n",
              "      <td>&lt;siteinfo&gt;\\n</td>\n",
              "    </tr>\n",
              "    <tr>\n",
              "      <th>2</th>\n",
              "      <td>&lt;sitename&gt;Wikipedia&lt;/sitename&gt;\\n</td>\n",
              "    </tr>\n",
              "    <tr>\n",
              "      <th>3</th>\n",
              "      <td>&lt;base&gt;http://en.wikipedia.org/wiki/Main_Page&lt;/base&gt;\\n</td>\n",
              "    </tr>\n",
              "    <tr>\n",
              "      <th>4</th>\n",
              "      <td>&lt;generator&gt;MediaWiki 1.6alpha&lt;/generator&gt;\\n</td>\n",
              "    </tr>\n",
              "  </tbody>\n",
              "</table>\n",
              "</div>"
            ],
            "text/plain": [
              "                                                                                                                                                                                                                                                         text\n",
              "0  <mediawiki xmlns=\"http://www.mediawiki.org/xml/export-0.3/\" xmlns:xsi=\"http://www.w3.org/2001/XMLSchema-instance\" xsi:schemaLocation=\"http://www.mediawiki.org/xml/export-0.3/ http://www.mediawiki.org/xml/export-0.3.xsd\" version=\"0.3\" xml:lang=\"en\">\\n\n",
              "1                                                                                                                                                                                                                                                <siteinfo>\\n\n",
              "2                                                                                                                                                                                                                            <sitename>Wikipedia</sitename>\\n\n",
              "3                                                                                                                                                                                                       <base>http://en.wikipedia.org/wiki/Main_Page</base>\\n\n",
              "4                                                                                                                                                                                                                 <generator>MediaWiki 1.6alpha</generator>\\n"
            ]
          },
          "metadata": {
            "tags": []
          },
          "execution_count": 8
        }
      ]
    },
    {
      "cell_type": "code",
      "metadata": {
        "id": "3c17hixLvYgm"
      },
      "source": [
        "btt = ByteTextTokenizer(is_lm=True, add_bos=False, add_eos=False)"
      ],
      "execution_count": 9,
      "outputs": []
    },
    {
      "cell_type": "code",
      "metadata": {
        "id": "y5sKkHD1vYgm"
      },
      "source": [
        "#using ~1/4 of the data for this experiment\n",
        "df = df[:len(df)//4].copy()"
      ],
      "execution_count": 10,
      "outputs": []
    },
    {
      "cell_type": "code",
      "metadata": {
        "id": "3eQ_J4pUvYgn",
        "outputId": "e6ef3d14-d745-45c2-bbad-39568af9420b",
        "colab": {
          "base_uri": "https://localhost:8080/"
        }
      },
      "source": [
        "%%time\n",
        "df['toks'] = df['text'].apply(btt)\n",
        "df['lens'] = df['toks'].apply(len)\n",
        "df['lens_cum_sum'] = df.lens.cumsum()"
      ],
      "execution_count": 11,
      "outputs": [
        {
          "output_type": "stream",
          "text": [
            "CPU times: user 31.4 s, sys: 933 ms, total: 32.3 s\n",
            "Wall time: 30.8 s\n"
          ],
          "name": "stdout"
        }
      ]
    },
    {
      "cell_type": "code",
      "metadata": {
        "id": "_rJ1YOeXvYgn"
      },
      "source": [
        "train_cutoff = df.lens.sum() - 4_000_000  # keep all but 10M characters for val and test\n",
        "train_idxs = df.loc[df['lens_cum_sum'] < train_cutoff].index.values\n",
        "train_idxs = list(range(0, max(train_idxs)))\n",
        "\n",
        "remaining_idxs = len(df) - max(train_idxs)\n",
        "validation_idxs = list(range(max(train_idxs), max(train_idxs) + int(remaining_idxs/2)))\n",
        "test_idxs = list(range(max(validation_idxs), len(df)))\n",
        "\n",
        "splits = [train_idxs, validation_idxs]"
      ],
      "execution_count": 12,
      "outputs": []
    },
    {
      "cell_type": "code",
      "metadata": {
        "id": "wnQwc9agvYgp"
      },
      "source": [
        "tfms = [attrgetter(\"text\"), btt]\n",
        "dsets = Datasets(df, [tfms], splits=splits, dl_type=LMDataLoader)"
      ],
      "execution_count": 13,
      "outputs": []
    },
    {
      "cell_type": "code",
      "metadata": {
        "id": "KQ6Cbyw5vYgq",
        "outputId": "e607ebad-0cf6-475d-a2cf-a5842aa26213",
        "colab": {
          "base_uri": "https://localhost:8080/"
        }
      },
      "source": [
        "%%time\n",
        "dl_kwargs = [{'lens':df['lens'].values[train_idxs]},\n",
        "             {'val_lens':df['lens'].values[validation_idxs]}]\n",
        "dls = dsets.dataloaders(bs=bs, seq_len=sl, dl_kwargs=dl_kwargs, shuffle_train=True, n_workers=2)"
      ],
      "execution_count": 14,
      "outputs": [
        {
          "output_type": "stream",
          "text": [
            "CPU times: user 12.1 s, sys: 1.54 s, total: 13.7 s\n",
            "Wall time: 16.3 s\n"
          ],
          "name": "stdout"
        }
      ]
    },
    {
      "cell_type": "code",
      "metadata": {
        "id": "3w_vwAVYvYgr",
        "outputId": "1e18dc56-3bf0-4d9b-f194-2f95aef5d133",
        "colab": {
          "base_uri": "https://localhost:8080/",
          "height": 237
        }
      },
      "source": [
        "#collapse_output\n",
        "dls.show_batch()"
      ],
      "execution_count": 15,
      "outputs": [
        {
          "output_type": "display_data",
          "data": {
            "text/html": [
              "<table border=\"1\" class=\"dataframe\">\n",
              "  <thead>\n",
              "    <tr style=\"text-align: right;\">\n",
              "      <th></th>\n",
              "      <th>text</th>\n",
              "      <th>text_</th>\n",
              "    </tr>\n",
              "  </thead>\n",
              "  <tbody>\n",
              "    <tr>\n",
              "      <th>0</th>\n",
              "      <td>*[[1867]] - [[Philipp August Böckh]], German scholar and antiquarian (b. [[1785]])\\n[[it:Accelerazione]]\\n|[[Angel Marin]]\\n*[[Flutina]]\\n*[[1662]] - [[Charles Seymour, 6th Duke of Somerset]], English politician (d. [[1748]])\\n* &amp;quot;[[Belfast]]&amp;quot;\\nAs the second son of King Afonso II of Portugal, Afonso was not expected to inherit the throne, which was destined to go to his brother Sancho. He lived mostly in [[France]], were he married Matilda, the heiress of [[Boulogne]], in [[1238]], thereby becoming [[Count of Boulogne]]. In [[1246]], conflicts between his brother, the king, and the church became unbearable. [[Pope Innocent IV]] then ordered Sancho II to be removed from the throne and be replaced by the Count of Boulogne. Afonso, of course, did not refuse the papal order and marched to Portugal. Since Sancho was not a popular king, the order was not hard to enforce; he was exiled to [[Castile]] and Afonso III became king in [[1247]]. To ascend the throne, he abdicated from</td>\n",
              "      <td>[[1867]] - [[Philipp August Böckh]], German scholar and antiquarian (b. [[1785]])\\n[[it:Accelerazione]]\\n|[[Angel Marin]]\\n*[[Flutina]]\\n*[[1662]] - [[Charles Seymour, 6th Duke of Somerset]], English politician (d. [[1748]])\\n* &amp;quot;[[Belfast]]&amp;quot;\\nAs the second son of King Afonso II of Portugal, Afonso was not expected to inherit the throne, which was destined to go to his brother Sancho. He lived mostly in [[France]], were he married Matilda, the heiress of [[Boulogne]], in [[1238]], thereby becoming [[Count of Boulogne]]. In [[1246]], conflicts between his brother, the king, and the church became unbearable. [[Pope Innocent IV]] then ordered Sancho II to be removed from the throne and be replaced by the Count of Boulogne. Afonso, of course, did not refuse the papal order and marched to Portugal. Since Sancho was not a popular king, the order was not hard to enforce; he was exiled to [[Castile]] and Afonso III became king in [[1247]]. To ascend the throne, he abdicated from</td>\n",
              "    </tr>\n",
              "  </tbody>\n",
              "</table>"
            ],
            "text/plain": [
              "<IPython.core.display.HTML object>"
            ]
          },
          "metadata": {
            "tags": []
          }
        }
      ]
    },
    {
      "cell_type": "code",
      "metadata": {
        "id": "SwrmFww5vYgr"
      },
      "source": [
        "vocab_sz = btt.vocab_size"
      ],
      "execution_count": 16,
      "outputs": []
    },
    {
      "cell_type": "code",
      "metadata": {
        "id": "8N2w_uPQvYgs",
        "outputId": "0a73cba5-b2b6-4b8d-8613-800ffeb3779f",
        "colab": {
          "base_uri": "https://localhost:8080/"
        }
      },
      "source": [
        "xb, yb = dls.one_batch()\n",
        "xb.shape, yb.shape"
      ],
      "execution_count": 17,
      "outputs": [
        {
          "output_type": "execute_result",
          "data": {
            "text/plain": [
              "((1, 16384), (1, 16384))"
            ]
          },
          "metadata": {
            "tags": []
          },
          "execution_count": 17
        }
      ]
    },
    {
      "cell_type": "code",
      "metadata": {
        "id": "goVLenryvYgu"
      },
      "source": [
        "#hide\n",
        "del xb, yb\n",
        "torch.cuda.empty_cache()"
      ],
      "execution_count": 18,
      "outputs": []
    },
    {
      "cell_type": "markdown",
      "metadata": {
        "id": "bCDaPjYJvYgu"
      },
      "source": [
        "## Training"
      ]
    },
    {
      "cell_type": "code",
      "metadata": {
        "id": "3gd_dg_9vYgv",
        "outputId": "178840f9-9601-4ff2-93ec-8c77e2ae839b",
        "colab": {
          "base_uri": "https://localhost:8080/",
          "height": 604
        }
      },
      "source": [
        "#hide_output\n",
        "wandb.init(reinit=True, project=\"reformer-fastai\", entity=\"fastai_community\", \n",
        "           name=WANDB_NAME, group=GROUP, notes=NOTES, tags=TAGS, config=CONFIG)"
      ],
      "execution_count": 19,
      "outputs": [
        {
          "output_type": "stream",
          "text": [
            "\u001b[34m\u001b[1mwandb\u001b[0m: Currently logged in as: \u001b[33mfastai_community\u001b[0m (use `wandb login --relogin` to force relogin)\n"
          ],
          "name": "stderr"
        },
        {
          "output_type": "display_data",
          "data": {
            "text/html": [
              "\n",
              "                Tracking run with wandb version 0.10.14<br/>\n",
              "                Syncing run <strong style=\"color:#cdcd00\">n_layers-3_enwik8_sl-16384_bs-1_n_eps-4_seed-2</strong> to <a href=\"https://wandb.ai\" target=\"_blank\">Weights & Biases</a> <a href=\"https://docs.wandb.com/integrations/jupyter.html\" target=\"_blank\">(Documentation)</a>.<br/>\n",
              "                Project page: <a href=\"https://wandb.ai/fastai_community/reformer-fastai\" target=\"_blank\">https://wandb.ai/fastai_community/reformer-fastai</a><br/>\n",
              "                Run page: <a href=\"https://wandb.ai/fastai_community/reformer-fastai/runs/3v8l3jpq\" target=\"_blank\">https://wandb.ai/fastai_community/reformer-fastai/runs/3v8l3jpq</a><br/>\n",
              "                Run data is saved locally in <code>/content/wandb/run-20210123_145930-3v8l3jpq</code><br/><br/>\n",
              "            "
            ],
            "text/plain": [
              "<IPython.core.display.HTML object>"
            ]
          },
          "metadata": {
            "tags": []
          }
        },
        {
          "output_type": "execute_result",
          "data": {
            "text/plain": [
              "<wandb.sdk.wandb_run.Run at 0x7f93d80814e0>"
            ],
            "text/html": [
              "<h1>Run(3v8l3jpq)</h1><p></p><iframe src=\"https://wandb.ai/fastai_community/reformer-fastai/runs/3v8l3jpq\" style=\"border:none;width:100%;height:400px\"></iframe>"
            ]
          },
          "metadata": {
            "tags": []
          },
          "execution_count": 19
        }
      ]
    },
    {
      "cell_type": "code",
      "metadata": {
        "id": "KAMy8U8uvYgv",
        "outputId": "7608ca4d-7004-456b-c430-2a7c507f861b",
        "colab": {
          "base_uri": "https://localhost:8080/"
        }
      },
      "source": [
        "pad_id = btt.pad_token_id\n",
        "config = NLayersConfig(n_layers=n_layers, max_seq_len=sl, pad_idx=pad_id, seed=seed)\n",
        "config"
      ],
      "execution_count": 20,
      "outputs": [
        {
          "output_type": "execute_result",
          "data": {
            "text/plain": [
              "ReformerLM config \n",
              "--------------------\n",
              "vocab_sz        256\n",
              "d_model         1024\n",
              "n_layers        3\n",
              "n_heads         8\n",
              "d_ff            4096\n",
              "ff_chunks       64\n",
              "attn_dropout    0.1\n",
              "ff_dropout      0.1\n",
              "emb_dropout     0.1\n",
              "tie_weights     True\n",
              "causal          True\n",
              "pos_enc         axial\n",
              "max_seq_len     16384\n",
              "axial_shape     None\n",
              "axial_emb_dims  None\n",
              "pad_idx         0\n",
              "prenorm         False\n",
              "attn_bias       False\n",
              "bucket_size     64\n",
              "use_lsh         True\n",
              "n_hashes        8\n",
              "rev_thres       0\n",
              "seed            2"
            ]
          },
          "metadata": {
            "tags": []
          },
          "execution_count": 20
        }
      ]
    },
    {
      "cell_type": "code",
      "metadata": {
        "id": "bffKsrXgvYgv"
      },
      "source": [
        "learn = Learner(dls, ReformerLM.from_config(config),\n",
        "                loss_func=CrossEntropyLossFlat(), opt_func=adafactor,\n",
        "                cbs = [GradientAccumulation(n_acc=8), GradientClip(1.0),\n",
        "                       PadBatchCallback(bucket_size=config.bucket_size,\n",
        "                                        val=pad_id, y_val=pad_id)],\n",
        "                metrics=[accuracy, perplexity, bpc])"
      ],
      "execution_count": 21,
      "outputs": []
    },
    {
      "cell_type": "code",
      "metadata": {
        "id": "fTRJ9wPRvYgw"
      },
      "source": [
        "#hide\n",
        "# learn.lr_find()"
      ],
      "execution_count": 22,
      "outputs": []
    },
    {
      "cell_type": "code",
      "metadata": {
        "id": "WfO7ypTLvYgx",
        "outputId": "7591b387-8842-499b-9678-3689d400ff21",
        "colab": {
          "base_uri": "https://localhost:8080/",
          "height": 284
        }
      },
      "source": [
        "learn.fit(n_epochs, cbs=WandbCallback(log_model=False, log_preds=False))"
      ],
      "execution_count": 23,
      "outputs": [
        {
          "output_type": "display_data",
          "data": {
            "text/html": [
              "\n",
              "    <div>\n",
              "        <style>\n",
              "            /* Turns off some styling */\n",
              "            progress {\n",
              "                /* gets rid of default border in Firefox and Opera. */\n",
              "                border: none;\n",
              "                /* Needs to be in here for Safari polyfill so background images work as expected. */\n",
              "                background-size: auto;\n",
              "            }\n",
              "            .progress-bar-interrupted, .progress-bar-interrupted::-webkit-progress-bar {\n",
              "                background: #F44336;\n",
              "            }\n",
              "        </style>\n",
              "      <progress value='1' class='' max='4' style='width:300px; height:20px; vertical-align: middle;'></progress>\n",
              "      25.00% [1/4 35:37<1:46:53]\n",
              "    </div>\n",
              "    \n",
              "<table border=\"1\" class=\"dataframe\">\n",
              "  <thead>\n",
              "    <tr style=\"text-align: left;\">\n",
              "      <th>epoch</th>\n",
              "      <th>train_loss</th>\n",
              "      <th>valid_loss</th>\n",
              "      <th>accuracy</th>\n",
              "      <th>perplexity</th>\n",
              "      <th>bpc</th>\n",
              "      <th>time</th>\n",
              "    </tr>\n",
              "  </thead>\n",
              "  <tbody>\n",
              "    <tr>\n",
              "      <td>0</td>\n",
              "      <td>2.864014</td>\n",
              "      <td>2.862855</td>\n",
              "      <td>0.201379</td>\n",
              "      <td>17.511459</td>\n",
              "      <td>4.130227</td>\n",
              "      <td>35:37</td>\n",
              "    </tr>\n",
              "  </tbody>\n",
              "</table><p>\n",
              "\n",
              "    <div>\n",
              "        <style>\n",
              "            /* Turns off some styling */\n",
              "            progress {\n",
              "                /* gets rid of default border in Firefox and Opera. */\n",
              "                border: none;\n",
              "                /* Needs to be in here for Safari polyfill so background images work as expected. */\n",
              "                background-size: auto;\n",
              "            }\n",
              "            .progress-bar-interrupted, .progress-bar-interrupted::-webkit-progress-bar {\n",
              "                background: #F44336;\n",
              "            }\n",
              "        </style>\n",
              "      <progress value='473' class='' max='1261' style='width:300px; height:20px; vertical-align: middle;'></progress>\n",
              "      37.51% [473/1261 12:59<21:38 2.7970]\n",
              "    </div>\n",
              "    "
            ],
            "text/plain": [
              "<IPython.core.display.HTML object>"
            ]
          },
          "metadata": {
            "tags": []
          }
        },
        {
          "output_type": "display_data",
          "data": {
            "text/html": [
              "<table border=\"1\" class=\"dataframe\">\n",
              "  <thead>\n",
              "    <tr style=\"text-align: left;\">\n",
              "      <th>epoch</th>\n",
              "      <th>train_loss</th>\n",
              "      <th>valid_loss</th>\n",
              "      <th>accuracy</th>\n",
              "      <th>perplexity</th>\n",
              "      <th>bpc</th>\n",
              "      <th>time</th>\n",
              "    </tr>\n",
              "  </thead>\n",
              "  <tbody>\n",
              "    <tr>\n",
              "      <td>0</td>\n",
              "      <td>2.864014</td>\n",
              "      <td>2.862855</td>\n",
              "      <td>0.201379</td>\n",
              "      <td>17.511459</td>\n",
              "      <td>4.130227</td>\n",
              "      <td>35:37</td>\n",
              "    </tr>\n",
              "    <tr>\n",
              "      <td>1</td>\n",
              "      <td>2.756311</td>\n",
              "      <td>2.754734</td>\n",
              "      <td>0.235094</td>\n",
              "      <td>15.716857</td>\n",
              "      <td>3.974241</td>\n",
              "      <td>35:46</td>\n",
              "    </tr>\n",
              "    <tr>\n",
              "      <td>2</td>\n",
              "      <td>2.724835</td>\n",
              "      <td>2.734553</td>\n",
              "      <td>0.231886</td>\n",
              "      <td>15.402855</td>\n",
              "      <td>3.945126</td>\n",
              "      <td>35:52</td>\n",
              "    </tr>\n",
              "    <tr>\n",
              "      <td>3</td>\n",
              "      <td>2.716689</td>\n",
              "      <td>2.714481</td>\n",
              "      <td>0.241486</td>\n",
              "      <td>15.096774</td>\n",
              "      <td>3.916168</td>\n",
              "      <td>36:02</td>\n",
              "    </tr>\n",
              "  </tbody>\n",
              "</table>"
            ],
            "text/plain": [
              "<IPython.core.display.HTML object>"
            ]
          },
          "metadata": {
            "tags": []
          }
        }
      ]
    },
    {
      "cell_type": "code",
      "metadata": {
        "id": "ARzanB1SvYgx",
        "outputId": "35c493ac-2cc7-42f3-c15b-6f1f6fea6532",
        "colab": {
          "base_uri": "https://localhost:8080/",
          "height": 265
        }
      },
      "source": [
        "learn.recorder.plot_loss()"
      ],
      "execution_count": 24,
      "outputs": [
        {
          "output_type": "display_data",
          "data": {
            "image/png": "[encoded data removed]",
            "text/plain": [
              "<Figure size 432x288 with 1 Axes>"
            ]
          },
          "metadata": {
            "tags": [],
            "needs_background": "light"
          }
        }
      ]
    },
    {
      "cell_type": "code",
      "metadata": {
        "id": "w1O0hCmRvYgy"
      },
      "source": [
        ""
      ],
      "execution_count": null,
      "outputs": []
    }
  ]
}