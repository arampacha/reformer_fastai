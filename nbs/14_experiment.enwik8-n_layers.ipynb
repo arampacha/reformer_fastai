{
  "nbformat": 4,
  "nbformat_minor": 0,
  "metadata": {
    "kernelspec": {
      "display_name": "Python 3",
      "language": "python",
      "name": "python3"
    },
    "colab": {
      "name": "14_experiment.enwik8-n_layers.ipynb",
      "provenance": [],
      "toc_visible": true
    },
    "accelerator": "GPU"
  },
  "cells": [
    {
      "cell_type": "code",
      "metadata": {
        "id": "MtsSIM4OvYf_",
        "colab": {
          "base_uri": "https://localhost:8080/"
        },
        "outputId": "57e17f2e-d80b-448a-dca7-d7e1e72e7182"
      },
      "source": [
        "#hide\n",
        "!nvidia-smi"
      ],
      "execution_count": 1,
      "outputs": [
        {
          "output_type": "stream",
          "text": [
            "Sun Jan 24 05:03:47 2021       \n",
            "+-----------------------------------------------------------------------------+\n",
            "| NVIDIA-SMI 460.32.03    Driver Version: 418.67       CUDA Version: 10.1     |\n",
            "|-------------------------------+----------------------+----------------------+\n",
            "| GPU  Name        Persistence-M| Bus-Id        Disp.A | Volatile Uncorr. ECC |\n",
            "| Fan  Temp  Perf  Pwr:Usage/Cap|         Memory-Usage | GPU-Util  Compute M. |\n",
            "|                               |                      |               MIG M. |\n",
            "|===============================+======================+======================|\n",
            "|   0  Tesla V100-SXM2...  Off  | 00000000:00:04.0 Off |                    0 |\n",
            "| N/A   34C    P0    23W / 300W |      0MiB / 16130MiB |      0%      Default |\n",
            "|                               |                      |                 ERR! |\n",
            "+-------------------------------+----------------------+----------------------+\n",
            "                                                                               \n",
            "+-----------------------------------------------------------------------------+\n",
            "| Processes:                                                                  |\n",
            "|  GPU   GI   CI        PID   Type   Process name                  GPU Memory |\n",
            "|        ID   ID                                                   Usage      |\n",
            "|=============================================================================|\n",
            "|  No running processes found                                                 |\n",
            "+-----------------------------------------------------------------------------+\n"
          ],
          "name": "stdout"
        }
      ]
    },
    {
      "cell_type": "code",
      "metadata": {
        "id": "kF2uaO72vYgO",
        "colab": {
          "base_uri": "https://localhost:8080/"
        },
        "outputId": "25d55e80-27d5-4998-995f-5a9355134006"
      },
      "source": [
        "#hide\n",
        "import sys\n",
        "if 'google.colab' in sys.modules:\n",
        "    !pip install -Uqq fastai einops datasets axial_positional_embedding wandb\n",
        "    !pip install -qq git+git://github.com/arampacha/reformer_fastai.git\n",
        "    import os; os.kill(os.getpid(), 9)"
      ],
      "execution_count": null,
      "outputs": [
        {
          "output_type": "stream",
          "text": [
            "\u001b[K     |████████████████████████████████| 194kB 12.1MB/s \n",
            "\u001b[K     |████████████████████████████████| 163kB 21.8MB/s \n",
            "\u001b[K     |████████████████████████████████| 1.9MB 22.2MB/s \n",
            "\u001b[K     |████████████████████████████████| 61kB 9.4MB/s \n",
            "\u001b[K     |████████████████████████████████| 17.7MB 341kB/s \n",
            "\u001b[K     |████████████████████████████████| 245kB 46.7MB/s \n",
            "\u001b[K     |████████████████████████████████| 133kB 49.6MB/s \n",
            "\u001b[K     |████████████████████████████████| 163kB 55.0MB/s \n",
            "\u001b[K     |████████████████████████████████| 102kB 13.5MB/s \n",
            "\u001b[K     |████████████████████████████████| 102kB 13.1MB/s \n",
            "\u001b[K     |████████████████████████████████| 71kB 9.8MB/s \n",
            "\u001b[?25h  Building wheel for axial-positional-embedding (setup.py) ... \u001b[?25l\u001b[?25hdone\n",
            "  Building wheel for subprocess32 (setup.py) ... \u001b[?25l\u001b[?25hdone\n",
            "  Building wheel for watchdog (setup.py) ... \u001b[?25l\u001b[?25hdone\n",
            "  Building wheel for pathtools (setup.py) ... \u001b[?25l\u001b[?25hdone\n",
            "  Building wheel for reformer-fastai (setup.py) ... \u001b[?25l\u001b[?25hdone\n"
          ],
          "name": "stdout"
        }
      ]
    },
    {
      "cell_type": "code",
      "metadata": {
        "id": "dljhR_HRvYgR"
      },
      "source": [
        "#hide\n",
        "%load_ext autoreload\n",
        "%autoreload 2"
      ],
      "execution_count": 1,
      "outputs": []
    },
    {
      "cell_type": "code",
      "metadata": {
        "id": "hF-nrBy8vYgU"
      },
      "source": [
        "#all_slow"
      ],
      "execution_count": 2,
      "outputs": []
    },
    {
      "cell_type": "markdown",
      "metadata": {
        "id": "q-VDJ2ACvYgW"
      },
      "source": [
        "# enwik8 - shared QK"
      ]
    },
    {
      "cell_type": "code",
      "metadata": {
        "id": "snVAhCZ9vYgX"
      },
      "source": [
        "from fastai.text.all import *\n",
        "from reformer_fastai.all import *"
      ],
      "execution_count": 3,
      "outputs": []
    },
    {
      "cell_type": "code",
      "metadata": {
        "id": "wtnQQZQvvYga"
      },
      "source": [
        "#Run setup\n",
        "n_epochs = 4\n",
        "bs = 1\n",
        "sl = 2**14\n",
        "n_layers = 3\n",
        "seed = 2"
      ],
      "execution_count": 4,
      "outputs": []
    },
    {
      "cell_type": "markdown",
      "metadata": {
        "id": "H8ofvIIXvYgb"
      },
      "source": [
        "## Experiment Tracking"
      ]
    },
    {
      "cell_type": "markdown",
      "metadata": {
        "id": "DD9a-ZyXvYgc"
      },
      "source": [
        "Make sure you have wandb and are logged in:"
      ]
    },
    {
      "cell_type": "code",
      "metadata": {
        "id": "y7FqTBD7vYgd",
        "colab": {
          "base_uri": "https://localhost:8080/"
        },
        "outputId": "61127af3-e73f-4169-ef8b-e2d645b4ad55"
      },
      "source": [
        "# hide\n",
        "!wandb login"
      ],
      "execution_count": 5,
      "outputs": [
        {
          "output_type": "stream",
          "text": [
            "\u001b[34m\u001b[1mwandb\u001b[0m: You can find your API key in your browser here: https://wandb.ai/authorize\n",
            "\u001b[34m\u001b[1mwandb\u001b[0m: Paste an API key from your profile and hit enter: \n",
            "\u001b[34m\u001b[1mwandb\u001b[0m: Appending key for api.wandb.ai to your netrc file: /root/.netrc\n"
          ],
          "name": "stdout"
        }
      ]
    },
    {
      "cell_type": "markdown",
      "metadata": {
        "id": "j1AZNZf1vYgf"
      },
      "source": [
        "Load Experiment Tracking with Weights & Biases:"
      ]
    },
    {
      "cell_type": "code",
      "metadata": {
        "id": "k6eVDWkIvYgh"
      },
      "source": [
        "import wandb\n",
        "\n",
        "WANDB_NAME = f'n_layers-{n_layers}_enwik8_sl-{sl}_bs-{bs}_n_eps-{n_epochs}_seed-{seed}'\n",
        "GROUP = 'n_layers'\n",
        "NOTES = 'ReformerLM on enwik8 sl=32k'\n",
        "CONFIG = {}\n",
        "TAGS = ['lm','lsh','enwik8', 'nlayers']"
      ],
      "execution_count": 6,
      "outputs": []
    },
    {
      "cell_type": "markdown",
      "metadata": {
        "id": "ZD2t6HQbvYgi"
      },
      "source": [
        "## Download and Unpack enwik8 Data\n",
        "\n",
        "Download and unzip enwik8 data"
      ]
    },
    {
      "cell_type": "code",
      "metadata": {
        "id": "2BHl5s75vYgk",
        "colab": {
          "base_uri": "https://localhost:8080/",
          "height": 17
        },
        "outputId": "2c7783ee-69f1-4613-a90a-6816176f9a8f"
      },
      "source": [
        "path = untar_data('http://mattmahoney.net/dc/enwik8.zip', dest='/data')"
      ],
      "execution_count": 7,
      "outputs": [
        {
          "output_type": "display_data",
          "data": {
            "text/html": [
              ""
            ],
            "text/plain": [
              "<IPython.core.display.HTML object>"
            ]
          },
          "metadata": {
            "tags": []
          }
        }
      ]
    },
    {
      "cell_type": "markdown",
      "metadata": {
        "id": "ZDsNDjbgvYgk"
      },
      "source": [
        "## Prepare Data"
      ]
    },
    {
      "cell_type": "code",
      "metadata": {
        "id": "NBf-A9dqvYgk",
        "colab": {
          "base_uri": "https://localhost:8080/",
          "height": 212
        },
        "outputId": "aad42b1b-f41d-48d0-885c-96b637ec68be"
      },
      "source": [
        "df = pd.DataFrame({'text':read_lines(path)})\n",
        "df.head()"
      ],
      "execution_count": 8,
      "outputs": [
        {
          "output_type": "execute_result",
          "data": {
            "text/html": [
              "<div>\n",
              "<style scoped>\n",
              "    .dataframe tbody tr th:only-of-type {\n",
              "        vertical-align: middle;\n",
              "    }\n",
              "\n",
              "    .dataframe tbody tr th {\n",
              "        vertical-align: top;\n",
              "    }\n",
              "\n",
              "    .dataframe thead th {\n",
              "        text-align: right;\n",
              "    }\n",
              "</style>\n",
              "<table border=\"1\" class=\"dataframe\">\n",
              "  <thead>\n",
              "    <tr style=\"text-align: right;\">\n",
              "      <th></th>\n",
              "      <th>text</th>\n",
              "    </tr>\n",
              "  </thead>\n",
              "  <tbody>\n",
              "    <tr>\n",
              "      <th>0</th>\n",
              "      <td>&lt;mediawiki xmlns=\"http://www.mediawiki.org/xml/export-0.3/\" xmlns:xsi=\"http://www.w3.org/2001/XMLSchema-instance\" xsi:schemaLocation=\"http://www.mediawiki.org/xml/export-0.3/ http://www.mediawiki.org/xml/export-0.3.xsd\" version=\"0.3\" xml:lang=\"en\"&gt;\\n</td>\n",
              "    </tr>\n",
              "    <tr>\n",
              "      <th>1</th>\n",
              "      <td>&lt;siteinfo&gt;\\n</td>\n",
              "    </tr>\n",
              "    <tr>\n",
              "      <th>2</th>\n",
              "      <td>&lt;sitename&gt;Wikipedia&lt;/sitename&gt;\\n</td>\n",
              "    </tr>\n",
              "    <tr>\n",
              "      <th>3</th>\n",
              "      <td>&lt;base&gt;http://en.wikipedia.org/wiki/Main_Page&lt;/base&gt;\\n</td>\n",
              "    </tr>\n",
              "    <tr>\n",
              "      <th>4</th>\n",
              "      <td>&lt;generator&gt;MediaWiki 1.6alpha&lt;/generator&gt;\\n</td>\n",
              "    </tr>\n",
              "  </tbody>\n",
              "</table>\n",
              "</div>"
            ],
            "text/plain": [
              "                                                                                                                                                                                                                                                         text\n",
              "0  <mediawiki xmlns=\"http://www.mediawiki.org/xml/export-0.3/\" xmlns:xsi=\"http://www.w3.org/2001/XMLSchema-instance\" xsi:schemaLocation=\"http://www.mediawiki.org/xml/export-0.3/ http://www.mediawiki.org/xml/export-0.3.xsd\" version=\"0.3\" xml:lang=\"en\">\\n\n",
              "1                                                                                                                                                                                                                                                <siteinfo>\\n\n",
              "2                                                                                                                                                                                                                            <sitename>Wikipedia</sitename>\\n\n",
              "3                                                                                                                                                                                                       <base>http://en.wikipedia.org/wiki/Main_Page</base>\\n\n",
              "4                                                                                                                                                                                                                 <generator>MediaWiki 1.6alpha</generator>\\n"
            ]
          },
          "metadata": {
            "tags": []
          },
          "execution_count": 8
        }
      ]
    },
    {
      "cell_type": "code",
      "metadata": {
        "id": "3c17hixLvYgm"
      },
      "source": [
        "btt = ByteTextTokenizer(is_lm=True, add_bos=False, add_eos=False)"
      ],
      "execution_count": 9,
      "outputs": []
    },
    {
      "cell_type": "code",
      "metadata": {
        "id": "y5sKkHD1vYgm"
      },
      "source": [
        "# using ~1/4 of the data for this experiment\n",
        "# df = df[:len(df)//4].copy()"
      ],
      "execution_count": 10,
      "outputs": []
    },
    {
      "cell_type": "code",
      "metadata": {
        "id": "3eQ_J4pUvYgn",
        "colab": {
          "base_uri": "https://localhost:8080/"
        },
        "outputId": "c1bd2aaf-1b42-4227-d134-b55a354ccb7c"
      },
      "source": [
        "%%time\n",
        "df['toks'] = df['text'].apply(btt)\n",
        "df['lens'] = df['toks'].apply(len)\n",
        "df['lens_cum_sum'] = df.lens.cumsum()"
      ],
      "execution_count": 11,
      "outputs": [
        {
          "output_type": "stream",
          "text": [
            "CPU times: user 2min 13s, sys: 2.77 s, total: 2min 15s\n",
            "Wall time: 2min 12s\n"
          ],
          "name": "stdout"
        }
      ]
    },
    {
      "cell_type": "code",
      "metadata": {
        "id": "_rJ1YOeXvYgn"
      },
      "source": [
        "train_cutoff = df.lens.sum() - 4_000_000  # keep all but 10M characters for val and test\n",
        "train_idxs = df.loc[df['lens_cum_sum'] < train_cutoff].index.values\n",
        "train_idxs = list(range(0, max(train_idxs)))\n",
        "\n",
        "remaining_idxs = len(df) - max(train_idxs)\n",
        "validation_idxs = list(range(max(train_idxs), max(train_idxs) + int(remaining_idxs/2)))\n",
        "test_idxs = list(range(max(validation_idxs), len(df)))\n",
        "\n",
        "splits = [train_idxs, validation_idxs]"
      ],
      "execution_count": 12,
      "outputs": []
    },
    {
      "cell_type": "code",
      "metadata": {
        "id": "wnQwc9agvYgp"
      },
      "source": [
        "tfms = [attrgetter(\"text\"), btt]\n",
        "dsets = Datasets(df, [tfms], splits=splits, dl_type=LMDataLoader)"
      ],
      "execution_count": 13,
      "outputs": []
    },
    {
      "cell_type": "code",
      "metadata": {
        "id": "KQ6Cbyw5vYgq",
        "colab": {
          "base_uri": "https://localhost:8080/"
        },
        "outputId": "a066c294-0a1b-4cd5-a626-c646b21ed894"
      },
      "source": [
        "%%time\n",
        "dl_kwargs = [{'lens':df['lens'].values[train_idxs]},\n",
        "             {'val_lens':df['lens'].values[validation_idxs]}]\n",
        "dls = dsets.dataloaders(bs=bs, seq_len=sl, dl_kwargs=dl_kwargs, shuffle_train=True, n_workers=2)"
      ],
      "execution_count": 14,
      "outputs": [
        {
          "output_type": "stream",
          "text": [
            "CPU times: user 16.5 s, sys: 1.64 s, total: 18.2 s\n",
            "Wall time: 21 s\n"
          ],
          "name": "stdout"
        }
      ]
    },
    {
      "cell_type": "code",
      "metadata": {
        "id": "3w_vwAVYvYgr",
        "colab": {
          "base_uri": "https://localhost:8080/",
          "height": 329
        },
        "outputId": "79b84fc3-d069-4214-f0c2-a504108a2923"
      },
      "source": [
        "#collapse_output\n",
        "dls.show_batch()"
      ],
      "execution_count": 15,
      "outputs": [
        {
          "output_type": "display_data",
          "data": {
            "text/html": [
              "<table border=\"1\" class=\"dataframe\">\n",
              "  <thead>\n",
              "    <tr style=\"text-align: right;\">\n",
              "      <th></th>\n",
              "      <th>text</th>\n",
              "      <th>text_</th>\n",
              "    </tr>\n",
              "  </thead>\n",
              "  <tbody>\n",
              "    <tr>\n",
              "      <th>0</th>\n",
              "      <td>:Whether in '''sea or fire, in earth or air''',\\n*[http://www.geraldgardner.com/ GeraldGardner.com] an online reference resource\\n      &lt;timestamp&gt;2006-02-20T01:57:35Z&lt;/timestamp&gt;\\n[[es:Delta]]\\n** [[Battle of Long Tan]]\\n*[http://www.spinoza.net The Spinoza Net]\\n      &lt;minor /&gt;\\n[[is:Ermarsundseyjar]]\\n      &lt;contributor&gt;\\nIt is generally agreed that the '''Finno-Ugric''' subfamily of the [[Uralic languages]] has the following members:\\nIn 1687, [[Isaac Newton]] published the ''[[Philosophiae Naturalis Principia Mathematica|Principia Mathematica]],'' detailing two comprehensive and successful physical theories: [[Newton's laws of motion]], which lead to classical mechanics; and [[gravity|Newton's Law of Gravitation]], which describes the fundamental force of gravity. The behavior of electricity and magnetism was studied by [[Michael Faraday|Faraday]], [[Georg Ohm|Ohm]], and others during the early 19th century. These studies led to the unification of the two phenomena into a single theory of [[electromagnetism]], by [[James Clerk Maxwell|Maxwell]] (known as [[Maxwells equations|Maxwell's equations]]).\\n      &lt;comment&gt;bypassed disambiguation MA&lt;/comment&gt;\\n[[es:BIND]]\\n|Abelian group\\n[[Image:Insulincrystals.jpg|left|300px|frame|Insulin [[crystal|crystals]]]]\\n</td>\n",
              "      <td>Whether in '''sea or fire, in earth or air''',\\n*[http://www.geraldgardner.com/ GeraldGardner.com] an online reference resource\\n      &lt;timestamp&gt;2006-02-20T01:57:35Z&lt;/timestamp&gt;\\n[[es:Delta]]\\n** [[Battle of Long Tan]]\\n*[http://www.spinoza.net The Spinoza Net]\\n      &lt;minor /&gt;\\n[[is:Ermarsundseyjar]]\\n      &lt;contributor&gt;\\nIt is generally agreed that the '''Finno-Ugric''' subfamily of the [[Uralic languages]] has the following members:\\nIn 1687, [[Isaac Newton]] published the ''[[Philosophiae Naturalis Principia Mathematica|Principia Mathematica]],'' detailing two comprehensive and successful physical theories: [[Newton's laws of motion]], which lead to classical mechanics; and [[gravity|Newton's Law of Gravitation]], which describes the fundamental force of gravity. The behavior of electricity and magnetism was studied by [[Michael Faraday|Faraday]], [[Georg Ohm|Ohm]], and others during the early 19th century. These studies led to the unification of the two phenomena into a single theory of [[electromagnetism]], by [[James Clerk Maxwell|Maxwell]] (known as [[Maxwells equations|Maxwell's equations]]).\\n      &lt;comment&gt;bypassed disambiguation MA&lt;/comment&gt;\\n[[es:BIND]]\\n|Abelian group\\n[[Image:Insulincrystals.jpg|left|300px|frame|Insulin [[crystal|crystals]]]]\\n</td>\n",
              "    </tr>\n",
              "  </tbody>\n",
              "</table>"
            ],
            "text/plain": [
              "<IPython.core.display.HTML object>"
            ]
          },
          "metadata": {
            "tags": []
          }
        }
      ]
    },
    {
      "cell_type": "code",
      "metadata": {
        "id": "SwrmFww5vYgr"
      },
      "source": [
        "vocab_sz = btt.vocab_size"
      ],
      "execution_count": 16,
      "outputs": []
    },
    {
      "cell_type": "code",
      "metadata": {
        "id": "8N2w_uPQvYgs",
        "colab": {
          "base_uri": "https://localhost:8080/"
        },
        "outputId": "2d4961f5-0f03-400f-ad14-a1d0e615cb8f"
      },
      "source": [
        "xb, yb = dls.one_batch()\n",
        "xb.shape, yb.shape"
      ],
      "execution_count": 17,
      "outputs": [
        {
          "output_type": "execute_result",
          "data": {
            "text/plain": [
              "((1, 16384), (1, 16384))"
            ]
          },
          "metadata": {
            "tags": []
          },
          "execution_count": 17
        }
      ]
    },
    {
      "cell_type": "code",
      "metadata": {
        "id": "goVLenryvYgu"
      },
      "source": [
        "#hide\n",
        "del xb, yb\n",
        "torch.cuda.empty_cache()"
      ],
      "execution_count": 18,
      "outputs": []
    },
    {
      "cell_type": "markdown",
      "metadata": {
        "id": "bCDaPjYJvYgu"
      },
      "source": [
        "## Training"
      ]
    },
    {
      "cell_type": "code",
      "metadata": {
        "id": "3gd_dg_9vYgv",
        "colab": {
          "base_uri": "https://localhost:8080/",
          "height": 598
        },
        "outputId": "a78333a4-510a-4631-c6ea-a156bb4bf1fa"
      },
      "source": [
        "#hide_output\n",
        "wandb.init(reinit=True, project=\"reformer-fastai\", entity=\"fastai_community\", \n",
        "           name=WANDB_NAME, group=GROUP, notes=NOTES, tags=TAGS, config=CONFIG)"
      ],
      "execution_count": 19,
      "outputs": [
        {
          "output_type": "stream",
          "text": [
            "\u001b[34m\u001b[1mwandb\u001b[0m: Currently logged in as: \u001b[33mfastai_community\u001b[0m (use `wandb login --relogin` to force relogin)\n"
          ],
          "name": "stderr"
        },
        {
          "output_type": "display_data",
          "data": {
            "text/html": [
              "\n",
              "                Tracking run with wandb version 0.10.14<br/>\n",
              "                Syncing run <strong style=\"color:#cdcd00\">n_layers-3_enwik8_sl-16384_bs-1_n_eps-4_seed-2</strong> to <a href=\"https://wandb.ai\" target=\"_blank\">Weights & Biases</a> <a href=\"https://docs.wandb.com/integrations/jupyter.html\" target=\"_blank\">(Documentation)</a>.<br/>\n",
              "                Project page: <a href=\"https://wandb.ai/fastai_community/reformer-fastai\" target=\"_blank\">https://wandb.ai/fastai_community/reformer-fastai</a><br/>\n",
              "                Run page: <a href=\"https://wandb.ai/fastai_community/reformer-fastai/runs/1wof0umw\" target=\"_blank\">https://wandb.ai/fastai_community/reformer-fastai/runs/1wof0umw</a><br/>\n",
              "                Run data is saved locally in <code>/content/wandb/run-20210124_050842-1wof0umw</code><br/><br/>\n",
              "            "
            ],
            "text/plain": [
              "<IPython.core.display.HTML object>"
            ]
          },
          "metadata": {
            "tags": []
          }
        },
        {
          "output_type": "execute_result",
          "data": {
            "text/plain": [
              "<wandb.sdk.wandb_run.Run at 0x7f9135ede630>"
            ],
            "text/html": [
              "<h1>Run(1wof0umw)</h1><p></p><iframe src=\"https://wandb.ai/fastai_community/reformer-fastai/runs/1wof0umw\" style=\"border:none;width:100%;height:400px\"></iframe>"
            ]
          },
          "metadata": {
            "tags": []
          },
          "execution_count": 19
        }
      ]
    },
    {
      "cell_type": "code",
      "metadata": {
        "id": "KAMy8U8uvYgv",
        "colab": {
          "base_uri": "https://localhost:8080/"
        },
        "outputId": "196c04e2-ab74-4242-a05f-7c1ac5ec07d0"
      },
      "source": [
        "pad_id = btt.pad_token_id\n",
        "config = NLayersConfig(n_layers=n_layers, max_seq_len=sl, pad_idx=pad_id, seed=seed)\n",
        "config"
      ],
      "execution_count": 20,
      "outputs": [
        {
          "output_type": "execute_result",
          "data": {
            "text/plain": [
              "ReformerLM config \n",
              "--------------------\n",
              "vocab_sz        256\n",
              "d_model         1024\n",
              "n_layers        3\n",
              "n_heads         8\n",
              "d_ff            4096\n",
              "ff_chunks       64\n",
              "attn_dropout    0.1\n",
              "ff_dropout      0.1\n",
              "emb_dropout     0.1\n",
              "tie_weights     True\n",
              "causal          True\n",
              "pos_enc         axial\n",
              "max_seq_len     16384\n",
              "axial_shape     None\n",
              "axial_emb_dims  None\n",
              "pad_idx         0\n",
              "prenorm         False\n",
              "attn_bias       False\n",
              "bucket_size     64\n",
              "use_lsh         True\n",
              "n_hashes        8\n",
              "rev_thres       0\n",
              "seed            2"
            ]
          },
          "metadata": {
            "tags": []
          },
          "execution_count": 20
        }
      ]
    },
    {
      "cell_type": "code",
      "metadata": {
        "id": "bffKsrXgvYgv"
      },
      "source": [
        "learn = Learner(dls, ReformerLM.from_config(config),\n",
        "                loss_func=CrossEntropyLossFlat(), opt_func=adafactor,\n",
        "                cbs = [GradientAccumulation(n_acc=8), GradientClip(1.0),\n",
        "                       PadBatchCallback(bucket_size=config.bucket_size,\n",
        "                                        val=pad_id, y_val=pad_id)],\n",
        "                metrics=[accuracy, perplexity, bpc])"
      ],
      "execution_count": 21,
      "outputs": []
    },
    {
      "cell_type": "code",
      "metadata": {
        "id": "fTRJ9wPRvYgw"
      },
      "source": [
        "#hide\n",
        "# learn.lr_find()"
      ],
      "execution_count": 22,
      "outputs": []
    },
    {
      "cell_type": "code",
      "metadata": {
        "id": "WfO7ypTLvYgx",
        "colab": {
          "base_uri": "https://localhost:8080/",
          "height": 166
        },
        "outputId": "0fa999e9-043d-4a65-fb5b-06bf82881bb2"
      },
      "source": [
        "learn.fit(n_epochs, cbs=WandbCallback(log_model=False, log_preds=False))"
      ],
      "execution_count": 23,
      "outputs": [
        {
          "output_type": "display_data",
          "data": {
            "text/html": [
              "<table border=\"1\" class=\"dataframe\">\n",
              "  <thead>\n",
              "    <tr style=\"text-align: left;\">\n",
              "      <th>epoch</th>\n",
              "      <th>train_loss</th>\n",
              "      <th>valid_loss</th>\n",
              "      <th>accuracy</th>\n",
              "      <th>perplexity</th>\n",
              "      <th>bpc</th>\n",
              "      <th>time</th>\n",
              "    </tr>\n",
              "  </thead>\n",
              "  <tbody>\n",
              "    <tr>\n",
              "      <td>0</td>\n",
              "      <td>2.679134</td>\n",
              "      <td>2.664143</td>\n",
              "      <td>0.250359</td>\n",
              "      <td>14.355639</td>\n",
              "      <td>3.843546</td>\n",
              "      <td>2:43:46</td>\n",
              "    </tr>\n",
              "    <tr>\n",
              "      <td>1</td>\n",
              "      <td>1.861361</td>\n",
              "      <td>1.778351</td>\n",
              "      <td>0.501252</td>\n",
              "      <td>5.920086</td>\n",
              "      <td>2.565618</td>\n",
              "      <td>2:43:47</td>\n",
              "    </tr>\n",
              "    <tr>\n",
              "      <td>2</td>\n",
              "      <td>1.823950</td>\n",
              "      <td>1.780039</td>\n",
              "      <td>0.515367</td>\n",
              "      <td>5.930086</td>\n",
              "      <td>2.568053</td>\n",
              "      <td>2:43:00</td>\n",
              "    </tr>\n",
              "    <tr>\n",
              "      <td>3</td>\n",
              "      <td>1.830684</td>\n",
              "      <td>1.738252</td>\n",
              "      <td>0.524591</td>\n",
              "      <td>5.687393</td>\n",
              "      <td>2.507768</td>\n",
              "      <td>2:43:45</td>\n",
              "    </tr>\n",
              "  </tbody>\n",
              "</table>"
            ],
            "text/plain": [
              "<IPython.core.display.HTML object>"
            ]
          },
          "metadata": {
            "tags": []
          }
        }
      ]
    },
    {
      "cell_type": "code",
      "metadata": {
        "id": "ARzanB1SvYgx",
        "colab": {
          "base_uri": "https://localhost:8080/",
          "height": 265
        },
        "outputId": "b06b7f1f-f426-4858-9120-176e6c1ceebd"
      },
      "source": [
        "learn.recorder.plot_loss()"
      ],
      "execution_count": 24,
      "outputs": [
        {
          "output_type": "display_data",
          "data": {
            "image/png": "[encoded data removed]",
            "text/plain": [
              "<Figure size 432x288 with 1 Axes>"
            ]
          },
          "metadata": {
            "tags": [],
            "needs_background": "light"
          }
        }
      ]
    },
    {
      "cell_type": "code",
      "metadata": {
        "id": "dulxcCtLJ-Jh"
      },
      "source": [
        ""
      ],
      "execution_count": null,
      "outputs": []
    }
  ]
}