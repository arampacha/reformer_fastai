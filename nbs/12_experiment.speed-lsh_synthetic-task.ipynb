{
 "cells": [
  {
   "cell_type": "code",
   "execution_count": null,
   "metadata": {},
   "outputs": [],
   "source": [
    "#hide\n",
    "%load_ext autoreload\n",
    "%autoreload 2"
   ]
  },
  {
   "cell_type": "code",
   "execution_count": null,
   "metadata": {},
   "outputs": [],
   "source": [
    "from fastai.text.all import *\n",
    "from reformer_fastai.all import *\n",
    "from timeit import timeit"
   ]
  },
  {
   "cell_type": "code",
   "execution_count": null,
   "metadata": {},
   "outputs": [],
   "source": [
    "#hide\n",
    "#skip\n",
    "torch.cuda.set_device(0)"
   ]
  },
  {
   "cell_type": "code",
   "execution_count": null,
   "metadata": {},
   "outputs": [],
   "source": [
    "#hide\n",
    "#all_slow"
   ]
  },
  {
   "cell_type": "markdown",
   "metadata": {},
   "source": [
    "# LSH evaluation speed"
   ]
  },
  {
   "cell_type": "markdown",
   "metadata": {},
   "source": [
    "We want to test the speed of during evaluation in seconds per step, as reported in the right part of table 5 of the paper: https://arxiv.org/pdf/2001.04451.pdf"
   ]
  },
  {
   "cell_type": "markdown",
   "metadata": {},
   "source": [
    "![image.png](images/table-lsh-speed.png)"
   ]
  },
  {
   "cell_type": "markdown",
   "metadata": {},
   "source": [
    "## get data"
   ]
  },
  {
   "cell_type": "markdown",
   "metadata": {},
   "source": [
    "Helper method to get data. Assume 1 step of training and 10 of validation."
   ]
  },
  {
   "cell_type": "code",
   "execution_count": null,
   "metadata": {},
   "outputs": [],
   "source": [
    "def get_dataloaders(bs=32, sl=1024, train_steps=1, valid_steps=10, seed=123):\n",
    "    train_sz, valid_sz = bs*train_steps, bs*valid_steps\n",
    "\n",
    "    dls = DataLoaders.from_dsets(DeterministicTwinSequence(sl, train_sz, seed=seed), \n",
    "                                 DeterministicTwinSequence(sl, valid_sz, seed=seed), \n",
    "                                 bs=bs, shuffle=False, device='cuda')\n",
    "    return dls"
   ]
  },
  {
   "cell_type": "markdown",
   "metadata": {},
   "source": [
    "## get model"
   ]
  },
  {
   "cell_type": "markdown",
   "metadata": {},
   "source": [
    "Helper method to get `LSHLM` method. If `n_hashes=0` full attention is used."
   ]
  },
  {
   "cell_type": "code",
   "execution_count": null,
   "metadata": {},
   "outputs": [],
   "source": [
    "def get_lshlm(n_hashes=1, sl=1024, use_lsh=True):\n",
    "    if n_hashes==0: use_lsh=False\n",
    "    return LSHLM(vocab_sz=128, d_model=256, n_layers=1, n_heads=4, \n",
    "              max_seq_len=sl,bucket_size=64, n_hashes=n_hashes, \n",
    "              causal=True, use_lsh=use_lsh)"
   ]
  },
  {
   "cell_type": "markdown",
   "metadata": {},
   "source": [
    "## train"
   ]
  },
  {
   "cell_type": "markdown",
   "metadata": {},
   "source": [
    "Get a learner that is trained for 1 epoch (just in case)."
   ]
  },
  {
   "cell_type": "code",
   "execution_count": null,
   "metadata": {},
   "outputs": [],
   "source": [
    "def get_learner(dls, model, n_epochs=1, lr=1e-3):\n",
    "    learn = Learner(dls, model, opt_func=adafactor, \n",
    "                loss_func=CrossEntropyLossFlat(ignore_index=-100), \n",
    "                metrics=MaskedAccuracy(), \n",
    "                cbs=[MaskTargCallback()]).to_fp16()\n",
    "    with learn.no_bar():\n",
    "        with learn.no_logging():\n",
    "            learn.fit(n_epochs, lr)\n",
    "    return learn"
   ]
  },
  {
   "cell_type": "markdown",
   "metadata": {},
   "source": [
    "## time evaluation"
   ]
  },
  {
   "cell_type": "code",
   "execution_count": null,
   "metadata": {},
   "outputs": [],
   "source": [
    "'function to get average time per step of validation'\n",
    "def time_eval(learn,dls, n_rounds=10):\n",
    "    with learn.no_bar():\n",
    "        t = timeit(learn.validate, number=n_rounds)\n",
    "    steps = dls.valid.n / dls.valid.bs\n",
    "    return t / n_rounds / steps"
   ]
  },
  {
   "cell_type": "markdown",
   "metadata": {},
   "source": [
    "# Loop experiment setup"
   ]
  },
  {
   "cell_type": "code",
   "execution_count": null,
   "metadata": {},
   "outputs": [],
   "source": [
    "n_lsh=[0, 1,2,4,8]\n",
    "sls   =[1024, 2048, 4096, 8192, 16384, 32768]\n",
    "bss   =[32, 16, 8, 4, 2, 1]\n",
    "train_steps, valid_steps = 1,10"
   ]
  },
  {
   "cell_type": "code",
   "execution_count": null,
   "metadata": {},
   "outputs": [],
   "source": [
    "cols = ['sl', 'bs', 'n-lsh', 'time']\n",
    "results = []\n",
    "for sl, bs in zip(sls, bss):\n",
    "    for n_hashes in n_lsh:\n",
    "        if n_hashes==0 and sl>8192:\n",
    "            results.append((sl, bs, n_hashes, np.nan)) # won't fit in memory\n",
    "        else:\n",
    "            dls = get_dataloaders(bs=bs, sl=sl, train_steps=train_steps, valid_steps=valid_steps)\n",
    "            model = get_lshlm(n_hashes=n_hashes, sl=sl)\n",
    "            learn = get_learner(dls, model)\n",
    "            t = time_eval(learn, dls)\n",
    "            del(learn, model, dls)\n",
    "            torch.cuda.empty_cache()\n",
    "            results.append((sl, bs, n_hashes, t))"
   ]
  },
  {
   "cell_type": "code",
   "execution_count": null,
   "metadata": {},
   "outputs": [
    {
     "data": {
      "text/html": [
       "<div>\n",
       "<style scoped>\n",
       "    .dataframe tbody tr th:only-of-type {\n",
       "        vertical-align: middle;\n",
       "    }\n",
       "\n",
       "    .dataframe tbody tr th {\n",
       "        vertical-align: top;\n",
       "    }\n",
       "\n",
       "    .dataframe thead th {\n",
       "        text-align: right;\n",
       "    }\n",
       "</style>\n",
       "<table border=\"1\" class=\"dataframe\">\n",
       "  <thead>\n",
       "    <tr style=\"text-align: right;\">\n",
       "      <th></th>\n",
       "      <th>sl</th>\n",
       "      <th>bs</th>\n",
       "      <th>n-lsh</th>\n",
       "      <th>time</th>\n",
       "    </tr>\n",
       "  </thead>\n",
       "  <tbody>\n",
       "    <tr>\n",
       "      <th>0</th>\n",
       "      <td>1024</td>\n",
       "      <td>32</td>\n",
       "      <td>0</td>\n",
       "      <td>0.072765</td>\n",
       "    </tr>\n",
       "    <tr>\n",
       "      <th>1</th>\n",
       "      <td>1024</td>\n",
       "      <td>32</td>\n",
       "      <td>1</td>\n",
       "      <td>0.068335</td>\n",
       "    </tr>\n",
       "    <tr>\n",
       "      <th>2</th>\n",
       "      <td>1024</td>\n",
       "      <td>32</td>\n",
       "      <td>2</td>\n",
       "      <td>0.089546</td>\n",
       "    </tr>\n",
       "    <tr>\n",
       "      <th>3</th>\n",
       "      <td>1024</td>\n",
       "      <td>32</td>\n",
       "      <td>4</td>\n",
       "      <td>0.150253</td>\n",
       "    </tr>\n",
       "    <tr>\n",
       "      <th>4</th>\n",
       "      <td>1024</td>\n",
       "      <td>32</td>\n",
       "      <td>8</td>\n",
       "      <td>0.348131</td>\n",
       "    </tr>\n",
       "  </tbody>\n",
       "</table>\n",
       "</div>"
      ],
      "text/plain": [
       "     sl  bs  n-lsh      time\n",
       "0  1024  32      0  0.072765\n",
       "1  1024  32      1  0.068335\n",
       "2  1024  32      2  0.089546\n",
       "3  1024  32      4  0.150253\n",
       "4  1024  32      8  0.348131"
      ]
     },
     "execution_count": null,
     "metadata": {},
     "output_type": "execute_result"
    }
   ],
   "source": [
    "df = pd.DataFrame(results, columns=cols)\n",
    "df.head()"
   ]
  },
  {
   "cell_type": "code",
   "execution_count": null,
   "metadata": {},
   "outputs": [],
   "source": [
    "df.to_csv('lsh-timing.csv')"
   ]
  },
  {
   "cell_type": "code",
   "execution_count": null,
   "metadata": {},
   "outputs": [],
   "source": [
    "def get_label(nh):\n",
    "    return f'lsh-{nh}' if nh>0 else 'full attention'\n",
    "def get_linestyle(nh):\n",
    "    return '--' if nh == 0 else '-'"
   ]
  },
  {
   "cell_type": "code",
   "execution_count": null,
   "metadata": {},
   "outputs": [
    {
     "data": {
      "image/png": "[encoded data removed]",
      "text/plain": [
       "<Figure size 576x360 with 1 Axes>"
      ]
     },
     "metadata": {
      "needs_background": "light"
     },
     "output_type": "display_data"
    }
   ],
   "source": [
    "fig, ax = plt.subplots(figsize=(8,5))\n",
    "for nh, c in zip(n_lsh, ['k','r', 'b', 'g', 'y']):\n",
    "    dat = df.loc[df['n-lsh']==nh]\n",
    "    ax.plot(dat['sl'], dat['time'], color=c, label=get_label(nh), linestyle=get_linestyle(nh))\n",
    "ax.set_yscale('log')\n",
    "ax.set_xscale('log', basex=2)\n",
    "\n",
    "ax.set_xlabel('sequence length / batch')\n",
    "ax.set_yticks([0.1, 1])\n",
    "ax.set_xticks(sls)\n",
    "ax.set_xticklabels(f'{sl}/{bs}' for sl, bs in zip(sls, bss))\n",
    "ax.legend(loc='upper left')\n",
    "ax.set_ylabel('seconds / step');"
   ]
  },
  {
   "cell_type": "markdown",
   "metadata": {},
   "source": [
    "![image.png](images/table-lsh-speed.png)"
   ]
  },
  {
   "cell_type": "markdown",
   "metadata": {},
   "source": [
    "We were unable to to do the full sequence length for full attention due to out of memory errors on a single gpu. The results for the smaller sequences are mostly matching, except for lsh-8 which in our experiments turn out slower than in the paper. Also, our full attention seems to be a bit faster. In general results looks offset by a constant. This could be due to method of measurement or architecture choices."
   ]
  },
  {
   "cell_type": "code",
   "execution_count": null,
   "metadata": {},
   "outputs": [],
   "source": []
  }
 ],
 "metadata": {
  "kernelspec": {
   "display_name": "Python 3",
   "language": "python",
   "name": "python3"
  }
 },
 "nbformat": 4,
 "nbformat_minor": 4
}
