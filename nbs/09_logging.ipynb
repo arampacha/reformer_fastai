{
 "cells": [
  {
   "cell_type": "code",
   "execution_count": null,
   "metadata": {},
   "outputs": [],
   "source": [
    "# default_exp logging"
   ]
  },
  {
   "cell_type": "code",
   "execution_count": null,
   "metadata": {},
   "outputs": [],
   "source": [
    "#hide\n",
    "from nbdev.showdoc import *"
   ]
  },
  {
   "cell_type": "markdown",
   "metadata": {},
   "source": [
    "# Logging\n",
    "\n",
    "> Functions used for logging training results"
   ]
  },
  {
   "cell_type": "code",
   "execution_count": null,
   "metadata": {},
   "outputs": [],
   "source": [
    "#export\n",
    "from fastai.callback.wandb import *\n",
    "from fastai.basics import *\n",
    "from fastcore.basics import *"
   ]
  },
  {
   "cell_type": "markdown",
   "metadata": {},
   "source": [
    "## Fastai WandbCallback - Enhanced Logging\n",
    "\n",
    "Weights and Biases was used for tracking training performance and model settings. A change is needed to `gather_args` to ensure model arguments are logged to weights and biases"
   ]
  },
  {
   "cell_type": "code",
   "execution_count": null,
   "metadata": {},
   "outputs": [],
   "source": [
    "#export\n",
    "@patch\n",
    "def gather_args(self:Learner):\n",
    "    \"Gather config parameters accessible to the learner, adds model config logging on top of default wandb logging\"\n",
    "    # args stored by `store_attr`\n",
    "    cb_args = {f'{cb}':getattr(cb,'__stored_args__',True) for cb in self.cbs}\n",
    "    args = {'Learner':self, **cb_args}\n",
    "    \n",
    "    # Log model attrs\n",
    "    model_attrs = getattr(learn.model,'__stored_args__',True)\n",
    "    args.update({f'model_{k}' : model_attrs[k] for k in model_attrs.keys()})\n",
    "    \n",
    "    # input dimensions\n",
    "    try:\n",
    "        n_inp = self.dls.train.n_inp\n",
    "        args['n_inp'] = n_inp\n",
    "        xb = self.dls.train.one_batch()[:n_inp]\n",
    "        args.update({f'input {n+1} dim {i+1}':d for n in range(n_inp) for i,d in enumerate(list(detuplify(xb[n]).shape))})\n",
    "    except: print(f'Could not gather input dimensions')\n",
    "    # other useful information\n",
    "    with ignore_exceptions():\n",
    "        getattr(args['Learner'].model)\n",
    "        args['batch size'] = self.dls.bs\n",
    "        args['batch per epoch'] = len(self.dls.train)\n",
    "        args['model parameters'] = total_params(self.model)[0]\n",
    "        args['device'] = self.dls.device.type\n",
    "        args['frozen'] = bool(self.opt.frozen_idx)\n",
    "        args['frozen idx'] = self.opt.frozen_idx\n",
    "        args['dataset.tfms'] = f'{self.dls.dataset.tfms}'\n",
    "        args['dls.after_item'] = f'{self.dls.after_item}'\n",
    "        args['dls.before_batch'] = f'{self.dls.before_batch}'\n",
    "        args['dls.after_batch'] = f'{self.dls.after_batch}'\n",
    "    return args"
   ]
  },
  {
   "cell_type": "code",
   "execution_count": null,
   "metadata": {},
   "outputs": [
    {
     "name": "stdout",
     "output_type": "stream",
     "text": [
      "Converted 00_core.ipynb.\n",
      "Converted 01_layers.ipynb.\n",
      "Converted 02_attention.ipynb.\n",
      "Converted 03_transformer.ipynb.\n",
      "Converted 04_reformer.ipynb.\n",
      "Converted 05_tokenizers.ipynb.\n",
      "Converted 06_data.ipynb.\n",
      "Converted 07_metrics.ipynb.\n",
      "Converted 08_optimizers.ipynb.\n",
      "Converted 09_logging.ipynb.\n",
      "Converted 10_experiment.synthetic-task.ipynb.\n",
      "Converted 10a_experiment.synthetic-task-comparison.ipynb.\n",
      "Converted 10b_experiment.synthetic-task-minimal.ipynb.\n",
      "Converted 11_experiment.enwik8_baseline-Copy1.ipynb.\n",
      "Converted 11_experiment.enwik8_baseline.ipynb.\n",
      "Converted 12_experiment.enwik8_sharedQK.ipynb.\n",
      "Converted 13_experiment.enwik8_reversible.ipynb.\n",
      "Converted 50_exploration.LSH.ipynb.\n",
      "Converted index.ipynb.\n",
      "Converted logging-Copy1.ipynb.\n",
      "Converted reproducibility.report_1_reproducibility_summary.ipynb.\n"
     ]
    }
   ],
   "source": [
    "#hide\n",
    "from nbdev.export import notebook2script; notebook2script()"
   ]
  },
  {
   "cell_type": "code",
   "execution_count": null,
   "metadata": {},
   "outputs": [],
   "source": []
  }
 ],
 "metadata": {
  "kernelspec": {
   "display_name": "Python 3",
   "language": "python",
   "name": "python3"
  }
 },
 "nbformat": 4,
 "nbformat_minor": 4
}
