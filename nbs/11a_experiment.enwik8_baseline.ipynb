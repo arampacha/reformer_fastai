{
 "cells": [
  {
   "cell_type": "code",
   "execution_count": null,
   "metadata": {},
   "outputs": [
    {
     "name": "stdout",
     "output_type": "stream",
     "text": [
      "Tue Jan 19 13:31:57 2021       \n",
      "+-----------------------------------------------------------------------------+\n",
      "| NVIDIA-SMI 450.36.06    Driver Version: 450.36.06    CUDA Version: 11.0     |\n",
      "|-------------------------------+----------------------+----------------------+\n",
      "| GPU  Name        Persistence-M| Bus-Id        Disp.A | Volatile Uncorr. ECC |\n",
      "| Fan  Temp  Perf  Pwr:Usage/Cap|         Memory-Usage | GPU-Util  Compute M. |\n",
      "|                               |                      |               MIG M. |\n",
      "|===============================+======================+======================|\n",
      "|   0  Quadro P5000        On   | 00000000:00:05.0 Off |                  Off |\n",
      "| 26%   27C    P8     9W / 180W |      1MiB / 16278MiB |      0%      Default |\n",
      "|                               |                      |                  N/A |\n",
      "+-------------------------------+----------------------+----------------------+\n",
      "                                                                               \n",
      "+-----------------------------------------------------------------------------+\n",
      "| Processes:                                                                  |\n",
      "|  GPU   GI   CI        PID   Type   Process name                  GPU Memory |\n",
      "|        ID   ID                                                   Usage      |\n",
      "|=============================================================================|\n",
      "|  No running processes found                                                 |\n",
      "+-----------------------------------------------------------------------------+\n"
     ]
    }
   ],
   "source": [
    "#hide\n",
    "!nvidia-smi"
   ]
  },
  {
   "cell_type": "code",
   "execution_count": null,
   "metadata": {},
   "outputs": [],
   "source": [
    "#hide\n",
    "import sys\n",
    "if 'google.colab' in sys.modules:\n",
    "    !pip install -Uqq fastai einops axial_positional_embedding wandb\n",
    "    !pip install -qq git+git://github.com/arampacha/reformer_fastai.git"
   ]
  },
  {
   "cell_type": "code",
   "execution_count": null,
   "metadata": {},
   "outputs": [],
   "source": [
    "#hide\n",
    "%load_ext autoreload\n",
    "%autoreload 2"
   ]
  },
  {
   "cell_type": "code",
   "execution_count": null,
   "metadata": {},
   "outputs": [],
   "source": [
    "#all_slow"
   ]
  },
  {
   "cell_type": "markdown",
   "metadata": {},
   "source": [
    "# enwik8 - baseline"
   ]
  },
  {
   "cell_type": "code",
   "execution_count": null,
   "metadata": {},
   "outputs": [],
   "source": [
    "from fastai.text.all import *\n",
    "from reformer_fastai.all import *"
   ]
  },
  {
   "cell_type": "markdown",
   "metadata": {},
   "source": [
    "## Experiment Tracking"
   ]
  },
  {
   "cell_type": "markdown",
   "metadata": {},
   "source": [
    "Make sure you have wandb and are logged in."
   ]
  },
  {
   "cell_type": "code",
   "execution_count": null,
   "metadata": {},
   "outputs": [],
   "source": [
    "#hide\n",
    "# !wandb login"
   ]
  },
  {
   "cell_type": "markdown",
   "metadata": {},
   "source": [
    "Load Experiment Tracking with Weights & Biases:"
   ]
  },
  {
   "cell_type": "code",
   "execution_count": null,
   "metadata": {},
   "outputs": [],
   "source": [
    "import wandb\n",
    "from reformer_fastai.tracking import WandbCallback\n",
    "\n",
    "WANDB_NAME = 'lm_enwik8_base_af'\n",
    "GROUP = 'TEST'\n",
    "NOTES = 'Baseline Transformer LM on enwik8 sl 4096'\n",
    "CONFIG = {}\n",
    "TAGS =['lm','test','enwik8']"
   ]
  },
  {
   "cell_type": "code",
   "execution_count": null,
   "metadata": {},
   "outputs": [],
   "source": [
    "# wandb.init(reinit=True, project=\"reformer-fastai\", entity=\"fastai_community\", \n",
    "#            name=WANDB_NAME, group=GROUP, notes=NOTES,  tags=TAGS) # config=CONFIG,"
   ]
  },
  {
   "cell_type": "markdown",
   "metadata": {},
   "source": [
    "## Download and Unpack enwik8 Data\n",
    "\n",
    "Download and unzip enwik8 data"
   ]
  },
  {
   "cell_type": "code",
   "execution_count": null,
   "metadata": {},
   "outputs": [],
   "source": [
    "path = untar_data('http://mattmahoney.net/dc/enwik8.zip', dest='/data')"
   ]
  },
  {
   "cell_type": "markdown",
   "metadata": {},
   "source": [
    "## Prepare Data"
   ]
  },
  {
   "cell_type": "code",
   "execution_count": null,
   "metadata": {},
   "outputs": [
    {
     "data": {
      "text/html": [
       "<div>\n",
       "<style scoped>\n",
       "    .dataframe tbody tr th:only-of-type {\n",
       "        vertical-align: middle;\n",
       "    }\n",
       "\n",
       "    .dataframe tbody tr th {\n",
       "        vertical-align: top;\n",
       "    }\n",
       "\n",
       "    .dataframe thead th {\n",
       "        text-align: right;\n",
       "    }\n",
       "</style>\n",
       "<table border=\"1\" class=\"dataframe\">\n",
       "  <thead>\n",
       "    <tr style=\"text-align: right;\">\n",
       "      <th></th>\n",
       "      <th>text</th>\n",
       "    </tr>\n",
       "  </thead>\n",
       "  <tbody>\n",
       "    <tr>\n",
       "      <th>0</th>\n",
       "      <td>&lt;mediawiki xmlns=\"http://www.mediawiki.org/xml/export-0.3/\" xmlns:xsi=\"http://www.w3.org/2001/XMLSchema-instance\" xsi:schemaLocation=\"http://www.mediawiki.org/xml/export-0.3/ http://www.mediawiki.org/xml/export-0.3.xsd\" version=\"0.3\" xml:lang=\"en\"&gt;\\n</td>\n",
       "    </tr>\n",
       "    <tr>\n",
       "      <th>1</th>\n",
       "      <td>&lt;siteinfo&gt;\\n</td>\n",
       "    </tr>\n",
       "    <tr>\n",
       "      <th>2</th>\n",
       "      <td>&lt;sitename&gt;Wikipedia&lt;/sitename&gt;\\n</td>\n",
       "    </tr>\n",
       "    <tr>\n",
       "      <th>3</th>\n",
       "      <td>&lt;base&gt;http://en.wikipedia.org/wiki/Main_Page&lt;/base&gt;\\n</td>\n",
       "    </tr>\n",
       "    <tr>\n",
       "      <th>4</th>\n",
       "      <td>&lt;generator&gt;MediaWiki 1.6alpha&lt;/generator&gt;\\n</td>\n",
       "    </tr>\n",
       "  </tbody>\n",
       "</table>\n",
       "</div>"
      ],
      "text/plain": [
       "                                                                                                                                                                                                                                                         text\n",
       "0  <mediawiki xmlns=\"http://www.mediawiki.org/xml/export-0.3/\" xmlns:xsi=\"http://www.w3.org/2001/XMLSchema-instance\" xsi:schemaLocation=\"http://www.mediawiki.org/xml/export-0.3/ http://www.mediawiki.org/xml/export-0.3.xsd\" version=\"0.3\" xml:lang=\"en\">\\n\n",
       "1                                                                                                                                                                                                                                                <siteinfo>\\n\n",
       "2                                                                                                                                                                                                                            <sitename>Wikipedia</sitename>\\n\n",
       "3                                                                                                                                                                                                       <base>http://en.wikipedia.org/wiki/Main_Page</base>\\n\n",
       "4                                                                                                                                                                                                                 <generator>MediaWiki 1.6alpha</generator>\\n"
      ]
     },
     "execution_count": null,
     "metadata": {},
     "output_type": "execute_result"
    }
   ],
   "source": [
    "df = pd.DataFrame({'text':read_lines(path)})\n",
    "df.head()"
   ]
  },
  {
   "cell_type": "code",
   "execution_count": null,
   "metadata": {},
   "outputs": [],
   "source": [
    "btt = ByteTextTokenizer(is_lm=True, add_bos=False, add_eos=False)"
   ]
  },
  {
   "cell_type": "code",
   "execution_count": null,
   "metadata": {},
   "outputs": [
    {
     "name": "stdout",
     "output_type": "stream",
     "text": [
      "CPU times: user 2min 24s, sys: 2.93 s, total: 2min 27s\n",
      "Wall time: 2min 26s\n"
     ]
    }
   ],
   "source": [
    "%%time\n",
    "df['toks'] = df['text'].apply(btt)\n",
    "df['lens'] = df['toks'].apply(len)\n",
    "df['lens_cum_sum'] = df.lens.cumsum()"
   ]
  },
  {
   "cell_type": "code",
   "execution_count": null,
   "metadata": {},
   "outputs": [],
   "source": [
    "train_cutoff = df.lens.sum() - 10_000_000  # keep all but 10M characters for val and test\n",
    "train_idxs = df.loc[df['lens_cum_sum'] < train_cutoff].index.values\n",
    "train_idxs = list(range(0, max(train_idxs)))\n",
    "\n",
    "remaining_idxs = len(df) - max(train_idxs)\n",
    "validation_idxs = list(range(max(train_idxs), max(train_idxs) + int(remaining_idxs/2)))\n",
    "test_idxs = list(range(max(validation_idxs), len(df)))\n",
    "\n",
    "splits = [train_idxs, validation_idxs]"
   ]
  },
  {
   "cell_type": "code",
   "execution_count": null,
   "metadata": {},
   "outputs": [
    {
     "name": "stdout",
     "output_type": "stream",
     "text": [
      "CPU times: user 1.1 s, sys: 40.1 ms, total: 1.14 s\n",
      "Wall time: 1.14 s\n"
     ]
    }
   ],
   "source": [
    "%%time\n",
    "tfms = [attrgetter(\"text\"), btt]\n",
    "dsets = Datasets(df, [tfms], splits=splits, dl_type=LMDataLoader)"
   ]
  },
  {
   "cell_type": "code",
   "execution_count": null,
   "metadata": {},
   "outputs": [
    {
     "name": "stdout",
     "output_type": "stream",
     "text": [
      "CPU times: user 31.9 s, sys: 1.19 s, total: 33.1 s\n",
      "Wall time: 32.7 s\n"
     ]
    }
   ],
   "source": [
    "%%time\n",
    "bs, sl = 2, 4096\n",
    "# pad_seq2seq = partial(pad_input, pad_idx=bte.pad_token_id, pad_fields=[0,1])\n",
    "dl_kwargs = [{'lens':df['lens'].values[train_idxs]},\n",
    "             {'val_lens':df['lens'].values[validation_idxs]}]\n",
    "dls = dsets.dataloaders(bs=bs, val_bs=2*bs, seq_len=sl, dl_kwargs=dl_kwargs, shuffle_train=True, n_workers=2)"
   ]
  },
  {
   "cell_type": "code",
   "execution_count": null,
   "metadata": {},
   "outputs": [
    {
     "data": {
      "text/html": [
       "<table border=\"1\" class=\"dataframe\">\n",
       "  <thead>\n",
       "    <tr style=\"text-align: right;\">\n",
       "      <th></th>\n",
       "      <th>text</th>\n",
       "      <th>text_</th>\n",
       "    </tr>\n",
       "  </thead>\n",
       "  <tbody>\n",
       "    <tr>\n",
       "      <th>0</th>\n",
       "      <td>== External links ==\\n    &lt;revision&gt;\\n* [http://www.muzarp.poznan.pl/archweb/gazociag/title5.htm &amp;quot;The Goths in Greater Poland&amp;quot; by Tadeusz Makiewicz]\\n\\n        &lt;username&gt;RuM&lt;/username&gt;\\n*Audio interview on [[Australian]] radio station [[JJJ]], on [[January 26]], [[2006]] : [http://www.abc.net.au/triplej/jayandthedoctor/listen/mp3s/henrirollins.mp3 MP3 Link].\\n[[Category:Obsolete list of encyclopedia topics]]&lt;/text&gt;\\n&amp;lt;/tr&amp;gt;\\n\\n[[Category:Sibling duos|Ertegun brothers]]\\nIn [[1920]], Russell travelled to [[Russia]] as part of an official delegation sent by the British government to investigate the effects of the [[Russian Revolution of 1917|Russian Revolution]]. Russell's lover [[Dora Black]] also visited Russia independently at the same time - she was enthusiastic about the revolution, but Russell's experiences destroyed his previous tentative support for it.\\n* [[kaffir lime]] leaves\\nThe Commission negotiates international [[trade]] agreements (in the [[World Trade Organization]]) and other international agreements on behalf of the EU. It closely co-operates in this with the [[Council of the European Union]].\\n  &lt;page&gt;\\nSpink, Walter M. “The Achievement of Ajanta,” ''The Age of the Vakatakas'', ed. Shastri,</td>\n",
       "      <td>= External links ==\\n    &lt;revision&gt;\\n* [http://www.muzarp.poznan.pl/archweb/gazociag/title5.htm &amp;quot;The Goths in Greater Poland&amp;quot; by Tadeusz Makiewicz]\\n\\n        &lt;username&gt;RuM&lt;/username&gt;\\n*Audio interview on [[Australian]] radio station [[JJJ]], on [[January 26]], [[2006]] : [http://www.abc.net.au/triplej/jayandthedoctor/listen/mp3s/henrirollins.mp3 MP3 Link].\\n[[Category:Obsolete list of encyclopedia topics]]&lt;/text&gt;\\n&amp;lt;/tr&amp;gt;\\n\\n[[Category:Sibling duos|Ertegun brothers]]\\nIn [[1920]], Russell travelled to [[Russia]] as part of an official delegation sent by the British government to investigate the effects of the [[Russian Revolution of 1917|Russian Revolution]]. Russell's lover [[Dora Black]] also visited Russia independently at the same time - she was enthusiastic about the revolution, but Russell's experiences destroyed his previous tentative support for it.\\n* [[kaffir lime]] leaves\\nThe Commission negotiates international [[trade]] agreements (in the [[World Trade Organization]]) and other international agreements on behalf of the EU. It closely co-operates in this with the [[Council of the European Union]].\\n  &lt;page&gt;\\nSpink, Walter M. “The Achievement of Ajanta,” ''The Age of the Vakatakas'', ed. Shastri,</td>\n",
       "    </tr>\n",
       "    <tr>\n",
       "      <th>1</th>\n",
       "      <td>found in Obadiah 10-21 which [[Book of Jeremiah|Jeremiah]] does not quote, and which, had he had it laid out before him, would have suited his purpose admirably. Despite everything, however, there are a number scholars who support both dates and even some who support dates other than the two major possibilities presented. Therefore, any date for the composition Obadiah must be held tentatively.\\n\\n\\n\\n    &lt;revision&gt;\\n    &lt;id&gt;8092&lt;/id&gt;\\n      &lt;id&gt;41285331&lt;/id&gt;\\n\\n\\n|input = Two 4-panel [[dance pad]]s, six buttons\\nThe term '''blue biotechnology''' has also been used to describe the marine and aquatic applications of biotechnology, but its use is relatively rare.\\n[[Category:Armed leftist groups]]\\n|  bgcolor=&amp;quot;#ffd000&amp;quot; | [[Fermium|Fm]]&amp;lt;br/&amp;gt;1.3\\n[[Image:columnchromatography.gif|thumb|right|400px|A picture of a standard column chromatography and a flash column chromatography setup]]\\n      &lt;/contributor&gt;\\n: [[Central America]] and the Caribbean\\n===Written accents===\\n| align=&amp;quot;RIGHT&amp;quot; nowrap | 360 MYA\\n&amp;lt;br&amp;gt;''domestic:''\\n\\n:The Father uncreate, the Son uncreate : and the Holy</td>\n",
       "      <td>ound in Obadiah 10-21 which [[Book of Jeremiah|Jeremiah]] does not quote, and which, had he had it laid out before him, would have suited his purpose admirably. Despite everything, however, there are a number scholars who support both dates and even some who support dates other than the two major possibilities presented. Therefore, any date for the composition Obadiah must be held tentatively.\\n\\n\\n\\n    &lt;revision&gt;\\n    &lt;id&gt;8092&lt;/id&gt;\\n      &lt;id&gt;41285331&lt;/id&gt;\\n\\n\\n|input = Two 4-panel [[dance pad]]s, six buttons\\nThe term '''blue biotechnology''' has also been used to describe the marine and aquatic applications of biotechnology, but its use is relatively rare.\\n[[Category:Armed leftist groups]]\\n|  bgcolor=&amp;quot;#ffd000&amp;quot; | [[Fermium|Fm]]&amp;lt;br/&amp;gt;1.3\\n[[Image:columnchromatography.gif|thumb|right|400px|A picture of a standard column chromatography and a flash column chromatography setup]]\\n      &lt;/contributor&gt;\\n: [[Central America]] and the Caribbean\\n===Written accents===\\n| align=&amp;quot;RIGHT&amp;quot; nowrap | 360 MYA\\n&amp;lt;br&amp;gt;''domestic:''\\n\\n:The Father uncreate, the Son uncreate : and the Holy</td>\n",
       "    </tr>\n",
       "  </tbody>\n",
       "</table>"
      ],
      "text/plain": [
       "<IPython.core.display.HTML object>"
      ]
     },
     "metadata": {},
     "output_type": "display_data"
    }
   ],
   "source": [
    "#collapse_output\n",
    "dls.show_batch(max_n=4)"
   ]
  },
  {
   "cell_type": "code",
   "execution_count": null,
   "metadata": {},
   "outputs": [],
   "source": [
    "vocab_sz = btt.vocab_size"
   ]
  },
  {
   "cell_type": "code",
   "execution_count": null,
   "metadata": {},
   "outputs": [],
   "source": [
    "#hide\n",
    "# df.drop(columns='toks', inplace=True)\n",
    "# df.to_csv('enwik8.csv')"
   ]
  },
  {
   "cell_type": "code",
   "execution_count": null,
   "metadata": {},
   "outputs": [
    {
     "data": {
      "text/plain": [
       "(torch.Size([2, 4096]), torch.Size([2, 4096]))"
      ]
     },
     "execution_count": null,
     "metadata": {},
     "output_type": "execute_result"
    }
   ],
   "source": [
    "xb, yb = dls.one_batch()\n",
    "xb.shape, yb.shape"
   ]
  },
  {
   "cell_type": "code",
   "execution_count": null,
   "metadata": {},
   "outputs": [],
   "source": [
    "#hide\n",
    "del xb, yb\n",
    "torch.cuda.empty_cache()"
   ]
  },
  {
   "cell_type": "markdown",
   "metadata": {},
   "source": [
    "## Training"
   ]
  },
  {
   "cell_type": "markdown",
   "metadata": {},
   "source": [
    "Initialise wandb logging, pleaes **do not change** `project` or `entity` (that that everything gets logged to the same place)"
   ]
  },
  {
   "cell_type": "code",
   "execution_count": null,
   "metadata": {},
   "outputs": [
    {
     "name": "stderr",
     "output_type": "stream",
     "text": [
      "Failed to query for notebook name, you can set it manually with the WANDB_NOTEBOOK_NAME environment variable\n",
      "\u001b[34m\u001b[1mwandb\u001b[0m: Currently logged in as: \u001b[33mfastai_community\u001b[0m (use `wandb login --relogin` to force relogin)\n",
      "\u001b[34m\u001b[1mwandb\u001b[0m: wandb version 0.10.14 is available!  To upgrade, please run:\n",
      "\u001b[34m\u001b[1mwandb\u001b[0m:  $ pip install wandb --upgrade\n"
     ]
    },
    {
     "data": {
      "text/html": [
       "\n",
       "                Tracking run with wandb version 0.10.12<br/>\n",
       "                Syncing run <strong style=\"color:#cdcd00\">lm_enwik8_base_af</strong> to <a href=\"https://wandb.ai\" target=\"_blank\">Weights & Biases</a> <a href=\"https://docs.wandb.com/integrations/jupyter.html\" target=\"_blank\">(Documentation)</a>.<br/>\n",
       "                Project page: <a href=\"https://wandb.ai/fastai_community/reformer-fastai\" target=\"_blank\">https://wandb.ai/fastai_community/reformer-fastai</a><br/>\n",
       "                Run page: <a href=\"https://wandb.ai/fastai_community/reformer-fastai/runs/nacpytvd\" target=\"_blank\">https://wandb.ai/fastai_community/reformer-fastai/runs/nacpytvd</a><br/>\n",
       "                Run data is saved locally in <code>/notebooks/wandb/run-20210119_133513-nacpytvd</code><br/><br/>\n",
       "            "
      ],
      "text/plain": [
       "<IPython.core.display.HTML object>"
      ]
     },
     "metadata": {},
     "output_type": "display_data"
    },
    {
     "data": {
      "text/html": [
       "<h1>Run(nacpytvd)</h1><p></p><iframe src=\"https://wandb.ai/fastai_community/reformer-fastai/runs/nacpytvd\" style=\"border:none;width:100%;height:400px\"></iframe>"
      ],
      "text/plain": [
       "<wandb.sdk.wandb_run.Run at 0x7f09c10d74e0>"
      ]
     },
     "execution_count": null,
     "metadata": {},
     "output_type": "execute_result"
    }
   ],
   "source": [
    "#hide_output\n",
    "wandb.init(reinit=True, project=\"reformer-fastai\", entity=\"fastai_community\", \n",
    "           name=WANDB_NAME, group=GROUP, notes=NOTES, tags=TAGS, config=CONFIG)"
   ]
  },
  {
   "cell_type": "code",
   "execution_count": null,
   "metadata": {},
   "outputs": [],
   "source": [
    "config = TransformerLMConfigEnwik8(max_seq_len=4096, axial_shape=(64,64))"
   ]
  },
  {
   "cell_type": "code",
   "execution_count": null,
   "metadata": {},
   "outputs": [],
   "source": [
    "learn = Learner(dls, TransformerLM.from_config(config),\n",
    "                loss_func=CrossEntropyLossFlat(), opt_func=adafactor,\n",
    "                cbs = [GradientAccumulation(n_acc=8), GradientClip()],\n",
    "                metrics=[accuracy, perplexity, bpc]).to_fp16()"
   ]
  },
  {
   "cell_type": "code",
   "execution_count": null,
   "metadata": {},
   "outputs": [],
   "source": [
    "#hide\n",
    "# Lr find not needed with Adafactor\n",
    "# learn.lr_find()"
   ]
  },
  {
   "cell_type": "code",
   "execution_count": null,
   "metadata": {},
   "outputs": [
    {
     "data": {
      "text/html": [
       "<table border=\"1\" class=\"dataframe\">\n",
       "  <thead>\n",
       "    <tr style=\"text-align: left;\">\n",
       "      <th>epoch</th>\n",
       "      <th>train_loss</th>\n",
       "      <th>valid_loss</th>\n",
       "      <th>accuracy</th>\n",
       "      <th>perplexity</th>\n",
       "      <th>bpc</th>\n",
       "      <th>time</th>\n",
       "    </tr>\n",
       "  </thead>\n",
       "  <tbody>\n",
       "    <tr>\n",
       "      <td>0</td>\n",
       "      <td>1.280827</td>\n",
       "      <td>1.160497</td>\n",
       "      <td>0.657974</td>\n",
       "      <td>3.191520</td>\n",
       "      <td>1.674244</td>\n",
       "      <td>3:24:15</td>\n",
       "    </tr>\n",
       "  </tbody>\n",
       "</table>"
      ],
      "text/plain": [
       "<IPython.core.display.HTML object>"
      ]
     },
     "metadata": {},
     "output_type": "display_data"
    }
   ],
   "source": [
    "learn.fit(1, cbs=WandbCallback(log_model=False, log_preds=False))"
   ]
  },
  {
   "cell_type": "code",
   "execution_count": null,
   "metadata": {},
   "outputs": [
    {
     "data": {
      "image/png": "[encoded data removed]",
      "text/plain": [
       "<Figure size 432x288 with 1 Axes>"
      ]
     },
     "metadata": {
      "needs_background": "light"
     },
     "output_type": "display_data"
    }
   ],
   "source": [
    "learn.recorder.plot_loss()"
   ]
  },
  {
   "cell_type": "code",
   "execution_count": null,
   "metadata": {},
   "outputs": [],
   "source": []
  }
 ],
 "metadata": {
  "kernelspec": {
   "display_name": "Python 3",
   "language": "python",
   "name": "python3"
  }
 },
 "nbformat": 4,
 "nbformat_minor": 4
}
