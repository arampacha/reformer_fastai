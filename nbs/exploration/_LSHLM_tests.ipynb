{
 "cells": [
  {
   "cell_type": "markdown",
   "metadata": {},
   "source": [
    "<a href=\"https://colab.research.google.com/github/arampacha/reformer_fastai/blob/master/nbs/exploration/_LM_tests.ipynb\" target=\"_parent\"><img src=\"https://colab.research.google.com/assets/colab-badge.svg\" alt=\"Open In Colab\"/></a>"
   ]
  },
  {
   "cell_type": "code",
   "execution_count": null,
   "metadata": {},
   "outputs": [
    {
     "name": "stdout",
     "output_type": "stream",
     "text": [
      "Sat Jan  9 23:58:41 2021       \n",
      "+-----------------------------------------------------------------------------+\n",
      "| NVIDIA-SMI 460.27.04    Driver Version: 418.67       CUDA Version: 10.1     |\n",
      "|-------------------------------+----------------------+----------------------+\n",
      "| GPU  Name        Persistence-M| Bus-Id        Disp.A | Volatile Uncorr. ECC |\n",
      "| Fan  Temp  Perf  Pwr:Usage/Cap|         Memory-Usage | GPU-Util  Compute M. |\n",
      "|                               |                      |               MIG M. |\n",
      "|===============================+======================+======================|\n",
      "|   0  Tesla T4            Off  | 00000000:00:04.0 Off |                    0 |\n",
      "| N/A   33C    P8     9W /  70W |      0MiB / 15079MiB |      0%      Default |\n",
      "|                               |                      |                 ERR! |\n",
      "+-------------------------------+----------------------+----------------------+\n",
      "                                                                               \n",
      "+-----------------------------------------------------------------------------+\n",
      "| Processes:                                                                  |\n",
      "|  GPU   GI   CI        PID   Type   Process name                  GPU Memory |\n",
      "|        ID   ID                                                   Usage      |\n",
      "|=============================================================================|\n",
      "|  No running processes found                                                 |\n",
      "+-----------------------------------------------------------------------------+\n"
     ]
    }
   ],
   "source": [
    "!nvidia-smi"
   ]
  },
  {
   "cell_type": "code",
   "execution_count": null,
   "metadata": {},
   "outputs": [],
   "source": [
    "%load_ext autoreload\n",
    "%autoreload 2"
   ]
  },
  {
   "cell_type": "code",
   "execution_count": null,
   "metadata": {},
   "outputs": [
    {
     "name": "stdout",
     "output_type": "stream",
     "text": [
      "\u001b[K     |████████████████████████████████| 163kB 15.3MB/s \n",
      "\u001b[K     |████████████████████████████████| 17.7MB 211kB/s \n",
      "\u001b[K     |████████████████████████████████| 245kB 41.1MB/s \n",
      "\u001b[?25h  Building wheel for axial-positional-embedding (setup.py) ... \u001b[?25l\u001b[?25hdone\n",
      "\u001b[K     |████████████████████████████████| 194kB 20.3MB/s \n",
      "\u001b[K     |████████████████████████████████| 61kB 10.3MB/s \n",
      "\u001b[?25h  Building wheel for reformer-fastai (setup.py) ... \u001b[?25l\u001b[?25hdone\n"
     ]
    }
   ],
   "source": [
    "import sys\n",
    "if 'google.colab' in sys.modules:\n",
    "    !pip install -qq einops axial-positional-embedding fastai datasets\n",
    "    !pip install -qq git+git://github.com/arampacha/reformer_fastai.git"
   ]
  },
  {
   "cell_type": "code",
   "execution_count": null,
   "metadata": {},
   "outputs": [],
   "source": [
    "from fastai.text.all import *\n",
    "from fastai.basics import *\n",
    "from datasets import load_dataset\n",
    "import pdb\n",
    "import gc"
   ]
  },
  {
   "cell_type": "code",
   "execution_count": null,
   "metadata": {},
   "outputs": [],
   "source": [
    "from reformer_fastai.transformer import TransformerLM\n",
    "from reformer_fastai.reformer import ReversibleLM, LSHLM\n",
    "from reformer_fastai.tokenizers import ByteTextTokenizer\n",
    "from reformer_fastai.metrics import bpc"
   ]
  },
  {
   "cell_type": "code",
   "execution_count": null,
   "metadata": {},
   "outputs": [
    {
     "name": "stdout",
     "output_type": "stream",
     "text": [
      "\u001b[K     |████████████████████████████████| 1.8MB 22.0MB/s \n",
      "\u001b[K     |████████████████████████████████| 163kB 55.5MB/s \n",
      "\u001b[K     |████████████████████████████████| 102kB 14.0MB/s \n",
      "\u001b[K     |████████████████████████████████| 133kB 56.5MB/s \n",
      "\u001b[K     |████████████████████████████████| 81kB 13.0MB/s \n",
      "\u001b[K     |████████████████████████████████| 71kB 12.2MB/s \n",
      "\u001b[?25h  Building wheel for subprocess32 (setup.py) ... \u001b[?25l\u001b[?25hdone\n"
     ]
    }
   ],
   "source": [
    "    !pip install -qqq wandb"
   ]
  },
  {
   "cell_type": "code",
   "execution_count": null,
   "metadata": {},
   "outputs": [],
   "source": [
    "def get_cudas():\n",
    "    '''Returns the number of tensors in cuda device.'''\n",
    "    n = 0\n",
    "    for o in gc.get_objects():\n",
    "        if torch.is_tensor(o):\n",
    "            o = maybe_attr(o, 'data')\n",
    "            if o.is_cuda: n += 1\n",
    "    return n"
   ]
  },
  {
   "cell_type": "markdown",
   "metadata": {},
   "source": [
    "# Data"
   ]
  },
  {
   "cell_type": "code",
   "execution_count": null,
   "metadata": {},
   "outputs": [
    {
     "data": {
      "application/vnd.jupyter.widget-view+json": {
       "model_id": "f0a07893b4e04cd58cb7f5185cec21c3",
       "version_major": 2,
       "version_minor": 0
      },
      "text/plain": [
       "HBox(children=(FloatProgress(value=0.0, description='Downloading', max=1657.0, style=ProgressStyle(description…"
      ]
     },
     "metadata": {},
     "output_type": "display_data"
    },
    {
     "name": "stdout",
     "output_type": "stream",
     "text": [
      "\n"
     ]
    },
    {
     "data": {
      "application/vnd.jupyter.widget-view+json": {
       "model_id": "4f98db4b74554a12a44e7fbcabb5721f",
       "version_major": 2,
       "version_minor": 0
      },
      "text/plain": [
       "HBox(children=(FloatProgress(value=0.0, description='Downloading', max=908.0, style=ProgressStyle(description_…"
      ]
     },
     "metadata": {},
     "output_type": "display_data"
    },
    {
     "name": "stderr",
     "output_type": "stream",
     "text": [
      "Using custom data configuration default\n"
     ]
    },
    {
     "name": "stdout",
     "output_type": "stream",
     "text": [
      "\n",
      "Downloading and preparing dataset tiny_shakespeare/default (download: 1.06 MiB, generated: 1.06 MiB, post-processed: Unknown size, total: 2.13 MiB) to /root/.cache/huggingface/datasets/tiny_shakespeare/default/1.0.0/da11b9a200ca715af415094b34d5c956170f184cb3a58d7789680cf81bede955...\n"
     ]
    },
    {
     "data": {
      "application/vnd.jupyter.widget-view+json": {
       "model_id": "2d2a48048e0744919f117570d0ab5564",
       "version_major": 2,
       "version_minor": 0
      },
      "text/plain": [
       "HBox(children=(FloatProgress(value=0.0, description='Downloading', max=435071.0, style=ProgressStyle(descripti…"
      ]
     },
     "metadata": {},
     "output_type": "display_data"
    },
    {
     "name": "stdout",
     "output_type": "stream",
     "text": [
      "\n"
     ]
    },
    {
     "data": {
      "application/vnd.jupyter.widget-view+json": {
       "model_id": "a3dde50db4ea4acc9663406968562959",
       "version_major": 2,
       "version_minor": 0
      },
      "text/plain": [
       "HBox(children=(FloatProgress(value=1.0, bar_style='info', max=1.0), HTML(value='')))"
      ]
     },
     "metadata": {},
     "output_type": "display_data"
    },
    {
     "name": "stdout",
     "output_type": "stream",
     "text": [
      "\n"
     ]
    },
    {
     "data": {
      "application/vnd.jupyter.widget-view+json": {
       "model_id": "e8c89db3bf7940cfa1f694f1367a9e4d",
       "version_major": 2,
       "version_minor": 0
      },
      "text/plain": [
       "HBox(children=(FloatProgress(value=1.0, bar_style='info', max=1.0), HTML(value='')))"
      ]
     },
     "metadata": {},
     "output_type": "display_data"
    },
    {
     "name": "stdout",
     "output_type": "stream",
     "text": [
      "\n"
     ]
    },
    {
     "data": {
      "application/vnd.jupyter.widget-view+json": {
       "model_id": "7e7547d59b9c44a2a5286bc162b823bb",
       "version_major": 2,
       "version_minor": 0
      },
      "text/plain": [
       "HBox(children=(FloatProgress(value=1.0, bar_style='info', max=1.0), HTML(value='')))"
      ]
     },
     "metadata": {},
     "output_type": "display_data"
    },
    {
     "name": "stdout",
     "output_type": "stream",
     "text": [
      "\nDataset tiny_shakespeare downloaded and prepared to /root/.cache/huggingface/datasets/tiny_shakespeare/default/1.0.0/da11b9a200ca715af415094b34d5c956170f184cb3a58d7789680cf81bede955. Subsequent calls will reuse this data.\n"
     ]
    }
   ],
   "source": [
    "dataset = load_dataset('tiny_shakespeare')"
   ]
  },
  {
   "cell_type": "code",
   "execution_count": null,
   "metadata": {},
   "outputs": [],
   "source": [
    "train_ds = dataset['train']"
   ]
  },
  {
   "cell_type": "code",
   "execution_count": null,
   "metadata": {},
   "outputs": [],
   "source": [
    "def splitlines(sample):\n",
    "    return {'line':[*sample['text'][0].split('\\n')]}"
   ]
  },
  {
   "cell_type": "code",
   "execution_count": null,
   "metadata": {},
   "outputs": [
    {
     "data": {
      "application/vnd.jupyter.widget-view+json": {
       "model_id": "a0b50a76f2b744209e860d2edd904252",
       "version_major": 2,
       "version_minor": 0
      },
      "text/plain": [
       "HBox(children=(FloatProgress(value=0.0, max=1.0), HTML(value='')))"
      ]
     },
     "metadata": {},
     "output_type": "display_data"
    },
    {
     "name": "stdout",
     "output_type": "stream",
     "text": [
      "\n"
     ]
    }
   ],
   "source": [
    "train_ds = train_ds.map(splitlines, batched=True, remove_columns=['text'])"
   ]
  },
  {
   "cell_type": "code",
   "execution_count": null,
   "metadata": {},
   "outputs": [
    {
     "data": {
      "application/vnd.jupyter.widget-view+json": {
       "model_id": "0e3f948e276e4d639ea333b68cd35f0f",
       "version_major": 2,
       "version_minor": 0
      },
      "text/plain": [
       "HBox(children=(FloatProgress(value=0.0, max=36.0), HTML(value='')))"
      ]
     },
     "metadata": {},
     "output_type": "display_data"
    },
    {
     "name": "stdout",
     "output_type": "stream",
     "text": [
      "\n"
     ]
    }
   ],
   "source": [
    "train_ds = train_ds.filter(lambda x: x['line'] != '')"
   ]
  },
  {
   "cell_type": "code",
   "execution_count": null,
   "metadata": {},
   "outputs": [
    {
     "data": {
      "text/plain": [
       "OrderedDict([('line',\n",
       "              ['First Citizen:',\n",
       "               'Before we proceed any further, hear me speak.',\n",
       "               'All:',\n",
       "               'Speak, speak.',\n",
       "               'First Citizen:',\n",
       "               'You are all resolved rather to die than to famish?',\n",
       "               'All:',\n",
       "               'Resolved. resolved.',\n",
       "               'First Citizen:',\n",
       "               'First, you know Caius Marcius is chief enemy to the people.'])])"
      ]
     },
     "execution_count": null,
     "metadata": {},
     "output_type": "execute_result"
    }
   ],
   "source": [
    "train_ds[:10]"
   ]
  },
  {
   "cell_type": "code",
   "execution_count": null,
   "metadata": {},
   "outputs": [
    {
     "data": {
      "text/html": [
       "<div>\n",
       "<style scoped>\n",
       "    .dataframe tbody tr th:only-of-type {\n",
       "        vertical-align: middle;\n",
       "    }\n",
       "\n",
       "    .dataframe tbody tr th {\n",
       "        vertical-align: top;\n",
       "    }\n",
       "\n",
       "    .dataframe thead th {\n",
       "        text-align: right;\n",
       "    }\n",
       "</style>\n",
       "<table border=\"1\" class=\"dataframe\">\n",
       "  <thead>\n",
       "    <tr style=\"text-align: right;\">\n",
       "      <th></th>\n",
       "      <th>line</th>\n",
       "    </tr>\n",
       "  </thead>\n",
       "  <tbody>\n",
       "    <tr>\n",
       "      <th>0</th>\n",
       "      <td>First Citizen:</td>\n",
       "    </tr>\n",
       "    <tr>\n",
       "      <th>1</th>\n",
       "      <td>Before we proceed any further, hear me speak.</td>\n",
       "    </tr>\n",
       "    <tr>\n",
       "      <th>2</th>\n",
       "      <td>All:</td>\n",
       "    </tr>\n",
       "    <tr>\n",
       "      <th>3</th>\n",
       "      <td>Speak, speak.</td>\n",
       "    </tr>\n",
       "    <tr>\n",
       "      <th>4</th>\n",
       "      <td>First Citizen:</td>\n",
       "    </tr>\n",
       "  </tbody>\n",
       "</table>\n",
       "</div>"
      ],
      "text/plain": [
       "                                            line\n",
       "0                                 First Citizen:\n",
       "1  Before we proceed any further, hear me speak.\n",
       "2                                           All:\n",
       "3                                  Speak, speak.\n",
       "4                                 First Citizen:"
      ]
     },
     "execution_count": null,
     "metadata": {},
     "output_type": "execute_result"
    }
   ],
   "source": [
    "df = train_ds.data.to_pandas()\n",
    "df.head()"
   ]
  },
  {
   "cell_type": "code",
   "execution_count": null,
   "metadata": {},
   "outputs": [],
   "source": [
    "bte = ByteTextTokenizer(is_lm=True, add_bos=True, add_eos=True)"
   ]
  },
  {
   "cell_type": "code",
   "execution_count": null,
   "metadata": {},
   "outputs": [],
   "source": [
    "@patch\n",
    "def create_item(self:LMDataLoader, seq):\n",
    "    if seq>=self.n: raise IndexError\n",
    "    sl = self.last_len if seq//self.bs==self.n_batches-1 else self.seq_len\n",
    "    st = (seq%self.bs)*self.bl + (seq//self.bs)*self.seq_len\n",
    "    txt = self.chunks[st : st+sl+1]    \n",
    "    return LMTensorText(txt[:-1]),txt[1:]\n",
    "    # return LMTensorText(txt[:-1].tolist()+[1]), LMTensorText(txt[1:].tolist()+[1])   ## ADD EOS TOKEN"
   ]
  },
  {
   "cell_type": "code",
   "execution_count": null,
   "metadata": {},
   "outputs": [],
   "source": [
    "cut = int(len(df)*0.8)\n",
    "splits = range_of(df)[:cut], range_of(df[cut:])"
   ]
  },
  {
   "cell_type": "code",
   "execution_count": null,
   "metadata": {},
   "outputs": [],
   "source": [
    "tfms = [attrgetter(\"line\"), bte]\n",
    "dsets = Datasets(df, [tfms, tfms], splits=splits, dl_type=LMDataLoader)"
   ]
  },
  {
   "cell_type": "code",
   "execution_count": null,
   "metadata": {},
   "outputs": [
    {
     "data": {
      "text/plain": [
       "(LMTensorText([  2,  73, 108, 117, 118, 119,  35,  70, 108, 119, 108, 125, 104, 113,\n",
       "          61,   1]),\n",
       " LMTensorText([  2,  73, 108, 117, 118, 119,  35,  70, 108, 119, 108, 125, 104, 113,\n",
       "          61,   1]))"
      ]
     },
     "execution_count": null,
     "metadata": {},
     "output_type": "execute_result"
    }
   ],
   "source": [
    "dsets[0]"
   ]
  },
  {
   "cell_type": "code",
   "execution_count": null,
   "metadata": {},
   "outputs": [],
   "source": [
    "bs,sl = 32,128\n",
    "pad_seq2seq = partial(pad_input, pad_idx=bte.pad_token_id, pad_fields=[0,1])\n",
    "\n",
    "dls = dsets.dataloaders(bs=bs, seq_len=sl, before_batch=pad_seq2seq)"
   ]
  },
  {
   "cell_type": "code",
   "execution_count": null,
   "metadata": {},
   "outputs": [
    {
     "data": {
      "text/html": [
       "<table border=\"1\" class=\"dataframe\">\n",
       "  <thead>\n",
       "    <tr style=\"text-align: right;\">\n",
       "      <th></th>\n",
       "      <th>text</th>\n",
       "      <th>text_</th>\n",
       "    </tr>\n",
       "  </thead>\n",
       "  <tbody>\n",
       "    <tr>\n",
       "      <th>0</th>\n",
       "      <td>&lt;bos&gt;HERMIONE:&lt;eos&gt;&lt;bos&gt;JULIET:&lt;eos&gt;&lt;bos&gt;LADY GREY:&lt;eos&gt;&lt;bos&gt;O, now, let Richmond and Elizabeth,&lt;eos&gt;&lt;bos&gt;What then, sir?&lt;eos&gt;&lt;bos&gt;How not your own desire?&lt;eos&gt;&lt;bos&gt;DORCAS:&lt;eos&gt;&lt;bos&gt;ROMEO:</td>\n",
       "      <td>HERMIONE:&lt;eos&gt;&lt;bos&gt;JULIET:&lt;eos&gt;&lt;bos&gt;LADY GREY:&lt;eos&gt;&lt;bos&gt;O, now, let Richmond and Elizabeth,&lt;eos&gt;&lt;bos&gt;What then, sir?&lt;eos&gt;&lt;bos&gt;How not your own desire?&lt;eos&gt;&lt;bos&gt;DORCAS:&lt;eos&gt;&lt;bos&gt;ROMEO:&lt;eos&gt;</td>\n",
       "    </tr>\n",
       "    <tr>\n",
       "      <th>1</th>\n",
       "      <td>ight.&lt;eos&gt;&lt;bos&gt;For which my sinews shall be stretch'd upon him.&lt;eos&gt;&lt;bos&gt;suitors have strong breaths: they shall know we&lt;eos&gt;&lt;bos&gt;And to the battle came</td>\n",
       "      <td>ght.&lt;eos&gt;&lt;bos&gt;For which my sinews shall be stretch'd upon him.&lt;eos&gt;&lt;bos&gt;suitors have strong breaths: they shall know we&lt;eos&gt;&lt;bos&gt;And to the battle came</td>\n",
       "    </tr>\n",
       "  </tbody>\n",
       "</table>"
      ],
      "text/plain": [
       "<IPython.core.display.HTML object>"
      ]
     },
     "metadata": {},
     "output_type": "display_data"
    }
   ],
   "source": [
    "dls.show_batch(max_n=2)"
   ]
  },
  {
   "cell_type": "code",
   "execution_count": null,
   "metadata": {},
   "outputs": [],
   "source": [
    "vocab_sz = bte.vocab_size"
   ]
  },
  {
   "cell_type": "markdown",
   "metadata": {},
   "source": [
    "# TransformerLM training"
   ]
  },
  {
   "cell_type": "code",
   "execution_count": null,
   "metadata": {},
   "outputs": [],
   "source": [
    "import wandb\n",
    "from fastai.callback.wandb import *\n",
    "\n",
    "WANDB_NAME = 'transformer_lm_test'\n",
    "GROUP = 'TEST'\n",
    "NOTES = 'Test TransformerLM on tiny_shakespeare'\n",
    "CONFIG = {}\n",
    "TAGS =['lm','test']\n",
    "\n",
    "wandb.init(reinit=True, project=\"reformer-fastai\", entity=\"fastai_community\", \n",
    "           name=WANDB_NAME, group=GROUP, notes=NOTES,  tags=TAGS)"
   ]
  },
  {
   "cell_type": "code",
   "execution_count": null,
   "metadata": {},
   "outputs": [],
   "source": [
    "learn = Learner(dls, TransformerLM(vocab_sz, 512),\n",
    "                loss_func=CrossEntropyLossFlat(),\n",
    "                metrics=[accuracy, perplexity, bpc]).to_native_fp16()"
   ]
  },
  {
   "cell_type": "code",
   "execution_count": null,
   "metadata": {},
   "outputs": [
    {
     "data": {
      "text/html": [
       ""
      ],
      "text/plain": [
       "<IPython.core.display.HTML object>"
      ]
     },
     "metadata": {},
     "output_type": "display_data"
    },
    {
     "data": {
      "text/plain": [
       "SuggestedLRs(lr_min=0.03019951581954956, lr_steep=0.25118863582611084)"
      ]
     },
     "execution_count": null,
     "metadata": {},
     "output_type": "execute_result"
    },
    {
     "data": {
      "image/png": "[encoded data removed]",
      "text/plain": [
       "<Figure size 432x288 with 1 Axes>"
      ]
     },
     "metadata": {
      "needs_background": "light"
     },
     "output_type": "display_data"
    }
   ],
   "source": [
    "learn.lr_find()"
   ]
  },
  {
   "cell_type": "code",
   "execution_count": null,
   "metadata": {},
   "outputs": [
    {
     "data": {
      "text/html": [
       "<table border=\"1\" class=\"dataframe\">\n",
       "  <thead>\n",
       "    <tr style=\"text-align: left;\">\n",
       "      <th>epoch</th>\n",
       "      <th>train_loss</th>\n",
       "      <th>valid_loss</th>\n",
       "      <th>accuracy</th>\n",
       "      <th>perplexity</th>\n",
       "      <th>time</th>\n",
       "    </tr>\n",
       "  </thead>\n",
       "  <tbody>\n",
       "    <tr>\n",
       "      <td>0</td>\n",
       "      <td>2.988144</td>\n",
       "      <td>2.559395</td>\n",
       "      <td>0.284651</td>\n",
       "      <td>12.927995</td>\n",
       "      <td>00:57</td>\n",
       "    </tr>\n",
       "    <tr>\n",
       "      <td>1</td>\n",
       "      <td>2.362572</td>\n",
       "      <td>2.229906</td>\n",
       "      <td>0.350983</td>\n",
       "      <td>9.298993</td>\n",
       "      <td>00:57</td>\n",
       "    </tr>\n",
       "    <tr>\n",
       "      <td>2</td>\n",
       "      <td>1.996395</td>\n",
       "      <td>1.839022</td>\n",
       "      <td>0.449633</td>\n",
       "      <td>6.290384</td>\n",
       "      <td>00:57</td>\n",
       "    </tr>\n",
       "    <tr>\n",
       "      <td>3</td>\n",
       "      <td>1.757187</td>\n",
       "      <td>1.634609</td>\n",
       "      <td>0.503753</td>\n",
       "      <td>5.127451</td>\n",
       "      <td>00:57</td>\n",
       "    </tr>\n",
       "    <tr>\n",
       "      <td>4</td>\n",
       "      <td>1.626100</td>\n",
       "      <td>1.516681</td>\n",
       "      <td>0.534793</td>\n",
       "      <td>4.557075</td>\n",
       "      <td>00:56</td>\n",
       "    </tr>\n",
       "    <tr>\n",
       "      <td>5</td>\n",
       "      <td>1.539990</td>\n",
       "      <td>1.442528</td>\n",
       "      <td>0.554723</td>\n",
       "      <td>4.231379</td>\n",
       "      <td>00:56</td>\n",
       "    </tr>\n",
       "    <tr>\n",
       "      <td>6</td>\n",
       "      <td>1.483300</td>\n",
       "      <td>1.394562</td>\n",
       "      <td>0.565791</td>\n",
       "      <td>4.033206</td>\n",
       "      <td>00:57</td>\n",
       "    </tr>\n",
       "    <tr>\n",
       "      <td>7</td>\n",
       "      <td>1.428262</td>\n",
       "      <td>1.350040</td>\n",
       "      <td>0.579785</td>\n",
       "      <td>3.857580</td>\n",
       "      <td>00:56</td>\n",
       "    </tr>\n",
       "    <tr>\n",
       "      <td>8</td>\n",
       "      <td>1.395101</td>\n",
       "      <td>1.310936</td>\n",
       "      <td>0.589967</td>\n",
       "      <td>3.709643</td>\n",
       "      <td>00:58</td>\n",
       "    </tr>\n",
       "    <tr>\n",
       "      <td>9</td>\n",
       "      <td>1.364033</td>\n",
       "      <td>1.280257</td>\n",
       "      <td>0.597906</td>\n",
       "      <td>3.597566</td>\n",
       "      <td>00:57</td>\n",
       "    </tr>\n",
       "    <tr>\n",
       "      <td>10</td>\n",
       "      <td>1.331011</td>\n",
       "      <td>1.255029</td>\n",
       "      <td>0.605429</td>\n",
       "      <td>3.507941</td>\n",
       "      <td>00:57</td>\n",
       "    </tr>\n",
       "    <tr>\n",
       "      <td>11</td>\n",
       "      <td>1.306305</td>\n",
       "      <td>1.235332</td>\n",
       "      <td>0.610297</td>\n",
       "      <td>3.439519</td>\n",
       "      <td>00:56</td>\n",
       "    </tr>\n",
       "    <tr>\n",
       "      <td>12</td>\n",
       "      <td>1.286985</td>\n",
       "      <td>1.222026</td>\n",
       "      <td>0.614936</td>\n",
       "      <td>3.394058</td>\n",
       "      <td>00:56</td>\n",
       "    </tr>\n",
       "    <tr>\n",
       "      <td>13</td>\n",
       "      <td>1.274665</td>\n",
       "      <td>1.215512</td>\n",
       "      <td>0.616499</td>\n",
       "      <td>3.372020</td>\n",
       "      <td>00:56</td>\n",
       "    </tr>\n",
       "    <tr>\n",
       "      <td>14</td>\n",
       "      <td>1.268438</td>\n",
       "      <td>1.214790</td>\n",
       "      <td>0.616769</td>\n",
       "      <td>3.369586</td>\n",
       "      <td>00:57</td>\n",
       "    </tr>\n",
       "  </tbody>\n",
       "</table>"
      ],
      "text/plain": [
       "<IPython.core.display.HTML object>"
      ]
     },
     "metadata": {},
     "output_type": "display_data"
    }
   ],
   "source": [
    "learn.fit_one_cycle(15, 5e-4, wd=0.05, cbs=WandbCallback(log_preds=False, log_model=False))"
   ]
  },
  {
   "cell_type": "markdown",
   "metadata": {},
   "source": [
    "# ReversibleLM training"
   ]
  },
  {
   "cell_type": "code",
   "execution_count": null,
   "metadata": {},
   "outputs": [],
   "source": [
    "import wandb\n",
    "from fastai.callback.wandb import *\n",
    "\n",
    "WANDB_NAME = 'reversible_lm_test'\n",
    "GROUP = 'TEST'\n",
    "NOTES = 'Test ReversibleLM on tiny_shakespeare'\n",
    "CONFIG = {}\n",
    "TAGS =['lm','test', 'rev']\n",
    "\n",
    "wandb.init(reinit=True, project=\"reformer-fastai\", entity=\"fastai_community\", \n",
    "           name=WANDB_NAME, group=GROUP, notes=NOTES,  tags=TAGS)"
   ]
  },
  {
   "cell_type": "code",
   "execution_count": null,
   "metadata": {},
   "outputs": [],
   "source": [
    "learn = Learner(dls, ReversibleLM(vocab_sz, 512),\n",
    "                loss_func=CrossEntropyLossFlat(),\n",
    "                metrics=[accuracy, perplexity, bpc],\n",
    "                cbs=TerminateOnNaNCallback()).to_native_fp16()"
   ]
  },
  {
   "cell_type": "code",
   "execution_count": null,
   "metadata": {},
   "outputs": [
    {
     "data": {
      "text/html": [
       ""
      ],
      "text/plain": [
       "<IPython.core.display.HTML object>"
      ]
     },
     "metadata": {},
     "output_type": "display_data"
    },
    {
     "data": {
      "text/plain": [
       "SuggestedLRs(lr_min=0.0019054606556892395, lr_steep=0.0003981071640737355)"
      ]
     },
     "execution_count": null,
     "metadata": {},
     "output_type": "execute_result"
    },
    {
     "data": {
      "image/png": "[encoded data removed]",
      "text/plain": [
       "<Figure size 432x288 with 1 Axes>"
      ]
     },
     "metadata": {
      "needs_background": "light"
     },
     "output_type": "display_data"
    }
   ],
   "source": [
    "learn.lr_find()"
   ]
  },
  {
   "cell_type": "code",
   "execution_count": null,
   "metadata": {},
   "outputs": [
    {
     "data": {
      "text/html": [
       "<table border=\"1\" class=\"dataframe\">\n",
       "  <thead>\n",
       "    <tr style=\"text-align: left;\">\n",
       "      <th>epoch</th>\n",
       "      <th>train_loss</th>\n",
       "      <th>valid_loss</th>\n",
       "      <th>accuracy</th>\n",
       "      <th>perplexity</th>\n",
       "      <th>time</th>\n",
       "    </tr>\n",
       "  </thead>\n",
       "  <tbody>\n",
       "    <tr>\n",
       "      <td>0</td>\n",
       "      <td>2.967855</td>\n",
       "      <td>2.581853</td>\n",
       "      <td>0.279686</td>\n",
       "      <td>13.221617</td>\n",
       "      <td>01:24</td>\n",
       "    </tr>\n",
       "    <tr>\n",
       "      <td>1</td>\n",
       "      <td>2.416025</td>\n",
       "      <td>2.284528</td>\n",
       "      <td>0.334542</td>\n",
       "      <td>9.821053</td>\n",
       "      <td>01:24</td>\n",
       "    </tr>\n",
       "    <tr>\n",
       "      <td>2</td>\n",
       "      <td>2.094429</td>\n",
       "      <td>1.974309</td>\n",
       "      <td>0.411933</td>\n",
       "      <td>7.201643</td>\n",
       "      <td>01:23</td>\n",
       "    </tr>\n",
       "    <tr>\n",
       "      <td>3</td>\n",
       "      <td>1.839166</td>\n",
       "      <td>1.727778</td>\n",
       "      <td>0.479411</td>\n",
       "      <td>5.628135</td>\n",
       "      <td>01:23</td>\n",
       "    </tr>\n",
       "    <tr>\n",
       "      <td>4</td>\n",
       "      <td>1.681004</td>\n",
       "      <td>1.588705</td>\n",
       "      <td>0.517141</td>\n",
       "      <td>4.897405</td>\n",
       "      <td>01:23</td>\n",
       "    </tr>\n",
       "    <tr>\n",
       "      <td>5</td>\n",
       "      <td>1.593781</td>\n",
       "      <td>1.518977</td>\n",
       "      <td>0.533533</td>\n",
       "      <td>4.567548</td>\n",
       "      <td>01:22</td>\n",
       "    </tr>\n",
       "    <tr>\n",
       "      <td>6</td>\n",
       "      <td>1.536284</td>\n",
       "      <td>1.469266</td>\n",
       "      <td>0.545495</td>\n",
       "      <td>4.346044</td>\n",
       "      <td>01:22</td>\n",
       "    </tr>\n",
       "    <tr>\n",
       "      <td>7</td>\n",
       "      <td>1.494793</td>\n",
       "      <td>1.426369</td>\n",
       "      <td>0.556746</td>\n",
       "      <td>4.163553</td>\n",
       "      <td>01:23</td>\n",
       "    </tr>\n",
       "    <tr>\n",
       "      <td>8</td>\n",
       "      <td>1.458909</td>\n",
       "      <td>1.391739</td>\n",
       "      <td>0.566408</td>\n",
       "      <td>4.021838</td>\n",
       "      <td>01:22</td>\n",
       "    </tr>\n",
       "    <tr>\n",
       "      <td>9</td>\n",
       "      <td>1.432291</td>\n",
       "      <td>1.366933</td>\n",
       "      <td>0.573115</td>\n",
       "      <td>3.923298</td>\n",
       "      <td>01:22</td>\n",
       "    </tr>\n",
       "    <tr>\n",
       "      <td>10</td>\n",
       "      <td>1.407541</td>\n",
       "      <td>1.346034</td>\n",
       "      <td>0.577573</td>\n",
       "      <td>3.842158</td>\n",
       "      <td>01:22</td>\n",
       "    </tr>\n",
       "    <tr>\n",
       "      <td>11</td>\n",
       "      <td>1.383341</td>\n",
       "      <td>1.329081</td>\n",
       "      <td>0.582152</td>\n",
       "      <td>3.777572</td>\n",
       "      <td>01:23</td>\n",
       "    </tr>\n",
       "    <tr>\n",
       "      <td>12</td>\n",
       "      <td>1.369961</td>\n",
       "      <td>1.318703</td>\n",
       "      <td>0.585577</td>\n",
       "      <td>3.738568</td>\n",
       "      <td>01:22</td>\n",
       "    </tr>\n",
       "    <tr>\n",
       "      <td>13</td>\n",
       "      <td>1.364362</td>\n",
       "      <td>1.314684</td>\n",
       "      <td>0.586537</td>\n",
       "      <td>3.723576</td>\n",
       "      <td>01:22</td>\n",
       "    </tr>\n",
       "    <tr>\n",
       "      <td>14</td>\n",
       "      <td>1.360103</td>\n",
       "      <td>1.313939</td>\n",
       "      <td>0.586824</td>\n",
       "      <td>3.720801</td>\n",
       "      <td>01:23</td>\n",
       "    </tr>\n",
       "  </tbody>\n",
       "</table>"
      ],
      "text/plain": [
       "<IPython.core.display.HTML object>"
      ]
     },
     "metadata": {},
     "output_type": "display_data"
    }
   ],
   "source": [
    "learn.fit_one_cycle(15, 5e-4, wd=0.05, cbs=WandbCallback(log_preds=False, log_model=False))"
   ]
  },
  {
   "cell_type": "markdown",
   "metadata": {},
   "source": [
    "#LSHLM"
   ]
  },
  {
   "cell_type": "code",
   "execution_count": null,
   "metadata": {},
   "outputs": [
    {
     "data": {
      "application/javascript": [
       "\n",
       "        window._wandbApiKey = new Promise((resolve, reject) => {\n",
       "            function loadScript(url) {\n",
       "            return new Promise(function(resolve, reject) {\n",
       "                let newScript = document.createElement(\"script\");\n",
       "                newScript.onerror = reject;\n",
       "                newScript.onload = resolve;\n",
       "                document.body.appendChild(newScript);\n",
       "                newScript.src = url;\n",
       "            });\n",
       "            }\n",
       "            loadScript(\"https://cdn.jsdelivr.net/npm/postmate/build/postmate.min.js\").then(() => {\n",
       "            const iframe = document.createElement('iframe')\n",
       "            iframe.style.cssText = \"width:0;height:0;border:none\"\n",
       "            document.body.appendChild(iframe)\n",
       "            const handshake = new Postmate({\n",
       "                container: iframe,\n",
       "                url: 'https://wandb.ai/authorize'\n",
       "            });\n",
       "            const timeout = setTimeout(() => reject(\"Couldn't auto authenticate\"), 5000)\n",
       "            handshake.then(function(child) {\n",
       "                child.on('authorize', data => {\n",
       "                    clearTimeout(timeout)\n",
       "                    resolve(data)\n",
       "                });\n",
       "            });\n",
       "            })\n",
       "        });\n",
       "    "
      ],
      "text/plain": [
       "<IPython.core.display.Javascript object>"
      ]
     },
     "metadata": {},
     "output_type": "display_data"
    },
    {
     "name": "stderr",
     "output_type": "stream",
     "text": [
      "\u001b[34m\u001b[1mwandb\u001b[0m: You can find your API key in your browser here: https://wandb.ai/authorize\n"
     ]
    },
    {
     "name": "stdout",
     "output_type": "stream",
     "text": [
      "wandb: Paste an API key from your profile and hit enter: ··········\n"
     ]
    },
    {
     "name": "stderr",
     "output_type": "stream",
     "text": [
      "\u001b[34m\u001b[1mwandb\u001b[0m: Appending key for api.wandb.ai to your netrc file: /root/.netrc\n"
     ]
    },
    {
     "data": {
      "text/html": [
       "\n",
       "                Tracking run with wandb version 0.10.12<br/>\n",
       "                Syncing run <strong style=\"color:#cdcd00\">LSHLM_test</strong> to <a href=\"https://wandb.ai\" target=\"_blank\">Weights & Biases</a> <a href=\"https://docs.wandb.com/integrations/jupyter.html\" target=\"_blank\">(Documentation)</a>.<br/>\n",
       "                Project page: <a href=\"https://wandb.ai/fastai_community/reformer-fastai\" target=\"_blank\">https://wandb.ai/fastai_community/reformer-fastai</a><br/>\n",
       "                Run page: <a href=\"https://wandb.ai/fastai_community/reformer-fastai/runs/2lip5p31\" target=\"_blank\">https://wandb.ai/fastai_community/reformer-fastai/runs/2lip5p31</a><br/>\n",
       "                Run data is saved locally in <code>/content/wandb/run-20210110_000413-2lip5p31</code><br/><br/>\n",
       "            "
      ],
      "text/plain": [
       "<IPython.core.display.HTML object>"
      ]
     },
     "metadata": {},
     "output_type": "display_data"
    },
    {
     "data": {
      "text/html": [
       "<h1>Run(2lip5p31)</h1><p></p><iframe src=\"https://wandb.ai/fastai_community/reformer-fastai/runs/2lip5p31\" style=\"border:none;width:100%;height:400px\"></iframe>"
      ],
      "text/plain": [
       "<wandb.sdk.wandb_run.Run at 0x7efb1048f588>"
      ]
     },
     "execution_count": null,
     "metadata": {},
     "output_type": "execute_result"
    }
   ],
   "source": [
    "## Wandb experiment logging\n",
    "import wandb\n",
    "from fastai.callback.wandb import *\n",
    "\n",
    "WANDB_NAME = 'LSHLM_test'\n",
    "GROUP = 'TEST'\n",
    "NOTES = 'run with LSH attention for comparing memory usage'\n",
    "CONFIG = {}\n",
    "TAGS =['lsh_attn','test']\n",
    "\n",
    "wandb.init(reinit=True, project=\"reformer-fastai\", entity=\"fastai_community\", \n",
    "           name=WANDB_NAME, group=GROUP, notes=NOTES,  tags=TAGS)"
   ]
  },
  {
   "cell_type": "code",
   "execution_count": null,
   "metadata": {},
   "outputs": [],
   "source": [
    "class PadBatchCallback(Callback):\n",
    "    def __init__(self, bucket_size:int=64, val:int=0, y_val:int=-100):\n",
    "        self.mult = 2*bucket_size\n",
    "        self.val, self.y_val = val, y_val\n",
    "    def before_batch(self):\n",
    "        bs, sl = self.x.size()\n",
    "        if sl % self.mult != 0:\n",
    "            pad_ = self.mult - sl%self.mult\n",
    "            self.learn.xb = (F.pad(self.x, (0,pad_), 'constant', self.val), )\n",
    "            self.learn.yb = (F.pad(self.y, (0,pad_), 'constant', self.y_val), )"
   ]
  },
  {
   "cell_type": "code",
   "execution_count": null,
   "metadata": {},
   "outputs": [],
   "source": [
    "learn = Learner(dls, LSHLM(vocab_sz, 512),\n",
    "                loss_func=CrossEntropyLossFlat(),\n",
    "                metrics=[accuracy, perplexity, bpc],\n",
    "                cbs=[TerminateOnNaNCallback(), PadBatchCallback()]).to_fp16()"
   ]
  },
  {
   "cell_type": "code",
   "execution_count": null,
   "metadata": {},
   "outputs": [
    {
     "data": {
      "text/html": [
       ""
      ],
      "text/plain": [
       "<IPython.core.display.HTML object>"
      ]
     },
     "metadata": {},
     "output_type": "display_data"
    },
    {
     "data": {
      "text/plain": [
       "SuggestedLRs(lr_min=0.0033113110810518267, lr_steep=0.00010964782268274575)"
      ]
     },
     "execution_count": null,
     "metadata": {},
     "output_type": "execute_result"
    },
    {
     "data": {
      "image/png": "[encoded data removed]",
      "text/plain": [
       "<Figure size 432x288 with 1 Axes>"
      ]
     },
     "metadata": {
      "needs_background": "light"
     },
     "output_type": "display_data"
    }
   ],
   "source": [
    "learn.lr_find()"
   ]
  },
  {
   "cell_type": "code",
   "execution_count": null,
   "metadata": {},
   "outputs": [
    {
     "data": {
      "text/html": [
       "<table border=\"1\" class=\"dataframe\">\n",
       "  <thead>\n",
       "    <tr style=\"text-align: left;\">\n",
       "      <th>epoch</th>\n",
       "      <th>train_loss</th>\n",
       "      <th>valid_loss</th>\n",
       "      <th>accuracy</th>\n",
       "      <th>perplexity</th>\n",
       "      <th>bpc</th>\n",
       "      <th>time</th>\n",
       "    </tr>\n",
       "  </thead>\n",
       "  <tbody>\n",
       "    <tr>\n",
       "      <td>0</td>\n",
       "      <td>3.119034</td>\n",
       "      <td>2.627049</td>\n",
       "      <td>0.272186</td>\n",
       "      <td>13.832885</td>\n",
       "      <td>3.790030</td>\n",
       "      <td>04:04</td>\n",
       "    </tr>\n",
       "    <tr>\n",
       "      <td>1</td>\n",
       "      <td>2.438121</td>\n",
       "      <td>2.360503</td>\n",
       "      <td>0.304504</td>\n",
       "      <td>10.596285</td>\n",
       "      <td>3.405487</td>\n",
       "      <td>04:04</td>\n",
       "    </tr>\n",
       "    <tr>\n",
       "      <td>2</td>\n",
       "      <td>2.278372</td>\n",
       "      <td>2.225804</td>\n",
       "      <td>0.340393</td>\n",
       "      <td>9.260922</td>\n",
       "      <td>3.211156</td>\n",
       "      <td>04:04</td>\n",
       "    </tr>\n",
       "    <tr>\n",
       "      <td>3</td>\n",
       "      <td>2.081033</td>\n",
       "      <td>1.976060</td>\n",
       "      <td>0.405217</td>\n",
       "      <td>7.214266</td>\n",
       "      <td>2.850852</td>\n",
       "      <td>04:03</td>\n",
       "    </tr>\n",
       "    <tr>\n",
       "      <td>4</td>\n",
       "      <td>1.861557</td>\n",
       "      <td>1.756696</td>\n",
       "      <td>0.464478</td>\n",
       "      <td>5.793265</td>\n",
       "      <td>2.534377</td>\n",
       "      <td>04:03</td>\n",
       "    </tr>\n",
       "    <tr>\n",
       "      <td>5</td>\n",
       "      <td>1.701316</td>\n",
       "      <td>1.613199</td>\n",
       "      <td>0.502792</td>\n",
       "      <td>5.018841</td>\n",
       "      <td>2.327354</td>\n",
       "      <td>04:04</td>\n",
       "    </tr>\n",
       "    <tr>\n",
       "      <td>6</td>\n",
       "      <td>1.600313</td>\n",
       "      <td>1.528892</td>\n",
       "      <td>0.527583</td>\n",
       "      <td>4.613063</td>\n",
       "      <td>2.205725</td>\n",
       "      <td>04:05</td>\n",
       "    </tr>\n",
       "    <tr>\n",
       "      <td>7</td>\n",
       "      <td>1.530835</td>\n",
       "      <td>1.460173</td>\n",
       "      <td>0.543859</td>\n",
       "      <td>4.306706</td>\n",
       "      <td>2.106585</td>\n",
       "      <td>04:05</td>\n",
       "    </tr>\n",
       "    <tr>\n",
       "      <td>8</td>\n",
       "      <td>1.477970</td>\n",
       "      <td>1.410189</td>\n",
       "      <td>0.557953</td>\n",
       "      <td>4.096731</td>\n",
       "      <td>2.034473</td>\n",
       "      <td>04:05</td>\n",
       "    </tr>\n",
       "    <tr>\n",
       "      <td>9</td>\n",
       "      <td>1.435828</td>\n",
       "      <td>1.367821</td>\n",
       "      <td>0.567561</td>\n",
       "      <td>3.926786</td>\n",
       "      <td>1.973349</td>\n",
       "      <td>04:05</td>\n",
       "    </tr>\n",
       "    <tr>\n",
       "      <td>10</td>\n",
       "      <td>1.403903</td>\n",
       "      <td>1.338869</td>\n",
       "      <td>0.575811</td>\n",
       "      <td>3.814726</td>\n",
       "      <td>1.931579</td>\n",
       "      <td>04:05</td>\n",
       "    </tr>\n",
       "    <tr>\n",
       "      <td>11</td>\n",
       "      <td>1.379391</td>\n",
       "      <td>1.318273</td>\n",
       "      <td>0.580556</td>\n",
       "      <td>3.736964</td>\n",
       "      <td>1.901867</td>\n",
       "      <td>04:05</td>\n",
       "    </tr>\n",
       "    <tr>\n",
       "      <td>12</td>\n",
       "      <td>1.359114</td>\n",
       "      <td>1.304079</td>\n",
       "      <td>0.585149</td>\n",
       "      <td>3.684294</td>\n",
       "      <td>1.881388</td>\n",
       "      <td>04:05</td>\n",
       "    </tr>\n",
       "    <tr>\n",
       "      <td>13</td>\n",
       "      <td>1.348083</td>\n",
       "      <td>1.297883</td>\n",
       "      <td>0.586960</td>\n",
       "      <td>3.661535</td>\n",
       "      <td>1.872449</td>\n",
       "      <td>04:05</td>\n",
       "    </tr>\n",
       "    <tr>\n",
       "      <td>14</td>\n",
       "      <td>1.341333</td>\n",
       "      <td>1.296842</td>\n",
       "      <td>0.586909</td>\n",
       "      <td>3.657728</td>\n",
       "      <td>1.870948</td>\n",
       "      <td>04:05</td>\n",
       "    </tr>\n",
       "  </tbody>\n",
       "</table>"
      ],
      "text/plain": [
       "<IPython.core.display.HTML object>"
      ]
     },
     "metadata": {},
     "output_type": "display_data"
    }
   ],
   "source": [
    "learn.fit_one_cycle(15, 5e-4, cbs=[WandbCallback(log_model=False, log_preds=False)])"
   ]
  },
  {
   "cell_type": "code",
   "execution_count": null,
   "metadata": {},
   "outputs": [
    {
     "data": {
      "text/html": [
       ""
      ],
      "text/plain": [
       "<IPython.core.display.HTML object>"
      ]
     },
     "metadata": {},
     "output_type": "display_data"
    },
    {
     "data": {
      "text/plain": [
       "(#4) [3.1783177852630615,0.1849467009305954,24.006336212158203,4.585343360900879]"
      ]
     },
     "execution_count": null,
     "metadata": {},
     "output_type": "execute_result"
    }
   ],
   "source": [
    "learn.model.use_lsh = False\n",
    "learn.validate()"
   ]
  }
 ],
 "metadata": {
  "kernelspec": {
   "display_name": "Python 3",
   "language": "python",
   "name": "python3"
  }
 },
 "nbformat": 4,
 "nbformat_minor": 0
}
