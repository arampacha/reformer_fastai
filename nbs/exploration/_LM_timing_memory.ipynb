{
 "cells": [
  {
   "cell_type": "markdown",
   "metadata": {},
   "source": [
    "<a href=\"https://colab.research.google.com/github/arampacha/reformer_fastai/blob/master/nbs/exploration/_LM_timing.ipynb\" target=\"_parent\"><img src=\"https://colab.research.google.com/assets/colab-badge.svg\" alt=\"Open In Colab\"/></a>"
   ]
  },
  {
   "cell_type": "code",
   "execution_count": null,
   "metadata": {},
   "outputs": [
    {
     "name": "stdout",
     "output_type": "stream",
     "text": [
      "Thu Jan  7 17:26:18 2021       \n",
      "+-----------------------------------------------------------------------------+\n",
      "| NVIDIA-SMI 460.27.04    Driver Version: 418.67       CUDA Version: 10.1     |\n",
      "|-------------------------------+----------------------+----------------------+\n",
      "| GPU  Name        Persistence-M| Bus-Id        Disp.A | Volatile Uncorr. ECC |\n",
      "| Fan  Temp  Perf  Pwr:Usage/Cap|         Memory-Usage | GPU-Util  Compute M. |\n",
      "|                               |                      |               MIG M. |\n",
      "|===============================+======================+======================|\n",
      "|   0  Tesla T4            Off  | 00000000:00:04.0 Off |                    0 |\n",
      "| N/A   50C    P8    10W /  70W |      0MiB / 15079MiB |      0%      Default |\n",
      "|                               |                      |                 ERR! |\n",
      "+-------------------------------+----------------------+----------------------+\n",
      "                                                                               \n",
      "+-----------------------------------------------------------------------------+\n",
      "| Processes:                                                                  |\n",
      "|  GPU   GI   CI        PID   Type   Process name                  GPU Memory |\n",
      "|        ID   ID                                                   Usage      |\n",
      "|=============================================================================|\n",
      "|  No running processes found                                                 |\n",
      "+-----------------------------------------------------------------------------+\n"
     ]
    }
   ],
   "source": [
    "!nvidia-smi"
   ]
  },
  {
   "cell_type": "code",
   "execution_count": null,
   "metadata": {},
   "outputs": [
    {
     "name": "stdout",
     "output_type": "stream",
     "text": [
      "\u001b[K     |████████████████████████████████| 194kB 13.9MB/s \n",
      "\u001b[K     |████████████████████████████████| 163kB 51.1MB/s \n",
      "\u001b[K     |████████████████████████████████| 61kB 12.2MB/s \n",
      "\u001b[K     |████████████████████████████████| 245kB 58.9MB/s \n",
      "\u001b[K     |████████████████████████████████| 17.7MB 190kB/s \n",
      "\u001b[?25h  Building wheel for reformer-fastai (setup.py) ... \u001b[?25l\u001b[?25hdone\n",
      "  Building wheel for my-timesaver-utils (setup.py) ... \u001b[?25l\u001b[?25hdone\n",
      "  Building wheel for pt-memprofile (setup.py) ... \u001b[?25l\u001b[?25hdone\n"
     ]
    }
   ],
   "source": [
    "import sys\n",
    "if 'google.colab' in sys.modules:\n",
    "    !pip install -Uqq fastai==2.1.10 einops datasets\n",
    "    !pip install -qq git+git://github.com/arampacha/reformer_fastai.git\n",
    "    !pip install -qq git+git://github.com/butchland/my_timesaver_utils.git\n",
    "    !pip install -qq git+git://github.com/arampacha/pt_memprofile.git"
   ]
  },
  {
   "cell_type": "code",
   "execution_count": null,
   "metadata": {},
   "outputs": [],
   "source": [
    "from fastai.text.all import *"
   ]
  },
  {
   "cell_type": "code",
   "execution_count": null,
   "metadata": {},
   "outputs": [
    {
     "name": "stdout",
     "output_type": "stream",
     "text": [
      "No module named 'axial_positional_embedding'\n"
     ]
    }
   ],
   "source": [
    "from reformer_fastai.tokenizers import ByteTextTokenizer\n",
    "from reformer_fastai.transformer import TransformerLM\n",
    "from reformer_fastai.reformer import ReversibleLM\n",
    "from reformer_fastai.metrics import bpc\n",
    "from reformer_fastai.core import total_params\n",
    "from my_timesaver_utils.all import MyProfileCallback\n",
    "from pt_memprofile.core import MemStatsCallback"
   ]
  },
  {
   "cell_type": "markdown",
   "metadata": {},
   "source": [
    "## Prepare data"
   ]
  },
  {
   "cell_type": "code",
   "execution_count": null,
   "metadata": {},
   "outputs": [
    {
     "data": {
      "application/vnd.jupyter.widget-view+json": {
       "model_id": "2bf0368404744ee5ae314e7ef9c2b5e9",
       "version_major": 2,
       "version_minor": 0
      },
      "text/plain": [
       "HBox(children=(FloatProgress(value=0.0, description='Downloading', max=1657.0, style=ProgressStyle(description…"
      ]
     },
     "metadata": {
      "tags": []
     },
     "output_type": "display_data"
    },
    {
     "name": "stdout",
     "output_type": "stream",
     "text": [
      "\n"
     ]
    },
    {
     "data": {
      "application/vnd.jupyter.widget-view+json": {
       "model_id": "d55124018b614e82b73d659f50813eac",
       "version_major": 2,
       "version_minor": 0
      },
      "text/plain": [
       "HBox(children=(FloatProgress(value=0.0, description='Downloading', max=908.0, style=ProgressStyle(description_…"
      ]
     },
     "metadata": {
      "tags": []
     },
     "output_type": "display_data"
    },
    {
     "name": "stderr",
     "output_type": "stream",
     "text": [
      "Using custom data configuration default\n"
     ]
    },
    {
     "name": "stdout",
     "output_type": "stream",
     "text": [
      "\n",
      "Downloading and preparing dataset tiny_shakespeare/default (download: 1.06 MiB, generated: 1.06 MiB, post-processed: Unknown size, total: 2.13 MiB) to /root/.cache/huggingface/datasets/tiny_shakespeare/default/1.0.0/da11b9a200ca715af415094b34d5c956170f184cb3a58d7789680cf81bede955...\n"
     ]
    },
    {
     "data": {
      "application/vnd.jupyter.widget-view+json": {
       "model_id": "0b3d7480aeb749a8bb6963de48620873",
       "version_major": 2,
       "version_minor": 0
      },
      "text/plain": [
       "HBox(children=(FloatProgress(value=0.0, description='Downloading', max=435071.0, style=ProgressStyle(descripti…"
      ]
     },
     "metadata": {
      "tags": []
     },
     "output_type": "display_data"
    },
    {
     "name": "stdout",
     "output_type": "stream",
     "text": [
      "\n"
     ]
    },
    {
     "data": {
      "application/vnd.jupyter.widget-view+json": {
       "model_id": "4601517e94004c8e8c21d31071f1f043",
       "version_major": 2,
       "version_minor": 0
      },
      "text/plain": [
       "HBox(children=(FloatProgress(value=1.0, bar_style='info', max=1.0), HTML(value='')))"
      ]
     },
     "metadata": {
      "tags": []
     },
     "output_type": "display_data"
    },
    {
     "name": "stdout",
     "output_type": "stream",
     "text": [
      "\r"
     ]
    },
    {
     "data": {
      "application/vnd.jupyter.widget-view+json": {
       "model_id": "a96115ec1ab942d89a56d068f9a8fb6c",
       "version_major": 2,
       "version_minor": 0
      },
      "text/plain": [
       "HBox(children=(FloatProgress(value=1.0, bar_style='info', max=1.0), HTML(value='')))"
      ]
     },
     "metadata": {
      "tags": []
     },
     "output_type": "display_data"
    },
    {
     "name": "stdout",
     "output_type": "stream",
     "text": [
      "\r"
     ]
    },
    {
     "data": {
      "application/vnd.jupyter.widget-view+json": {
       "model_id": "a732fa73ed9149bb8b6a0466064da805",
       "version_major": 2,
       "version_minor": 0
      },
      "text/plain": [
       "HBox(children=(FloatProgress(value=1.0, bar_style='info', max=1.0), HTML(value='')))"
      ]
     },
     "metadata": {
      "tags": []
     },
     "output_type": "display_data"
    },
    {
     "name": "stdout",
     "output_type": "stream",
     "text": [
      "Dataset tiny_shakespeare downloaded and prepared to /root/.cache/huggingface/datasets/tiny_shakespeare/default/1.0.0/da11b9a200ca715af415094b34d5c956170f184cb3a58d7789680cf81bede955. Subsequent calls will reuse this data.\n"
     ]
    }
   ],
   "source": [
    "from datasets import load_dataset\n",
    "dataset = load_dataset('tiny_shakespeare')"
   ]
  },
  {
   "cell_type": "code",
   "execution_count": null,
   "metadata": {},
   "outputs": [],
   "source": [
    "train_ds = dataset['train']"
   ]
  },
  {
   "cell_type": "code",
   "execution_count": null,
   "metadata": {},
   "outputs": [],
   "source": [
    "def splitlines(sample):\n",
    "    return {'line':[*sample['text'][0].split('\\n')]}"
   ]
  },
  {
   "cell_type": "code",
   "execution_count": null,
   "metadata": {},
   "outputs": [
    {
     "data": {
      "application/vnd.jupyter.widget-view+json": {
       "model_id": "4812caece1db419b967e3d3c0fa2357b",
       "version_major": 2,
       "version_minor": 0
      },
      "text/plain": [
       "HBox(children=(FloatProgress(value=0.0, max=1.0), HTML(value='')))"
      ]
     },
     "metadata": {
      "tags": []
     },
     "output_type": "display_data"
    },
    {
     "name": "stdout",
     "output_type": "stream",
     "text": [
      "\n"
     ]
    }
   ],
   "source": [
    "train_ds = train_ds.map(splitlines, batched=True, remove_columns=['text'])"
   ]
  },
  {
   "cell_type": "code",
   "execution_count": null,
   "metadata": {},
   "outputs": [
    {
     "data": {
      "application/vnd.jupyter.widget-view+json": {
       "model_id": "52bfbfdb36b14b10934d54df0e711aa0",
       "version_major": 2,
       "version_minor": 0
      },
      "text/plain": [
       "HBox(children=(FloatProgress(value=0.0, max=36.0), HTML(value='')))"
      ]
     },
     "metadata": {
      "tags": []
     },
     "output_type": "display_data"
    },
    {
     "name": "stdout",
     "output_type": "stream",
     "text": [
      "\n"
     ]
    }
   ],
   "source": [
    "train_ds = train_ds.filter(lambda x: x['line'] != '')"
   ]
  },
  {
   "cell_type": "code",
   "execution_count": null,
   "metadata": {},
   "outputs": [],
   "source": [
    "df = train_ds.data.to_pandas()\n",
    "# df.head()"
   ]
  },
  {
   "cell_type": "code",
   "execution_count": null,
   "metadata": {},
   "outputs": [],
   "source": [
    "bte = ByteTextTokenizer(is_lm=True, add_bos=True, add_eos=True)\n",
    "vocab_sz = bte.vocab_size"
   ]
  },
  {
   "cell_type": "code",
   "execution_count": null,
   "metadata": {},
   "outputs": [],
   "source": [
    "@patch\n",
    "def create_item(self:LMDataLoader, seq):\n",
    "    if seq>=self.n: raise IndexError\n",
    "    sl = self.last_len if seq//self.bs==self.n_batches-1 else self.seq_len\n",
    "    st = (seq%self.bs)*self.bl + (seq//self.bs)*self.seq_len\n",
    "    txt = self.chunks[st : st+sl+1]    \n",
    "    return LMTensorText(txt[:-1]),txt[1:]"
   ]
  },
  {
   "cell_type": "code",
   "execution_count": null,
   "metadata": {},
   "outputs": [],
   "source": [
    "cut = int(len(df)*0.8)\n",
    "splits = range_of(df)[:cut], range_of(df[cut:])"
   ]
  },
  {
   "cell_type": "code",
   "execution_count": null,
   "metadata": {},
   "outputs": [],
   "source": [
    "tfms = [attrgetter(\"line\"), bte]\n",
    "dsets = Datasets(df, [tfms, tfms], splits=splits, dl_type=LMDataLoader)"
   ]
  },
  {
   "cell_type": "code",
   "execution_count": null,
   "metadata": {},
   "outputs": [],
   "source": [
    "bs,sl = 16,128\n",
    "pad_seq2seq = partial(pad_input, pad_idx=bte.pad_token_id, pad_fields=[0,1])\n",
    "\n",
    "dls = dsets.dataloaders(bs=bs, seq_len=sl, before_batch=pad_seq2seq)"
   ]
  },
  {
   "cell_type": "code",
   "execution_count": null,
   "metadata": {},
   "outputs": [
    {
     "data": {
      "text/html": [
       "<table border=\"1\" class=\"dataframe\">\n",
       "  <thead>\n",
       "    <tr style=\"text-align: right;\">\n",
       "      <th></th>\n",
       "      <th>text</th>\n",
       "      <th>text_</th>\n",
       "    </tr>\n",
       "  </thead>\n",
       "  <tbody>\n",
       "    <tr>\n",
       "      <th>0</th>\n",
       "      <td>&lt;bos&gt;To do this ruthless piece of butchery,&lt;eos&gt;&lt;bos&gt;Seek you to seize and gripe into your hands&lt;eos&gt;&lt;bos&gt;I wish I had a cause to seek him there,&lt;eos&gt;&lt;bos&gt;B</td>\n",
       "      <td>To do this ruthless piece of butchery,&lt;eos&gt;&lt;bos&gt;Seek you to seize and gripe into your hands&lt;eos&gt;&lt;bos&gt;I wish I had a cause to seek him there,&lt;eos&gt;&lt;bos&gt;BU</td>\n",
       "    </tr>\n",
       "    <tr>\n",
       "      <th>1</th>\n",
       "      <td>st to my soul,&lt;eos&gt;&lt;bos&gt;My brother was too careless of his charge.&lt;eos&gt;&lt;bos&gt;And I to Norfolk with my followers.&lt;eos&gt;&lt;bos&gt;Pardon me, Margaret; pardon me,</td>\n",
       "      <td>t to my soul,&lt;eos&gt;&lt;bos&gt;My brother was too careless of his charge.&lt;eos&gt;&lt;bos&gt;And I to Norfolk with my followers.&lt;eos&gt;&lt;bos&gt;Pardon me, Margaret; pardon me,</td>\n",
       "    </tr>\n",
       "  </tbody>\n",
       "</table>"
      ],
      "text/plain": [
       "<IPython.core.display.HTML object>"
      ]
     },
     "metadata": {
      "tags": []
     },
     "output_type": "display_data"
    }
   ],
   "source": [
    "dls.show_batch(max_n=2)"
   ]
  },
  {
   "cell_type": "markdown",
   "metadata": {},
   "source": [
    "## TransformerLM timing"
   ]
  },
  {
   "cell_type": "code",
   "execution_count": null,
   "metadata": {},
   "outputs": [
    {
     "data": {
      "text/plain": [
       "(19297027, True)"
      ]
     },
     "execution_count": null,
     "metadata": {
      "tags": []
     },
     "output_type": "execute_result"
    }
   ],
   "source": [
    "learn = Learner(dls, TransformerLM(vocab_sz, 512),\n",
    "                loss_func=CrossEntropyLossFlat(),\n",
    "                metrics=[accuracy, perplexity, bpc]).to_fp16()\n",
    "total_params(learn.model)"
   ]
  },
  {
   "cell_type": "markdown",
   "metadata": {},
   "source": [
    "### Memory"
   ]
  },
  {
   "cell_type": "code",
   "execution_count": null,
   "metadata": {},
   "outputs": [
    {
     "data": {
      "text/html": [
       "<table border=\"1\" class=\"dataframe\">\n",
       "  <thead>\n",
       "    <tr style=\"text-align: left;\">\n",
       "      <th>epoch</th>\n",
       "      <th>train_loss</th>\n",
       "      <th>valid_loss</th>\n",
       "      <th>accuracy</th>\n",
       "      <th>perplexity</th>\n",
       "      <th>bpc</th>\n",
       "      <th>time</th>\n",
       "    </tr>\n",
       "  </thead>\n",
       "  <tbody>\n",
       "    <tr>\n",
       "      <td>0</td>\n",
       "      <td>00:01</td>\n",
       "    </tr>\n",
       "  </tbody>\n",
       "</table>"
      ],
      "text/plain": [
       "<IPython.core.display.HTML object>"
      ]
     },
     "metadata": {
      "tags": []
     },
     "output_type": "display_data"
    }
   ],
   "source": [
    "learn = learn.add_cb(MemStatsCallback())\n",
    "learn.fit_one_cycle(1, 5e-4, cbs=ShortEpochCallback())"
   ]
  },
  {
   "cell_type": "code",
   "execution_count": null,
   "metadata": {},
   "outputs": [
    {
     "data": {
      "text/html": [
       "<div>\n",
       "<style scoped>\n",
       "    .dataframe tbody tr th:only-of-type {\n",
       "        vertical-align: middle;\n",
       "    }\n",
       "\n",
       "    .dataframe tbody tr th {\n",
       "        vertical-align: top;\n",
       "    }\n",
       "\n",
       "    .dataframe thead th {\n",
       "        text-align: right;\n",
       "    }\n",
       "</style>\n",
       "<table border=\"1\" class=\"dataframe\">\n",
       "  <thead>\n",
       "    <tr style=\"text-align: right;\">\n",
       "      <th></th>\n",
       "      <th>layer_idx</th>\n",
       "      <th>call_idx</th>\n",
       "      <th>layer_type</th>\n",
       "      <th>experiment</th>\n",
       "      <th>hook_type</th>\n",
       "      <th>mem_all</th>\n",
       "      <th>mem_reservd</th>\n",
       "      <th>input_shape</th>\n",
       "      <th>output_shape</th>\n",
       "    </tr>\n",
       "  </thead>\n",
       "  <tbody>\n",
       "    <tr>\n",
       "      <th>0</th>\n",
       "      <td>0</td>\n",
       "      <td>0</td>\n",
       "      <td>Embedding</td>\n",
       "      <td>None</td>\n",
       "      <td>pre</td>\n",
       "      <td>115815936</td>\n",
       "      <td>134217728</td>\n",
       "      <td>(16, 128)</td>\n",
       "      <td>None</td>\n",
       "    </tr>\n",
       "    <tr>\n",
       "      <th>1</th>\n",
       "      <td>0</td>\n",
       "      <td>1</td>\n",
       "      <td>Embedding</td>\n",
       "      <td>None</td>\n",
       "      <td>fwd</td>\n",
       "      <td>117913088</td>\n",
       "      <td>134217728</td>\n",
       "      <td>(16, 128)</td>\n",
       "      <td>(128, 512)</td>\n",
       "    </tr>\n",
       "    <tr>\n",
       "      <th>2</th>\n",
       "      <td>1</td>\n",
       "      <td>2</td>\n",
       "      <td>Embedding</td>\n",
       "      <td>None</td>\n",
       "      <td>pre</td>\n",
       "      <td>117914112</td>\n",
       "      <td>134217728</td>\n",
       "      <td>(128,)</td>\n",
       "      <td>None</td>\n",
       "    </tr>\n",
       "    <tr>\n",
       "      <th>3</th>\n",
       "      <td>1</td>\n",
       "      <td>3</td>\n",
       "      <td>Embedding</td>\n",
       "      <td>None</td>\n",
       "      <td>fwd</td>\n",
       "      <td>118045184</td>\n",
       "      <td>134217728</td>\n",
       "      <td>(128,)</td>\n",
       "      <td>(512,)</td>\n",
       "    </tr>\n",
       "    <tr>\n",
       "      <th>4</th>\n",
       "      <td>2</td>\n",
       "      <td>4</td>\n",
       "      <td>Linear</td>\n",
       "      <td>None</td>\n",
       "      <td>pre</td>\n",
       "      <td>118962688</td>\n",
       "      <td>136314880</td>\n",
       "      <td>(16, 128, 512)</td>\n",
       "      <td>None</td>\n",
       "    </tr>\n",
       "    <tr>\n",
       "      <th>...</th>\n",
       "      <td>...</td>\n",
       "      <td>...</td>\n",
       "      <td>...</td>\n",
       "      <td>...</td>\n",
       "      <td>...</td>\n",
       "      <td>...</td>\n",
       "      <td>...</td>\n",
       "      <td>...</td>\n",
       "      <td>...</td>\n",
       "    </tr>\n",
       "    <tr>\n",
       "      <th>979</th>\n",
       "      <td>42</td>\n",
       "      <td>979</td>\n",
       "      <td>Linear</td>\n",
       "      <td>None</td>\n",
       "      <td>fwd</td>\n",
       "      <td>173342720</td>\n",
       "      <td>538968064</td>\n",
       "      <td>(16, 128, 2048)</td>\n",
       "      <td>(128, 512)</td>\n",
       "    </tr>\n",
       "    <tr>\n",
       "      <th>980</th>\n",
       "      <td>43</td>\n",
       "      <td>980</td>\n",
       "      <td>LayerNorm</td>\n",
       "      <td>None</td>\n",
       "      <td>pre</td>\n",
       "      <td>164954112</td>\n",
       "      <td>538968064</td>\n",
       "      <td>(16, 128, 512)</td>\n",
       "      <td>None</td>\n",
       "    </tr>\n",
       "    <tr>\n",
       "      <th>981</th>\n",
       "      <td>43</td>\n",
       "      <td>981</td>\n",
       "      <td>LayerNorm</td>\n",
       "      <td>None</td>\n",
       "      <td>fwd</td>\n",
       "      <td>167051264</td>\n",
       "      <td>538968064</td>\n",
       "      <td>(16, 128, 512)</td>\n",
       "      <td>(128, 512)</td>\n",
       "    </tr>\n",
       "    <tr>\n",
       "      <th>982</th>\n",
       "      <td>44</td>\n",
       "      <td>982</td>\n",
       "      <td>Linear</td>\n",
       "      <td>None</td>\n",
       "      <td>pre</td>\n",
       "      <td>158662656</td>\n",
       "      <td>538968064</td>\n",
       "      <td>(16, 128, 512)</td>\n",
       "      <td>None</td>\n",
       "    </tr>\n",
       "    <tr>\n",
       "      <th>983</th>\n",
       "      <td>44</td>\n",
       "      <td>983</td>\n",
       "      <td>Linear</td>\n",
       "      <td>None</td>\n",
       "      <td>fwd</td>\n",
       "      <td>160759808</td>\n",
       "      <td>538968064</td>\n",
       "      <td>(16, 128, 512)</td>\n",
       "      <td>(128, 259)</td>\n",
       "    </tr>\n",
       "  </tbody>\n",
       "</table>\n",
       "<p>984 rows × 9 columns</p>\n",
       "</div>"
      ],
      "text/plain": [
       "     layer_idx  call_idx layer_type  ... mem_reservd      input_shape  output_shape\n",
       "0            0         0  Embedding  ...   134217728        (16, 128)          None\n",
       "1            0         1  Embedding  ...   134217728        (16, 128)    (128, 512)\n",
       "2            1         2  Embedding  ...   134217728           (128,)          None\n",
       "3            1         3  Embedding  ...   134217728           (128,)        (512,)\n",
       "4            2         4     Linear  ...   136314880   (16, 128, 512)          None\n",
       "..         ...       ...        ...  ...         ...              ...           ...\n",
       "979         42       979     Linear  ...   538968064  (16, 128, 2048)    (128, 512)\n",
       "980         43       980  LayerNorm  ...   538968064   (16, 128, 512)          None\n",
       "981         43       981  LayerNorm  ...   538968064   (16, 128, 512)    (128, 512)\n",
       "982         44       982     Linear  ...   538968064   (16, 128, 512)          None\n",
       "983         44       983     Linear  ...   538968064   (16, 128, 512)    (128, 259)\n",
       "\n",
       "[984 rows x 9 columns]"
      ]
     },
     "execution_count": null,
     "metadata": {
      "tags": []
     },
     "output_type": "execute_result"
    }
   ],
   "source": [
    "learn.mem_stats.stats"
   ]
  },
  {
   "cell_type": "code",
   "execution_count": null,
   "metadata": {},
   "outputs": [
    {
     "data": {
      "image/png": "[encoded data removed]",
      "text/plain": [
       "<Figure size 432x288 with 1 Axes>"
      ]
     },
     "metadata": {
      "needs_background": "light",
      "tags": []
     },
     "output_type": "display_data"
    }
   ],
   "source": [
    "learn.mem_stats.plot()"
   ]
  },
  {
   "cell_type": "code",
   "execution_count": null,
   "metadata": {},
   "outputs": [],
   "source": [
    "learn.remove_cb(learn.cbs[-1])"
   ]
  },
  {
   "cell_type": "markdown",
   "metadata": {},
   "source": [
    "### Timing"
   ]
  },
  {
   "cell_type": "code",
   "execution_count": null,
   "metadata": {},
   "outputs": [
    {
     "data": {
      "text/html": [
       "<table border=\"1\" class=\"dataframe\">\n",
       "  <thead>\n",
       "    <tr style=\"text-align: left;\">\n",
       "      <th>epoch</th>\n",
       "      <th>train_loss</th>\n",
       "      <th>valid_loss</th>\n",
       "      <th>accuracy</th>\n",
       "      <th>perplexity</th>\n",
       "      <th>bpc</th>\n",
       "      <th>time</th>\n",
       "    </tr>\n",
       "  </thead>\n",
       "  <tbody>\n",
       "    <tr>\n",
       "      <td>0</td>\n",
       "      <td>2.181446</td>\n",
       "      <td>2.073831</td>\n",
       "      <td>0.390167</td>\n",
       "      <td>7.955238</td>\n",
       "      <td>2.991905</td>\n",
       "      <td>00:59</td>\n",
       "    </tr>\n",
       "    <tr>\n",
       "      <td>1</td>\n",
       "      <td>1.851900</td>\n",
       "      <td>1.776508</td>\n",
       "      <td>0.467053</td>\n",
       "      <td>5.909187</td>\n",
       "      <td>2.562960</td>\n",
       "      <td>01:00</td>\n",
       "    </tr>\n",
       "  </tbody>\n",
       "</table>"
      ],
      "text/plain": [
       "<IPython.core.display.HTML object>"
      ]
     },
     "metadata": {
      "tags": []
     },
     "output_type": "display_data"
    }
   ],
   "source": [
    "learn.to_my_profile()\n",
    "learn.fit_one_cycle(2, 5e-4)"
   ]
  },
  {
   "cell_type": "code",
   "execution_count": null,
   "metadata": {},
   "outputs": [
    {
     "name": "stdout",
     "output_type": "stream",
     "text": [
      "fit  called 1 times. max: 120.596 avg: 120.596\n",
      "   epoch  called 2 times. max: 60.942 avg: 60.293\n",
      "      train  called 2 times. max: 52.864 avg: 52.231\n",
      "         train_batch  called 808 times. max: 0.082 avg: 0.058\n",
      "            train_pred  called 808 times. max: 0.016 avg: 0.013\n",
      "            train_loss  called 808 times. max: 0.003 avg: 0.001\n",
      "            train_backward  called 808 times. max: 0.026 avg: 0.021\n",
      "            train_step  called 808 times. max: 0.034 avg: 0.019\n",
      "            train_zero_grad  called 807 times. max: 0.009 avg: 0.005\n",
      "      valid  called 2 times. max: 8.074 avg: 8.054\n",
      "         valid_batch  called 190 times. max: 0.017 avg: 0.015\n",
      "            valid_pred  called 190 times. max: 0.015 avg: 0.013\n",
      "            valid_loss  called 190 times. max: 0.002 avg: 0.001\n"
     ]
    }
   ],
   "source": [
    "learn.my_profile.print_stats()"
   ]
  },
  {
   "cell_type": "code",
   "execution_count": null,
   "metadata": {},
   "outputs": [],
   "source": [
    "learn.my_profile.clear_stats()"
   ]
  },
  {
   "cell_type": "code",
   "execution_count": null,
   "metadata": {},
   "outputs": [],
   "source": [
    "del learn\n",
    "torch.cuda.empty_cache()"
   ]
  },
  {
   "cell_type": "markdown",
   "metadata": {},
   "source": [
    "## ReversibleLM timing"
   ]
  },
  {
   "cell_type": "code",
   "execution_count": null,
   "metadata": {},
   "outputs": [
    {
     "data": {
      "text/plain": [
       "(19298051, True)"
      ]
     },
     "execution_count": null,
     "metadata": {
      "tags": []
     },
     "output_type": "execute_result"
    }
   ],
   "source": [
    "learn = Learner(dls, ReversibleLM(vocab_sz, 512),\n",
    "                loss_func=CrossEntropyLossFlat(),\n",
    "                metrics=[accuracy, perplexity, bpc]).to_fp16()\n",
    "total_params(learn.model)"
   ]
  },
  {
   "cell_type": "markdown",
   "metadata": {},
   "source": [
    "### Memomry"
   ]
  },
  {
   "cell_type": "code",
   "execution_count": null,
   "metadata": {},
   "outputs": [
    {
     "data": {
      "text/html": [
       "<table border=\"1\" class=\"dataframe\">\n",
       "  <thead>\n",
       "    <tr style=\"text-align: left;\">\n",
       "      <th>epoch</th>\n",
       "      <th>train_loss</th>\n",
       "      <th>valid_loss</th>\n",
       "      <th>accuracy</th>\n",
       "      <th>perplexity</th>\n",
       "      <th>bpc</th>\n",
       "      <th>time</th>\n",
       "    </tr>\n",
       "  </thead>\n",
       "  <tbody>\n",
       "    <tr>\n",
       "      <td>0</td>\n",
       "      <td>00:01</td>\n",
       "    </tr>\n",
       "  </tbody>\n",
       "</table>"
      ],
      "text/plain": [
       "<IPython.core.display.HTML object>"
      ]
     },
     "metadata": {
      "tags": []
     },
     "output_type": "display_data"
    }
   ],
   "source": [
    "learn = learn.add_cb(MemStatsCallback())\n",
    "learn.fit_one_cycle(1, 5e-4, cbs=ShortEpochCallback())"
   ]
  },
  {
   "cell_type": "code",
   "execution_count": null,
   "metadata": {},
   "outputs": [
    {
     "data": {
      "text/html": [
       "<div>\n",
       "<style scoped>\n",
       "    .dataframe tbody tr th:only-of-type {\n",
       "        vertical-align: middle;\n",
       "    }\n",
       "\n",
       "    .dataframe tbody tr th {\n",
       "        vertical-align: top;\n",
       "    }\n",
       "\n",
       "    .dataframe thead th {\n",
       "        text-align: right;\n",
       "    }\n",
       "</style>\n",
       "<table border=\"1\" class=\"dataframe\">\n",
       "  <thead>\n",
       "    <tr style=\"text-align: right;\">\n",
       "      <th></th>\n",
       "      <th>layer_idx</th>\n",
       "      <th>call_idx</th>\n",
       "      <th>layer_type</th>\n",
       "      <th>experiment</th>\n",
       "      <th>hook_type</th>\n",
       "      <th>mem_all</th>\n",
       "      <th>mem_reservd</th>\n",
       "      <th>input_shape</th>\n",
       "      <th>output_shape</th>\n",
       "    </tr>\n",
       "  </thead>\n",
       "  <tbody>\n",
       "    <tr>\n",
       "      <th>0</th>\n",
       "      <td>0</td>\n",
       "      <td>0</td>\n",
       "      <td>Embedding</td>\n",
       "      <td>None</td>\n",
       "      <td>pre</td>\n",
       "      <td>115822080</td>\n",
       "      <td>465567744</td>\n",
       "      <td>(16, 128)</td>\n",
       "      <td>None</td>\n",
       "    </tr>\n",
       "    <tr>\n",
       "      <th>1</th>\n",
       "      <td>0</td>\n",
       "      <td>1</td>\n",
       "      <td>Embedding</td>\n",
       "      <td>None</td>\n",
       "      <td>fwd</td>\n",
       "      <td>117919232</td>\n",
       "      <td>465567744</td>\n",
       "      <td>(16, 128)</td>\n",
       "      <td>(128, 512)</td>\n",
       "    </tr>\n",
       "    <tr>\n",
       "      <th>2</th>\n",
       "      <td>1</td>\n",
       "      <td>2</td>\n",
       "      <td>Embedding</td>\n",
       "      <td>None</td>\n",
       "      <td>pre</td>\n",
       "      <td>117920256</td>\n",
       "      <td>465567744</td>\n",
       "      <td>(128,)</td>\n",
       "      <td>None</td>\n",
       "    </tr>\n",
       "    <tr>\n",
       "      <th>3</th>\n",
       "      <td>1</td>\n",
       "      <td>3</td>\n",
       "      <td>Embedding</td>\n",
       "      <td>None</td>\n",
       "      <td>fwd</td>\n",
       "      <td>118051328</td>\n",
       "      <td>465567744</td>\n",
       "      <td>(128,)</td>\n",
       "      <td>(512,)</td>\n",
       "    </tr>\n",
       "    <tr>\n",
       "      <th>4</th>\n",
       "      <td>3</td>\n",
       "      <td>4</td>\n",
       "      <td>Linear</td>\n",
       "      <td>None</td>\n",
       "      <td>pre</td>\n",
       "      <td>123163136</td>\n",
       "      <td>467664896</td>\n",
       "      <td>(16, 128, 512)</td>\n",
       "      <td>None</td>\n",
       "    </tr>\n",
       "    <tr>\n",
       "      <th>...</th>\n",
       "      <td>...</td>\n",
       "      <td>...</td>\n",
       "      <td>...</td>\n",
       "      <td>...</td>\n",
       "      <td>...</td>\n",
       "      <td>...</td>\n",
       "      <td>...</td>\n",
       "      <td>...</td>\n",
       "      <td>...</td>\n",
       "    </tr>\n",
       "    <tr>\n",
       "      <th>2933</th>\n",
       "      <td>86</td>\n",
       "      <td>2933</td>\n",
       "      <td>LayerNorm</td>\n",
       "      <td>None</td>\n",
       "      <td>fwd</td>\n",
       "      <td>173350912</td>\n",
       "      <td>566231040</td>\n",
       "      <td>(16, 128, 512)</td>\n",
       "      <td>(128, 512)</td>\n",
       "    </tr>\n",
       "    <tr>\n",
       "      <th>2934</th>\n",
       "      <td>2</td>\n",
       "      <td>2934</td>\n",
       "      <td>LayerNorm</td>\n",
       "      <td>None</td>\n",
       "      <td>pre</td>\n",
       "      <td>160768000</td>\n",
       "      <td>566231040</td>\n",
       "      <td>(16, 128, 512)</td>\n",
       "      <td>None</td>\n",
       "    </tr>\n",
       "    <tr>\n",
       "      <th>2935</th>\n",
       "      <td>2</td>\n",
       "      <td>2935</td>\n",
       "      <td>LayerNorm</td>\n",
       "      <td>None</td>\n",
       "      <td>fwd</td>\n",
       "      <td>162865152</td>\n",
       "      <td>566231040</td>\n",
       "      <td>(16, 128, 512)</td>\n",
       "      <td>(128, 512)</td>\n",
       "    </tr>\n",
       "    <tr>\n",
       "      <th>2936</th>\n",
       "      <td>87</td>\n",
       "      <td>2936</td>\n",
       "      <td>Linear</td>\n",
       "      <td>None</td>\n",
       "      <td>pre</td>\n",
       "      <td>158670848</td>\n",
       "      <td>566231040</td>\n",
       "      <td>(16, 128, 512)</td>\n",
       "      <td>None</td>\n",
       "    </tr>\n",
       "    <tr>\n",
       "      <th>2937</th>\n",
       "      <td>87</td>\n",
       "      <td>2937</td>\n",
       "      <td>Linear</td>\n",
       "      <td>None</td>\n",
       "      <td>fwd</td>\n",
       "      <td>160718848</td>\n",
       "      <td>566231040</td>\n",
       "      <td>(16, 128, 512)</td>\n",
       "      <td>(128, 259)</td>\n",
       "    </tr>\n",
       "  </tbody>\n",
       "</table>\n",
       "<p>2938 rows × 9 columns</p>\n",
       "</div>"
      ],
      "text/plain": [
       "      layer_idx  call_idx layer_type  ... mem_reservd     input_shape  output_shape\n",
       "0             0         0  Embedding  ...   465567744       (16, 128)          None\n",
       "1             0         1  Embedding  ...   465567744       (16, 128)    (128, 512)\n",
       "2             1         2  Embedding  ...   465567744          (128,)          None\n",
       "3             1         3  Embedding  ...   465567744          (128,)        (512,)\n",
       "4             3         4     Linear  ...   467664896  (16, 128, 512)          None\n",
       "...         ...       ...        ...  ...         ...             ...           ...\n",
       "2933         86      2933  LayerNorm  ...   566231040  (16, 128, 512)    (128, 512)\n",
       "2934          2      2934  LayerNorm  ...   566231040  (16, 128, 512)          None\n",
       "2935          2      2935  LayerNorm  ...   566231040  (16, 128, 512)    (128, 512)\n",
       "2936         87      2936     Linear  ...   566231040  (16, 128, 512)          None\n",
       "2937         87      2937     Linear  ...   566231040  (16, 128, 512)    (128, 259)\n",
       "\n",
       "[2938 rows x 9 columns]"
      ]
     },
     "execution_count": null,
     "metadata": {
      "tags": []
     },
     "output_type": "execute_result"
    }
   ],
   "source": [
    "learn.mem_stats.stats"
   ]
  },
  {
   "cell_type": "code",
   "execution_count": null,
   "metadata": {},
   "outputs": [
    {
     "data": {
      "image/png": "[encoded data removed]",
      "text/plain": [
       "<Figure size 432x288 with 1 Axes>"
      ]
     },
     "metadata": {
      "needs_background": "light",
      "tags": []
     },
     "output_type": "display_data"
    }
   ],
   "source": [
    "learn.mem_stats.plot()"
   ]
  },
  {
   "cell_type": "code",
   "execution_count": null,
   "metadata": {},
   "outputs": [],
   "source": [
    "learn.remove_cb(learn.cbs[-1])"
   ]
  },
  {
   "cell_type": "markdown",
   "metadata": {},
   "source": [
    "### Timing"
   ]
  },
  {
   "cell_type": "code",
   "execution_count": null,
   "metadata": {},
   "outputs": [
    {
     "data": {
      "text/html": [
       "<table border=\"1\" class=\"dataframe\">\n",
       "  <thead>\n",
       "    <tr style=\"text-align: left;\">\n",
       "      <th>epoch</th>\n",
       "      <th>train_loss</th>\n",
       "      <th>valid_loss</th>\n",
       "      <th>accuracy</th>\n",
       "      <th>perplexity</th>\n",
       "      <th>bpc</th>\n",
       "      <th>time</th>\n",
       "    </tr>\n",
       "  </thead>\n",
       "  <tbody>\n",
       "    <tr>\n",
       "      <td>0</td>\n",
       "      <td>2.212161</td>\n",
       "      <td>2.112510</td>\n",
       "      <td>0.381297</td>\n",
       "      <td>8.268970</td>\n",
       "      <td>3.047708</td>\n",
       "      <td>01:03</td>\n",
       "    </tr>\n",
       "    <tr>\n",
       "      <td>1</td>\n",
       "      <td>1.950185</td>\n",
       "      <td>1.895208</td>\n",
       "      <td>0.434343</td>\n",
       "      <td>6.653934</td>\n",
       "      <td>2.734208</td>\n",
       "      <td>01:03</td>\n",
       "    </tr>\n",
       "  </tbody>\n",
       "</table>"
      ],
      "text/plain": [
       "<IPython.core.display.HTML object>"
      ]
     },
     "metadata": {
      "tags": []
     },
     "output_type": "display_data"
    }
   ],
   "source": [
    "learn.to_my_profile()\n",
    "learn.fit_one_cycle(2, 5e-4)"
   ]
  },
  {
   "cell_type": "code",
   "execution_count": null,
   "metadata": {},
   "outputs": [
    {
     "name": "stdout",
     "output_type": "stream",
     "text": [
      "fit  called 1 times. max: 126.122 avg: 126.122\n",
      "   epoch  called 2 times. max: 63.065 avg: 63.055\n",
      "      train  called 2 times. max: 55.011 avg: 54.987\n",
      "         train_batch  called 808 times. max: 0.096 avg: 0.065\n",
      "            train_pred  called 808 times. max: 0.017 avg: 0.012\n",
      "            train_loss  called 808 times. max: 0.002 avg: 0.001\n",
      "            train_backward  called 808 times. max: 0.042 avg: 0.027\n",
      "            train_step  called 808 times. max: 0.030 avg: 0.019\n",
      "            train_zero_grad  called 808 times. max: 0.008 avg: 0.005\n",
      "      valid  called 2 times. max: 8.096 avg: 8.062\n",
      "         valid_batch  called 190 times. max: 0.018 avg: 0.015\n",
      "            valid_pred  called 190 times. max: 0.015 avg: 0.014\n",
      "            valid_loss  called 190 times. max: 0.002 avg: 0.001\n"
     ]
    }
   ],
   "source": [
    "learn.my_profile.print_stats()"
   ]
  },
  {
   "cell_type": "code",
   "execution_count": null,
   "metadata": {},
   "outputs": [],
   "source": [
    "learn.my_profile.clear_stats()"
   ]
  },
  {
   "cell_type": "code",
   "execution_count": null,
   "metadata": {},
   "outputs": [],
   "source": [
    "del learn\n",
    "torch.cuda.empty_cache()"
   ]
  },
  {
   "cell_type": "markdown",
   "metadata": {},
   "source": [
    "### Using Irreversible blocks"
   ]
  },
  {
   "cell_type": "code",
   "execution_count": null,
   "metadata": {},
   "outputs": [
    {
     "data": {
      "text/plain": [
       "(19298051, True)"
      ]
     },
     "execution_count": null,
     "metadata": {
      "tags": []
     },
     "output_type": "execute_result"
    }
   ],
   "source": [
    "learn = Learner(dls, ReversibleLM(vocab_sz, 512, rev_thres=sl+1),\n",
    "                loss_func=CrossEntropyLossFlat(),\n",
    "                metrics=[accuracy, perplexity, bpc]).to_fp16()\n",
    "total_params(learn.model)"
   ]
  },
  {
   "cell_type": "markdown",
   "metadata": {},
   "source": [
    "### Momory"
   ]
  },
  {
   "cell_type": "code",
   "execution_count": null,
   "metadata": {},
   "outputs": [
    {
     "data": {
      "text/html": [
       "<table border=\"1\" class=\"dataframe\">\n",
       "  <thead>\n",
       "    <tr style=\"text-align: left;\">\n",
       "      <th>epoch</th>\n",
       "      <th>train_loss</th>\n",
       "      <th>valid_loss</th>\n",
       "      <th>accuracy</th>\n",
       "      <th>perplexity</th>\n",
       "      <th>bpc</th>\n",
       "      <th>time</th>\n",
       "    </tr>\n",
       "  </thead>\n",
       "  <tbody>\n",
       "    <tr>\n",
       "      <td>0</td>\n",
       "      <td>00:01</td>\n",
       "    </tr>\n",
       "  </tbody>\n",
       "</table>"
      ],
      "text/plain": [
       "<IPython.core.display.HTML object>"
      ]
     },
     "metadata": {
      "tags": []
     },
     "output_type": "display_data"
    }
   ],
   "source": [
    "learn = learn.add_cb(MemStatsCallback())\n",
    "learn.fit_one_cycle(1, 5e-4, cbs=ShortEpochCallback())"
   ]
  },
  {
   "cell_type": "code",
   "execution_count": null,
   "metadata": {},
   "outputs": [
    {
     "data": {
      "image/png": "[encoded data removed]",
      "text/plain": [
       "<Figure size 432x288 with 1 Axes>"
      ]
     },
     "metadata": {
      "needs_background": "light",
      "tags": []
     },
     "output_type": "display_data"
    }
   ],
   "source": [
    "learn.mem_stats.plot()"
   ]
  },
  {
   "cell_type": "code",
   "execution_count": null,
   "metadata": {},
   "outputs": [
    {
     "data": {
      "text/html": [
       "<div>\n",
       "<style scoped>\n",
       "    .dataframe tbody tr th:only-of-type {\n",
       "        vertical-align: middle;\n",
       "    }\n",
       "\n",
       "    .dataframe tbody tr th {\n",
       "        vertical-align: top;\n",
       "    }\n",
       "\n",
       "    .dataframe thead th {\n",
       "        text-align: right;\n",
       "    }\n",
       "</style>\n",
       "<table border=\"1\" class=\"dataframe\">\n",
       "  <thead>\n",
       "    <tr style=\"text-align: right;\">\n",
       "      <th></th>\n",
       "      <th>layer_idx</th>\n",
       "      <th>call_idx</th>\n",
       "      <th>layer_type</th>\n",
       "      <th>experiment</th>\n",
       "      <th>hook_type</th>\n",
       "      <th>mem_all</th>\n",
       "      <th>mem_reservd</th>\n",
       "      <th>input_shape</th>\n",
       "      <th>output_shape</th>\n",
       "    </tr>\n",
       "  </thead>\n",
       "  <tbody>\n",
       "    <tr>\n",
       "      <th>0</th>\n",
       "      <td>0</td>\n",
       "      <td>0</td>\n",
       "      <td>Embedding</td>\n",
       "      <td>None</td>\n",
       "      <td>pre</td>\n",
       "      <td>115822080</td>\n",
       "      <td>796917760</td>\n",
       "      <td>(16, 128)</td>\n",
       "      <td>None</td>\n",
       "    </tr>\n",
       "    <tr>\n",
       "      <th>1</th>\n",
       "      <td>0</td>\n",
       "      <td>1</td>\n",
       "      <td>Embedding</td>\n",
       "      <td>None</td>\n",
       "      <td>fwd</td>\n",
       "      <td>117919232</td>\n",
       "      <td>796917760</td>\n",
       "      <td>(16, 128)</td>\n",
       "      <td>(128, 512)</td>\n",
       "    </tr>\n",
       "    <tr>\n",
       "      <th>2</th>\n",
       "      <td>1</td>\n",
       "      <td>2</td>\n",
       "      <td>Embedding</td>\n",
       "      <td>None</td>\n",
       "      <td>pre</td>\n",
       "      <td>117920256</td>\n",
       "      <td>796917760</td>\n",
       "      <td>(128,)</td>\n",
       "      <td>None</td>\n",
       "    </tr>\n",
       "    <tr>\n",
       "      <th>3</th>\n",
       "      <td>1</td>\n",
       "      <td>3</td>\n",
       "      <td>Embedding</td>\n",
       "      <td>None</td>\n",
       "      <td>fwd</td>\n",
       "      <td>118051328</td>\n",
       "      <td>796917760</td>\n",
       "      <td>(128,)</td>\n",
       "      <td>(512,)</td>\n",
       "    </tr>\n",
       "    <tr>\n",
       "      <th>4</th>\n",
       "      <td>3</td>\n",
       "      <td>4</td>\n",
       "      <td>Linear</td>\n",
       "      <td>None</td>\n",
       "      <td>pre</td>\n",
       "      <td>123163136</td>\n",
       "      <td>799014912</td>\n",
       "      <td>(16, 128, 512)</td>\n",
       "      <td>None</td>\n",
       "    </tr>\n",
       "    <tr>\n",
       "      <th>...</th>\n",
       "      <td>...</td>\n",
       "      <td>...</td>\n",
       "      <td>...</td>\n",
       "      <td>...</td>\n",
       "      <td>...</td>\n",
       "      <td>...</td>\n",
       "      <td>...</td>\n",
       "      <td>...</td>\n",
       "      <td>...</td>\n",
       "    </tr>\n",
       "    <tr>\n",
       "      <th>1925</th>\n",
       "      <td>86</td>\n",
       "      <td>1925</td>\n",
       "      <td>LayerNorm</td>\n",
       "      <td>None</td>\n",
       "      <td>fwd</td>\n",
       "      <td>173350912</td>\n",
       "      <td>1222639616</td>\n",
       "      <td>(16, 128, 512)</td>\n",
       "      <td>(128, 512)</td>\n",
       "    </tr>\n",
       "    <tr>\n",
       "      <th>1926</th>\n",
       "      <td>2</td>\n",
       "      <td>1926</td>\n",
       "      <td>LayerNorm</td>\n",
       "      <td>None</td>\n",
       "      <td>pre</td>\n",
       "      <td>160768000</td>\n",
       "      <td>1222639616</td>\n",
       "      <td>(16, 128, 512)</td>\n",
       "      <td>None</td>\n",
       "    </tr>\n",
       "    <tr>\n",
       "      <th>1927</th>\n",
       "      <td>2</td>\n",
       "      <td>1927</td>\n",
       "      <td>LayerNorm</td>\n",
       "      <td>None</td>\n",
       "      <td>fwd</td>\n",
       "      <td>162865152</td>\n",
       "      <td>1222639616</td>\n",
       "      <td>(16, 128, 512)</td>\n",
       "      <td>(128, 512)</td>\n",
       "    </tr>\n",
       "    <tr>\n",
       "      <th>1928</th>\n",
       "      <td>87</td>\n",
       "      <td>1928</td>\n",
       "      <td>Linear</td>\n",
       "      <td>None</td>\n",
       "      <td>pre</td>\n",
       "      <td>158670848</td>\n",
       "      <td>1222639616</td>\n",
       "      <td>(16, 128, 512)</td>\n",
       "      <td>None</td>\n",
       "    </tr>\n",
       "    <tr>\n",
       "      <th>1929</th>\n",
       "      <td>87</td>\n",
       "      <td>1929</td>\n",
       "      <td>Linear</td>\n",
       "      <td>None</td>\n",
       "      <td>fwd</td>\n",
       "      <td>160718848</td>\n",
       "      <td>1222639616</td>\n",
       "      <td>(16, 128, 512)</td>\n",
       "      <td>(128, 259)</td>\n",
       "    </tr>\n",
       "  </tbody>\n",
       "</table>\n",
       "<p>1930 rows × 9 columns</p>\n",
       "</div>"
      ],
      "text/plain": [
       "      layer_idx  call_idx layer_type  ... mem_reservd     input_shape  output_shape\n",
       "0             0         0  Embedding  ...   796917760       (16, 128)          None\n",
       "1             0         1  Embedding  ...   796917760       (16, 128)    (128, 512)\n",
       "2             1         2  Embedding  ...   796917760          (128,)          None\n",
       "3             1         3  Embedding  ...   796917760          (128,)        (512,)\n",
       "4             3         4     Linear  ...   799014912  (16, 128, 512)          None\n",
       "...         ...       ...        ...  ...         ...             ...           ...\n",
       "1925         86      1925  LayerNorm  ...  1222639616  (16, 128, 512)    (128, 512)\n",
       "1926          2      1926  LayerNorm  ...  1222639616  (16, 128, 512)          None\n",
       "1927          2      1927  LayerNorm  ...  1222639616  (16, 128, 512)    (128, 512)\n",
       "1928         87      1928     Linear  ...  1222639616  (16, 128, 512)          None\n",
       "1929         87      1929     Linear  ...  1222639616  (16, 128, 512)    (128, 259)\n",
       "\n",
       "[1930 rows x 9 columns]"
      ]
     },
     "execution_count": null,
     "metadata": {
      "tags": []
     },
     "output_type": "execute_result"
    }
   ],
   "source": [
    "learn.mem_stats.stats"
   ]
  },
  {
   "cell_type": "code",
   "execution_count": null,
   "metadata": {},
   "outputs": [],
   "source": [
    "learn.remove_cb(learn.cbs[-1])"
   ]
  },
  {
   "cell_type": "markdown",
   "metadata": {},
   "source": [
    "### Timing"
   ]
  },
  {
   "cell_type": "code",
   "execution_count": null,
   "metadata": {},
   "outputs": [
    {
     "data": {
      "text/html": [
       "<table border=\"1\" class=\"dataframe\">\n",
       "  <thead>\n",
       "    <tr style=\"text-align: left;\">\n",
       "      <th>epoch</th>\n",
       "      <th>train_loss</th>\n",
       "      <th>valid_loss</th>\n",
       "      <th>accuracy</th>\n",
       "      <th>perplexity</th>\n",
       "      <th>bpc</th>\n",
       "      <th>time</th>\n",
       "    </tr>\n",
       "  </thead>\n",
       "  <tbody>\n",
       "    <tr>\n",
       "      <td>0</td>\n",
       "      <td>1.967945</td>\n",
       "      <td>1.867223</td>\n",
       "      <td>0.440203</td>\n",
       "      <td>6.470305</td>\n",
       "      <td>2.693834</td>\n",
       "      <td>00:59</td>\n",
       "    </tr>\n",
       "    <tr>\n",
       "      <td>1</td>\n",
       "      <td>1.756367</td>\n",
       "      <td>1.692682</td>\n",
       "      <td>0.488143</td>\n",
       "      <td>5.434033</td>\n",
       "      <td>2.442024</td>\n",
       "      <td>00:59</td>\n",
       "    </tr>\n",
       "  </tbody>\n",
       "</table>"
      ],
      "text/plain": [
       "<IPython.core.display.HTML object>"
      ]
     },
     "metadata": {
      "tags": []
     },
     "output_type": "display_data"
    }
   ],
   "source": [
    "learn.to_my_profile()\n",
    "learn.fit_one_cycle(2, 5e-4)"
   ]
  },
  {
   "cell_type": "code",
   "execution_count": null,
   "metadata": {},
   "outputs": [
    {
     "name": "stdout",
     "output_type": "stream",
     "text": [
      "fit  called 1 times. max: 118.797 avg: 118.797\n",
      "   epoch  called 2 times. max: 59.404 avg: 59.392\n",
      "      train  called 2 times. max: 51.465 avg: 51.459\n",
      "         train_batch  called 808 times. max: 0.071 avg: 0.058\n",
      "            train_pred  called 808 times. max: 0.016 avg: 0.013\n",
      "            train_loss  called 808 times. max: 0.002 avg: 0.001\n",
      "            train_backward  called 808 times. max: 0.028 avg: 0.020\n",
      "            train_step  called 808 times. max: 0.028 avg: 0.019\n",
      "            train_zero_grad  called 808 times. max: 0.009 avg: 0.005\n",
      "      valid  called 2 times. max: 7.946 avg: 7.928\n",
      "         valid_batch  called 190 times. max: 0.017 avg: 0.015\n",
      "            valid_pred  called 190 times. max: 0.016 avg: 0.014\n",
      "            valid_loss  called 190 times. max: 0.001 avg: 0.001\n"
     ]
    }
   ],
   "source": [
    "learn.my_profile.print_stats()"
   ]
  },
  {
   "cell_type": "code",
   "execution_count": null,
   "metadata": {},
   "outputs": [],
   "source": [
    "learn.my_profile.clear_stats()"
   ]
  },
  {
   "cell_type": "code",
   "execution_count": null,
   "metadata": {},
   "outputs": [],
   "source": [
    "del learn\n",
    "torch.cuda.empty_cache()"
   ]
  },
  {
   "cell_type": "code",
   "execution_count": null,
   "metadata": {},
   "outputs": [],
   "source": []
  }
 ],
 "metadata": {
  "kernelspec": {
   "display_name": "Python 3",
   "language": "python",
   "name": "python3"
  }
 },
 "nbformat": 4,
 "nbformat_minor": 4
}
