{
 "cells": [
  {
   "cell_type": "code",
   "execution_count": null,
   "metadata": {},
   "outputs": [],
   "source": [
    "import torch\n",
    "\n",
    "from fastai.text.all import *\n",
    "from fastai.basics import *\n",
    "\n",
    "from reformer_fastai.reformer import ReformerLM\n",
    "from reformer_fastai.transformer import TransformerLM"
   ]
  },
  {
   "cell_type": "markdown",
   "metadata": {},
   "source": [
    "## Memory utils"
   ]
  },
  {
   "cell_type": "code",
   "execution_count": null,
   "metadata": {},
   "outputs": [],
   "source": [
    "def _get_gpu_mem(synchronize=True, empty_cache=True):\n",
    "    return torch.cuda.memory_allocated(), torch.cuda.memory_reserved()\n",
    "\n",
    "\n",
    "def _generate_mem_hook(handle_ref, mem, idx, hook_type, exp):\n",
    "    def hook(self, *args):\n",
    "        if len(mem) == 0 or mem[-1][\"exp\"] != exp:\n",
    "            call_idx = 0\n",
    "        else:\n",
    "            call_idx = mem[-1][\"call_idx\"] + 1\n",
    "\n",
    "        mem_all, mem_cached = _get_gpu_mem()\n",
    "        torch.cuda.synchronize()\n",
    "        mem.append({\n",
    "            'layer_idx': idx,\n",
    "            'call_idx': call_idx,\n",
    "            'layer_type': type(self).__name__,\n",
    "            'exp': exp,\n",
    "            'hook_type': hook_type,\n",
    "            'mem_all': mem_all,\n",
    "            'mem_cached': mem_cached,\n",
    "        })\n",
    "\n",
    "    return hook\n",
    "\n",
    "\n",
    "def _add_memory_hooks(idx, mod, mem_log, exp, hr):\n",
    "    h = mod.register_forward_pre_hook(_generate_mem_hook(hr, mem_log, idx, 'pre', exp))\n",
    "    hr.append(h)\n",
    "\n",
    "    h = mod.register_forward_hook(_generate_mem_hook(hr, mem_log, idx, 'fwd', exp))\n",
    "    hr.append(h)\n",
    "\n",
    "    h = mod.register_backward_hook(_generate_mem_hook(hr, mem_log, idx, 'bwd', exp))\n",
    "    hr.append(h)\n",
    "\n",
    "\n",
    "def log_mem(model, inp, mem_log=None, exp=None):\n",
    "    mem_log = mem_log or []\n",
    "    exp = exp or f'exp_{len(mem_log)}'\n",
    "    hr = []\n",
    "    for idx, module in enumerate(model.modules()):\n",
    "        _add_memory_hooks(idx, module, mem_log, exp, hr)\n",
    "\n",
    "    try:\n",
    "        out = model(inp)\n",
    "        loss = out.sum()\n",
    "        loss.backward()\n",
    "    finally:\n",
    "        [h.remove() for h in hr]\n",
    "\n",
    "        return mem_log\n"
   ]
  },
  {
   "cell_type": "markdown",
   "metadata": {},
   "source": [
    "## baseline"
   ]
  },
  {
   "cell_type": "code",
   "execution_count": null,
   "metadata": {},
   "outputs": [],
   "source": [
    "bs = 4\n",
    "sl = 128\n",
    "d = 64\n",
    "x = torch.randint(256, (bs, sl)).cuda()"
   ]
  },
  {
   "cell_type": "code",
   "execution_count": null,
   "metadata": {},
   "outputs": [
    {
     "data": {
      "text/plain": [
       "4096"
      ]
     },
     "execution_count": null,
     "metadata": {},
     "output_type": "execute_result"
    }
   ],
   "source": [
    "torch.cuda.memory_allocated()"
   ]
  },
  {
   "cell_type": "code",
   "execution_count": null,
   "metadata": {},
   "outputs": [],
   "source": [
    "model = TransformerLM(256, d, n_layers=4).cuda()"
   ]
  },
  {
   "cell_type": "code",
   "execution_count": null,
   "metadata": {},
   "outputs": [
    {
     "data": {
      "text/plain": [
       "6"
      ]
     },
     "execution_count": null,
     "metadata": {},
     "output_type": "execute_result"
    }
   ],
   "source": [
    "modules = [model.emb] + [m for m in model.encoder.layers] + [model.proj]\n",
    "len(modules)"
   ]
  },
  {
   "cell_type": "code",
   "execution_count": null,
   "metadata": {},
   "outputs": [],
   "source": [
    "mem_log = []\n",
    "hr = []\n",
    "for idx, module in enumerate(modules):\n",
    "    _add_memory_hooks(idx, module, mem_log, 'baseline', hr)"
   ]
  },
  {
   "cell_type": "code",
   "execution_count": null,
   "metadata": {},
   "outputs": [],
   "source": [
    "out = model(x)\n",
    "loss = out.sum()\n",
    "loss.backward()"
   ]
  },
  {
   "cell_type": "code",
   "execution_count": null,
   "metadata": {},
   "outputs": [],
   "source": [
    "[h.remove() for h in hr];"
   ]
  },
  {
   "cell_type": "code",
   "execution_count": null,
   "metadata": {},
   "outputs": [
    {
     "data": {
      "text/html": [
       "<div>\n",
       "<style scoped>\n",
       "    .dataframe tbody tr th:only-of-type {\n",
       "        vertical-align: middle;\n",
       "    }\n",
       "\n",
       "    .dataframe tbody tr th {\n",
       "        vertical-align: top;\n",
       "    }\n",
       "\n",
       "    .dataframe thead th {\n",
       "        text-align: right;\n",
       "    }\n",
       "</style>\n",
       "<table border=\"1\" class=\"dataframe\">\n",
       "  <thead>\n",
       "    <tr style=\"text-align: right;\">\n",
       "      <th></th>\n",
       "      <th>layer_idx</th>\n",
       "      <th>call_idx</th>\n",
       "      <th>layer_type</th>\n",
       "      <th>exp</th>\n",
       "      <th>hook_type</th>\n",
       "      <th>mem_all</th>\n",
       "      <th>mem_cached</th>\n",
       "    </tr>\n",
       "  </thead>\n",
       "  <tbody>\n",
       "    <tr>\n",
       "      <th>0</th>\n",
       "      <td>0</td>\n",
       "      <td>0</td>\n",
       "      <td>TransformerEmbedding</td>\n",
       "      <td>baseline</td>\n",
       "      <td>pre</td>\n",
       "      <td>1011712</td>\n",
       "      <td>2097152</td>\n",
       "    </tr>\n",
       "    <tr>\n",
       "      <th>1</th>\n",
       "      <td>0</td>\n",
       "      <td>1</td>\n",
       "      <td>TransformerEmbedding</td>\n",
       "      <td>baseline</td>\n",
       "      <td>fwd</td>\n",
       "      <td>1176576</td>\n",
       "      <td>2097152</td>\n",
       "    </tr>\n",
       "    <tr>\n",
       "      <th>2</th>\n",
       "      <td>1</td>\n",
       "      <td>2</td>\n",
       "      <td>TransformerEncoderBlock</td>\n",
       "      <td>baseline</td>\n",
       "      <td>pre</td>\n",
       "      <td>1176576</td>\n",
       "      <td>2097152</td>\n",
       "    </tr>\n",
       "    <tr>\n",
       "      <th>3</th>\n",
       "      <td>1</td>\n",
       "      <td>3</td>\n",
       "      <td>TransformerEncoderBlock</td>\n",
       "      <td>baseline</td>\n",
       "      <td>fwd</td>\n",
       "      <td>10343424</td>\n",
       "      <td>27262976</td>\n",
       "    </tr>\n",
       "    <tr>\n",
       "      <th>4</th>\n",
       "      <td>2</td>\n",
       "      <td>4</td>\n",
       "      <td>TransformerEncoderBlock</td>\n",
       "      <td>baseline</td>\n",
       "      <td>pre</td>\n",
       "      <td>10343424</td>\n",
       "      <td>27262976</td>\n",
       "    </tr>\n",
       "    <tr>\n",
       "      <th>5</th>\n",
       "      <td>2</td>\n",
       "      <td>5</td>\n",
       "      <td>TransformerEncoderBlock</td>\n",
       "      <td>baseline</td>\n",
       "      <td>fwd</td>\n",
       "      <td>19510272</td>\n",
       "      <td>29360128</td>\n",
       "    </tr>\n",
       "    <tr>\n",
       "      <th>6</th>\n",
       "      <td>3</td>\n",
       "      <td>6</td>\n",
       "      <td>TransformerEncoderBlock</td>\n",
       "      <td>baseline</td>\n",
       "      <td>pre</td>\n",
       "      <td>19510272</td>\n",
       "      <td>29360128</td>\n",
       "    </tr>\n",
       "    <tr>\n",
       "      <th>7</th>\n",
       "      <td>3</td>\n",
       "      <td>7</td>\n",
       "      <td>TransformerEncoderBlock</td>\n",
       "      <td>baseline</td>\n",
       "      <td>fwd</td>\n",
       "      <td>28677120</td>\n",
       "      <td>31457280</td>\n",
       "    </tr>\n",
       "    <tr>\n",
       "      <th>8</th>\n",
       "      <td>4</td>\n",
       "      <td>8</td>\n",
       "      <td>TransformerEncoderBlock</td>\n",
       "      <td>baseline</td>\n",
       "      <td>pre</td>\n",
       "      <td>28677120</td>\n",
       "      <td>31457280</td>\n",
       "    </tr>\n",
       "    <tr>\n",
       "      <th>9</th>\n",
       "      <td>4</td>\n",
       "      <td>9</td>\n",
       "      <td>TransformerEncoderBlock</td>\n",
       "      <td>baseline</td>\n",
       "      <td>fwd</td>\n",
       "      <td>37843968</td>\n",
       "      <td>56623104</td>\n",
       "    </tr>\n",
       "    <tr>\n",
       "      <th>10</th>\n",
       "      <td>5</td>\n",
       "      <td>10</td>\n",
       "      <td>Linear</td>\n",
       "      <td>baseline</td>\n",
       "      <td>pre</td>\n",
       "      <td>37979136</td>\n",
       "      <td>56623104</td>\n",
       "    </tr>\n",
       "    <tr>\n",
       "      <th>11</th>\n",
       "      <td>5</td>\n",
       "      <td>11</td>\n",
       "      <td>Linear</td>\n",
       "      <td>baseline</td>\n",
       "      <td>fwd</td>\n",
       "      <td>38503424</td>\n",
       "      <td>56623104</td>\n",
       "    </tr>\n",
       "    <tr>\n",
       "      <th>12</th>\n",
       "      <td>5</td>\n",
       "      <td>12</td>\n",
       "      <td>Linear</td>\n",
       "      <td>baseline</td>\n",
       "      <td>bwd</td>\n",
       "      <td>38505472</td>\n",
       "      <td>56623104</td>\n",
       "    </tr>\n",
       "    <tr>\n",
       "      <th>13</th>\n",
       "      <td>4</td>\n",
       "      <td>13</td>\n",
       "      <td>TransformerEncoderBlock</td>\n",
       "      <td>baseline</td>\n",
       "      <td>bwd</td>\n",
       "      <td>38568960</td>\n",
       "      <td>56623104</td>\n",
       "    </tr>\n",
       "    <tr>\n",
       "      <th>14</th>\n",
       "      <td>3</td>\n",
       "      <td>14</td>\n",
       "      <td>TransformerEncoderBlock</td>\n",
       "      <td>baseline</td>\n",
       "      <td>bwd</td>\n",
       "      <td>29604352</td>\n",
       "      <td>56623104</td>\n",
       "    </tr>\n",
       "    <tr>\n",
       "      <th>15</th>\n",
       "      <td>2</td>\n",
       "      <td>15</td>\n",
       "      <td>TransformerEncoderBlock</td>\n",
       "      <td>baseline</td>\n",
       "      <td>bwd</td>\n",
       "      <td>20639744</td>\n",
       "      <td>56623104</td>\n",
       "    </tr>\n",
       "    <tr>\n",
       "      <th>16</th>\n",
       "      <td>1</td>\n",
       "      <td>16</td>\n",
       "      <td>TransformerEncoderBlock</td>\n",
       "      <td>baseline</td>\n",
       "      <td>bwd</td>\n",
       "      <td>11675136</td>\n",
       "      <td>56623104</td>\n",
       "    </tr>\n",
       "    <tr>\n",
       "      <th>17</th>\n",
       "      <td>0</td>\n",
       "      <td>17</td>\n",
       "      <td>TransformerEmbedding</td>\n",
       "      <td>baseline</td>\n",
       "      <td>bwd</td>\n",
       "      <td>2709504</td>\n",
       "      <td>56623104</td>\n",
       "    </tr>\n",
       "  </tbody>\n",
       "</table>\n",
       "</div>"
      ],
      "text/plain": [
       "    layer_idx  call_idx               layer_type       exp hook_type  \\\n",
       "0           0         0     TransformerEmbedding  baseline       pre   \n",
       "1           0         1     TransformerEmbedding  baseline       fwd   \n",
       "2           1         2  TransformerEncoderBlock  baseline       pre   \n",
       "3           1         3  TransformerEncoderBlock  baseline       fwd   \n",
       "4           2         4  TransformerEncoderBlock  baseline       pre   \n",
       "5           2         5  TransformerEncoderBlock  baseline       fwd   \n",
       "6           3         6  TransformerEncoderBlock  baseline       pre   \n",
       "7           3         7  TransformerEncoderBlock  baseline       fwd   \n",
       "8           4         8  TransformerEncoderBlock  baseline       pre   \n",
       "9           4         9  TransformerEncoderBlock  baseline       fwd   \n",
       "10          5        10                   Linear  baseline       pre   \n",
       "11          5        11                   Linear  baseline       fwd   \n",
       "12          5        12                   Linear  baseline       bwd   \n",
       "13          4        13  TransformerEncoderBlock  baseline       bwd   \n",
       "14          3        14  TransformerEncoderBlock  baseline       bwd   \n",
       "15          2        15  TransformerEncoderBlock  baseline       bwd   \n",
       "16          1        16  TransformerEncoderBlock  baseline       bwd   \n",
       "17          0        17     TransformerEmbedding  baseline       bwd   \n",
       "\n",
       "     mem_all  mem_cached  \n",
       "0    1011712     2097152  \n",
       "1    1176576     2097152  \n",
       "2    1176576     2097152  \n",
       "3   10343424    27262976  \n",
       "4   10343424    27262976  \n",
       "5   19510272    29360128  \n",
       "6   19510272    29360128  \n",
       "7   28677120    31457280  \n",
       "8   28677120    31457280  \n",
       "9   37843968    56623104  \n",
       "10  37979136    56623104  \n",
       "11  38503424    56623104  \n",
       "12  38505472    56623104  \n",
       "13  38568960    56623104  \n",
       "14  29604352    56623104  \n",
       "15  20639744    56623104  \n",
       "16  11675136    56623104  \n",
       "17   2709504    56623104  "
      ]
     },
     "execution_count": null,
     "metadata": {},
     "output_type": "execute_result"
    }
   ],
   "source": [
    "df = pd.DataFrame(mem_log)\n",
    "df"
   ]
  },
  {
   "cell_type": "code",
   "execution_count": null,
   "metadata": {},
   "outputs": [
    {
     "data": {
      "image/png": "[encoded data removed]",
      "text/plain": [
       "<Figure size 1080x360 with 1 Axes>"
      ]
     },
     "metadata": {
      "needs_background": "light"
     },
     "output_type": "display_data"
    }
   ],
   "source": [
    "fig, ax = plt.subplots(figsize=(15, 5))\n",
    "plot = df.plot(ax=ax, x='call_idx', y='mem_all', label='baseline')"
   ]
  },
  {
   "cell_type": "code",
   "execution_count": null,
   "metadata": {},
   "outputs": [
    {
     "data": {
      "text/plain": [
       "2540032"
      ]
     },
     "execution_count": null,
     "metadata": {},
     "output_type": "execute_result"
    }
   ],
   "source": [
    "del x, model, modules\n",
    "torch.cuda.empty_cache()\n",
    "torch.cuda.memory_allocated()"
   ]
  },
  {
   "cell_type": "markdown",
   "metadata": {},
   "source": [
    "## revlayers"
   ]
  },
  {
   "cell_type": "code",
   "execution_count": null,
   "metadata": {},
   "outputs": [],
   "source": [
    "bs = 4\n",
    "sl = 128\n",
    "d = 64\n",
    "x = torch.randint(256, (bs, sl)).cuda()"
   ]
  },
  {
   "cell_type": "code",
   "execution_count": null,
   "metadata": {},
   "outputs": [
    {
     "data": {
      "text/plain": [
       "2544128"
      ]
     },
     "execution_count": null,
     "metadata": {},
     "output_type": "execute_result"
    }
   ],
   "source": [
    "torch.cuda.memory_allocated()"
   ]
  },
  {
   "cell_type": "code",
   "execution_count": null,
   "metadata": {},
   "outputs": [],
   "source": [
    "model = ReformerLM(256, d, depth=4).cuda()"
   ]
  },
  {
   "cell_type": "code",
   "execution_count": null,
   "metadata": {},
   "outputs": [
    {
     "data": {
      "text/plain": [
       "6"
      ]
     },
     "execution_count": null,
     "metadata": {},
     "output_type": "execute_result"
    }
   ],
   "source": [
    "modules = [model.emb] + [m for m in model.encoder.layers.blocks] + [model.proj]\n",
    "len(modules)"
   ]
  },
  {
   "cell_type": "code",
   "execution_count": null,
   "metadata": {},
   "outputs": [],
   "source": [
    "mem_log = []\n",
    "hr = []\n",
    "for idx, module in enumerate(modules):\n",
    "    _add_memory_hooks(idx, module, mem_log, 'revlayers', hr)"
   ]
  },
  {
   "cell_type": "code",
   "execution_count": null,
   "metadata": {},
   "outputs": [],
   "source": [
    "out = model(x)\n",
    "loss = out.sum()\n",
    "loss.backward()"
   ]
  },
  {
   "cell_type": "code",
   "execution_count": null,
   "metadata": {},
   "outputs": [],
   "source": [
    "[h.remove() for h in hr];"
   ]
  },
  {
   "cell_type": "code",
   "execution_count": null,
   "metadata": {},
   "outputs": [],
   "source": [
    "df_rev = pd.DataFrame(mem_log)"
   ]
  },
  {
   "cell_type": "code",
   "execution_count": null,
   "metadata": {},
   "outputs": [
    {
     "data": {
      "text/html": [
       "<div>\n",
       "<style scoped>\n",
       "    .dataframe tbody tr th:only-of-type {\n",
       "        vertical-align: middle;\n",
       "    }\n",
       "\n",
       "    .dataframe tbody tr th {\n",
       "        vertical-align: top;\n",
       "    }\n",
       "\n",
       "    .dataframe thead th {\n",
       "        text-align: right;\n",
       "    }\n",
       "</style>\n",
       "<table border=\"1\" class=\"dataframe\">\n",
       "  <thead>\n",
       "    <tr style=\"text-align: right;\">\n",
       "      <th></th>\n",
       "      <th>layer_idx</th>\n",
       "      <th>call_idx</th>\n",
       "      <th>layer_type</th>\n",
       "      <th>exp</th>\n",
       "      <th>hook_type</th>\n",
       "      <th>mem_all</th>\n",
       "      <th>mem_cached</th>\n",
       "    </tr>\n",
       "  </thead>\n",
       "  <tbody>\n",
       "    <tr>\n",
       "      <th>0</th>\n",
       "      <td>0</td>\n",
       "      <td>0</td>\n",
       "      <td>TransformerEmbedding</td>\n",
       "      <td>revlayers</td>\n",
       "      <td>pre</td>\n",
       "      <td>3550720</td>\n",
       "      <td>12582912</td>\n",
       "    </tr>\n",
       "    <tr>\n",
       "      <th>1</th>\n",
       "      <td>0</td>\n",
       "      <td>1</td>\n",
       "      <td>TransformerEmbedding</td>\n",
       "      <td>revlayers</td>\n",
       "      <td>fwd</td>\n",
       "      <td>3682816</td>\n",
       "      <td>12582912</td>\n",
       "    </tr>\n",
       "    <tr>\n",
       "      <th>2</th>\n",
       "      <td>1</td>\n",
       "      <td>2</td>\n",
       "      <td>ReversibleBlock</td>\n",
       "      <td>revlayers</td>\n",
       "      <td>pre</td>\n",
       "      <td>3944960</td>\n",
       "      <td>12582912</td>\n",
       "    </tr>\n",
       "    <tr>\n",
       "      <th>3</th>\n",
       "      <td>1</td>\n",
       "      <td>3</td>\n",
       "      <td>ReversibleBlock</td>\n",
       "      <td>revlayers</td>\n",
       "      <td>fwd</td>\n",
       "      <td>4207104</td>\n",
       "      <td>33554432</td>\n",
       "    </tr>\n",
       "    <tr>\n",
       "      <th>4</th>\n",
       "      <td>2</td>\n",
       "      <td>4</td>\n",
       "      <td>ReversibleBlock</td>\n",
       "      <td>revlayers</td>\n",
       "      <td>pre</td>\n",
       "      <td>4207104</td>\n",
       "      <td>33554432</td>\n",
       "    </tr>\n",
       "    <tr>\n",
       "      <th>5</th>\n",
       "      <td>2</td>\n",
       "      <td>5</td>\n",
       "      <td>ReversibleBlock</td>\n",
       "      <td>revlayers</td>\n",
       "      <td>fwd</td>\n",
       "      <td>4469248</td>\n",
       "      <td>33554432</td>\n",
       "    </tr>\n",
       "    <tr>\n",
       "      <th>6</th>\n",
       "      <td>3</td>\n",
       "      <td>6</td>\n",
       "      <td>ReversibleBlock</td>\n",
       "      <td>revlayers</td>\n",
       "      <td>pre</td>\n",
       "      <td>4207104</td>\n",
       "      <td>33554432</td>\n",
       "    </tr>\n",
       "    <tr>\n",
       "      <th>7</th>\n",
       "      <td>3</td>\n",
       "      <td>7</td>\n",
       "      <td>ReversibleBlock</td>\n",
       "      <td>revlayers</td>\n",
       "      <td>fwd</td>\n",
       "      <td>4469248</td>\n",
       "      <td>33554432</td>\n",
       "    </tr>\n",
       "    <tr>\n",
       "      <th>8</th>\n",
       "      <td>4</td>\n",
       "      <td>8</td>\n",
       "      <td>ReversibleBlock</td>\n",
       "      <td>revlayers</td>\n",
       "      <td>pre</td>\n",
       "      <td>4207104</td>\n",
       "      <td>33554432</td>\n",
       "    </tr>\n",
       "    <tr>\n",
       "      <th>9</th>\n",
       "      <td>4</td>\n",
       "      <td>9</td>\n",
       "      <td>ReversibleBlock</td>\n",
       "      <td>revlayers</td>\n",
       "      <td>fwd</td>\n",
       "      <td>4469248</td>\n",
       "      <td>33554432</td>\n",
       "    </tr>\n",
       "    <tr>\n",
       "      <th>10</th>\n",
       "      <td>5</td>\n",
       "      <td>10</td>\n",
       "      <td>Linear</td>\n",
       "      <td>revlayers</td>\n",
       "      <td>pre</td>\n",
       "      <td>3944960</td>\n",
       "      <td>33554432</td>\n",
       "    </tr>\n",
       "    <tr>\n",
       "      <th>11</th>\n",
       "      <td>5</td>\n",
       "      <td>11</td>\n",
       "      <td>Linear</td>\n",
       "      <td>revlayers</td>\n",
       "      <td>fwd</td>\n",
       "      <td>4469248</td>\n",
       "      <td>33554432</td>\n",
       "    </tr>\n",
       "    <tr>\n",
       "      <th>12</th>\n",
       "      <td>5</td>\n",
       "      <td>12</td>\n",
       "      <td>Linear</td>\n",
       "      <td>revlayers</td>\n",
       "      <td>bwd</td>\n",
       "      <td>1931264</td>\n",
       "      <td>33554432</td>\n",
       "    </tr>\n",
       "    <tr>\n",
       "      <th>13</th>\n",
       "      <td>0</td>\n",
       "      <td>13</td>\n",
       "      <td>TransformerEmbedding</td>\n",
       "      <td>revlayers</td>\n",
       "      <td>bwd</td>\n",
       "      <td>2838528</td>\n",
       "      <td>33554432</td>\n",
       "    </tr>\n",
       "  </tbody>\n",
       "</table>\n",
       "</div>"
      ],
      "text/plain": [
       "    layer_idx  call_idx            layer_type        exp hook_type  mem_all  \\\n",
       "0           0         0  TransformerEmbedding  revlayers       pre  3550720   \n",
       "1           0         1  TransformerEmbedding  revlayers       fwd  3682816   \n",
       "2           1         2       ReversibleBlock  revlayers       pre  3944960   \n",
       "3           1         3       ReversibleBlock  revlayers       fwd  4207104   \n",
       "4           2         4       ReversibleBlock  revlayers       pre  4207104   \n",
       "5           2         5       ReversibleBlock  revlayers       fwd  4469248   \n",
       "6           3         6       ReversibleBlock  revlayers       pre  4207104   \n",
       "7           3         7       ReversibleBlock  revlayers       fwd  4469248   \n",
       "8           4         8       ReversibleBlock  revlayers       pre  4207104   \n",
       "9           4         9       ReversibleBlock  revlayers       fwd  4469248   \n",
       "10          5        10                Linear  revlayers       pre  3944960   \n",
       "11          5        11                Linear  revlayers       fwd  4469248   \n",
       "12          5        12                Linear  revlayers       bwd  1931264   \n",
       "13          0        13  TransformerEmbedding  revlayers       bwd  2838528   \n",
       "\n",
       "    mem_cached  \n",
       "0     12582912  \n",
       "1     12582912  \n",
       "2     12582912  \n",
       "3     33554432  \n",
       "4     33554432  \n",
       "5     33554432  \n",
       "6     33554432  \n",
       "7     33554432  \n",
       "8     33554432  \n",
       "9     33554432  \n",
       "10    33554432  \n",
       "11    33554432  \n",
       "12    33554432  \n",
       "13    33554432  "
      ]
     },
     "execution_count": null,
     "metadata": {},
     "output_type": "execute_result"
    }
   ],
   "source": [
    "df_rev"
   ]
  },
  {
   "cell_type": "code",
   "execution_count": null,
   "metadata": {},
   "outputs": [
    {
     "data": {
      "image/png": "[encoded data removed]",
      "text/plain": [
       "<Figure size 1080x360 with 1 Axes>"
      ]
     },
     "metadata": {
      "needs_background": "light"
     },
     "output_type": "display_data"
    }
   ],
   "source": [
    "fig, ax = plt.subplots(figsize=(15, 5))\n",
    "plot = df.plot(ax=ax, x='call_idx', y='mem_all', label='baseline')\n",
    "plot = df_rev.plot(ax=ax, x='call_idx', y='mem_all', label='revlayers')"
   ]
  },
  {
   "cell_type": "code",
   "execution_count": null,
   "metadata": {},
   "outputs": [
    {
     "data": {
      "text/plain": [
       "2800128"
      ]
     },
     "execution_count": null,
     "metadata": {},
     "output_type": "execute_result"
    }
   ],
   "source": [
    "del x, model, modules\n",
    "torch.cuda.empty_cache()\n",
    "torch.cuda.memory_allocated()"
   ]
  },
  {
   "cell_type": "markdown",
   "metadata": {},
   "source": [
    "## Learner patch"
   ]
  },
  {
   "cell_type": "markdown",
   "metadata": {},
   "source": [
    "Note on `register_backward_hook`:\n",
    "\n",
    "> The current implementation will not have the presented behavior for complex Module that perform many operations. In some failure cases, grad_input and grad_output will only contain the gradients for a subset of the inputs and outputs. For such Module, you should use [torch.Tensor.register_hook()](https://pytorch.org/docs/stable/autograd.html#torch.Tensor.register_hook) directly on a specific input or output to get the required gradients.\n"
   ]
  },
  {
   "cell_type": "code",
   "execution_count": null,
   "metadata": {},
   "outputs": [],
   "source": [
    "from fastai.text.all import *\n",
    "from fastai.basics import *"
   ]
  },
  {
   "cell_type": "code",
   "execution_count": null,
   "metadata": {},
   "outputs": [],
   "source": [
    "# class MemHook(Hook):\n",
    "#     \"Create a 'pre', 'fwd' or 'bwd' memory hook on `m`.\"\n",
    "#     def __init__(self, m, hook_type, idx, call_idx, experiment=None):\n",
    "#         store_attr('hook_type, idx, call_idx, experiment')\n",
    "#         f = {\n",
    "#             'pre':m.register_forward_pre_hook,\n",
    "#             'fwd':m.register_forward_hook,\n",
    "#             'bwd':m.register_backward_hook,\n",
    "#         }\n",
    "#         self.hook = f[hook_type](self.hook_fn)\n",
    "#         self.stored,self.removed = None,False\n",
    "\n",
    "#     def hook_fn(self, module, *args):\n",
    "#         \"Stores module description and memory stats\"\n",
    "#         if len(mem) == 0: call_idx = 0\n",
    "#         else: call_idx = self.stored[-1][\"call_idx\"] + 1\n",
    "#         inp_shape = args[0][0].shape\n",
    "#         out_shape = args[1][0].shape if len(args)>1 else None\n",
    "#         mem_all, mem_res = self._get_mem_stats()\n",
    "#         self.stored = {\n",
    "#             'layer_idx': self.idx,\n",
    "#             'call_idx': call_idx,\n",
    "#             'layer_type': type(module).__name__,\n",
    "#             'experiment': self.experiment,\n",
    "#             'hook_type': self.hook_type,\n",
    "#             'mem_all': mem_all,\n",
    "#             'mem_reserved': mem_res,\n",
    "#             'input_shape': inp_shape,\n",
    "#             'output_shape': out_shape,\n",
    "#         }\n",
    "    \n",
    "#     @staticmethod\n",
    "#     def _get_mem_stats():\n",
    "#         \"Supports only cuda for now\"\n",
    "#         torch.cuda.synchronize()\n",
    "#         return torch.cuda.memory_allocated(), torch.cuda.memory_reserved()\n"
   ]
  },
  {
   "cell_type": "code",
   "execution_count": null,
   "metadata": {},
   "outputs": [],
   "source": [
    "# class MemHooks(Hooks):\n",
    "#     \"Creates hooks wich grab memory stats\"\n",
    "#     def __init__(self, modules):\n",
    "#         self.hooks = []\n",
    "#         for i, m in enumerate(modules): self.register_memory_hooks(m, i)\n",
    "\n",
    "#     def register_memory_hooks(self, m, i):\n",
    "#         for hook_type in ['pre', 'fwd', 'bwd']:\n",
    "#             self.hooks.append(MemHook(m, hook_type, i, len(self.hooks)))\n"
   ]
  },
  {
   "cell_type": "code",
   "execution_count": null,
   "metadata": {},
   "outputs": [
    {
     "data": {
      "text/plain": [
       "(torch.Size([16, 64]), torch.Size([16, 64]))"
      ]
     },
     "execution_count": null,
     "metadata": {},
     "output_type": "execute_result"
    }
   ],
   "source": [
    "#dummy datasets\n",
    "train = [(torch.randint(256, (64,)), torch.randint(256, (64,))) for _ in range(800)]\n",
    "valid = [(torch.randint(256, (64,)), torch.randint(256, (64,))) for _ in range(200)]\n",
    "\n",
    "dls = DataLoaders.from_dsets(train, valid, bs=16, device='cuda')\n",
    "\n",
    "xb, yb = dls.one_batch()\n",
    "xb.shape, yb.shape"
   ]
  },
  {
   "cell_type": "markdown",
   "metadata": {},
   "source": [
    "### V0"
   ]
  },
  {
   "cell_type": "code",
   "execution_count": null,
   "metadata": {},
   "outputs": [],
   "source": [
    "from fastai.callback.all import Hooks\n",
    "\n",
    "def _generate_mem_hook(mem_log, idx, hook_type, experiment):\n",
    "    def hook(module, *args):\n",
    "        inp_shape = args[0][0].shape\n",
    "        out_shape = args[1][0].shape if len(args)>1 else None\n",
    "        if len(mem_log) == 0: call_idx = 0\n",
    "        else: call_idx = mem_log[-1][\"call_idx\"] + 1\n",
    "        mem_all = torch.cuda.memory_allocated()\n",
    "        mem_reserved = torch.cuda.memory_reserved()\n",
    "        torch.cuda.synchronize()\n",
    "        mem_log.append({\n",
    "            'layer_idx': idx,\n",
    "            'call_idx': call_idx,\n",
    "            'layer_type': type(module).__name__,\n",
    "            'experiment': experiment,\n",
    "            'hook_type': hook_type,\n",
    "            'mem_all': mem_all,\n",
    "            'mem_reservd': mem_reserved,\n",
    "            'input_shape': inp_shape,\n",
    "            'output_shape': out_shape,\n",
    "        })\n",
    "    return hook\n",
    "\n",
    "class MemHooks(Hooks):\n",
    "    \"Creates hooks for logging memory stats\"\n",
    "    def __init__(self, modules, name=None):\n",
    "        self.hooks = []\n",
    "        self.mem_log = []\n",
    "        for i, m in enumerate(modules): self.register_memory_hooks(m, i, name=name)\n",
    "\n",
    "    def register_memory_hooks(self, m, i, name=None):\n",
    "        fs = {'pre':m.register_forward_pre_hook,\n",
    "              'fwd':m.register_forward_hook,\n",
    "              'bwd':m.register_backward_hook}\n",
    "        for hook_type in ['pre', 'fwd', 'bwd']:\n",
    "            self.hooks.append(fs[hook_type](_generate_mem_hook(self.mem_log, i, hook_type, name)))"
   ]
  },
  {
   "cell_type": "code",
   "execution_count": null,
   "metadata": {},
   "outputs": [],
   "source": [
    "def profile_memory(learn, plot=True):\n",
    "    with MemHooks(flatten_model(learn.model), type(learn.model).__name__) as h:\n",
    "        xb, yb = learn.dls.one_batch()\n",
    "        self.model.to(self.dls.device)\n",
    "        out = learn.model(xb)\n",
    "        loss = learn.loss_func(out, yb)\n",
    "        loss.backward()\n",
    "        mem_log = pd.DataFrame(h.mem_log, copy=True)\n",
    "    if plot:\n",
    "        plt.plot(mem_log['call_idx'], mem_log['mem_all'])\n",
    "    return mem_log"
   ]
  },
  {
   "cell_type": "code",
   "execution_count": null,
   "metadata": {},
   "outputs": [],
   "source": [
    "@patch\n",
    "def profile_memory(self:Learner, modules=None, plot=True):\n",
    "    modules = ifnone(modules, flatten_model(self.model))\n",
    "    with MemHooks(modules, name=type(self.model).__name__) as h:\n",
    "        xb, yb = self.dls.one_batch()\n",
    "        self.model.to(self.dls.device)\n",
    "        out = self.model(xb)\n",
    "        loss = self.loss_func(out, yb)\n",
    "        loss.backward()\n",
    "        mem_log = pd.DataFrame(h.mem_log, copy=True)\n",
    "    if plot:\n",
    "        plt.plot(mem_log['call_idx'], mem_log['mem_all'], label='mem_profile')\n",
    "    return mem_log"
   ]
  },
  {
   "cell_type": "code",
   "execution_count": null,
   "metadata": {},
   "outputs": [],
   "source": [
    "learn = Learner(dls, TransformerLM(256, 64, n_layers=4), loss_func=CrossEntropyLossFlat())"
   ]
  },
  {
   "cell_type": "code",
   "execution_count": null,
   "metadata": {},
   "outputs": [
    {
     "data": {
      "image/png": "[encoded data removed]",
      "text/plain": [
       "<Figure size 432x288 with 1 Axes>"
      ]
     },
     "metadata": {
      "needs_background": "light"
     },
     "output_type": "display_data"
    }
   ],
   "source": [
    "mem_log = learn.profile_memory()"
   ]
  },
  {
   "cell_type": "code",
   "execution_count": null,
   "metadata": {},
   "outputs": [],
   "source": [
    "del learn\n",
    "torch.cuda.empty_cache()"
   ]
  },
  {
   "cell_type": "code",
   "execution_count": null,
   "metadata": {},
   "outputs": [
    {
     "data": {
      "image/png": "[encoded data removed]",
      "text/plain": [
       "<Figure size 432x288 with 1 Axes>"
      ]
     },
     "metadata": {
      "needs_background": "light"
     },
     "output_type": "display_data"
    }
   ],
   "source": [
    "learn = Learner(dls, ReformerLM(256, 64, depth=4), loss_func=CrossEntropyLossFlat())\n",
    "revmem_log = learn.profile_memory()"
   ]
  },
  {
   "cell_type": "code",
   "execution_count": null,
   "metadata": {},
   "outputs": [
    {
     "data": {
      "text/html": [
       "<div>\n",
       "<style scoped>\n",
       "    .dataframe tbody tr th:only-of-type {\n",
       "        vertical-align: middle;\n",
       "    }\n",
       "\n",
       "    .dataframe tbody tr th {\n",
       "        vertical-align: top;\n",
       "    }\n",
       "\n",
       "    .dataframe thead th {\n",
       "        text-align: right;\n",
       "    }\n",
       "</style>\n",
       "<table border=\"1\" class=\"dataframe\">\n",
       "  <thead>\n",
       "    <tr style=\"text-align: right;\">\n",
       "      <th></th>\n",
       "      <th>layer_idx</th>\n",
       "      <th>call_idx</th>\n",
       "      <th>layer_type</th>\n",
       "      <th>experiment</th>\n",
       "      <th>hook_type</th>\n",
       "      <th>mem_all</th>\n",
       "      <th>mem_reservd</th>\n",
       "      <th>input_shape</th>\n",
       "      <th>output_shape</th>\n",
       "    </tr>\n",
       "  </thead>\n",
       "  <tbody>\n",
       "    <tr>\n",
       "      <th>0</th>\n",
       "      <td>0</td>\n",
       "      <td>0</td>\n",
       "      <td>Embedding</td>\n",
       "      <td>ReformerLM</td>\n",
       "      <td>pre</td>\n",
       "      <td>5854720</td>\n",
       "      <td>18874368</td>\n",
       "      <td>(16, 64)</td>\n",
       "      <td>None</td>\n",
       "    </tr>\n",
       "    <tr>\n",
       "      <th>1</th>\n",
       "      <td>0</td>\n",
       "      <td>1</td>\n",
       "      <td>Embedding</td>\n",
       "      <td>ReformerLM</td>\n",
       "      <td>fwd</td>\n",
       "      <td>6116864</td>\n",
       "      <td>18874368</td>\n",
       "      <td>(16, 64)</td>\n",
       "      <td>(64, 64)</td>\n",
       "    </tr>\n",
       "    <tr>\n",
       "      <th>2</th>\n",
       "      <td>2</td>\n",
       "      <td>2</td>\n",
       "      <td>Embedding</td>\n",
       "      <td>ReformerLM</td>\n",
       "      <td>pre</td>\n",
       "      <td>6117376</td>\n",
       "      <td>18874368</td>\n",
       "      <td>(64,)</td>\n",
       "      <td>None</td>\n",
       "    </tr>\n",
       "    <tr>\n",
       "      <th>3</th>\n",
       "      <td>2</td>\n",
       "      <td>3</td>\n",
       "      <td>Embedding</td>\n",
       "      <td>ReformerLM</td>\n",
       "      <td>fwd</td>\n",
       "      <td>6133760</td>\n",
       "      <td>18874368</td>\n",
       "      <td>(64,)</td>\n",
       "      <td>(64,)</td>\n",
       "    </tr>\n",
       "    <tr>\n",
       "      <th>4</th>\n",
       "      <td>1</td>\n",
       "      <td>4</td>\n",
       "      <td>Dropout</td>\n",
       "      <td>ReformerLM</td>\n",
       "      <td>pre</td>\n",
       "      <td>6117376</td>\n",
       "      <td>18874368</td>\n",
       "      <td>(16, 64, 64)</td>\n",
       "      <td>None</td>\n",
       "    </tr>\n",
       "  </tbody>\n",
       "</table>\n",
       "</div>"
      ],
      "text/plain": [
       "   layer_idx  call_idx layer_type  experiment hook_type  mem_all  mem_reservd  \\\n",
       "0          0         0  Embedding  ReformerLM       pre  5854720     18874368   \n",
       "1          0         1  Embedding  ReformerLM       fwd  6116864     18874368   \n",
       "2          2         2  Embedding  ReformerLM       pre  6117376     18874368   \n",
       "3          2         3  Embedding  ReformerLM       fwd  6133760     18874368   \n",
       "4          1         4    Dropout  ReformerLM       pre  6117376     18874368   \n",
       "\n",
       "    input_shape output_shape  \n",
       "0      (16, 64)         None  \n",
       "1      (16, 64)     (64, 64)  \n",
       "2         (64,)         None  \n",
       "3         (64,)        (64,)  \n",
       "4  (16, 64, 64)         None  "
      ]
     },
     "execution_count": null,
     "metadata": {},
     "output_type": "execute_result"
    }
   ],
   "source": [
    "revmem_log.head()"
   ]
  },
  {
   "cell_type": "markdown",
   "metadata": {},
   "source": [
    "### V1"
   ]
  },
  {
   "cell_type": "markdown",
   "metadata": {},
   "source": [
    "Is this good enough for genral purpose mem profile?"
   ]
  },
  {
   "cell_type": "code",
   "execution_count": null,
   "metadata": {},
   "outputs": [],
   "source": [
    "class MemProfileCallback(Callback):\n",
    "    \"Cancels batch after backward to avoid opt.step()\"\n",
    "    def after_backward(self):\n",
    "        print('Batch canceled')\n",
    "        raise CancelBatchException"
   ]
  },
  {
   "cell_type": "code",
   "execution_count": null,
   "metadata": {},
   "outputs": [],
   "source": [
    "# with MemHooks(flatten_model(learn.model)) as h:\n",
    "#     xb, yb = learn.dls.one_batch()\n",
    "#     out = learn.model(xb)\n",
    "#     loss = learn.loss_func(out, yb)\n",
    "#     loss.backward()\n",
    "#     mem_log = h.stored\n",
    "# mem_data = pd.DataFrame(mem_log)\n",
    "# mem_data.head()"
   ]
  },
  {
   "cell_type": "code",
   "execution_count": null,
   "metadata": {},
   "outputs": [],
   "source": [
    "learn = Learner(dls, TransformerLM(256, 64, n_layers=4), loss_func=CrossEntropyLossFlat())"
   ]
  },
  {
   "cell_type": "code",
   "execution_count": null,
   "metadata": {},
   "outputs": [
    {
     "data": {
      "text/plain": [
       "(#3) [TrainEvalCallback,Recorder,ProgressCallback]"
      ]
     },
     "execution_count": null,
     "metadata": {},
     "output_type": "execute_result"
    }
   ],
   "source": [
    "learn.cbs"
   ]
  },
  {
   "cell_type": "code",
   "execution_count": null,
   "metadata": {},
   "outputs": [],
   "source": [
    "def _with_events(self, f, event_type, ex, final=noop):\n",
    "    try:       self(f'before_{event_type}')       ;f()\n",
    "    except ex: self(f'after_cancel_{event_type}')\n",
    "    finally:   self(f'after_{event_type}')        ;final()\n",
    "\n",
    "def all_batches(self):\n",
    "    self.n_iter = len(self.dl)\n",
    "    for o in enumerate(self.dl): self.one_batch(*o)\n",
    "\n",
    "def _do_one_batch(self):\n",
    "    self.pred = self.model(*self.xb)\n",
    "    self('after_pred')\n",
    "    if len(self.yb): self.loss = self.loss_func(self.pred, *self.yb)\n",
    "    self('after_loss')\n",
    "    if not self.training or not len(self.yb): return\n",
    "    self('before_backward')\n",
    "    self._backward()\n",
    "    self('after_backward')\n",
    "    self._step()\n",
    "    self('after_step')\n",
    "    self.opt.zero_grad()\n",
    "\n",
    "def one_batch(self, i, b):\n",
    "    self.iter = i\n",
    "    self._split(b)\n",
    "    self._with_events(self._do_one_batch, 'batch', CancelBatchException)"
   ]
  },
  {
   "cell_type": "code",
   "execution_count": null,
   "metadata": {},
   "outputs": [],
   "source": [
    "# learn._split(learn.dls.one_batch())\n",
    "# with learn.added_cbs(MemProfileCallback()), learn.no_logging():\n",
    "#     try: learn._do_one_batch()\n",
    "#     except CancelBatchException:\n",
    "#         for p in learn.model.parameters(): p.grad=None"
   ]
  },
  {
   "cell_type": "code",
   "execution_count": null,
   "metadata": {},
   "outputs": [],
   "source": [
    "def profile_memory(learn, plot=True):\n",
    "    with MemHooks(flatten_model(learn.model), type(learn.model).__name__) as h:\n",
    "        learn._split(learn.dls.one_batch())\n",
    "        learn.model.to(learn.dls.device)\n",
    "        with learn.added_cbs(MemProfileCallback()), learn.no_logging():\n",
    "            try: learn._do_one_batch()\n",
    "            except CancelBatchException:\n",
    "                pass\n",
    "                #for p in learn.model.parameters(): p.grad=None\n",
    "        mem_log = pd.DataFrame(h.mem_log, copy=True)\n",
    "    if plot:\n",
    "        plt.plot(mem_log['call_idx'], mem_log['mem_all'])\n",
    "    return mem_log"
   ]
  },
  {
   "cell_type": "code",
   "execution_count": null,
   "metadata": {},
   "outputs": [
    {
     "data": {
      "image/png": "[encoded data removed]",
      "text/plain": [
       "<Figure size 432x288 with 1 Axes>"
      ]
     },
     "metadata": {
      "needs_background": "light"
     },
     "output_type": "display_data"
    }
   ],
   "source": [
    "mem_log = profile_memory(learn)"
   ]
  },
  {
   "cell_type": "code",
   "execution_count": null,
   "metadata": {},
   "outputs": [
    {
     "data": {
      "text/html": [
       "<div>\n",
       "<style scoped>\n",
       "    .dataframe tbody tr th:only-of-type {\n",
       "        vertical-align: middle;\n",
       "    }\n",
       "\n",
       "    .dataframe tbody tr th {\n",
       "        vertical-align: top;\n",
       "    }\n",
       "\n",
       "    .dataframe thead th {\n",
       "        text-align: right;\n",
       "    }\n",
       "</style>\n",
       "<table border=\"1\" class=\"dataframe\">\n",
       "  <thead>\n",
       "    <tr style=\"text-align: right;\">\n",
       "      <th></th>\n",
       "      <th>layer_idx</th>\n",
       "      <th>call_idx</th>\n",
       "      <th>layer_type</th>\n",
       "      <th>experiment</th>\n",
       "      <th>hook_type</th>\n",
       "      <th>mem_all</th>\n",
       "      <th>mem_reservd</th>\n",
       "      <th>input_shape</th>\n",
       "      <th>output_shape</th>\n",
       "    </tr>\n",
       "  </thead>\n",
       "  <tbody>\n",
       "    <tr>\n",
       "      <th>0</th>\n",
       "      <td>0</td>\n",
       "      <td>0</td>\n",
       "      <td>Embedding</td>\n",
       "      <td>TransformerLM</td>\n",
       "      <td>pre</td>\n",
       "      <td>5853696</td>\n",
       "      <td>39845888</td>\n",
       "      <td>(16, 64)</td>\n",
       "      <td>None</td>\n",
       "    </tr>\n",
       "    <tr>\n",
       "      <th>1</th>\n",
       "      <td>0</td>\n",
       "      <td>1</td>\n",
       "      <td>Embedding</td>\n",
       "      <td>TransformerLM</td>\n",
       "      <td>fwd</td>\n",
       "      <td>6115840</td>\n",
       "      <td>39845888</td>\n",
       "      <td>(16, 64)</td>\n",
       "      <td>(64, 64)</td>\n",
       "    </tr>\n",
       "    <tr>\n",
       "      <th>2</th>\n",
       "      <td>2</td>\n",
       "      <td>2</td>\n",
       "      <td>Embedding</td>\n",
       "      <td>TransformerLM</td>\n",
       "      <td>pre</td>\n",
       "      <td>6116352</td>\n",
       "      <td>39845888</td>\n",
       "      <td>(64,)</td>\n",
       "      <td>None</td>\n",
       "    </tr>\n",
       "    <tr>\n",
       "      <th>3</th>\n",
       "      <td>2</td>\n",
       "      <td>3</td>\n",
       "      <td>Embedding</td>\n",
       "      <td>TransformerLM</td>\n",
       "      <td>fwd</td>\n",
       "      <td>6132736</td>\n",
       "      <td>39845888</td>\n",
       "      <td>(64,)</td>\n",
       "      <td>(64,)</td>\n",
       "    </tr>\n",
       "    <tr>\n",
       "      <th>4</th>\n",
       "      <td>1</td>\n",
       "      <td>4</td>\n",
       "      <td>Dropout</td>\n",
       "      <td>TransformerLM</td>\n",
       "      <td>pre</td>\n",
       "      <td>6116352</td>\n",
       "      <td>39845888</td>\n",
       "      <td>(16, 64, 64)</td>\n",
       "      <td>None</td>\n",
       "    </tr>\n",
       "    <tr>\n",
       "      <th>...</th>\n",
       "      <td>...</td>\n",
       "      <td>...</td>\n",
       "      <td>...</td>\n",
       "      <td>...</td>\n",
       "      <td>...</td>\n",
       "      <td>...</td>\n",
       "      <td>...</td>\n",
       "      <td>...</td>\n",
       "      <td>...</td>\n",
       "    </tr>\n",
       "    <tr>\n",
       "      <th>117</th>\n",
       "      <td>57</td>\n",
       "      <td>117</td>\n",
       "      <td>LayerNorm</td>\n",
       "      <td>TransformerLM</td>\n",
       "      <td>fwd</td>\n",
       "      <td>52139008</td>\n",
       "      <td>71303168</td>\n",
       "      <td>(16, 64, 64)</td>\n",
       "      <td>(64, 64)</td>\n",
       "    </tr>\n",
       "    <tr>\n",
       "      <th>118</th>\n",
       "      <td>59</td>\n",
       "      <td>118</td>\n",
       "      <td>LayerNorm</td>\n",
       "      <td>TransformerLM</td>\n",
       "      <td>pre</td>\n",
       "      <td>52139008</td>\n",
       "      <td>71303168</td>\n",
       "      <td>(16, 64, 64)</td>\n",
       "      <td>None</td>\n",
       "    </tr>\n",
       "    <tr>\n",
       "      <th>119</th>\n",
       "      <td>59</td>\n",
       "      <td>119</td>\n",
       "      <td>LayerNorm</td>\n",
       "      <td>TransformerLM</td>\n",
       "      <td>fwd</td>\n",
       "      <td>52409344</td>\n",
       "      <td>71303168</td>\n",
       "      <td>(16, 64, 64)</td>\n",
       "      <td>(64, 64)</td>\n",
       "    </tr>\n",
       "    <tr>\n",
       "      <th>120</th>\n",
       "      <td>60</td>\n",
       "      <td>120</td>\n",
       "      <td>Linear</td>\n",
       "      <td>TransformerLM</td>\n",
       "      <td>pre</td>\n",
       "      <td>52409344</td>\n",
       "      <td>71303168</td>\n",
       "      <td>(16, 64, 64)</td>\n",
       "      <td>None</td>\n",
       "    </tr>\n",
       "    <tr>\n",
       "      <th>121</th>\n",
       "      <td>60</td>\n",
       "      <td>121</td>\n",
       "      <td>Linear</td>\n",
       "      <td>TransformerLM</td>\n",
       "      <td>fwd</td>\n",
       "      <td>53457920</td>\n",
       "      <td>71303168</td>\n",
       "      <td>(16, 64, 64)</td>\n",
       "      <td>(64, 256)</td>\n",
       "    </tr>\n",
       "  </tbody>\n",
       "</table>\n",
       "<p>122 rows × 9 columns</p>\n",
       "</div>"
      ],
      "text/plain": [
       "     layer_idx  call_idx layer_type     experiment hook_type   mem_all  \\\n",
       "0            0         0  Embedding  TransformerLM       pre   5853696   \n",
       "1            0         1  Embedding  TransformerLM       fwd   6115840   \n",
       "2            2         2  Embedding  TransformerLM       pre   6116352   \n",
       "3            2         3  Embedding  TransformerLM       fwd   6132736   \n",
       "4            1         4    Dropout  TransformerLM       pre   6116352   \n",
       "..         ...       ...        ...            ...       ...       ...   \n",
       "117         57       117  LayerNorm  TransformerLM       fwd  52139008   \n",
       "118         59       118  LayerNorm  TransformerLM       pre  52139008   \n",
       "119         59       119  LayerNorm  TransformerLM       fwd  52409344   \n",
       "120         60       120     Linear  TransformerLM       pre  52409344   \n",
       "121         60       121     Linear  TransformerLM       fwd  53457920   \n",
       "\n",
       "     mem_reservd   input_shape output_shape  \n",
       "0       39845888      (16, 64)         None  \n",
       "1       39845888      (16, 64)     (64, 64)  \n",
       "2       39845888         (64,)         None  \n",
       "3       39845888         (64,)        (64,)  \n",
       "4       39845888  (16, 64, 64)         None  \n",
       "..           ...           ...          ...  \n",
       "117     71303168  (16, 64, 64)     (64, 64)  \n",
       "118     71303168  (16, 64, 64)         None  \n",
       "119     71303168  (16, 64, 64)     (64, 64)  \n",
       "120     71303168  (16, 64, 64)         None  \n",
       "121     71303168  (16, 64, 64)    (64, 256)  \n",
       "\n",
       "[122 rows x 9 columns]"
      ]
     },
     "execution_count": null,
     "metadata": {},
     "output_type": "execute_result"
    }
   ],
   "source": [
    "mem_log"
   ]
  },
  {
   "cell_type": "code",
   "execution_count": null,
   "metadata": {},
   "outputs": [],
   "source": [
    "@patch\n",
    "def profile_memory(self:Learner, plot=True):\n",
    "    with MemHooks(flatten_model(self.model), type(self.model).__name__) as h:\n",
    "        self._split(self.dls.one_batch())\n",
    "        self.model.to(self.dls.device)\n",
    "        with self.added_cbs(MemProfileCallback()), self.no_logging():\n",
    "            try: self._do_one_batch()\n",
    "            except CancelBatchException:\n",
    "                for p in self.model.parameters(): p.grad=None\n",
    "        mem_log = pd.DataFrame(h.mem_log, copy=True)\n",
    "    if plot:\n",
    "        plt.plot(mem_log['call_idx'], mem_log['mem_all'])\n",
    "    return mem_log"
   ]
  },
  {
   "cell_type": "code",
   "execution_count": null,
   "metadata": {},
   "outputs": [],
   "source": [
    "learn.profile_memory()"
   ]
  },
  {
   "cell_type": "code",
   "execution_count": null,
   "metadata": {},
   "outputs": [],
   "source": []
  }
 ],
 "metadata": {
  "kernelspec": {
   "display_name": "Python 3",
   "language": "python",
   "name": "python3"
  }
 },
 "nbformat": 4,
 "nbformat_minor": 4
}
