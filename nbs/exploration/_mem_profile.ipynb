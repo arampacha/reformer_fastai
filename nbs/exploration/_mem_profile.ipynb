{
 "cells": [
  {
   "cell_type": "code",
   "execution_count": null,
   "metadata": {},
   "outputs": [],
   "source": [
    "import torch\n",
    "\n",
    "from fastai.text.all import *\n",
    "from fastai.basics import *\n",
    "\n",
    "from reformer_fastai.reformer import ReformerLM, ReversibleLM\n",
    "from reformer_fastai.transformer import TransformerLM"
   ]
  },
  {
   "cell_type": "markdown",
   "metadata": {},
   "source": [
    "## Memory utils"
   ]
  },
  {
   "cell_type": "markdown",
   "metadata": {},
   "source": [
    "Inspired by https://www.sicara.ai/blog/2019-28-10-deep-learning-memory-usage-and-pytorch-optimization-tricks"
   ]
  },
  {
   "cell_type": "code",
   "execution_count": null,
   "metadata": {},
   "outputs": [],
   "source": [
    "def _get_gpu_mem(synchronize=True, empty_cache=True):\n",
    "    return torch.cuda.memory_allocated(), torch.cuda.memory_reserved()\n",
    "\n",
    "\n",
    "def _generate_mem_hook(handle_ref, mem, idx, hook_type, exp):\n",
    "    def hook(self, *args):\n",
    "        if len(mem) == 0 or mem[-1][\"exp\"] != exp:\n",
    "            call_idx = 0\n",
    "        else:\n",
    "            call_idx = mem[-1][\"call_idx\"] + 1\n",
    "\n",
    "        mem_all, mem_cached = _get_gpu_mem()\n",
    "        torch.cuda.synchronize()\n",
    "        mem.append({\n",
    "            'layer_idx': idx,\n",
    "            'call_idx': call_idx,\n",
    "            'layer_type': type(self).__name__,\n",
    "            'exp': exp,\n",
    "            'hook_type': hook_type,\n",
    "            'mem_all': mem_all,\n",
    "            'mem_cached': mem_cached,\n",
    "        })\n",
    "\n",
    "    return hook\n",
    "\n",
    "\n",
    "def _add_memory_hooks(idx, mod, mem_log, exp, hr):\n",
    "    h = mod.register_forward_pre_hook(_generate_mem_hook(hr, mem_log, idx, 'pre', exp))\n",
    "    hr.append(h)\n",
    "\n",
    "    h = mod.register_forward_hook(_generate_mem_hook(hr, mem_log, idx, 'fwd', exp))\n",
    "    hr.append(h)\n",
    "\n",
    "    h = mod.register_backward_hook(_generate_mem_hook(hr, mem_log, idx, 'bwd', exp))\n",
    "    hr.append(h)\n",
    "\n",
    "\n",
    "def log_mem(model, inp, mem_log=None, exp=None):\n",
    "    mem_log = mem_log or []\n",
    "    exp = exp or f'exp_{len(mem_log)}'\n",
    "    hr = []\n",
    "    for idx, module in enumerate(model.modules()):\n",
    "        _add_memory_hooks(idx, module, mem_log, exp, hr)\n",
    "\n",
    "    try:\n",
    "        out = model(inp)\n",
    "        loss = out.sum()\n",
    "        loss.backward()\n",
    "    finally:\n",
    "        [h.remove() for h in hr]\n",
    "\n",
    "        return mem_log\n"
   ]
  },
  {
   "cell_type": "markdown",
   "metadata": {},
   "source": [
    "## baseline"
   ]
  },
  {
   "cell_type": "code",
   "execution_count": null,
   "metadata": {},
   "outputs": [],
   "source": [
    "bs = 4\n",
    "sl = 128\n",
    "d = 64\n",
    "x = torch.randint(256, (bs, sl)).cuda()"
   ]
  },
  {
   "cell_type": "code",
   "execution_count": null,
   "metadata": {},
   "outputs": [],
   "source": [
    "torch.cuda.memory_allocated()"
   ]
  },
  {
   "cell_type": "code",
   "execution_count": null,
   "metadata": {},
   "outputs": [],
   "source": [
    "model = TransformerLM(256, d, n_layers=2).cuda()"
   ]
  },
  {
   "cell_type": "code",
   "execution_count": null,
   "metadata": {},
   "outputs": [],
   "source": [
    "modules = [model.emb] + [m for m in model.encoder.layers] + [model.proj]\n",
    "len(modules)"
   ]
  },
  {
   "cell_type": "code",
   "execution_count": null,
   "metadata": {},
   "outputs": [],
   "source": [
    "mem_log = []\n",
    "hr = []\n",
    "for idx, module in enumerate(modules):\n",
    "    _add_memory_hooks(idx, module, mem_log, 'baseline', hr)"
   ]
  },
  {
   "cell_type": "code",
   "execution_count": null,
   "metadata": {},
   "outputs": [],
   "source": [
    "out = model(x)\n",
    "loss = out.sum()\n",
    "loss.backward()"
   ]
  },
  {
   "cell_type": "code",
   "execution_count": null,
   "metadata": {},
   "outputs": [],
   "source": [
    "[h.remove() for h in hr];"
   ]
  },
  {
   "cell_type": "code",
   "execution_count": null,
   "metadata": {},
   "outputs": [],
   "source": [
    "df = pd.DataFrame(mem_log)\n",
    "df"
   ]
  },
  {
   "cell_type": "code",
   "execution_count": null,
   "metadata": {},
   "outputs": [],
   "source": [
    "fig, ax = plt.subplots(figsize=(15, 5))\n",
    "plot = df.plot(ax=ax, x='call_idx', y='mem_all', label='baseline')"
   ]
  },
  {
   "cell_type": "code",
   "execution_count": null,
   "metadata": {},
   "outputs": [],
   "source": [
    "del x, model, modules\n",
    "torch.cuda.empty_cache()\n",
    "torch.cuda.memory_allocated()"
   ]
  },
  {
   "cell_type": "markdown",
   "metadata": {},
   "source": [
    "## revlayers"
   ]
  },
  {
   "cell_type": "code",
   "execution_count": null,
   "metadata": {},
   "outputs": [],
   "source": [
    "bs = 4\n",
    "sl = 128\n",
    "d = 64\n",
    "x = torch.randint(256, (bs, sl)).cuda()"
   ]
  },
  {
   "cell_type": "code",
   "execution_count": null,
   "metadata": {},
   "outputs": [],
   "source": [
    "torch.cuda.memory_allocated()"
   ]
  },
  {
   "cell_type": "code",
   "execution_count": null,
   "metadata": {},
   "outputs": [],
   "source": [
    "model = ReformerLM(256, d, n_layers=2).cuda()"
   ]
  },
  {
   "cell_type": "code",
   "execution_count": null,
   "metadata": {},
   "outputs": [],
   "source": [
    "modules = [model.emb] + [m for m in model.encoder.layers.blocks] + [model.proj]\n",
    "len(modules)"
   ]
  },
  {
   "cell_type": "code",
   "execution_count": null,
   "metadata": {},
   "outputs": [],
   "source": [
    "mem_log = []\n",
    "hr = []\n",
    "for idx, module in enumerate(modules):\n",
    "    _add_memory_hooks(idx, module, mem_log, 'revlayers', hr)"
   ]
  },
  {
   "cell_type": "code",
   "execution_count": null,
   "metadata": {},
   "outputs": [],
   "source": [
    "out = model(x)\n",
    "loss = out.sum()\n",
    "loss.backward()"
   ]
  },
  {
   "cell_type": "code",
   "execution_count": null,
   "metadata": {},
   "outputs": [],
   "source": [
    "[h.remove() for h in hr];"
   ]
  },
  {
   "cell_type": "code",
   "execution_count": null,
   "metadata": {},
   "outputs": [],
   "source": [
    "df_rev = pd.DataFrame(mem_log)"
   ]
  },
  {
   "cell_type": "code",
   "execution_count": null,
   "metadata": {},
   "outputs": [],
   "source": [
    "df_rev"
   ]
  },
  {
   "cell_type": "code",
   "execution_count": null,
   "metadata": {},
   "outputs": [],
   "source": [
    "fig, ax = plt.subplots(figsize=(15, 5))\n",
    "plot = df.plot(ax=ax, x='call_idx', y='mem_all', label='baseline')\n",
    "plot = df_rev.plot(ax=ax, x='call_idx', y='mem_all', label='revlayers')"
   ]
  },
  {
   "cell_type": "code",
   "execution_count": null,
   "metadata": {},
   "outputs": [],
   "source": [
    "del x, model, modules, out, loss\n",
    "torch.cuda.empty_cache()\n",
    "torch.cuda.memory_allocated()"
   ]
  },
  {
   "cell_type": "markdown",
   "metadata": {},
   "source": [
    "## Learner patch"
   ]
  },
  {
   "cell_type": "markdown",
   "metadata": {},
   "source": [
    "Note on `register_backward_hook`:\n",
    "\n",
    "> The current implementation will not have the presented behavior for complex Module that perform many operations. In some failure cases, grad_input and grad_output will only contain the gradients for a subset of the inputs and outputs. For such Module, you should use [torch.Tensor.register_hook()](https://pytorch.org/docs/stable/autograd.html#torch.Tensor.register_hook) directly on a specific input or output to get the required gradients.\n"
   ]
  },
  {
   "cell_type": "code",
   "execution_count": null,
   "metadata": {},
   "outputs": [],
   "source": [
    "# class MemHook(Hook):\n",
    "#     \"Create a 'pre', 'fwd' or 'bwd' memory hook on `m`.\"\n",
    "#     def __init__(self, m, hook_type, idx, call_idx, experiment=None):\n",
    "#         store_attr('hook_type, idx, call_idx, experiment')\n",
    "#         f = {\n",
    "#             'pre':m.register_forward_pre_hook,\n",
    "#             'fwd':m.register_forward_hook,\n",
    "#             'bwd':m.register_backward_hook,\n",
    "#         }\n",
    "#         self.hook = f[hook_type](self.hook_fn)\n",
    "#         self.stored,self.removed = None,False\n",
    "\n",
    "#     def hook_fn(self, module, *args):\n",
    "#         \"Stores module description and memory stats\"\n",
    "#         if len(mem) == 0: call_idx = 0\n",
    "#         else: call_idx = self.stored[-1][\"call_idx\"] + 1\n",
    "#         inp_shape = args[0][0].shape\n",
    "#         out_shape = args[1][0].shape if len(args)>1 else None\n",
    "#         mem_all, mem_res = self._get_mem_stats()\n",
    "#         self.stored = {\n",
    "#             'layer_idx': self.idx,\n",
    "#             'call_idx': call_idx,\n",
    "#             'layer_type': type(module).__name__,\n",
    "#             'experiment': self.experiment,\n",
    "#             'hook_type': self.hook_type,\n",
    "#             'mem_all': mem_all,\n",
    "#             'mem_reserved': mem_res,\n",
    "#             'input_shape': inp_shape,\n",
    "#             'output_shape': out_shape,\n",
    "#         }\n",
    "    \n",
    "#     @staticmethod\n",
    "#     def _get_mem_stats():\n",
    "#         \"Supports only cuda for now\"\n",
    "#         torch.cuda.synchronize()\n",
    "#         return torch.cuda.memory_allocated(), torch.cuda.memory_reserved()\n"
   ]
  },
  {
   "cell_type": "code",
   "execution_count": null,
   "metadata": {},
   "outputs": [],
   "source": [
    "# class MemHooks(Hooks):\n",
    "#     \"Creates hooks wich grab memory stats\"\n",
    "#     def __init__(self, modules):\n",
    "#         self.hooks = []\n",
    "#         for i, m in enumerate(modules): self.register_memory_hooks(m, i)\n",
    "\n",
    "#     def register_memory_hooks(self, m, i):\n",
    "#         for hook_type in ['pre', 'fwd', 'bwd']:\n",
    "#             self.hooks.append(MemHook(m, hook_type, i, len(self.hooks)))\n"
   ]
  },
  {
   "cell_type": "code",
   "execution_count": null,
   "metadata": {},
   "outputs": [
    {
     "data": {
      "text/plain": [
       "(torch.Size([16, 64]), torch.Size([16, 64]))"
      ]
     },
     "execution_count": null,
     "metadata": {},
     "output_type": "execute_result"
    }
   ],
   "source": [
    "#dummy datasets\n",
    "train = [(torch.randint(256, (64,)), torch.randint(256, (64,))) for _ in range(800)]\n",
    "valid = [(torch.randint(256, (64,)), torch.randint(256, (64,))) for _ in range(200)]\n",
    "\n",
    "dls = DataLoaders.from_dsets(train, valid, bs=16, device='cuda')\n",
    "\n",
    "xb, yb = dls.one_batch()\n",
    "xb.shape, yb.shape"
   ]
  },
  {
   "cell_type": "markdown",
   "metadata": {},
   "source": [
    "### V0"
   ]
  },
  {
   "cell_type": "code",
   "execution_count": null,
   "metadata": {},
   "outputs": [],
   "source": [
    "from fastai.callback.all import Hooks\n",
    "\n",
    "def _generate_mem_hook(mem_log, idx, hook_type, experiment):\n",
    "    def hook(module, *args):\n",
    "        inp_shape = args[0][0].shape\n",
    "        out_shape = args[1][0].shape if len(args)>1 else None\n",
    "        if len(mem_log) == 0: call_idx = 0\n",
    "        else: call_idx = mem_log[-1][\"call_idx\"] + 1\n",
    "        mem_all = torch.cuda.memory_allocated()\n",
    "        mem_reserved = torch.cuda.memory_reserved()\n",
    "        torch.cuda.synchronize()\n",
    "        mem_log.append({\n",
    "            'layer_idx': idx,\n",
    "            'call_idx': call_idx,\n",
    "            'layer_type': type(module).__name__,\n",
    "            'experiment': experiment,\n",
    "            'hook_type': hook_type,\n",
    "            'mem_all': mem_all,\n",
    "            'mem_reservd': mem_reserved,\n",
    "            'input_shape': inp_shape,\n",
    "            'output_shape': out_shape,\n",
    "        })\n",
    "    return hook\n",
    "\n",
    "class MemHooks(Hooks):\n",
    "    \"Creates hooks for logging memory stats\"\n",
    "    def __init__(self, modules, name=None):\n",
    "        self.hooks = []\n",
    "        self.mem_log = []\n",
    "        for i, m in enumerate(modules): self.register_memory_hooks(m, i, name=name)\n",
    "\n",
    "    def register_memory_hooks(self, m, i, name=None):\n",
    "        fs = {'pre':m.register_forward_pre_hook,\n",
    "              'fwd':m.register_forward_hook,\n",
    "              'bwd':m.register_backward_hook}\n",
    "        for hook_type in ['pre', 'fwd', 'bwd']:\n",
    "            self.hooks.append(fs[hook_type](_generate_mem_hook(self.mem_log, i, hook_type, name)))"
   ]
  },
  {
   "cell_type": "code",
   "execution_count": null,
   "metadata": {},
   "outputs": [],
   "source": [
    "def profile_memory(learn, plot=True):\n",
    "    with MemHooks(flatten_model(learn.model), type(learn.model).__name__) as h:\n",
    "        xb, yb = learn.dls.one_batch()\n",
    "        self.model.to(self.dls.device)\n",
    "        out = learn.model(xb)\n",
    "        loss = learn.loss_func(out, yb)\n",
    "        loss.backward()\n",
    "        mem_log = pd.DataFrame(h.mem_log, copy=True)\n",
    "    if plot:\n",
    "        plt.plot(mem_log['call_idx'], mem_log['mem_all'])\n",
    "    return mem_log"
   ]
  },
  {
   "cell_type": "code",
   "execution_count": null,
   "metadata": {},
   "outputs": [],
   "source": [
    "@patch\n",
    "def profile_memory(self:Learner, modules=None, plot=True):\n",
    "    modules = ifnone(modules, flatten_model(self.model))\n",
    "    with MemHooks(modules, name=type(self.model).__name__) as h:\n",
    "        xb, yb = self.dls.one_batch()\n",
    "        self.model.to(self.dls.device)\n",
    "        out = self.model(xb)\n",
    "        loss = self.loss_func(out, yb)\n",
    "        loss.backward()\n",
    "        mem_log = pd.DataFrame(h.mem_log, copy=True)\n",
    "    if plot:\n",
    "        plt.plot(mem_log['call_idx'], mem_log['mem_all'], label='mem_profile')\n",
    "    return mem_log"
   ]
  },
  {
   "cell_type": "code",
   "execution_count": null,
   "metadata": {},
   "outputs": [],
   "source": [
    "learn = Learner(dls, TransformerLM(256, 64, n_layers=2), loss_func=CrossEntropyLossFlat())"
   ]
  },
  {
   "cell_type": "code",
   "execution_count": null,
   "metadata": {},
   "outputs": [],
   "source": [
    "mem_log = learn.profile_memory()"
   ]
  },
  {
   "cell_type": "code",
   "execution_count": null,
   "metadata": {},
   "outputs": [],
   "source": [
    "del learn\n",
    "torch.cuda.empty_cache()"
   ]
  },
  {
   "cell_type": "code",
   "execution_count": null,
   "metadata": {},
   "outputs": [],
   "source": [
    "learn = Learner(dls, ReversibleLM(256, 64, n_layers=2), loss_func=CrossEntropyLossFlat())\n",
    "revmem_log = learn.profile_memory()"
   ]
  },
  {
   "cell_type": "code",
   "execution_count": null,
   "metadata": {},
   "outputs": [],
   "source": [
    "revmem_log.head()"
   ]
  },
  {
   "cell_type": "markdown",
   "metadata": {},
   "source": [
    "### V1"
   ]
  },
  {
   "cell_type": "markdown",
   "metadata": {},
   "source": [
    "Is this good enough for genral purpose mem profile?"
   ]
  },
  {
   "cell_type": "code",
   "execution_count": null,
   "metadata": {},
   "outputs": [],
   "source": [
    "class MemProfileCallback(Callback):\n",
    "    \"Cancels batch after backward to avoid opt.step()\"\n",
    "    def before_batch(self):\n",
    "        # learn._split(learn.dls.one_batch())\n",
    "        # self.model.to(self.dls.device)\n",
    "        self.model.train()\n",
    "        self.learn.training = True\n",
    "    def after_backward(self):\n",
    "        print('Batch canceled')\n",
    "        raise CancelBatchException"
   ]
  },
  {
   "cell_type": "code",
   "execution_count": null,
   "metadata": {},
   "outputs": [],
   "source": [
    "# with MemHooks(flatten_model(learn.model)) as h:\n",
    "#     xb, yb = learn.dls.one_batch()\n",
    "#     out = learn.model(xb)\n",
    "#     loss = learn.loss_func(out, yb)\n",
    "#     loss.backward()\n",
    "#     mem_log = h.stored\n",
    "# mem_data = pd.DataFrame(mem_log)\n",
    "# mem_data.head()"
   ]
  },
  {
   "cell_type": "code",
   "execution_count": null,
   "metadata": {},
   "outputs": [],
   "source": [
    "learn = Learner(dls, TransformerLM(256, 64, n_layers=2), loss_func=CrossEntropyLossFlat())"
   ]
  },
  {
   "cell_type": "code",
   "execution_count": null,
   "metadata": {},
   "outputs": [
    {
     "data": {
      "text/plain": [
       "(#3) [TrainEvalCallback,Recorder,ProgressCallback]"
      ]
     },
     "execution_count": null,
     "metadata": {},
     "output_type": "execute_result"
    }
   ],
   "source": [
    "learn.cbs"
   ]
  },
  {
   "cell_type": "code",
   "execution_count": null,
   "metadata": {},
   "outputs": [],
   "source": [
    "def _with_events(self, f, event_type, ex, final=noop):\n",
    "    try:       self(f'before_{event_type}')       ;f()\n",
    "    except ex: self(f'after_cancel_{event_type}')\n",
    "    finally:   self(f'after_{event_type}')        ;final()\n",
    "\n",
    "def all_batches(self):\n",
    "    self.n_iter = len(self.dl)\n",
    "    for o in enumerate(self.dl): self.one_batch(*o)\n",
    "\n",
    "def _do_one_batch(self):\n",
    "    self.pred = self.model(*self.xb)\n",
    "    self('after_pred')\n",
    "    if len(self.yb): self.loss = self.loss_func(self.pred, *self.yb)\n",
    "    self('after_loss')\n",
    "    if not self.training or not len(self.yb): return\n",
    "    self('before_backward')\n",
    "    self._backward()\n",
    "    self('after_backward')\n",
    "    self._step()\n",
    "    self('after_step')\n",
    "    self.opt.zero_grad()\n",
    "\n",
    "def one_batch(self, i, b):\n",
    "    self.iter = i\n",
    "    self._split(b)\n",
    "    self._with_events(self._do_one_batch, 'batch', CancelBatchException)"
   ]
  },
  {
   "cell_type": "code",
   "execution_count": null,
   "metadata": {},
   "outputs": [],
   "source": [
    "# learn._split(learn.dls.one_batch())\n",
    "# with learn.added_cbs(MemProfileCallback()), learn.no_logging():\n",
    "#     try: learn._do_one_batch()\n",
    "#     except CancelBatchException:\n",
    "#         for p in learn.model.parameters(): p.grad=None"
   ]
  },
  {
   "cell_type": "code",
   "execution_count": null,
   "metadata": {},
   "outputs": [],
   "source": [
    "def profile_memory(learn, plot=True):\n",
    "    with MemHooks(flatten_model(learn.model), type(learn.model).__name__) as h:\n",
    "        learn._split(learn.dls.one_batch())\n",
    "        learn.model.to(learn.dls.device)\n",
    "        \n",
    "        with learn.added_cbs(MemProfileCallback()), learn.no_logging():\n",
    "            learn('before_batch')\n",
    "            try: learn._do_one_batch()\n",
    "            except CancelBatchException:\n",
    "                for p in learn.model.parameters(): p.grad=None\n",
    "        mem_log = pd.DataFrame(h.mem_log, copy=True)\n",
    "    if plot:\n",
    "        plt.plot(mem_log['call_idx'], mem_log['mem_all'])\n",
    "    return mem_log"
   ]
  },
  {
   "cell_type": "code",
   "execution_count": null,
   "metadata": {},
   "outputs": [],
   "source": [
    "mem_log = profile_memory(learn)"
   ]
  },
  {
   "cell_type": "code",
   "execution_count": null,
   "metadata": {},
   "outputs": [],
   "source": [
    "mem_log.head()"
   ]
  },
  {
   "cell_type": "code",
   "execution_count": null,
   "metadata": {},
   "outputs": [],
   "source": [
    "@patch\n",
    "def profile_memory(self:Learner, plot=True):\n",
    "    with MemHooks(flatten_model(self.model), type(self.model).__name__) as h:\n",
    "        self._split(self.dls.one_batch())\n",
    "        self.model.to(self.dls.device)\n",
    "        prealloc = torch.cuda.memory_allocated()\n",
    "        with self.added_cbs(MemProfileCallback()), self.no_logging():\n",
    "            self('before_batch')\n",
    "            try: self._do_one_batch()\n",
    "            except CancelBatchException:\n",
    "                for p in self.model.parameters(): p.grad=None\n",
    "        mem_log = pd.DataFrame(h.mem_log, copy=True)\n",
    "        mem_log['mem_all'] = mem_log['mem_all'] - prealloc\n",
    "    if plot:\n",
    "        plt.plot(mem_log['call_idx'], mem_log['mem_all'])\n",
    "    return mem_log"
   ]
  },
  {
   "cell_type": "code",
   "execution_count": null,
   "metadata": {},
   "outputs": [
    {
     "name": "stdout",
     "output_type": "stream",
     "text": [
      "Batch canceled\n"
     ]
    },
    {
     "data": {
      "image/png": "[encoded data removed]",
      "text/plain": [
       "<Figure size 432x288 with 1 Axes>"
      ]
     },
     "metadata": {
      "needs_background": "light"
     },
     "output_type": "display_data"
    }
   ],
   "source": [
    "learn = Learner(dls, TransformerLM(256, 64, n_layers=2), loss_func=CrossEntropyLossFlat())\n",
    "mem_log1 = learn.profile_memory()"
   ]
  },
  {
   "cell_type": "code",
   "execution_count": null,
   "metadata": {},
   "outputs": [
    {
     "name": "stdout",
     "output_type": "stream",
     "text": [
      "Batch canceled\n"
     ]
    },
    {
     "data": {
      "image/png": "[encoded data removed]",
      "text/plain": [
       "<Figure size 432x288 with 1 Axes>"
      ]
     },
     "metadata": {
      "needs_background": "light"
     },
     "output_type": "display_data"
    }
   ],
   "source": [
    "learn = Learner(dls, ReversibleLM(256, 64, n_layers=2), loss_func=CrossEntropyLossFlat())\n",
    "mem_log2 = learn.profile_memory()"
   ]
  },
  {
   "cell_type": "code",
   "execution_count": null,
   "metadata": {},
   "outputs": [
    {
     "name": "stdout",
     "output_type": "stream",
     "text": [
      "Batch canceled\n"
     ]
    },
    {
     "data": {
      "image/png": "[encoded data removed]",
      "text/plain": [
       "<Figure size 432x288 with 1 Axes>"
      ]
     },
     "metadata": {
      "needs_background": "light"
     },
     "output_type": "display_data"
    }
   ],
   "source": [
    "learn = Learner(dls, ReversibleLM(256, 64, n_layers=2, rev_thres=1024), loss_func=CrossEntropyLossFlat())\n",
    "mem_log3 = learn.profile_memory()"
   ]
  },
  {
   "cell_type": "code",
   "execution_count": null,
   "metadata": {},
   "outputs": [
    {
     "name": "stdout",
     "output_type": "stream",
     "text": [
      "|===========================================================================|\n",
      "|                  PyTorch CUDA memory summary, device ID 0                 |\n",
      "|---------------------------------------------------------------------------|\n",
      "|            CUDA OOMs: 0            |        cudaMalloc retries: 0         |\n",
      "|===========================================================================|\n",
      "|        Metric         | Cur Usage  | Peak Usage | Tot Alloc  | Tot Freed  |\n",
      "|---------------------------------------------------------------------------|\n",
      "| Allocated memory      |    5403 KB |   34502 KB |  317822 KB |  312419 KB |\n",
      "|       from large pool |       0 KB |   16384 KB |  165888 KB |  165888 KB |\n",
      "|       from small pool |    5403 KB |   22212 KB |  151934 KB |  146531 KB |\n",
      "|---------------------------------------------------------------------------|\n",
      "| Active memory         |    5403 KB |   34502 KB |  317822 KB |  312419 KB |\n",
      "|       from large pool |       0 KB |   16384 KB |  165888 KB |  165888 KB |\n",
      "|       from small pool |    5403 KB |   22212 KB |  151934 KB |  146531 KB |\n",
      "|---------------------------------------------------------------------------|\n",
      "| GPU reserved memory   |   43008 KB |   43008 KB |   43008 KB |       0 B  |\n",
      "|       from large pool |   20480 KB |   20480 KB |   20480 KB |       0 B  |\n",
      "|       from small pool |   22528 KB |   22528 KB |   22528 KB |       0 B  |\n",
      "|---------------------------------------------------------------------------|\n",
      "| Non-releasable memory |    2788 KB |   22718 KB |  489737 KB |  486948 KB |\n",
      "|       from large pool |       0 KB |   18432 KB |  313344 KB |  313344 KB |\n",
      "|       from small pool |    2788 KB |    6484 KB |  176393 KB |  173604 KB |\n",
      "|---------------------------------------------------------------------------|\n",
      "| Allocations           |      94    |     163    |     823    |     729    |\n",
      "|       from large pool |       0    |       8    |      81    |      81    |\n",
      "|       from small pool |      94    |     157    |     742    |     648    |\n",
      "|---------------------------------------------------------------------------|\n",
      "| Active allocs         |      94    |     163    |     823    |     729    |\n",
      "|       from large pool |       0    |       8    |      81    |      81    |\n",
      "|       from small pool |      94    |     157    |     742    |     648    |\n",
      "|---------------------------------------------------------------------------|\n",
      "| GPU reserved segments |      12    |      12    |      12    |       0    |\n",
      "|       from large pool |       1    |       1    |       1    |       0    |\n",
      "|       from small pool |      11    |      11    |      11    |       0    |\n",
      "|---------------------------------------------------------------------------|\n",
      "| Non-releasable allocs |       6    |      13    |     355    |     349    |\n",
      "|       from large pool |       0    |       3    |      39    |      39    |\n",
      "|       from small pool |       6    |      12    |     316    |     310    |\n",
      "|===========================================================================|\n",
      "\n"
     ]
    }
   ],
   "source": [
    "print(torch.cuda.memory_summary())"
   ]
  },
  {
   "cell_type": "code",
   "execution_count": null,
   "metadata": {},
   "outputs": [],
   "source": [
    "torch.cuda.empty_cache()"
   ]
  },
  {
   "cell_type": "markdown",
   "metadata": {},
   "source": [
    "## Epoch"
   ]
  },
  {
   "cell_type": "code",
   "execution_count": null,
   "metadata": {},
   "outputs": [],
   "source": [
    "def get_modules(model):\n",
    "    return [model.emb] + [m for m in model.encoder.layers] + [model.proj]"
   ]
  },
  {
   "cell_type": "code",
   "execution_count": null,
   "metadata": {},
   "outputs": [],
   "source": [
    "modules = get_modules(learn.model)"
   ]
  },
  {
   "cell_type": "code",
   "execution_count": null,
   "metadata": {},
   "outputs": [
    {
     "data": {
      "text/html": [
       "<table border=\"1\" class=\"dataframe\">\n",
       "  <thead>\n",
       "    <tr style=\"text-align: left;\">\n",
       "      <th>epoch</th>\n",
       "      <th>train_loss</th>\n",
       "      <th>valid_loss</th>\n",
       "      <th>time</th>\n",
       "    </tr>\n",
       "  </thead>\n",
       "  <tbody>\n",
       "    <tr>\n",
       "      <td>0</td>\n",
       "      <td>5.536582</td>\n",
       "      <td>5.562197</td>\n",
       "      <td>00:01</td>\n",
       "    </tr>\n",
       "  </tbody>\n",
       "</table>"
      ],
      "text/plain": [
       "<IPython.core.display.HTML object>"
      ]
     },
     "metadata": {},
     "output_type": "display_data"
    }
   ],
   "source": [
    "with MemHooks(modules, 'test') as h:\n",
    "    learn.fit(1, 1e-3)"
   ]
  },
  {
   "cell_type": "code",
   "execution_count": null,
   "metadata": {},
   "outputs": [],
   "source": [
    "mem_log = pd.DataFrame(h.mem_log, copy=True)"
   ]
  },
  {
   "cell_type": "code",
   "execution_count": null,
   "metadata": {},
   "outputs": [
    {
     "data": {
      "text/html": [
       "<div>\n",
       "<style scoped>\n",
       "    .dataframe tbody tr th:only-of-type {\n",
       "        vertical-align: middle;\n",
       "    }\n",
       "\n",
       "    .dataframe tbody tr th {\n",
       "        vertical-align: top;\n",
       "    }\n",
       "\n",
       "    .dataframe thead th {\n",
       "        text-align: right;\n",
       "    }\n",
       "</style>\n",
       "<table border=\"1\" class=\"dataframe\">\n",
       "  <thead>\n",
       "    <tr style=\"text-align: right;\">\n",
       "      <th></th>\n",
       "      <th>layer_idx</th>\n",
       "      <th>call_idx</th>\n",
       "      <th>layer_type</th>\n",
       "      <th>experiment</th>\n",
       "      <th>hook_type</th>\n",
       "      <th>mem_all</th>\n",
       "      <th>mem_reservd</th>\n",
       "      <th>input_shape</th>\n",
       "      <th>output_shape</th>\n",
       "    </tr>\n",
       "  </thead>\n",
       "  <tbody>\n",
       "    <tr>\n",
       "      <th>0</th>\n",
       "      <td>0</td>\n",
       "      <td>0</td>\n",
       "      <td>TransformerEmbedding</td>\n",
       "      <td>test</td>\n",
       "      <td>pre</td>\n",
       "      <td>2424832</td>\n",
       "      <td>46137344</td>\n",
       "      <td>(16, 64)</td>\n",
       "      <td>None</td>\n",
       "    </tr>\n",
       "    <tr>\n",
       "      <th>1</th>\n",
       "      <td>0</td>\n",
       "      <td>1</td>\n",
       "      <td>TransformerEmbedding</td>\n",
       "      <td>test</td>\n",
       "      <td>fwd</td>\n",
       "      <td>2753024</td>\n",
       "      <td>46137344</td>\n",
       "      <td>(16, 64)</td>\n",
       "      <td>(64, 64)</td>\n",
       "    </tr>\n",
       "    <tr>\n",
       "      <th>2</th>\n",
       "      <td>1</td>\n",
       "      <td>2</td>\n",
       "      <td>TransformerEncoderBlock</td>\n",
       "      <td>test</td>\n",
       "      <td>pre</td>\n",
       "      <td>2753024</td>\n",
       "      <td>46137344</td>\n",
       "      <td>(16, 64, 64)</td>\n",
       "      <td>None</td>\n",
       "    </tr>\n",
       "    <tr>\n",
       "      <th>3</th>\n",
       "      <td>1</td>\n",
       "      <td>3</td>\n",
       "      <td>TransformerEncoderBlock</td>\n",
       "      <td>test</td>\n",
       "      <td>fwd</td>\n",
       "      <td>14729728</td>\n",
       "      <td>46137344</td>\n",
       "      <td>(16, 64, 64)</td>\n",
       "      <td>(64, 64)</td>\n",
       "    </tr>\n",
       "    <tr>\n",
       "      <th>4</th>\n",
       "      <td>2</td>\n",
       "      <td>4</td>\n",
       "      <td>TransformerEncoderBlock</td>\n",
       "      <td>test</td>\n",
       "      <td>pre</td>\n",
       "      <td>14729728</td>\n",
       "      <td>46137344</td>\n",
       "      <td>(16, 64, 64)</td>\n",
       "      <td>None</td>\n",
       "    </tr>\n",
       "    <tr>\n",
       "      <th>...</th>\n",
       "      <td>...</td>\n",
       "      <td>...</td>\n",
       "      <td>...</td>\n",
       "      <td>...</td>\n",
       "      <td>...</td>\n",
       "      <td>...</td>\n",
       "      <td>...</td>\n",
       "      <td>...</td>\n",
       "      <td>...</td>\n",
       "    </tr>\n",
       "    <tr>\n",
       "      <th>699</th>\n",
       "      <td>1</td>\n",
       "      <td>699</td>\n",
       "      <td>TransformerEncoderBlock</td>\n",
       "      <td>test</td>\n",
       "      <td>fwd</td>\n",
       "      <td>3727872</td>\n",
       "      <td>46137344</td>\n",
       "      <td>(8, 64, 64)</td>\n",
       "      <td>(64, 64)</td>\n",
       "    </tr>\n",
       "    <tr>\n",
       "      <th>700</th>\n",
       "      <td>2</td>\n",
       "      <td>700</td>\n",
       "      <td>TransformerEncoderBlock</td>\n",
       "      <td>test</td>\n",
       "      <td>pre</td>\n",
       "      <td>3727872</td>\n",
       "      <td>46137344</td>\n",
       "      <td>(8, 64, 64)</td>\n",
       "      <td>None</td>\n",
       "    </tr>\n",
       "    <tr>\n",
       "      <th>701</th>\n",
       "      <td>2</td>\n",
       "      <td>701</td>\n",
       "      <td>TransformerEncoderBlock</td>\n",
       "      <td>test</td>\n",
       "      <td>fwd</td>\n",
       "      <td>3858944</td>\n",
       "      <td>46137344</td>\n",
       "      <td>(8, 64, 64)</td>\n",
       "      <td>(64, 64)</td>\n",
       "    </tr>\n",
       "    <tr>\n",
       "      <th>702</th>\n",
       "      <td>3</td>\n",
       "      <td>702</td>\n",
       "      <td>Linear</td>\n",
       "      <td>test</td>\n",
       "      <td>pre</td>\n",
       "      <td>3596800</td>\n",
       "      <td>46137344</td>\n",
       "      <td>(8, 64, 64)</td>\n",
       "      <td>None</td>\n",
       "    </tr>\n",
       "    <tr>\n",
       "      <th>703</th>\n",
       "      <td>3</td>\n",
       "      <td>703</td>\n",
       "      <td>Linear</td>\n",
       "      <td>test</td>\n",
       "      <td>fwd</td>\n",
       "      <td>4121088</td>\n",
       "      <td>46137344</td>\n",
       "      <td>(8, 64, 64)</td>\n",
       "      <td>(64, 256)</td>\n",
       "    </tr>\n",
       "  </tbody>\n",
       "</table>\n",
       "<p>704 rows × 9 columns</p>\n",
       "</div>"
      ],
      "text/plain": [
       "     layer_idx  call_idx               layer_type experiment hook_type  \\\n",
       "0            0         0     TransformerEmbedding       test       pre   \n",
       "1            0         1     TransformerEmbedding       test       fwd   \n",
       "2            1         2  TransformerEncoderBlock       test       pre   \n",
       "3            1         3  TransformerEncoderBlock       test       fwd   \n",
       "4            2         4  TransformerEncoderBlock       test       pre   \n",
       "..         ...       ...                      ...        ...       ...   \n",
       "699          1       699  TransformerEncoderBlock       test       fwd   \n",
       "700          2       700  TransformerEncoderBlock       test       pre   \n",
       "701          2       701  TransformerEncoderBlock       test       fwd   \n",
       "702          3       702                   Linear       test       pre   \n",
       "703          3       703                   Linear       test       fwd   \n",
       "\n",
       "      mem_all  mem_reservd   input_shape output_shape  \n",
       "0     2424832     46137344      (16, 64)         None  \n",
       "1     2753024     46137344      (16, 64)     (64, 64)  \n",
       "2     2753024     46137344  (16, 64, 64)         None  \n",
       "3    14729728     46137344  (16, 64, 64)     (64, 64)  \n",
       "4    14729728     46137344  (16, 64, 64)         None  \n",
       "..        ...          ...           ...          ...  \n",
       "699   3727872     46137344   (8, 64, 64)     (64, 64)  \n",
       "700   3727872     46137344   (8, 64, 64)         None  \n",
       "701   3858944     46137344   (8, 64, 64)     (64, 64)  \n",
       "702   3596800     46137344   (8, 64, 64)         None  \n",
       "703   4121088     46137344   (8, 64, 64)    (64, 256)  \n",
       "\n",
       "[704 rows x 9 columns]"
      ]
     },
     "execution_count": null,
     "metadata": {},
     "output_type": "execute_result"
    }
   ],
   "source": [
    "mem_log"
   ]
  },
  {
   "cell_type": "code",
   "execution_count": null,
   "metadata": {},
   "outputs": [
    {
     "data": {
      "text/plain": [
       "[<matplotlib.lines.Line2D at 0x7fcf1e8e2ee0>]"
      ]
     },
     "execution_count": null,
     "metadata": {},
     "output_type": "execute_result"
    },
    {
     "data": {
      "image/png": "[encoded data removed]",
      "text/plain": [
       "<Figure size 432x288 with 1 Axes>"
      ]
     },
     "metadata": {
      "needs_background": "light"
     },
     "output_type": "display_data"
    }
   ],
   "source": [
    "plt.plot(mem_log['call_idx'], mem_log['mem_all'], label='mem_profile')"
   ]
  },
  {
   "cell_type": "code",
   "execution_count": null,
   "metadata": {},
   "outputs": [],
   "source": [
    "def get_rev_modules(model):\n",
    "    return [model.emb] + [m for m in model.encoder.layers.blocks] + [model.proj]"
   ]
  },
  {
   "cell_type": "code",
   "execution_count": null,
   "metadata": {},
   "outputs": [],
   "source": [
    "learn = Learner(dls, ReversibleLM(256, 64, n_layers=2), loss_func=CrossEntropyLossFlat())"
   ]
  },
  {
   "cell_type": "code",
   "execution_count": null,
   "metadata": {},
   "outputs": [
    {
     "data": {
      "text/html": [
       "<table border=\"1\" class=\"dataframe\">\n",
       "  <thead>\n",
       "    <tr style=\"text-align: left;\">\n",
       "      <th>epoch</th>\n",
       "      <th>train_loss</th>\n",
       "      <th>valid_loss</th>\n",
       "      <th>time</th>\n",
       "    </tr>\n",
       "  </thead>\n",
       "  <tbody>\n",
       "    <tr>\n",
       "      <td>0</td>\n",
       "      <td>5.535374</td>\n",
       "      <td>5.558565</td>\n",
       "      <td>00:01</td>\n",
       "    </tr>\n",
       "  </tbody>\n",
       "</table>"
      ],
      "text/plain": [
       "<IPython.core.display.HTML object>"
      ]
     },
     "metadata": {},
     "output_type": "display_data"
    }
   ],
   "source": [
    "with MemHooks(get_rev_modules(learn.model), 'test') as h:\n",
    "    learn.fit(1, 1e-3)"
   ]
  },
  {
   "cell_type": "code",
   "execution_count": null,
   "metadata": {},
   "outputs": [
    {
     "data": {
      "text/plain": [
       "[<matplotlib.lines.Line2D at 0x7fcf1e323370>]"
      ]
     },
     "execution_count": null,
     "metadata": {},
     "output_type": "execute_result"
    },
    {
     "data": {
      "image/png": "[encoded data removed]",
      "text/plain": [
       "<Figure size 432x288 with 1 Axes>"
      ]
     },
     "metadata": {
      "needs_background": "light"
     },
     "output_type": "display_data"
    }
   ],
   "source": [
    "mem_log = pd.DataFrame(h.mem_log, copy=True)\n",
    "plt.plot(mem_log['call_idx'], mem_log['mem_all'], label='mem_profile')"
   ]
  },
  {
   "cell_type": "code",
   "execution_count": null,
   "metadata": {},
   "outputs": [],
   "source": []
  }
 ],
 "metadata": {
  "kernelspec": {
   "display_name": "Python [conda env:torchenv]",
   "language": "python",
   "name": "conda-env-torchenv-py"
  }
 },
 "nbformat": 4,
 "nbformat_minor": 4
}
