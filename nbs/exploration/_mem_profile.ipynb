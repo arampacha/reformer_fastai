{
 "cells": [
  {
   "cell_type": "code",
   "execution_count": null,
   "metadata": {},
   "outputs": [],
   "source": [
    "import torch\n",
    "\n",
    "from fastai.text.all import *\n",
    "from fastai.basics import *\n",
    "\n",
    "from reformer_fastai.reformer import ReformerLM, ReversibleLM\n",
    "from reformer_fastai.transformer import TransformerLM"
   ]
  },
  {
   "cell_type": "markdown",
   "metadata": {},
   "source": [
    "## Memory utils"
   ]
  },
  {
   "cell_type": "code",
   "execution_count": null,
   "metadata": {},
   "outputs": [],
   "source": [
    "def _get_gpu_mem(synchronize=True, empty_cache=True):\n",
    "    return torch.cuda.memory_allocated(), torch.cuda.memory_reserved()\n",
    "\n",
    "\n",
    "def _generate_mem_hook(handle_ref, mem, idx, hook_type, exp):\n",
    "    def hook(self, *args):\n",
    "        if len(mem) == 0 or mem[-1][\"exp\"] != exp:\n",
    "            call_idx = 0\n",
    "        else:\n",
    "            call_idx = mem[-1][\"call_idx\"] + 1\n",
    "\n",
    "        mem_all, mem_cached = _get_gpu_mem()\n",
    "        torch.cuda.synchronize()\n",
    "        mem.append({\n",
    "            'layer_idx': idx,\n",
    "            'call_idx': call_idx,\n",
    "            'layer_type': type(self).__name__,\n",
    "            'exp': exp,\n",
    "            'hook_type': hook_type,\n",
    "            'mem_all': mem_all,\n",
    "            'mem_cached': mem_cached,\n",
    "        })\n",
    "\n",
    "    return hook\n",
    "\n",
    "\n",
    "def _add_memory_hooks(idx, mod, mem_log, exp, hr):\n",
    "    h = mod.register_forward_pre_hook(_generate_mem_hook(hr, mem_log, idx, 'pre', exp))\n",
    "    hr.append(h)\n",
    "\n",
    "    h = mod.register_forward_hook(_generate_mem_hook(hr, mem_log, idx, 'fwd', exp))\n",
    "    hr.append(h)\n",
    "\n",
    "    h = mod.register_backward_hook(_generate_mem_hook(hr, mem_log, idx, 'bwd', exp))\n",
    "    hr.append(h)\n",
    "\n",
    "\n",
    "def log_mem(model, inp, mem_log=None, exp=None):\n",
    "    mem_log = mem_log or []\n",
    "    exp = exp or f'exp_{len(mem_log)}'\n",
    "    hr = []\n",
    "    for idx, module in enumerate(model.modules()):\n",
    "        _add_memory_hooks(idx, module, mem_log, exp, hr)\n",
    "\n",
    "    try:\n",
    "        out = model(inp)\n",
    "        loss = out.sum()\n",
    "        loss.backward()\n",
    "    finally:\n",
    "        [h.remove() for h in hr]\n",
    "\n",
    "        return mem_log\n"
   ]
  },
  {
   "cell_type": "markdown",
   "metadata": {},
   "source": [
    "## baseline"
   ]
  },
  {
   "cell_type": "code",
   "execution_count": null,
   "metadata": {},
   "outputs": [],
   "source": [
    "bs = 4\n",
    "sl = 128\n",
    "d = 64\n",
    "x = torch.randint(256, (bs, sl)).cuda()"
   ]
  },
  {
   "cell_type": "code",
   "execution_count": null,
   "metadata": {},
   "outputs": [
    {
     "data": {
      "text/plain": [
       "4096"
      ]
     },
     "execution_count": null,
     "metadata": {},
     "output_type": "execute_result"
    }
   ],
   "source": [
    "torch.cuda.memory_allocated()"
   ]
  },
  {
   "cell_type": "code",
   "execution_count": null,
   "metadata": {},
   "outputs": [],
   "source": [
    "model = TransformerLM(256, d, n_layers=2).cuda()"
   ]
  },
  {
   "cell_type": "code",
   "execution_count": null,
   "metadata": {},
   "outputs": [
    {
     "data": {
      "text/plain": [
       "4"
      ]
     },
     "execution_count": null,
     "metadata": {},
     "output_type": "execute_result"
    }
   ],
   "source": [
    "modules = [model.emb] + [m for m in model.encoder.layers] + [model.proj]\n",
    "len(modules)"
   ]
  },
  {
   "cell_type": "code",
   "execution_count": null,
   "metadata": {},
   "outputs": [],
   "source": [
    "mem_log = []\n",
    "hr = []\n",
    "for idx, module in enumerate(modules):\n",
    "    _add_memory_hooks(idx, module, mem_log, 'baseline', hr)"
   ]
  },
  {
   "cell_type": "code",
   "execution_count": null,
   "metadata": {},
   "outputs": [],
   "source": [
    "out = model(x)\n",
    "loss = out.sum()\n",
    "loss.backward()"
   ]
  },
  {
   "cell_type": "code",
   "execution_count": null,
   "metadata": {},
   "outputs": [],
   "source": [
    "[h.remove() for h in hr];"
   ]
  },
  {
   "cell_type": "code",
   "execution_count": null,
   "metadata": {},
   "outputs": [
    {
     "data": {
      "text/html": [
       "<div>\n",
       "<style scoped>\n",
       "    .dataframe tbody tr th:only-of-type {\n",
       "        vertical-align: middle;\n",
       "    }\n",
       "\n",
       "    .dataframe tbody tr th {\n",
       "        vertical-align: top;\n",
       "    }\n",
       "\n",
       "    .dataframe thead th {\n",
       "        text-align: right;\n",
       "    }\n",
       "</style>\n",
       "<table border=\"1\" class=\"dataframe\">\n",
       "  <thead>\n",
       "    <tr style=\"text-align: right;\">\n",
       "      <th></th>\n",
       "      <th>layer_idx</th>\n",
       "      <th>call_idx</th>\n",
       "      <th>layer_type</th>\n",
       "      <th>exp</th>\n",
       "      <th>hook_type</th>\n",
       "      <th>mem_all</th>\n",
       "      <th>mem_cached</th>\n",
       "    </tr>\n",
       "  </thead>\n",
       "  <tbody>\n",
       "    <tr>\n",
       "      <th>0</th>\n",
       "      <td>0</td>\n",
       "      <td>0</td>\n",
       "      <td>TransformerEmbedding</td>\n",
       "      <td>baseline</td>\n",
       "      <td>pre</td>\n",
       "      <td>3123712</td>\n",
       "      <td>12582912</td>\n",
       "    </tr>\n",
       "    <tr>\n",
       "      <th>1</th>\n",
       "      <td>0</td>\n",
       "      <td>1</td>\n",
       "      <td>TransformerEmbedding</td>\n",
       "      <td>baseline</td>\n",
       "      <td>fwd</td>\n",
       "      <td>3288576</td>\n",
       "      <td>12582912</td>\n",
       "    </tr>\n",
       "    <tr>\n",
       "      <th>2</th>\n",
       "      <td>1</td>\n",
       "      <td>2</td>\n",
       "      <td>TransformerEncoderBlock</td>\n",
       "      <td>baseline</td>\n",
       "      <td>pre</td>\n",
       "      <td>3288576</td>\n",
       "      <td>12582912</td>\n",
       "    </tr>\n",
       "    <tr>\n",
       "      <th>3</th>\n",
       "      <td>1</td>\n",
       "      <td>3</td>\n",
       "      <td>TransformerEncoderBlock</td>\n",
       "      <td>baseline</td>\n",
       "      <td>fwd</td>\n",
       "      <td>12798464</td>\n",
       "      <td>33554432</td>\n",
       "    </tr>\n",
       "    <tr>\n",
       "      <th>4</th>\n",
       "      <td>2</td>\n",
       "      <td>4</td>\n",
       "      <td>TransformerEncoderBlock</td>\n",
       "      <td>baseline</td>\n",
       "      <td>pre</td>\n",
       "      <td>12798464</td>\n",
       "      <td>33554432</td>\n",
       "    </tr>\n",
       "    <tr>\n",
       "      <th>5</th>\n",
       "      <td>2</td>\n",
       "      <td>5</td>\n",
       "      <td>TransformerEncoderBlock</td>\n",
       "      <td>baseline</td>\n",
       "      <td>fwd</td>\n",
       "      <td>22308352</td>\n",
       "      <td>33554432</td>\n",
       "    </tr>\n",
       "    <tr>\n",
       "      <th>6</th>\n",
       "      <td>3</td>\n",
       "      <td>6</td>\n",
       "      <td>Linear</td>\n",
       "      <td>baseline</td>\n",
       "      <td>pre</td>\n",
       "      <td>22308352</td>\n",
       "      <td>33554432</td>\n",
       "    </tr>\n",
       "    <tr>\n",
       "      <th>7</th>\n",
       "      <td>3</td>\n",
       "      <td>7</td>\n",
       "      <td>Linear</td>\n",
       "      <td>baseline</td>\n",
       "      <td>fwd</td>\n",
       "      <td>22832640</td>\n",
       "      <td>33554432</td>\n",
       "    </tr>\n",
       "    <tr>\n",
       "      <th>8</th>\n",
       "      <td>3</td>\n",
       "      <td>8</td>\n",
       "      <td>Linear</td>\n",
       "      <td>baseline</td>\n",
       "      <td>bwd</td>\n",
       "      <td>20313088</td>\n",
       "      <td>33554432</td>\n",
       "    </tr>\n",
       "    <tr>\n",
       "      <th>9</th>\n",
       "      <td>2</td>\n",
       "      <td>9</td>\n",
       "      <td>TransformerEncoderBlock</td>\n",
       "      <td>baseline</td>\n",
       "      <td>bwd</td>\n",
       "      <td>20510720</td>\n",
       "      <td>33554432</td>\n",
       "    </tr>\n",
       "    <tr>\n",
       "      <th>10</th>\n",
       "      <td>1</td>\n",
       "      <td>10</td>\n",
       "      <td>TransformerEncoderBlock</td>\n",
       "      <td>baseline</td>\n",
       "      <td>bwd</td>\n",
       "      <td>11201024</td>\n",
       "      <td>33554432</td>\n",
       "    </tr>\n",
       "    <tr>\n",
       "      <th>11</th>\n",
       "      <td>0</td>\n",
       "      <td>11</td>\n",
       "      <td>TransformerEmbedding</td>\n",
       "      <td>baseline</td>\n",
       "      <td>bwd</td>\n",
       "      <td>1890304</td>\n",
       "      <td>33554432</td>\n",
       "    </tr>\n",
       "  </tbody>\n",
       "</table>\n",
       "</div>"
      ],
      "text/plain": [
       "    layer_idx  call_idx  ...   mem_all mem_cached\n",
       "0           0         0  ...   3123712   12582912\n",
       "1           0         1  ...   3288576   12582912\n",
       "2           1         2  ...   3288576   12582912\n",
       "3           1         3  ...  12798464   33554432\n",
       "4           2         4  ...  12798464   33554432\n",
       "5           2         5  ...  22308352   33554432\n",
       "6           3         6  ...  22308352   33554432\n",
       "7           3         7  ...  22832640   33554432\n",
       "8           3         8  ...  20313088   33554432\n",
       "9           2         9  ...  20510720   33554432\n",
       "10          1        10  ...  11201024   33554432\n",
       "11          0        11  ...   1890304   33554432\n",
       "\n",
       "[12 rows x 7 columns]"
      ]
     },
     "execution_count": null,
     "metadata": {},
     "output_type": "execute_result"
    }
   ],
   "source": [
    "df = pd.DataFrame(mem_log)\n",
    "df"
   ]
  },
  {
   "cell_type": "code",
   "execution_count": null,
   "metadata": {},
   "outputs": [
    {
     "data": {
      "image/png": "[encoded data removed]",
      "text/plain": [
       "<Figure size 1080x360 with 1 Axes>"
      ]
     },
     "metadata": {
      "needs_background": "light"
     },
     "output_type": "display_data"
    }
   ],
   "source": [
    "fig, ax = plt.subplots(figsize=(15, 5))\n",
    "plot = df.plot(ax=ax, x='call_idx', y='mem_all', label='baseline')"
   ]
  },
  {
   "cell_type": "code",
   "execution_count": null,
   "metadata": {},
   "outputs": [
    {
     "data": {
      "text/plain": [
       "1720832"
      ]
     },
     "execution_count": null,
     "metadata": {},
     "output_type": "execute_result"
    }
   ],
   "source": [
    "del x, model, modules\n",
    "torch.cuda.empty_cache()\n",
    "torch.cuda.memory_allocated()"
   ]
  },
  {
   "cell_type": "markdown",
   "metadata": {},
   "source": [
    "## revlayers"
   ]
  },
  {
   "cell_type": "code",
   "execution_count": null,
   "metadata": {},
   "outputs": [],
   "source": [
    "bs = 4\n",
    "sl = 128\n",
    "d = 64\n",
    "x = torch.randint(256, (bs, sl)).cuda()"
   ]
  },
  {
   "cell_type": "code",
   "execution_count": null,
   "metadata": {},
   "outputs": [
    {
     "data": {
      "text/plain": [
       "1724928"
      ]
     },
     "execution_count": null,
     "metadata": {},
     "output_type": "execute_result"
    }
   ],
   "source": [
    "torch.cuda.memory_allocated()"
   ]
  },
  {
   "cell_type": "code",
   "execution_count": null,
   "metadata": {},
   "outputs": [],
   "source": [
    "model = ReformerLM(256, d, n_layers=2).cuda()"
   ]
  },
  {
   "cell_type": "code",
   "execution_count": null,
   "metadata": {},
   "outputs": [
    {
     "data": {
      "text/plain": [
       "4"
      ]
     },
     "execution_count": null,
     "metadata": {},
     "output_type": "execute_result"
    }
   ],
   "source": [
    "modules = [model.emb] + [m for m in model.encoder.layers.blocks] + [model.proj]\n",
    "len(modules)"
   ]
  },
  {
   "cell_type": "code",
   "execution_count": null,
   "metadata": {},
   "outputs": [],
   "source": [
    "mem_log = []\n",
    "hr = []\n",
    "for idx, module in enumerate(modules):\n",
    "    _add_memory_hooks(idx, module, mem_log, 'revlayers', hr)"
   ]
  },
  {
   "cell_type": "code",
   "execution_count": null,
   "metadata": {},
   "outputs": [],
   "source": [
    "out = model(x)\n",
    "loss = out.sum()\n",
    "loss.backward()"
   ]
  },
  {
   "cell_type": "code",
   "execution_count": null,
   "metadata": {},
   "outputs": [],
   "source": [
    "[h.remove() for h in hr];"
   ]
  },
  {
   "cell_type": "code",
   "execution_count": null,
   "metadata": {},
   "outputs": [],
   "source": [
    "df_rev = pd.DataFrame(mem_log)"
   ]
  },
  {
   "cell_type": "code",
   "execution_count": null,
   "metadata": {},
   "outputs": [
    {
     "data": {
      "text/html": [
       "<div>\n",
       "<style scoped>\n",
       "    .dataframe tbody tr th:only-of-type {\n",
       "        vertical-align: middle;\n",
       "    }\n",
       "\n",
       "    .dataframe tbody tr th {\n",
       "        vertical-align: top;\n",
       "    }\n",
       "\n",
       "    .dataframe thead th {\n",
       "        text-align: right;\n",
       "    }\n",
       "</style>\n",
       "<table border=\"1\" class=\"dataframe\">\n",
       "  <thead>\n",
       "    <tr style=\"text-align: right;\">\n",
       "      <th></th>\n",
       "      <th>layer_idx</th>\n",
       "      <th>call_idx</th>\n",
       "      <th>layer_type</th>\n",
       "      <th>exp</th>\n",
       "      <th>hook_type</th>\n",
       "      <th>mem_all</th>\n",
       "      <th>mem_cached</th>\n",
       "    </tr>\n",
       "  </thead>\n",
       "  <tbody>\n",
       "    <tr>\n",
       "      <th>0</th>\n",
       "      <td>0</td>\n",
       "      <td>0</td>\n",
       "      <td>TransformerEmbedding</td>\n",
       "      <td>revlayers</td>\n",
       "      <td>pre</td>\n",
       "      <td>2322944</td>\n",
       "      <td>8388608</td>\n",
       "    </tr>\n",
       "    <tr>\n",
       "      <th>1</th>\n",
       "      <td>0</td>\n",
       "      <td>1</td>\n",
       "      <td>TransformerEmbedding</td>\n",
       "      <td>revlayers</td>\n",
       "      <td>fwd</td>\n",
       "      <td>2455040</td>\n",
       "      <td>8388608</td>\n",
       "    </tr>\n",
       "    <tr>\n",
       "      <th>2</th>\n",
       "      <td>1</td>\n",
       "      <td>2</td>\n",
       "      <td>ReversibleBlock</td>\n",
       "      <td>revlayers</td>\n",
       "      <td>pre</td>\n",
       "      <td>2717184</td>\n",
       "      <td>8388608</td>\n",
       "    </tr>\n",
       "    <tr>\n",
       "      <th>3</th>\n",
       "      <td>1</td>\n",
       "      <td>3</td>\n",
       "      <td>ReversibleBlock</td>\n",
       "      <td>revlayers</td>\n",
       "      <td>fwd</td>\n",
       "      <td>2979328</td>\n",
       "      <td>29360128</td>\n",
       "    </tr>\n",
       "    <tr>\n",
       "      <th>4</th>\n",
       "      <td>2</td>\n",
       "      <td>4</td>\n",
       "      <td>ReversibleBlock</td>\n",
       "      <td>revlayers</td>\n",
       "      <td>pre</td>\n",
       "      <td>2979328</td>\n",
       "      <td>29360128</td>\n",
       "    </tr>\n",
       "    <tr>\n",
       "      <th>5</th>\n",
       "      <td>2</td>\n",
       "      <td>5</td>\n",
       "      <td>ReversibleBlock</td>\n",
       "      <td>revlayers</td>\n",
       "      <td>fwd</td>\n",
       "      <td>3241472</td>\n",
       "      <td>29360128</td>\n",
       "    </tr>\n",
       "    <tr>\n",
       "      <th>6</th>\n",
       "      <td>3</td>\n",
       "      <td>6</td>\n",
       "      <td>Linear</td>\n",
       "      <td>revlayers</td>\n",
       "      <td>pre</td>\n",
       "      <td>2717184</td>\n",
       "      <td>29360128</td>\n",
       "    </tr>\n",
       "    <tr>\n",
       "      <th>7</th>\n",
       "      <td>3</td>\n",
       "      <td>7</td>\n",
       "      <td>Linear</td>\n",
       "      <td>revlayers</td>\n",
       "      <td>fwd</td>\n",
       "      <td>3241472</td>\n",
       "      <td>29360128</td>\n",
       "    </tr>\n",
       "    <tr>\n",
       "      <th>8</th>\n",
       "      <td>3</td>\n",
       "      <td>8</td>\n",
       "      <td>Linear</td>\n",
       "      <td>revlayers</td>\n",
       "      <td>bwd</td>\n",
       "      <td>1522688</td>\n",
       "      <td>29360128</td>\n",
       "    </tr>\n",
       "    <tr>\n",
       "      <th>9</th>\n",
       "      <td>0</td>\n",
       "      <td>9</td>\n",
       "      <td>TransformerEmbedding</td>\n",
       "      <td>revlayers</td>\n",
       "      <td>bwd</td>\n",
       "      <td>2021376</td>\n",
       "      <td>29360128</td>\n",
       "    </tr>\n",
       "  </tbody>\n",
       "</table>\n",
       "</div>"
      ],
      "text/plain": [
       "   layer_idx  call_idx            layer_type  ... hook_type  mem_all  mem_cached\n",
       "0          0         0  TransformerEmbedding  ...       pre  2322944     8388608\n",
       "1          0         1  TransformerEmbedding  ...       fwd  2455040     8388608\n",
       "2          1         2       ReversibleBlock  ...       pre  2717184     8388608\n",
       "3          1         3       ReversibleBlock  ...       fwd  2979328    29360128\n",
       "4          2         4       ReversibleBlock  ...       pre  2979328    29360128\n",
       "5          2         5       ReversibleBlock  ...       fwd  3241472    29360128\n",
       "6          3         6                Linear  ...       pre  2717184    29360128\n",
       "7          3         7                Linear  ...       fwd  3241472    29360128\n",
       "8          3         8                Linear  ...       bwd  1522688    29360128\n",
       "9          0         9  TransformerEmbedding  ...       bwd  2021376    29360128\n",
       "\n",
       "[10 rows x 7 columns]"
      ]
     },
     "execution_count": null,
     "metadata": {},
     "output_type": "execute_result"
    }
   ],
   "source": [
    "df_rev"
   ]
  },
  {
   "cell_type": "code",
   "execution_count": null,
   "metadata": {},
   "outputs": [
    {
     "data": {
      "image/png": "[encoded data removed]",
      "text/plain": [
       "<Figure size 1080x360 with 1 Axes>"
      ]
     },
     "metadata": {
      "needs_background": "light"
     },
     "output_type": "display_data"
    }
   ],
   "source": [
    "fig, ax = plt.subplots(figsize=(15, 5))\n",
    "plot = df.plot(ax=ax, x='call_idx', y='mem_all', label='baseline')\n",
    "plot = df_rev.plot(ax=ax, x='call_idx', y='mem_all', label='revlayers')"
   ]
  },
  {
   "cell_type": "code",
   "execution_count": null,
   "metadata": {},
   "outputs": [
    {
     "data": {
      "text/plain": [
       "1982976"
      ]
     },
     "execution_count": null,
     "metadata": {},
     "output_type": "execute_result"
    }
   ],
   "source": [
    "del x, model, modules\n",
    "torch.cuda.empty_cache()\n",
    "torch.cuda.memory_allocated()"
   ]
  },
  {
   "cell_type": "markdown",
   "metadata": {},
   "source": [
    "## Learner patch"
   ]
  },
  {
   "cell_type": "markdown",
   "metadata": {},
   "source": [
    "Note on `register_backward_hook`:\n",
    "\n",
    "> The current implementation will not have the presented behavior for complex Module that perform many operations. In some failure cases, grad_input and grad_output will only contain the gradients for a subset of the inputs and outputs. For such Module, you should use [torch.Tensor.register_hook()](https://pytorch.org/docs/stable/autograd.html#torch.Tensor.register_hook) directly on a specific input or output to get the required gradients.\n"
   ]
  },
  {
   "cell_type": "code",
   "execution_count": null,
   "metadata": {},
   "outputs": [],
   "source": [
    "# class MemHook(Hook):\n",
    "#     \"Create a 'pre', 'fwd' or 'bwd' memory hook on `m`.\"\n",
    "#     def __init__(self, m, hook_type, idx, call_idx, experiment=None):\n",
    "#         store_attr('hook_type, idx, call_idx, experiment')\n",
    "#         f = {\n",
    "#             'pre':m.register_forward_pre_hook,\n",
    "#             'fwd':m.register_forward_hook,\n",
    "#             'bwd':m.register_backward_hook,\n",
    "#         }\n",
    "#         self.hook = f[hook_type](self.hook_fn)\n",
    "#         self.stored,self.removed = None,False\n",
    "\n",
    "#     def hook_fn(self, module, *args):\n",
    "#         \"Stores module description and memory stats\"\n",
    "#         if len(mem) == 0: call_idx = 0\n",
    "#         else: call_idx = self.stored[-1][\"call_idx\"] + 1\n",
    "#         inp_shape = args[0][0].shape\n",
    "#         out_shape = args[1][0].shape if len(args)>1 else None\n",
    "#         mem_all, mem_res = self._get_mem_stats()\n",
    "#         self.stored = {\n",
    "#             'layer_idx': self.idx,\n",
    "#             'call_idx': call_idx,\n",
    "#             'layer_type': type(module).__name__,\n",
    "#             'experiment': self.experiment,\n",
    "#             'hook_type': self.hook_type,\n",
    "#             'mem_all': mem_all,\n",
    "#             'mem_reserved': mem_res,\n",
    "#             'input_shape': inp_shape,\n",
    "#             'output_shape': out_shape,\n",
    "#         }\n",
    "    \n",
    "#     @staticmethod\n",
    "#     def _get_mem_stats():\n",
    "#         \"Supports only cuda for now\"\n",
    "#         torch.cuda.synchronize()\n",
    "#         return torch.cuda.memory_allocated(), torch.cuda.memory_reserved()\n"
   ]
  },
  {
   "cell_type": "code",
   "execution_count": null,
   "metadata": {},
   "outputs": [],
   "source": [
    "# class MemHooks(Hooks):\n",
    "#     \"Creates hooks wich grab memory stats\"\n",
    "#     def __init__(self, modules):\n",
    "#         self.hooks = []\n",
    "#         for i, m in enumerate(modules): self.register_memory_hooks(m, i)\n",
    "\n",
    "#     def register_memory_hooks(self, m, i):\n",
    "#         for hook_type in ['pre', 'fwd', 'bwd']:\n",
    "#             self.hooks.append(MemHook(m, hook_type, i, len(self.hooks)))\n"
   ]
  },
  {
   "cell_type": "code",
   "execution_count": null,
   "metadata": {},
   "outputs": [
    {
     "data": {
      "text/plain": [
       "(torch.Size([16, 64]), torch.Size([16, 64]))"
      ]
     },
     "execution_count": null,
     "metadata": {},
     "output_type": "execute_result"
    }
   ],
   "source": [
    "#dummy datasets\n",
    "train = [(torch.randint(256, (64,)), torch.randint(256, (64,))) for _ in range(800)]\n",
    "valid = [(torch.randint(256, (64,)), torch.randint(256, (64,))) for _ in range(200)]\n",
    "\n",
    "dls = DataLoaders.from_dsets(train, valid, bs=16, device='cuda')\n",
    "\n",
    "xb, yb = dls.one_batch()\n",
    "xb.shape, yb.shape"
   ]
  },
  {
   "cell_type": "markdown",
   "metadata": {},
   "source": [
    "### V0"
   ]
  },
  {
   "cell_type": "code",
   "execution_count": null,
   "metadata": {},
   "outputs": [],
   "source": [
    "from fastai.callback.all import Hooks\n",
    "\n",
    "def _generate_mem_hook(mem_log, idx, hook_type, experiment):\n",
    "    def hook(module, *args):\n",
    "        inp_shape = args[0][0].shape\n",
    "        out_shape = args[1][0].shape if len(args)>1 else None\n",
    "        if len(mem_log) == 0: call_idx = 0\n",
    "        else: call_idx = mem_log[-1][\"call_idx\"] + 1\n",
    "        mem_all = torch.cuda.memory_allocated()\n",
    "        mem_reserved = torch.cuda.memory_reserved()\n",
    "        torch.cuda.synchronize()\n",
    "        mem_log.append({\n",
    "            'layer_idx': idx,\n",
    "            'call_idx': call_idx,\n",
    "            'layer_type': type(module).__name__,\n",
    "            'experiment': experiment,\n",
    "            'hook_type': hook_type,\n",
    "            'mem_all': mem_all,\n",
    "            'mem_reservd': mem_reserved,\n",
    "            'input_shape': inp_shape,\n",
    "            'output_shape': out_shape,\n",
    "        })\n",
    "    return hook\n",
    "\n",
    "class MemHooks(Hooks):\n",
    "    \"Creates hooks for logging memory stats\"\n",
    "    def __init__(self, modules, name=None):\n",
    "        self.hooks = []\n",
    "        self.mem_log = []\n",
    "        for i, m in enumerate(modules): self.register_memory_hooks(m, i, name=name)\n",
    "\n",
    "    def register_memory_hooks(self, m, i, name=None):\n",
    "        fs = {'pre':m.register_forward_pre_hook,\n",
    "              'fwd':m.register_forward_hook,\n",
    "              'bwd':m.register_backward_hook}\n",
    "        for hook_type in ['pre', 'fwd', 'bwd']:\n",
    "            self.hooks.append(fs[hook_type](_generate_mem_hook(self.mem_log, i, hook_type, name)))"
   ]
  },
  {
   "cell_type": "code",
   "execution_count": null,
   "metadata": {},
   "outputs": [],
   "source": [
    "def profile_memory(learn, plot=True):\n",
    "    with MemHooks(flatten_model(learn.model), type(learn.model).__name__) as h:\n",
    "        xb, yb = learn.dls.one_batch()\n",
    "        self.model.to(self.dls.device)\n",
    "        out = learn.model(xb)\n",
    "        loss = learn.loss_func(out, yb)\n",
    "        loss.backward()\n",
    "        mem_log = pd.DataFrame(h.mem_log, copy=True)\n",
    "    if plot:\n",
    "        plt.plot(mem_log['call_idx'], mem_log['mem_all'])\n",
    "    return mem_log"
   ]
  },
  {
   "cell_type": "code",
   "execution_count": null,
   "metadata": {},
   "outputs": [],
   "source": [
    "@patch\n",
    "def profile_memory(self:Learner, modules=None, plot=True):\n",
    "    modules = ifnone(modules, flatten_model(self.model))\n",
    "    with MemHooks(modules, name=type(self.model).__name__) as h:\n",
    "        xb, yb = self.dls.one_batch()\n",
    "        self.model.to(self.dls.device)\n",
    "        out = self.model(xb)\n",
    "        loss = self.loss_func(out, yb)\n",
    "        loss.backward()\n",
    "        mem_log = pd.DataFrame(h.mem_log, copy=True)\n",
    "    if plot:\n",
    "        plt.plot(mem_log['call_idx'], mem_log['mem_all'], label='mem_profile')\n",
    "    return mem_log"
   ]
  },
  {
   "cell_type": "code",
   "execution_count": null,
   "metadata": {},
   "outputs": [],
   "source": [
    "learn = Learner(dls, TransformerLM(256, 64, n_layers=2), loss_func=CrossEntropyLossFlat())"
   ]
  },
  {
   "cell_type": "code",
   "execution_count": null,
   "metadata": {},
   "outputs": [
    {
     "data": {
      "image/png": "[encoded data removed]",
      "text/plain": [
       "<Figure size 432x288 with 1 Axes>"
      ]
     },
     "metadata": {
      "needs_background": "light"
     },
     "output_type": "display_data"
    }
   ],
   "source": [
    "mem_log = learn.profile_memory()"
   ]
  },
  {
   "cell_type": "code",
   "execution_count": null,
   "metadata": {},
   "outputs": [],
   "source": [
    "del learn\n",
    "torch.cuda.empty_cache()"
   ]
  },
  {
   "cell_type": "code",
   "execution_count": null,
   "metadata": {},
   "outputs": [
    {
     "data": {
      "image/png": "[encoded data removed]",
      "text/plain": [
       "<Figure size 432x288 with 1 Axes>"
      ]
     },
     "metadata": {
      "needs_background": "light"
     },
     "output_type": "display_data"
    }
   ],
   "source": [
    "learn = Learner(dls, ReversibleLM(256, 64, n_layers=2), loss_func=CrossEntropyLossFlat())\n",
    "revmem_log = learn.profile_memory()"
   ]
  },
  {
   "cell_type": "code",
   "execution_count": null,
   "metadata": {},
   "outputs": [
    {
     "data": {
      "text/html": [
       "<div>\n",
       "<style scoped>\n",
       "    .dataframe tbody tr th:only-of-type {\n",
       "        vertical-align: middle;\n",
       "    }\n",
       "\n",
       "    .dataframe tbody tr th {\n",
       "        vertical-align: top;\n",
       "    }\n",
       "\n",
       "    .dataframe thead th {\n",
       "        text-align: right;\n",
       "    }\n",
       "</style>\n",
       "<table border=\"1\" class=\"dataframe\">\n",
       "  <thead>\n",
       "    <tr style=\"text-align: right;\">\n",
       "      <th></th>\n",
       "      <th>layer_idx</th>\n",
       "      <th>call_idx</th>\n",
       "      <th>layer_type</th>\n",
       "      <th>experiment</th>\n",
       "      <th>hook_type</th>\n",
       "      <th>mem_all</th>\n",
       "      <th>mem_reservd</th>\n",
       "      <th>input_shape</th>\n",
       "      <th>output_shape</th>\n",
       "    </tr>\n",
       "  </thead>\n",
       "  <tbody>\n",
       "    <tr>\n",
       "      <th>0</th>\n",
       "      <td>0</td>\n",
       "      <td>0</td>\n",
       "      <td>Embedding</td>\n",
       "      <td>ReversibleLM</td>\n",
       "      <td>pre</td>\n",
       "      <td>2614784</td>\n",
       "      <td>12582912</td>\n",
       "      <td>(16, 64)</td>\n",
       "      <td>None</td>\n",
       "    </tr>\n",
       "    <tr>\n",
       "      <th>1</th>\n",
       "      <td>0</td>\n",
       "      <td>1</td>\n",
       "      <td>Embedding</td>\n",
       "      <td>ReversibleLM</td>\n",
       "      <td>fwd</td>\n",
       "      <td>2876928</td>\n",
       "      <td>12582912</td>\n",
       "      <td>(16, 64)</td>\n",
       "      <td>(64, 64)</td>\n",
       "    </tr>\n",
       "    <tr>\n",
       "      <th>2</th>\n",
       "      <td>2</td>\n",
       "      <td>2</td>\n",
       "      <td>Embedding</td>\n",
       "      <td>ReversibleLM</td>\n",
       "      <td>pre</td>\n",
       "      <td>2877440</td>\n",
       "      <td>12582912</td>\n",
       "      <td>(64,)</td>\n",
       "      <td>None</td>\n",
       "    </tr>\n",
       "    <tr>\n",
       "      <th>3</th>\n",
       "      <td>2</td>\n",
       "      <td>3</td>\n",
       "      <td>Embedding</td>\n",
       "      <td>ReversibleLM</td>\n",
       "      <td>fwd</td>\n",
       "      <td>2893824</td>\n",
       "      <td>12582912</td>\n",
       "      <td>(64,)</td>\n",
       "      <td>(64,)</td>\n",
       "    </tr>\n",
       "    <tr>\n",
       "      <th>4</th>\n",
       "      <td>1</td>\n",
       "      <td>4</td>\n",
       "      <td>Dropout</td>\n",
       "      <td>ReversibleLM</td>\n",
       "      <td>pre</td>\n",
       "      <td>2877440</td>\n",
       "      <td>12582912</td>\n",
       "      <td>(16, 64, 64)</td>\n",
       "      <td>None</td>\n",
       "    </tr>\n",
       "  </tbody>\n",
       "</table>\n",
       "</div>"
      ],
      "text/plain": [
       "   layer_idx  call_idx layer_type  ... mem_reservd   input_shape  output_shape\n",
       "0          0         0  Embedding  ...    12582912      (16, 64)          None\n",
       "1          0         1  Embedding  ...    12582912      (16, 64)      (64, 64)\n",
       "2          2         2  Embedding  ...    12582912         (64,)          None\n",
       "3          2         3  Embedding  ...    12582912         (64,)         (64,)\n",
       "4          1         4    Dropout  ...    12582912  (16, 64, 64)          None\n",
       "\n",
       "[5 rows x 9 columns]"
      ]
     },
     "execution_count": null,
     "metadata": {},
     "output_type": "execute_result"
    }
   ],
   "source": [
    "revmem_log.head()"
   ]
  },
  {
   "cell_type": "markdown",
   "metadata": {},
   "source": [
    "### V1"
   ]
  },
  {
   "cell_type": "markdown",
   "metadata": {},
   "source": [
    "Is this good enough for genral purpose mem profile?"
   ]
  },
  {
   "cell_type": "code",
   "execution_count": null,
   "metadata": {},
   "outputs": [],
   "source": [
    "class MemProfileCallback(Callback):\n",
    "    \"Cancels batch after backward to avoid opt.step()\"\n",
    "    def before_batch(self):\n",
    "        # learn._split(learn.dls.one_batch())\n",
    "        # self.model.to(self.dls.device)\n",
    "        self.model.train()\n",
    "        self.learn.training = True\n",
    "    def after_backward(self):\n",
    "        print('Batch canceled')\n",
    "        raise CancelBatchException"
   ]
  },
  {
   "cell_type": "code",
   "execution_count": null,
   "metadata": {},
   "outputs": [],
   "source": [
    "# with MemHooks(flatten_model(learn.model)) as h:\n",
    "#     xb, yb = learn.dls.one_batch()\n",
    "#     out = learn.model(xb)\n",
    "#     loss = learn.loss_func(out, yb)\n",
    "#     loss.backward()\n",
    "#     mem_log = h.stored\n",
    "# mem_data = pd.DataFrame(mem_log)\n",
    "# mem_data.head()"
   ]
  },
  {
   "cell_type": "code",
   "execution_count": null,
   "metadata": {},
   "outputs": [],
   "source": [
    "learn = Learner(dls, TransformerLM(256, 64, n_layers=2), loss_func=CrossEntropyLossFlat())"
   ]
  },
  {
   "cell_type": "code",
   "execution_count": null,
   "metadata": {},
   "outputs": [
    {
     "data": {
      "text/plain": [
       "(#3) [TrainEvalCallback,Recorder,ProgressCallback]"
      ]
     },
     "execution_count": null,
     "metadata": {},
     "output_type": "execute_result"
    }
   ],
   "source": [
    "learn.cbs"
   ]
  },
  {
   "cell_type": "code",
   "execution_count": null,
   "metadata": {},
   "outputs": [],
   "source": [
    "def _with_events(self, f, event_type, ex, final=noop):\n",
    "    try:       self(f'before_{event_type}')       ;f()\n",
    "    except ex: self(f'after_cancel_{event_type}')\n",
    "    finally:   self(f'after_{event_type}')        ;final()\n",
    "\n",
    "def all_batches(self):\n",
    "    self.n_iter = len(self.dl)\n",
    "    for o in enumerate(self.dl): self.one_batch(*o)\n",
    "\n",
    "def _do_one_batch(self):\n",
    "    self.pred = self.model(*self.xb)\n",
    "    self('after_pred')\n",
    "    if len(self.yb): self.loss = self.loss_func(self.pred, *self.yb)\n",
    "    self('after_loss')\n",
    "    if not self.training or not len(self.yb): return\n",
    "    self('before_backward')\n",
    "    self._backward()\n",
    "    self('after_backward')\n",
    "    self._step()\n",
    "    self('after_step')\n",
    "    self.opt.zero_grad()\n",
    "\n",
    "def one_batch(self, i, b):\n",
    "    self.iter = i\n",
    "    self._split(b)\n",
    "    self._with_events(self._do_one_batch, 'batch', CancelBatchException)"
   ]
  },
  {
   "cell_type": "code",
   "execution_count": null,
   "metadata": {},
   "outputs": [],
   "source": [
    "# learn._split(learn.dls.one_batch())\n",
    "# with learn.added_cbs(MemProfileCallback()), learn.no_logging():\n",
    "#     try: learn._do_one_batch()\n",
    "#     except CancelBatchException:\n",
    "#         for p in learn.model.parameters(): p.grad=None"
   ]
  },
  {
   "cell_type": "code",
   "execution_count": null,
   "metadata": {},
   "outputs": [],
   "source": [
    "def profile_memory(learn, plot=True):\n",
    "    with MemHooks(flatten_model(learn.model), type(learn.model).__name__) as h:\n",
    "        learn._split(learn.dls.one_batch())\n",
    "        learn.model.to(learn.dls.device)\n",
    "        \n",
    "        with learn.added_cbs(MemProfileCallback()), learn.no_logging():\n",
    "            learn('before_batch')\n",
    "            try: learn._do_one_batch()\n",
    "            except CancelBatchException:\n",
    "                for p in learn.model.parameters(): p.grad=None\n",
    "        mem_log = pd.DataFrame(h.mem_log, copy=True)\n",
    "    if plot:\n",
    "        plt.plot(mem_log['call_idx'], mem_log['mem_all'])\n",
    "    return mem_log"
   ]
  },
  {
   "cell_type": "code",
   "execution_count": null,
   "metadata": {},
   "outputs": [
    {
     "name": "stdout",
     "output_type": "stream",
     "text": [
      "Batch canceled\n"
     ]
    },
    {
     "data": {
      "image/png": "[encoded data removed]",
      "text/plain": [
       "<Figure size 432x288 with 1 Axes>"
      ]
     },
     "metadata": {
      "needs_background": "light"
     },
     "output_type": "display_data"
    }
   ],
   "source": [
    "mem_log = profile_memory(learn)"
   ]
  },
  {
   "cell_type": "code",
   "execution_count": null,
   "metadata": {},
   "outputs": [
    {
     "data": {
      "text/html": [
       "<div>\n",
       "<style scoped>\n",
       "    .dataframe tbody tr th:only-of-type {\n",
       "        vertical-align: middle;\n",
       "    }\n",
       "\n",
       "    .dataframe tbody tr th {\n",
       "        vertical-align: top;\n",
       "    }\n",
       "\n",
       "    .dataframe thead th {\n",
       "        text-align: right;\n",
       "    }\n",
       "</style>\n",
       "<table border=\"1\" class=\"dataframe\">\n",
       "  <thead>\n",
       "    <tr style=\"text-align: right;\">\n",
       "      <th></th>\n",
       "      <th>layer_idx</th>\n",
       "      <th>call_idx</th>\n",
       "      <th>layer_type</th>\n",
       "      <th>experiment</th>\n",
       "      <th>hook_type</th>\n",
       "      <th>mem_all</th>\n",
       "      <th>mem_reservd</th>\n",
       "      <th>input_shape</th>\n",
       "      <th>output_shape</th>\n",
       "    </tr>\n",
       "  </thead>\n",
       "  <tbody>\n",
       "    <tr>\n",
       "      <th>0</th>\n",
       "      <td>0</td>\n",
       "      <td>0</td>\n",
       "      <td>Embedding</td>\n",
       "      <td>TransformerLM</td>\n",
       "      <td>pre</td>\n",
       "      <td>3811840</td>\n",
       "      <td>33554432</td>\n",
       "      <td>(16, 64)</td>\n",
       "      <td>None</td>\n",
       "    </tr>\n",
       "    <tr>\n",
       "      <th>1</th>\n",
       "      <td>0</td>\n",
       "      <td>1</td>\n",
       "      <td>Embedding</td>\n",
       "      <td>TransformerLM</td>\n",
       "      <td>fwd</td>\n",
       "      <td>4073984</td>\n",
       "      <td>33554432</td>\n",
       "      <td>(16, 64)</td>\n",
       "      <td>(64, 64)</td>\n",
       "    </tr>\n",
       "    <tr>\n",
       "      <th>2</th>\n",
       "      <td>2</td>\n",
       "      <td>2</td>\n",
       "      <td>Embedding</td>\n",
       "      <td>TransformerLM</td>\n",
       "      <td>pre</td>\n",
       "      <td>4074496</td>\n",
       "      <td>33554432</td>\n",
       "      <td>(64,)</td>\n",
       "      <td>None</td>\n",
       "    </tr>\n",
       "    <tr>\n",
       "      <th>3</th>\n",
       "      <td>2</td>\n",
       "      <td>3</td>\n",
       "      <td>Embedding</td>\n",
       "      <td>TransformerLM</td>\n",
       "      <td>fwd</td>\n",
       "      <td>4090880</td>\n",
       "      <td>33554432</td>\n",
       "      <td>(64,)</td>\n",
       "      <td>(64,)</td>\n",
       "    </tr>\n",
       "    <tr>\n",
       "      <th>4</th>\n",
       "      <td>1</td>\n",
       "      <td>4</td>\n",
       "      <td>Dropout</td>\n",
       "      <td>TransformerLM</td>\n",
       "      <td>pre</td>\n",
       "      <td>4074496</td>\n",
       "      <td>33554432</td>\n",
       "      <td>(16, 64, 64)</td>\n",
       "      <td>None</td>\n",
       "    </tr>\n",
       "  </tbody>\n",
       "</table>\n",
       "</div>"
      ],
      "text/plain": [
       "   layer_idx  call_idx layer_type  ... mem_reservd   input_shape  output_shape\n",
       "0          0         0  Embedding  ...    33554432      (16, 64)          None\n",
       "1          0         1  Embedding  ...    33554432      (16, 64)      (64, 64)\n",
       "2          2         2  Embedding  ...    33554432         (64,)          None\n",
       "3          2         3  Embedding  ...    33554432         (64,)         (64,)\n",
       "4          1         4    Dropout  ...    33554432  (16, 64, 64)          None\n",
       "\n",
       "[5 rows x 9 columns]"
      ]
     },
     "execution_count": null,
     "metadata": {},
     "output_type": "execute_result"
    }
   ],
   "source": [
    "mem_log.head()"
   ]
  },
  {
   "cell_type": "code",
   "execution_count": null,
   "metadata": {},
   "outputs": [],
   "source": [
    "@patch\n",
    "def profile_memory(self:Learner, plot=True):\n",
    "    with MemHooks(flatten_model(self.model), type(self.model).__name__) as h:\n",
    "        self._split(self.dls.one_batch())\n",
    "        self.model.to(self.dls.device)\n",
    "        with self.added_cbs(MemProfileCallback()), self.no_logging():\n",
    "            self('before_batch')\n",
    "            try: self._do_one_batch()\n",
    "            except CancelBatchException:\n",
    "                for p in self.model.parameters(): p.grad=None\n",
    "        mem_log = pd.DataFrame(h.mem_log, copy=True)\n",
    "    if plot:\n",
    "        plt.plot(mem_log['call_idx'], mem_log['mem_all'])\n",
    "    return mem_log"
   ]
  },
  {
   "cell_type": "code",
   "execution_count": null,
   "metadata": {},
   "outputs": [
    {
     "name": "stdout",
     "output_type": "stream",
     "text": [
      "Batch canceled\n"
     ]
    },
    {
     "data": {
      "text/html": [
       "<div>\n",
       "<style scoped>\n",
       "    .dataframe tbody tr th:only-of-type {\n",
       "        vertical-align: middle;\n",
       "    }\n",
       "\n",
       "    .dataframe tbody tr th {\n",
       "        vertical-align: top;\n",
       "    }\n",
       "\n",
       "    .dataframe thead th {\n",
       "        text-align: right;\n",
       "    }\n",
       "</style>\n",
       "<table border=\"1\" class=\"dataframe\">\n",
       "  <thead>\n",
       "    <tr style=\"text-align: right;\">\n",
       "      <th></th>\n",
       "      <th>layer_idx</th>\n",
       "      <th>call_idx</th>\n",
       "      <th>layer_type</th>\n",
       "      <th>experiment</th>\n",
       "      <th>hook_type</th>\n",
       "      <th>mem_all</th>\n",
       "      <th>mem_reservd</th>\n",
       "      <th>input_shape</th>\n",
       "      <th>output_shape</th>\n",
       "    </tr>\n",
       "  </thead>\n",
       "  <tbody>\n",
       "    <tr>\n",
       "      <th>0</th>\n",
       "      <td>0</td>\n",
       "      <td>0</td>\n",
       "      <td>Embedding</td>\n",
       "      <td>TransformerLM</td>\n",
       "      <td>pre</td>\n",
       "      <td>5475328</td>\n",
       "      <td>41943040</td>\n",
       "      <td>(16, 64)</td>\n",
       "      <td>None</td>\n",
       "    </tr>\n",
       "    <tr>\n",
       "      <th>1</th>\n",
       "      <td>0</td>\n",
       "      <td>1</td>\n",
       "      <td>Embedding</td>\n",
       "      <td>TransformerLM</td>\n",
       "      <td>fwd</td>\n",
       "      <td>5737472</td>\n",
       "      <td>41943040</td>\n",
       "      <td>(16, 64)</td>\n",
       "      <td>(64, 64)</td>\n",
       "    </tr>\n",
       "    <tr>\n",
       "      <th>2</th>\n",
       "      <td>2</td>\n",
       "      <td>2</td>\n",
       "      <td>Embedding</td>\n",
       "      <td>TransformerLM</td>\n",
       "      <td>pre</td>\n",
       "      <td>5737984</td>\n",
       "      <td>41943040</td>\n",
       "      <td>(64,)</td>\n",
       "      <td>None</td>\n",
       "    </tr>\n",
       "    <tr>\n",
       "      <th>3</th>\n",
       "      <td>2</td>\n",
       "      <td>3</td>\n",
       "      <td>Embedding</td>\n",
       "      <td>TransformerLM</td>\n",
       "      <td>fwd</td>\n",
       "      <td>5754368</td>\n",
       "      <td>41943040</td>\n",
       "      <td>(64,)</td>\n",
       "      <td>(64,)</td>\n",
       "    </tr>\n",
       "    <tr>\n",
       "      <th>4</th>\n",
       "      <td>1</td>\n",
       "      <td>4</td>\n",
       "      <td>Dropout</td>\n",
       "      <td>TransformerLM</td>\n",
       "      <td>pre</td>\n",
       "      <td>5737984</td>\n",
       "      <td>41943040</td>\n",
       "      <td>(16, 64, 64)</td>\n",
       "      <td>None</td>\n",
       "    </tr>\n",
       "    <tr>\n",
       "      <th>...</th>\n",
       "      <td>...</td>\n",
       "      <td>...</td>\n",
       "      <td>...</td>\n",
       "      <td>...</td>\n",
       "      <td>...</td>\n",
       "      <td>...</td>\n",
       "      <td>...</td>\n",
       "      <td>...</td>\n",
       "      <td>...</td>\n",
       "    </tr>\n",
       "    <tr>\n",
       "      <th>79</th>\n",
       "      <td>4</td>\n",
       "      <td>79</td>\n",
       "      <td>Linear</td>\n",
       "      <td>TransformerLM</td>\n",
       "      <td>bwd</td>\n",
       "      <td>8319488</td>\n",
       "      <td>44040192</td>\n",
       "      <td>(1024, 128)</td>\n",
       "      <td>(16, 64, 128)</td>\n",
       "    </tr>\n",
       "    <tr>\n",
       "      <th>80</th>\n",
       "      <td>3</td>\n",
       "      <td>80</td>\n",
       "      <td>Linear</td>\n",
       "      <td>TransformerLM</td>\n",
       "      <td>bwd</td>\n",
       "      <td>7827968</td>\n",
       "      <td>44040192</td>\n",
       "      <td>(1024, 64)</td>\n",
       "      <td>(16, 64, 64)</td>\n",
       "    </tr>\n",
       "    <tr>\n",
       "      <th>81</th>\n",
       "      <td>1</td>\n",
       "      <td>81</td>\n",
       "      <td>Dropout</td>\n",
       "      <td>TransformerLM</td>\n",
       "      <td>bwd</td>\n",
       "      <td>7582208</td>\n",
       "      <td>44040192</td>\n",
       "      <td>(16, 64, 64)</td>\n",
       "      <td>(16, 64, 64)</td>\n",
       "    </tr>\n",
       "    <tr>\n",
       "      <th>82</th>\n",
       "      <td>2</td>\n",
       "      <td>82</td>\n",
       "      <td>Embedding</td>\n",
       "      <td>TransformerLM</td>\n",
       "      <td>bwd</td>\n",
       "      <td>7401984</td>\n",
       "      <td>44040192</td>\n",
       "      <td>(512, 64)</td>\n",
       "      <td>(64, 64)</td>\n",
       "    </tr>\n",
       "    <tr>\n",
       "      <th>83</th>\n",
       "      <td>0</td>\n",
       "      <td>83</td>\n",
       "      <td>Embedding</td>\n",
       "      <td>TransformerLM</td>\n",
       "      <td>bwd</td>\n",
       "      <td>7450624</td>\n",
       "      <td>44040192</td>\n",
       "      <td>(256, 64)</td>\n",
       "      <td>(16, 64, 64)</td>\n",
       "    </tr>\n",
       "  </tbody>\n",
       "</table>\n",
       "<p>84 rows × 9 columns</p>\n",
       "</div>"
      ],
      "text/plain": [
       "    layer_idx  call_idx layer_type  ... mem_reservd   input_shape   output_shape\n",
       "0           0         0  Embedding  ...    41943040      (16, 64)           None\n",
       "1           0         1  Embedding  ...    41943040      (16, 64)       (64, 64)\n",
       "2           2         2  Embedding  ...    41943040         (64,)           None\n",
       "3           2         3  Embedding  ...    41943040         (64,)          (64,)\n",
       "4           1         4    Dropout  ...    41943040  (16, 64, 64)           None\n",
       "..        ...       ...        ...  ...         ...           ...            ...\n",
       "79          4        79     Linear  ...    44040192   (1024, 128)  (16, 64, 128)\n",
       "80          3        80     Linear  ...    44040192    (1024, 64)   (16, 64, 64)\n",
       "81          1        81    Dropout  ...    44040192  (16, 64, 64)   (16, 64, 64)\n",
       "82          2        82  Embedding  ...    44040192     (512, 64)       (64, 64)\n",
       "83          0        83  Embedding  ...    44040192     (256, 64)   (16, 64, 64)\n",
       "\n",
       "[84 rows x 9 columns]"
      ]
     },
     "execution_count": null,
     "metadata": {},
     "output_type": "execute_result"
    },
    {
     "data": {
      "image/png": "[encoded data removed]",
      "text/plain": [
       "<Figure size 432x288 with 1 Axes>"
      ]
     },
     "metadata": {
      "needs_background": "light"
     },
     "output_type": "display_data"
    }
   ],
   "source": [
    "learn = Learner(dls, TransformerLM(256, 64, n_layers=2), loss_func=CrossEntropyLossFlat())\n",
    "learn.profile_memory()"
   ]
  },
  {
   "cell_type": "code",
   "execution_count": null,
   "metadata": {},
   "outputs": [
    {
     "name": "stdout",
     "output_type": "stream",
     "text": [
      "Batch canceled\n"
     ]
    },
    {
     "data": {
      "text/html": [
       "<div>\n",
       "<style scoped>\n",
       "    .dataframe tbody tr th:only-of-type {\n",
       "        vertical-align: middle;\n",
       "    }\n",
       "\n",
       "    .dataframe tbody tr th {\n",
       "        vertical-align: top;\n",
       "    }\n",
       "\n",
       "    .dataframe thead th {\n",
       "        text-align: right;\n",
       "    }\n",
       "</style>\n",
       "<table border=\"1\" class=\"dataframe\">\n",
       "  <thead>\n",
       "    <tr style=\"text-align: right;\">\n",
       "      <th></th>\n",
       "      <th>layer_idx</th>\n",
       "      <th>call_idx</th>\n",
       "      <th>layer_type</th>\n",
       "      <th>experiment</th>\n",
       "      <th>hook_type</th>\n",
       "      <th>mem_all</th>\n",
       "      <th>mem_reservd</th>\n",
       "      <th>input_shape</th>\n",
       "      <th>output_shape</th>\n",
       "    </tr>\n",
       "  </thead>\n",
       "  <tbody>\n",
       "    <tr>\n",
       "      <th>0</th>\n",
       "      <td>0</td>\n",
       "      <td>0</td>\n",
       "      <td>Embedding</td>\n",
       "      <td>ReversibleLM</td>\n",
       "      <td>pre</td>\n",
       "      <td>7139840</td>\n",
       "      <td>44040192</td>\n",
       "      <td>(16, 64)</td>\n",
       "      <td>None</td>\n",
       "    </tr>\n",
       "    <tr>\n",
       "      <th>1</th>\n",
       "      <td>0</td>\n",
       "      <td>1</td>\n",
       "      <td>Embedding</td>\n",
       "      <td>ReversibleLM</td>\n",
       "      <td>fwd</td>\n",
       "      <td>7401984</td>\n",
       "      <td>44040192</td>\n",
       "      <td>(16, 64)</td>\n",
       "      <td>(64, 64)</td>\n",
       "    </tr>\n",
       "    <tr>\n",
       "      <th>2</th>\n",
       "      <td>2</td>\n",
       "      <td>2</td>\n",
       "      <td>Embedding</td>\n",
       "      <td>ReversibleLM</td>\n",
       "      <td>pre</td>\n",
       "      <td>7402496</td>\n",
       "      <td>44040192</td>\n",
       "      <td>(64,)</td>\n",
       "      <td>None</td>\n",
       "    </tr>\n",
       "    <tr>\n",
       "      <th>3</th>\n",
       "      <td>2</td>\n",
       "      <td>3</td>\n",
       "      <td>Embedding</td>\n",
       "      <td>ReversibleLM</td>\n",
       "      <td>fwd</td>\n",
       "      <td>7418880</td>\n",
       "      <td>44040192</td>\n",
       "      <td>(64,)</td>\n",
       "      <td>(64,)</td>\n",
       "    </tr>\n",
       "    <tr>\n",
       "      <th>4</th>\n",
       "      <td>1</td>\n",
       "      <td>4</td>\n",
       "      <td>Dropout</td>\n",
       "      <td>ReversibleLM</td>\n",
       "      <td>pre</td>\n",
       "      <td>7402496</td>\n",
       "      <td>44040192</td>\n",
       "      <td>(16, 64, 64)</td>\n",
       "      <td>None</td>\n",
       "    </tr>\n",
       "    <tr>\n",
       "      <th>...</th>\n",
       "      <td>...</td>\n",
       "      <td>...</td>\n",
       "      <td>...</td>\n",
       "      <td>...</td>\n",
       "      <td>...</td>\n",
       "      <td>...</td>\n",
       "      <td>...</td>\n",
       "      <td>...</td>\n",
       "      <td>...</td>\n",
       "    </tr>\n",
       "    <tr>\n",
       "      <th>250</th>\n",
       "      <td>4</td>\n",
       "      <td>250</td>\n",
       "      <td>Linear</td>\n",
       "      <td>ReversibleLM</td>\n",
       "      <td>bwd</td>\n",
       "      <td>20872192</td>\n",
       "      <td>44040192</td>\n",
       "      <td>(1024, 64)</td>\n",
       "      <td>(16, 64, 64)</td>\n",
       "    </tr>\n",
       "    <tr>\n",
       "      <th>251</th>\n",
       "      <td>28</td>\n",
       "      <td>251</td>\n",
       "      <td>Linear</td>\n",
       "      <td>ReversibleLM</td>\n",
       "      <td>bwd</td>\n",
       "      <td>20872192</td>\n",
       "      <td>44040192</td>\n",
       "      <td>(1024, 64)</td>\n",
       "      <td>(16, 64, 64)</td>\n",
       "    </tr>\n",
       "    <tr>\n",
       "      <th>252</th>\n",
       "      <td>1</td>\n",
       "      <td>252</td>\n",
       "      <td>Dropout</td>\n",
       "      <td>ReversibleLM</td>\n",
       "      <td>bwd</td>\n",
       "      <td>9772032</td>\n",
       "      <td>44040192</td>\n",
       "      <td>(16, 64, 64)</td>\n",
       "      <td>(16, 64, 64)</td>\n",
       "    </tr>\n",
       "    <tr>\n",
       "      <th>253</th>\n",
       "      <td>2</td>\n",
       "      <td>253</td>\n",
       "      <td>Embedding</td>\n",
       "      <td>ReversibleLM</td>\n",
       "      <td>bwd</td>\n",
       "      <td>9591808</td>\n",
       "      <td>44040192</td>\n",
       "      <td>(512, 64)</td>\n",
       "      <td>(64, 64)</td>\n",
       "    </tr>\n",
       "    <tr>\n",
       "      <th>254</th>\n",
       "      <td>0</td>\n",
       "      <td>254</td>\n",
       "      <td>Embedding</td>\n",
       "      <td>ReversibleLM</td>\n",
       "      <td>bwd</td>\n",
       "      <td>9640448</td>\n",
       "      <td>44040192</td>\n",
       "      <td>(256, 64)</td>\n",
       "      <td>(16, 64, 64)</td>\n",
       "    </tr>\n",
       "  </tbody>\n",
       "</table>\n",
       "<p>255 rows × 9 columns</p>\n",
       "</div>"
      ],
      "text/plain": [
       "     layer_idx  call_idx layer_type  ... mem_reservd   input_shape  output_shape\n",
       "0            0         0  Embedding  ...    44040192      (16, 64)          None\n",
       "1            0         1  Embedding  ...    44040192      (16, 64)      (64, 64)\n",
       "2            2         2  Embedding  ...    44040192         (64,)          None\n",
       "3            2         3  Embedding  ...    44040192         (64,)         (64,)\n",
       "4            1         4    Dropout  ...    44040192  (16, 64, 64)          None\n",
       "..         ...       ...        ...  ...         ...           ...           ...\n",
       "250          4       250     Linear  ...    44040192    (1024, 64)  (16, 64, 64)\n",
       "251         28       251     Linear  ...    44040192    (1024, 64)  (16, 64, 64)\n",
       "252          1       252    Dropout  ...    44040192  (16, 64, 64)  (16, 64, 64)\n",
       "253          2       253  Embedding  ...    44040192     (512, 64)      (64, 64)\n",
       "254          0       254  Embedding  ...    44040192     (256, 64)  (16, 64, 64)\n",
       "\n",
       "[255 rows x 9 columns]"
      ]
     },
     "execution_count": null,
     "metadata": {},
     "output_type": "execute_result"
    },
    {
     "data": {
      "image/png": "[encoded data removed]",
      "text/plain": [
       "<Figure size 432x288 with 1 Axes>"
      ]
     },
     "metadata": {
      "needs_background": "light"
     },
     "output_type": "display_data"
    }
   ],
   "source": [
    "learn = Learner(dls, ReversibleLM(256, 64, n_layers=2), loss_func=CrossEntropyLossFlat())\n",
    "mem_log = learn.profile_memory()"
   ]
  },
  {
   "cell_type": "code",
   "execution_count": null,
   "metadata": {},
   "outputs": [
    {
     "name": "stdout",
     "output_type": "stream",
     "text": [
      "Batch canceled\n"
     ]
    },
    {
     "data": {
      "image/png": "[encoded data removed]",
      "text/plain": [
       "<Figure size 432x288 with 1 Axes>"
      ]
     },
     "metadata": {
      "needs_background": "light"
     },
     "output_type": "display_data"
    }
   ],
   "source": [
    "learn = Learner(dls, ReversibleLM(256, 64, n_layers=2, rev_thres=1024), loss_func=CrossEntropyLossFlat())\n",
    "mem_log = learn.profile_memory()"
   ]
  },
  {
   "cell_type": "code",
   "execution_count": null,
   "metadata": {},
   "outputs": [],
   "source": []
  }
 ],
 "metadata": {
  "kernelspec": {
   "display_name": "Python 3",
   "language": "python",
   "name": "python3"
  }
 },
 "nbformat": 4,
 "nbformat_minor": 4
}
