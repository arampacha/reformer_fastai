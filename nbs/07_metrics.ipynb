{
 "cells": [
  {
   "cell_type": "code",
   "execution_count": null,
   "metadata": {},
   "outputs": [],
   "source": [
    "# default_exp metrics"
   ]
  },
  {
   "cell_type": "code",
   "execution_count": null,
   "metadata": {},
   "outputs": [],
   "source": [
    "#hide\n",
    "from nbdev.showdoc import *"
   ]
  },
  {
   "cell_type": "code",
   "execution_count": null,
   "metadata": {},
   "outputs": [],
   "source": [
    "#hide\n",
    "%load_ext autoreload\n",
    "%autoreload 2"
   ]
  },
  {
   "cell_type": "markdown",
   "metadata": {},
   "source": [
    "# Metrics"
   ]
  },
  {
   "cell_type": "code",
   "execution_count": null,
   "metadata": {},
   "outputs": [],
   "source": [
    "#export\n",
    "import torch, math\n",
    "from fastai.basics import *\n",
    "from functools import partial"
   ]
  },
  {
   "cell_type": "code",
   "execution_count": null,
   "metadata": {},
   "outputs": [],
   "source": [
    "#export\n",
    "def _masked_accuracy(inp, targ, ignore=-100, dim=-1):\n",
    "    x=0\n",
    "    pred, targ = flatten_check(inp.argmax(dim=dim), targ)\n",
    "    mask = targ != ignore\n",
    "    return (pred[mask] == targ[mask]).float().mean()\n",
    "\n",
    "class MaskedAccuracy(AvgMetric):\n",
    "    \"Computes accuracy skipping values where `targ == ignore`\"\n",
    "    def __init__(self, ignore:int=-100, dim:int=-1):\n",
    "        self.func = partial(_masked_accuracy, ignore=ignore, dim=dim)\n",
    "    @property\n",
    "    def name(self): return 'masked_accuracy'"
   ]
  },
  {
   "cell_type": "code",
   "execution_count": null,
   "metadata": {},
   "outputs": [],
   "source": [
    "pred = torch.tensor([[ 0, 0, 0, 0, 0, 0, 0, 0, 1, 0],\n",
    "                     [ 0, 0, 0, 0, 0, 1, 0, 1, 0, 0],\n",
    "                     [ 1, 1, 1, 1, 1, 0, 1, 0, 0, 1]]).t()\n",
    "targ = torch.tensor([[-1,-1,-1,-1,-1, 1, 2, 1, 0, 0]])\n",
    "acc = MaskedAccuracy(-1)\n",
    "assert acc.func(pred[None], targ) == 0.8"
   ]
  },
  {
   "cell_type": "code",
   "execution_count": null,
   "metadata": {},
   "outputs": [],
   "source": [
    "assert 0==1"
   ]
  },
  {
   "cell_type": "code",
   "execution_count": null,
   "metadata": {},
   "outputs": [],
   "source": [
    "#exports\n",
    "class BPC(AvgLoss):\n",
    "    \"Bit per character for Language Models\"\n",
    "    @property\n",
    "    def value(self): return self.total/self.count/math.log(2) if self.count != 0 else None\n",
    "    @property\n",
    "    def name(self):  return \"bpc\"\n",
    "    \n",
    "bpc = BPC()"
   ]
  },
  {
   "cell_type": "markdown",
   "metadata": {},
   "source": [
    "Bits-Per-Character was used as a metric for the language modelling tasks, where a character-level tokenizer was used. Calculated as `CrossEntropy/log(2)`"
   ]
  },
  {
   "cell_type": "code",
   "execution_count": null,
   "metadata": {},
   "outputs": [
    {
     "name": "stdout",
     "output_type": "stream",
     "text": [
      "Converted 00_core.ipynb.\n",
      "Converted 01_layers.ipynb.\n",
      "Converted 02_attention.ipynb.\n",
      "Converted 03_transformer.ipynb.\n",
      "Converted 04_reformer.ipynb.\n",
      "Converted 05_tokenizers.ipynb.\n",
      "Converted 06_data.ipynb.\n",
      "Converted 07_metrics.ipynb.\n",
      "Converted 08_optimizers.ipynb.\n",
      "Converted 10_experiment.synthetic-task.ipynb.\n",
      "Converted 11_experiment.enwik8_baseline.ipynb.\n",
      "Converted 12_experiment.enwik8_sharedQK.ipynb.\n",
      "Converted 13_experiment.enwik8_reversible.ipynb.\n",
      "Converted index.ipynb.\n"
     ]
    }
   ],
   "source": [
    "#hide\n",
    "from nbdev.export import notebook2script; notebook2script()"
   ]
  },
  {
   "cell_type": "code",
   "execution_count": null,
   "metadata": {},
   "outputs": [],
   "source": []
  }
 ],
 "metadata": {
  "kernelspec": {
   "display_name": "Python 3",
   "language": "python",
   "name": "python3"
  }
 },
 "nbformat": 4,
 "nbformat_minor": 4
}
