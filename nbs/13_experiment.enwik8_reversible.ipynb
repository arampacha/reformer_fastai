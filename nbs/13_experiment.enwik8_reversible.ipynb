{
 "cells": [
  {
   "cell_type": "code",
   "execution_count": null,
   "metadata": {},
   "outputs": [],
   "source": [
    "#hide\n",
    "import sys\n",
    "if 'google.colab' in sys.modules:\n",
    "    !pip install -Uqq fastai einops datasets axial_positional_embedding\n",
    "    !pip install -qq git+git://github.com/arampacha/reformer_fastai.git"
   ]
  },
  {
   "cell_type": "code",
   "execution_count": null,
   "metadata": {},
   "outputs": [],
   "source": [
    "#hide\n",
    "%load_ext autoreload\n",
    "%autoreload 2"
   ]
  },
  {
   "cell_type": "code",
   "execution_count": null,
   "metadata": {},
   "outputs": [],
   "source": [
    "#all_slow"
   ]
  },
  {
   "cell_type": "code",
   "execution_count": null,
   "metadata": {},
   "outputs": [],
   "source": [
    "from fastai.text.all import *\n",
    "\n",
    "from reformer_fastai.tokenizers import ByteTextTokenizer\n",
    "from reformer_fastai.reformer import ReversibleLM\n",
    "from reformer_fastai.data import read_and_prepare_data, read_lines\n",
    "from reformer_fastai.metrics import BPC"
   ]
  },
  {
   "cell_type": "markdown",
   "metadata": {},
   "source": [
    "## Experiment Tracking"
   ]
  },
  {
   "cell_type": "markdown",
   "metadata": {},
   "source": [
    "Make sure you have wandb and are logged in:"
   ]
  },
  {
   "cell_type": "code",
   "execution_count": null,
   "metadata": {},
   "outputs": [
    {
     "name": "stdout",
     "output_type": "stream",
     "text": [
      "\u001b[K     |████████████████████████████████| 1.8MB 8.7MB/s \n",
      "\u001b[K     |████████████████████████████████| 102kB 12.6MB/s \n",
      "\u001b[K     |████████████████████████████████| 81kB 9.6MB/s \n",
      "\u001b[K     |████████████████████████████████| 163kB 19.7MB/s \n",
      "\u001b[K     |████████████████████████████████| 133kB 22.8MB/s \n",
      "\u001b[K     |████████████████████████████████| 71kB 12.0MB/s \n",
      "\u001b[?25h  Building wheel for subprocess32 (setup.py) ... \u001b[?25l\u001b[?25hdone\n",
      "\u001b[34m\u001b[1mwandb\u001b[0m: You can find your API key in your browser here: https://wandb.ai/authorize\n",
      "\u001b[34m\u001b[1mwandb\u001b[0m: Paste an API key from your profile and hit enter: \n",
      "\u001b[34m\u001b[1mwandb\u001b[0m: Appending key for api.wandb.ai to your netrc file: /root/.netrc\n"
     ]
    }
   ],
   "source": [
    "# hide\n",
    "!pip install -Uqq wandb\n",
    "!wandb login"
   ]
  },
  {
   "cell_type": "markdown",
   "metadata": {},
   "source": [
    "Load Experiment Tracking with Weights & Biases:"
   ]
  },
  {
   "cell_type": "code",
   "execution_count": null,
   "metadata": {},
   "outputs": [],
   "source": [
    "import wandb\n",
    "from fastai.callback.wandb import *\n",
    "\n",
    "WANDB_NAME = 'enc_lm_enwik8_reversible'\n",
    "GROUP = 'TEST'     # Group to add a run to, e.g. \"LSH\" for LSH experiments, \"REVERSIBLE\" for reversible layers\n",
    "NOTES = 'ReversibleLM on enwik8 sl 1024 using irrev blocks'\n",
    "CONFIG = {}\n",
    "TAGS = ['lm','rev','enwik8']"
   ]
  },
  {
   "cell_type": "markdown",
   "metadata": {},
   "source": [
    "Initialise wandb logging, pleaes **do not change** `project` or `entity` (that that everything gets logged to the same place)"
   ]
  },
  {
   "cell_type": "code",
   "execution_count": null,
   "metadata": {},
   "outputs": [],
   "source": [
    "wandb.init(reinit=True, project=\"reformer-fastai\", entity=\"fastai_community\", \n",
    "           name=WANDB_NAME, group=GROUP, notes=NOTES, config=CONFIG, tags=TAGS)"
   ]
  },
  {
   "cell_type": "markdown",
   "metadata": {},
   "source": [
    "## Download and Unpack enwik8 Data\n",
    "\n",
    "Download and unzip enwik8 data"
   ]
  },
  {
   "cell_type": "code",
   "execution_count": null,
   "metadata": {},
   "outputs": [
    {
     "name": "stdout",
     "output_type": "stream",
     "text": [
      "--2020-12-29 14:12:17--  http://mattmahoney.net/dc/enwik8.zip\n",
      "Resolving mattmahoney.net (mattmahoney.net)... 67.195.197.24\n",
      "Connecting to mattmahoney.net (mattmahoney.net)|67.195.197.24|:80... connected.\n",
      "HTTP request sent, awaiting response... 200 OK\n",
      "Length: 36445475 (35M) [application/zip]\n",
      "Saving to: ‘enwik8.zip’\n",
      "\n",
      "enwik8.zip          100%[===================>]  34.76M   991KB/s    in 38s     \n",
      "\n",
      "2020-12-29 14:12:55 (934 KB/s) - ‘enwik8.zip’ saved [36445475/36445475]\n",
      "\n",
      "Archive:  enwik8.zip\n",
      "  inflating: storage/enwik8          \n",
      "data  en_ga.csv  enwik8\n",
      "head: cannot open 'data/enwik8' for reading: No such file or directory\n"
     ]
    }
   ],
   "source": [
    "#hide_output\n",
    "!wget http://mattmahoney.net/dc/enwik8.zip\n",
    "!unzip enwik8.zip -d storage/\n",
    "!ls storage\n",
    "!head -n 10 data/enwik8"
   ]
  },
  {
   "cell_type": "markdown",
   "metadata": {},
   "source": [
    "## Prepare Data"
   ]
  },
  {
   "cell_type": "code",
   "execution_count": null,
   "metadata": {},
   "outputs": [
    {
     "data": {
      "text/html": [
       "<div>\n",
       "<style scoped>\n",
       "    .dataframe tbody tr th:only-of-type {\n",
       "        vertical-align: middle;\n",
       "    }\n",
       "\n",
       "    .dataframe tbody tr th {\n",
       "        vertical-align: top;\n",
       "    }\n",
       "\n",
       "    .dataframe thead th {\n",
       "        text-align: right;\n",
       "    }\n",
       "</style>\n",
       "<table border=\"1\" class=\"dataframe\">\n",
       "  <thead>\n",
       "    <tr style=\"text-align: right;\">\n",
       "      <th></th>\n",
       "      <th>text</th>\n",
       "    </tr>\n",
       "  </thead>\n",
       "  <tbody>\n",
       "    <tr>\n",
       "      <th>0</th>\n",
       "      <td>&lt;mediawiki xmlns=\"http://www.mediawiki.org/xml/export-0.3/\" xmlns:xsi=\"http://www.w3.org/2001/XMLSchema-instance\" xsi:schemaLocation=\"http://www.mediawiki.org/xml/export-0.3/ http://www.mediawiki.org/xml/export-0.3.xsd\" version=\"0.3\" xml:lang=\"en\"&gt;\\n</td>\n",
       "    </tr>\n",
       "    <tr>\n",
       "      <th>1</th>\n",
       "      <td>&lt;siteinfo&gt;\\n</td>\n",
       "    </tr>\n",
       "    <tr>\n",
       "      <th>2</th>\n",
       "      <td>&lt;sitename&gt;Wikipedia&lt;/sitename&gt;\\n</td>\n",
       "    </tr>\n",
       "    <tr>\n",
       "      <th>3</th>\n",
       "      <td>&lt;base&gt;http://en.wikipedia.org/wiki/Main_Page&lt;/base&gt;\\n</td>\n",
       "    </tr>\n",
       "    <tr>\n",
       "      <th>4</th>\n",
       "      <td>&lt;generator&gt;MediaWiki 1.6alpha&lt;/generator&gt;\\n</td>\n",
       "    </tr>\n",
       "  </tbody>\n",
       "</table>\n",
       "</div>"
      ],
      "text/plain": [
       "                                                                                                                                                                                                                                                         text\n",
       "0  <mediawiki xmlns=\"http://www.mediawiki.org/xml/export-0.3/\" xmlns:xsi=\"http://www.w3.org/2001/XMLSchema-instance\" xsi:schemaLocation=\"http://www.mediawiki.org/xml/export-0.3/ http://www.mediawiki.org/xml/export-0.3.xsd\" version=\"0.3\" xml:lang=\"en\">\\n\n",
       "1                                                                                                                                                                                                                                                <siteinfo>\\n\n",
       "2                                                                                                                                                                                                                            <sitename>Wikipedia</sitename>\\n\n",
       "3                                                                                                                                                                                                       <base>http://en.wikipedia.org/wiki/Main_Page</base>\\n\n",
       "4                                                                                                                                                                                                                 <generator>MediaWiki 1.6alpha</generator>\\n"
      ]
     },
     "execution_count": null,
     "metadata": {},
     "output_type": "execute_result"
    }
   ],
   "source": [
    "df = pd.DataFrame({'text':read_lines('storage/enwik8')})\n",
    "df.head()"
   ]
  },
  {
   "cell_type": "code",
   "execution_count": null,
   "metadata": {},
   "outputs": [],
   "source": [
    "btt = ByteTextTokenizer(is_lm=True, add_bos=False, add_eos=False)"
   ]
  },
  {
   "cell_type": "code",
   "execution_count": null,
   "metadata": {},
   "outputs": [
    {
     "name": "stdout",
     "output_type": "stream",
     "text": [
      "CPU times: user 2min 27s, sys: 2.72 s, total: 2min 30s\n",
      "Wall time: 2min 29s\n"
     ]
    }
   ],
   "source": [
    "%%time\n",
    "df['toks'] = df['text'].apply(btt)\n",
    "df['lens'] = df['toks'].apply(len)\n",
    "df['lens_cum_sum'] = df.lens.cumsum()"
   ]
  },
  {
   "cell_type": "code",
   "execution_count": null,
   "metadata": {},
   "outputs": [],
   "source": [
    "train_cutoff = df.lens.sum() - 10_000_000  # keep all but 10M characters for val and test\n",
    "train_idxs = df.loc[df['lens_cum_sum'] < train_cutoff].index.values\n",
    "train_idxs = list(range(0, max(train_idxs)))\n",
    "\n",
    "remaining_idxs = len(df) - max(train_idxs)\n",
    "validation_idxs = list(range(max(train_idxs), max(train_idxs) + int(remaining_idxs/2)))\n",
    "test_idxs = list(range(max(validation_idxs), len(df)))\n",
    "\n",
    "splits = [train_idxs, validation_idxs]"
   ]
  },
  {
   "cell_type": "code",
   "execution_count": null,
   "metadata": {},
   "outputs": [],
   "source": [
    "#hide\n",
    "@patch\n",
    "def create_item(self:LMDataLoader, seq):\n",
    "    if seq>=self.n: raise IndexError\n",
    "    sl = self.last_len if seq//self.bs==self.n_batches-1 else self.seq_len\n",
    "    st = (seq%self.bs)*self.bl + (seq//self.bs)*self.seq_len\n",
    "    txt = self.chunks[st : st+sl+1]    \n",
    "    return LMTensorText(txt[:-1]),txt[1:]"
   ]
  },
  {
   "cell_type": "code",
   "execution_count": null,
   "metadata": {},
   "outputs": [],
   "source": [
    "tfms = [attrgetter(\"text\"), btt]\n",
    "dsets = Datasets(df, [tfms], splits=splits, dl_type=LMDataLoader)"
   ]
  },
  {
   "cell_type": "code",
   "execution_count": null,
   "metadata": {},
   "outputs": [
    {
     "name": "stdout",
     "output_type": "stream",
     "text": [
      "CPU times: user 32.2 s, sys: 1.09 s, total: 33.3 s\n",
      "Wall time: 32.9 s\n"
     ]
    }
   ],
   "source": [
    "%%time\n",
    "bs, sl = 8, 1024\n",
    "# pad_seq2seq = partial(pad_input, pad_idx=bte.pad_token_id, pad_fields=[0,1])\n",
    "dl_kwargs = [{'lens':df['lens'].values[train_idxs]},\n",
    "             {'val_lens':df['lens'].values[validation_idxs]}]\n",
    "dls = dsets.dataloaders(bs=bs, seq_len=sl, dl_kwargs=dl_kwargs, shuffle_train=True, n_workers=2)"
   ]
  },
  {
   "cell_type": "code",
   "execution_count": null,
   "metadata": {},
   "outputs": [
    {
     "data": {
      "text/html": [
       "<table border=\"1\" class=\"dataframe\">\n",
       "  <thead>\n",
       "    <tr style=\"text-align: right;\">\n",
       "      <th></th>\n",
       "      <th>text</th>\n",
       "      <th>text_</th>\n",
       "    </tr>\n",
       "  </thead>\n",
       "  <tbody>\n",
       "    <tr>\n",
       "      <th>0</th>\n",
       "      <td>{{featured article}}&lt;/text&gt;\\n[[Category:Video and movie technology]]\\nThe lost ''Heimdallargaldr'' may have contained the following adventure which was also referenced in [[Úlfr Uggason]]'s skaldic poem ''[[Húsdrápa]]'' of which only fragments are perserved:\\n\\nCoppola was born into a creative and supportive [[Italian American]] family in [[Detroit, Michigan]], but he grew up in a New York suburb. His father [[Carmine Coppola]], was a a composer and musician. His mother is alleged to have been an actress, but this is not fact. He studied theatre at [[ Hofstra University]] prior to studying film at [[UCLA]] and while there, he made numerous short films, including some soft core porn films. In the early 1960s, he started his professional career making low-budget films with [[Roger Corman]] and writing screenplays. His first notable motion picture was made for Corman, the low-budget ''[[Dementia 13]]'' (which is available on video).\\nCrowley learnt to play chess at the age of six and first competed</td>\n",
       "      <td>{featured article}}&lt;/text&gt;\\n[[Category:Video and movie technology]]\\nThe lost ''Heimdallargaldr'' may have contained the following adventure which was also referenced in [[Úlfr Uggason]]'s skaldic poem ''[[Húsdrápa]]'' of which only fragments are perserved:\\n\\nCoppola was born into a creative and supportive [[Italian American]] family in [[Detroit, Michigan]], but he grew up in a New York suburb. His father [[Carmine Coppola]], was a a composer and musician. His mother is alleged to have been an actress, but this is not fact. He studied theatre at [[ Hofstra University]] prior to studying film at [[UCLA]] and while there, he made numerous short films, including some soft core porn films. In the early 1960s, he started his professional career making low-budget films with [[Roger Corman]] and writing screenplays. His first notable motion picture was made for Corman, the low-budget ''[[Dementia 13]]'' (which is available on video).\\nCrowley learnt to play chess at the age of six and first competed</td>\n",
       "    </tr>\n",
       "    <tr>\n",
       "      <th>1</th>\n",
       "      <td>as rejected by the military; in 1821 he visited the National Institute for the Blind in Paris, France, where he met [[Louis Braille]]. Louis identified the major failing of the code, which  was that the human finger could not encompass the whole symbol without moving, and so could not move rapidly from one symbol to another. His modification was to use a 6 dot cell &amp;amp;mdash; the braille system &amp;amp;mdash; which revolutionized written communication for the blind.\\n*[http://home.earthlink.net/~mrob/pub/math/ln-2deep.html Robert Munafo's Versions of Ackermann's Function] describes several variations on the definition of ''A''.\\n*[[Ed Koch]] 1945 - mayor of [[New York City]], [[1978]] to [[1989]]\\n    &lt;revision&gt;\\n      &lt;contributor&gt;\\n| [[Image:Approvalballotname.png|160px]]\\nC99 adopted some features that first appeared in C++. Among them are:\\n*&amp;quot;Beastchild&amp;quot; (1970)\\n*[[Virtual documents]]\\n*[[United States]] [[Adult Soccer Association]]\\nFortinbras enters with English ambassadors. Shocked by the carnage, he ord</td>\n",
       "      <td>s rejected by the military; in 1821 he visited the National Institute for the Blind in Paris, France, where he met [[Louis Braille]]. Louis identified the major failing of the code, which  was that the human finger could not encompass the whole symbol without moving, and so could not move rapidly from one symbol to another. His modification was to use a 6 dot cell &amp;amp;mdash; the braille system &amp;amp;mdash; which revolutionized written communication for the blind.\\n*[http://home.earthlink.net/~mrob/pub/math/ln-2deep.html Robert Munafo's Versions of Ackermann's Function] describes several variations on the definition of ''A''.\\n*[[Ed Koch]] 1945 - mayor of [[New York City]], [[1978]] to [[1989]]\\n    &lt;revision&gt;\\n      &lt;contributor&gt;\\n| [[Image:Approvalballotname.png|160px]]\\nC99 adopted some features that first appeared in C++. Among them are:\\n*&amp;quot;Beastchild&amp;quot; (1970)\\n*[[Virtual documents]]\\n*[[United States]] [[Adult Soccer Association]]\\nFortinbras enters with English ambassadors. Shocked by the carnage, he orde</td>\n",
       "    </tr>\n",
       "  </tbody>\n",
       "</table>"
      ],
      "text/plain": [
       "<IPython.core.display.HTML object>"
      ]
     },
     "metadata": {},
     "output_type": "display_data"
    }
   ],
   "source": [
    "#collapse_output\n",
    "dls.show_batch(max_n=2,)"
   ]
  },
  {
   "cell_type": "code",
   "execution_count": null,
   "metadata": {},
   "outputs": [],
   "source": [
    "vocab_sz = btt.vocab_size"
   ]
  },
  {
   "cell_type": "code",
   "execution_count": null,
   "metadata": {},
   "outputs": [
    {
     "data": {
      "text/plain": [
       "(torch.Size([8, 1024]), torch.Size([8, 1024]))"
      ]
     },
     "execution_count": null,
     "metadata": {},
     "output_type": "execute_result"
    }
   ],
   "source": [
    "xb, yb = dls.one_batch()\n",
    "xb.shape, yb.shape"
   ]
  },
  {
   "cell_type": "code",
   "execution_count": null,
   "metadata": {},
   "outputs": [],
   "source": [
    "#hide\n",
    "del xb, yb\n",
    "torch.cuda.empty_cache()"
   ]
  },
  {
   "cell_type": "markdown",
   "metadata": {},
   "source": [
    "## Training"
   ]
  },
  {
   "cell_type": "code",
   "execution_count": null,
   "metadata": {},
   "outputs": [
    {
     "name": "stderr",
     "output_type": "stream",
     "text": [
      "Failed to query for notebook name, you can set it manually with the WANDB_NOTEBOOK_NAME environment variable\n",
      "\u001b[34m\u001b[1mwandb\u001b[0m: Currently logged in as: \u001b[33mfastai_community\u001b[0m (use `wandb login --relogin` to force relogin)\n"
     ]
    },
    {
     "data": {
      "text/html": [
       "\n",
       "                Tracking run with wandb version 0.10.12<br/>\n",
       "                Syncing run <strong style=\"color:#cdcd00\">enc_lm_enwik8_reversible</strong> to <a href=\"https://wandb.ai\" target=\"_blank\">Weights & Biases</a> <a href=\"https://docs.wandb.com/integrations/jupyter.html\" target=\"_blank\">(Documentation)</a>.<br/>\n",
       "                Project page: <a href=\"https://wandb.ai/fastai_community/reformer-fastai\" target=\"_blank\">https://wandb.ai/fastai_community/reformer-fastai</a><br/>\n",
       "                Run page: <a href=\"https://wandb.ai/fastai_community/reformer-fastai/runs/2x2okg8k\" target=\"_blank\">https://wandb.ai/fastai_community/reformer-fastai/runs/2x2okg8k</a><br/>\n",
       "                Run data is saved locally in <code>/notebooks/wandb/run-20201229_141904-2x2okg8k</code><br/><br/>\n",
       "            "
      ],
      "text/plain": [
       "<IPython.core.display.HTML object>"
      ]
     },
     "metadata": {},
     "output_type": "display_data"
    },
    {
     "data": {
      "text/html": [
       "<h1>Run(2x2okg8k)</h1><p></p><iframe src=\"https://wandb.ai/fastai_community/reformer-fastai/runs/2x2okg8k\" style=\"border:none;width:100%;height:400px\"></iframe>"
      ],
      "text/plain": [
       "<wandb.sdk.wandb_run.Run at 0x7f156a8ddba8>"
      ]
     },
     "execution_count": null,
     "metadata": {},
     "output_type": "execute_result"
    }
   ],
   "source": [
    "#hide_output\n",
    "wandb.init(reinit=True, project=\"reformer-fastai\", entity=\"fastai_community\", \n",
    "           name=WANDB_NAME, group=GROUP, notes=NOTES, tags=TAGS, config=CONFIG)"
   ]
  },
  {
   "cell_type": "code",
   "execution_count": null,
   "metadata": {},
   "outputs": [],
   "source": [
    "learn = Learner(dls, ReversibleLM(vocab_sz, 1024, n_layers=3, max_seq_len=sl, rev_thres=1025), #using irrev blocks for speed\n",
    "                loss_func=CrossEntropyLossFlat(),\n",
    "                metrics=[accuracy, perplexity, BPC()]).to_native_fp16()"
   ]
  },
  {
   "cell_type": "code",
   "execution_count": null,
   "metadata": {},
   "outputs": [
    {
     "data": {
      "text/html": [],
      "text/plain": [
       "<IPython.core.display.HTML object>"
      ]
     },
     "metadata": {},
     "output_type": "display_data"
    },
    {
     "data": {
      "text/plain": [
       "SuggestedLRs(lr_min=0.012022644281387329, lr_steep=0.10000000149011612)"
      ]
     },
     "execution_count": null,
     "metadata": {},
     "output_type": "execute_result"
    },
    {
     "data": {
      "image/png": "[encoded data removed]",
      "text/plain": [
       "<Figure size 432x288 with 1 Axes>"
      ]
     },
     "metadata": {
      "needs_background": "light"
     },
     "output_type": "display_data"
    }
   ],
   "source": [
    "learn.lr_find()"
   ]
  },
  {
   "cell_type": "code",
   "execution_count": null,
   "metadata": {},
   "outputs": [
    {
     "data": {
      "text/html": [
       "<table border=\"1\" class=\"dataframe\">\n",
       "  <thead>\n",
       "    <tr style=\"text-align: left;\">\n",
       "      <th>epoch</th>\n",
       "      <th>train_loss</th>\n",
       "      <th>valid_loss</th>\n",
       "      <th>accuracy</th>\n",
       "      <th>perplexity</th>\n",
       "      <th>bpc</th>\n",
       "      <th>time</th>\n",
       "    </tr>\n",
       "  </thead>\n",
       "  <tbody>\n",
       "    <tr>\n",
       "      <td>0</td>\n",
       "      <td>1.469327</td>\n",
       "      <td>1.407735</td>\n",
       "      <td>0.587373</td>\n",
       "      <td>4.086687</td>\n",
       "      <td>0.975767</td>\n",
       "      <td>1:44:32</td>\n",
       "    </tr>\n",
       "    <tr>\n",
       "      <td>1</td>\n",
       "      <td>1.372737</td>\n",
       "      <td>1.323550</td>\n",
       "      <td>0.609427</td>\n",
       "      <td>3.756733</td>\n",
       "      <td>0.917415</td>\n",
       "      <td>1:44:39</td>\n",
       "    </tr>\n",
       "    <tr>\n",
       "      <td>2</td>\n",
       "      <td>1.324163</td>\n",
       "      <td>1.289039</td>\n",
       "      <td>0.618856</td>\n",
       "      <td>3.629295</td>\n",
       "      <td>0.893493</td>\n",
       "      <td>1:44:52</td>\n",
       "    </tr>\n",
       "  </tbody>\n",
       "</table>"
      ],
      "text/plain": [
       "<IPython.core.display.HTML object>"
      ]
     },
     "metadata": {},
     "output_type": "display_data"
    }
   ],
   "source": [
    "learn.fit_one_cycle(3, 5e-4, cbs=WandbCallback(log_model=False, log_preds=False))"
   ]
  },
  {
   "cell_type": "code",
   "execution_count": null,
   "metadata": {},
   "outputs": [
    {
     "data": {
      "image/png": "[encoded data removed]",
      "text/plain": [
       "<Figure size 432x288 with 1 Axes>"
      ]
     },
     "metadata": {
      "needs_background": "light"
     },
     "output_type": "display_data"
    }
   ],
   "source": [
    "learn.recorder.plot_loss()"
   ]
  },
  {
   "cell_type": "code",
   "execution_count": null,
   "metadata": {},
   "outputs": [],
   "source": []
  }
 ],
 "metadata": {
  "kernelspec": {
   "display_name": "Python 3",
   "language": "python",
   "name": "python3"
  }
 },
 "nbformat": 4,
 "nbformat_minor": 4
}
