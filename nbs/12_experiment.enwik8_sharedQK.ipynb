{
 "cells": [
  {
   "cell_type": "code",
   "execution_count": null,
   "metadata": {},
   "outputs": [
    {
     "name": "stdout",
     "output_type": "stream",
     "text": [
      "\u001b[K     |████████████████████████████████| 194kB 8.1MB/s \n",
      "\u001b[K     |████████████████████████████████| 163kB 8.3MB/s \n",
      "\u001b[K     |████████████████████████████████| 61kB 8.3MB/s \n",
      "\u001b[K     |████████████████████████████████| 245kB 15.6MB/s \n",
      "\u001b[K     |████████████████████████████████| 17.7MB 211kB/s \n",
      "\u001b[?25h  Building wheel for axial-positional-embedding (setup.py) ... \u001b[?25l\u001b[?25hdone\n",
      "  Building wheel for reformer-fastai (setup.py) ... \u001b[?25l\u001b[?25hdone\n"
     ]
    }
   ],
   "source": [
    "#hide\n",
    "import sys\n",
    "if 'google.colab' in sys.modules:\n",
    "    !pip install -Uqq fastai einops datasets axial_positional_embedding\n",
    "    !pip install -qq git+git://github.com/arampacha/reformer_fastai.git"
   ]
  },
  {
   "cell_type": "code",
   "execution_count": null,
   "metadata": {},
   "outputs": [],
   "source": [
    "#hide\n",
    "%load_ext autoreload\n",
    "%autoreload 2"
   ]
  },
  {
   "cell_type": "code",
   "execution_count": null,
   "metadata": {},
   "outputs": [],
   "source": [
    "#all_slow"
   ]
  },
  {
   "cell_type": "markdown",
   "metadata": {},
   "source": [
    "# enwik8 - shared QK"
   ]
  },
  {
   "cell_type": "code",
   "execution_count": null,
   "metadata": {},
   "outputs": [],
   "source": [
    "from fastai.text.all import *\n",
    "\n",
    "from reformer_fastai.tokenizers import ByteTextTokenizer\n",
    "from reformer_fastai.transformer import TransformerLM\n",
    "from reformer_fastai.data import read_and_prepare_data, read_lines\n",
    "from reformer_fastai.metrics import BPC\n",
    "from reformer_fastai.optimizers import adafactor"
   ]
  },
  {
   "cell_type": "markdown",
   "metadata": {},
   "source": [
    "## Experiment Tracking"
   ]
  },
  {
   "cell_type": "markdown",
   "metadata": {},
   "source": [
    "Make sure you have wandb and are logged in:"
   ]
  },
  {
   "cell_type": "code",
   "execution_count": null,
   "metadata": {},
   "outputs": [
    {
     "name": "stdout",
     "output_type": "stream",
     "text": [
      "\u001b[K     |████████████████████████████████| 1.8MB 8.7MB/s \n",
      "\u001b[K     |████████████████████████████████| 102kB 12.6MB/s \n",
      "\u001b[K     |████████████████████████████████| 81kB 9.6MB/s \n",
      "\u001b[K     |████████████████████████████████| 163kB 19.7MB/s \n",
      "\u001b[K     |████████████████████████████████| 133kB 22.8MB/s \n",
      "\u001b[K     |████████████████████████████████| 71kB 12.0MB/s \n",
      "\u001b[?25h  Building wheel for subprocess32 (setup.py) ... \u001b[?25l\u001b[?25hdone\n",
      "\u001b[34m\u001b[1mwandb\u001b[0m: You can find your API key in your browser here: https://wandb.ai/authorize\n",
      "\u001b[34m\u001b[1mwandb\u001b[0m: Paste an API key from your profile and hit enter: \n",
      "\u001b[34m\u001b[1mwandb\u001b[0m: Appending key for api.wandb.ai to your netrc file: /root/.netrc\n"
     ]
    }
   ],
   "source": [
    "# hide\n",
    "!pip install -Uqq wandb\n",
    "!wandb login"
   ]
  },
  {
   "cell_type": "markdown",
   "metadata": {},
   "source": [
    "Load Experiment Tracking with Weights & Biases:"
   ]
  },
  {
   "cell_type": "code",
   "execution_count": null,
   "metadata": {},
   "outputs": [],
   "source": [
    "import wandb\n",
    "from fastai.callback.wandb import *\n",
    "\n",
    "WANDB_NAME = 'enc_lm_enwik8_shared_qk'\n",
    "GROUP = 'TEST'\n",
    "NOTES = 'TransformerLM on enwik8 sl 1024 w/ sharedQK'\n",
    "CONFIG = {}\n",
    "TAGS = ['lm','shared_qk','enwik8']"
   ]
  },
  {
   "cell_type": "markdown",
   "metadata": {},
   "source": [
    "Initialise wandb logging, pleaes **do not change** `project` or `entity` (that that everything gets logged to the same place)"
   ]
  },
  {
   "cell_type": "code",
   "execution_count": null,
   "metadata": {},
   "outputs": [],
   "source": [
    "wandb.init(reinit=True, project=\"reformer-fastai\", entity=\"fastai_community\", \n",
    "           name=WANDB_NAME, group=GROUP, notes=NOTES, config=CONFIG, tags=TAGS)"
   ]
  },
  {
   "cell_type": "markdown",
   "metadata": {},
   "source": [
    "## Download and Unpack enwik8 Data\n",
    "\n",
    "Download and unzip enwik8 data"
   ]
  },
  {
   "cell_type": "code",
   "execution_count": null,
   "metadata": {},
   "outputs": [
    {
     "name": "stdout",
     "output_type": "stream",
     "text": [
      "--2020-12-28 17:03:47--  http://mattmahoney.net/dc/enwik8.zip\n",
      "Resolving mattmahoney.net (mattmahoney.net)... 67.195.197.24\n",
      "Connecting to mattmahoney.net (mattmahoney.net)|67.195.197.24|:80... connected.\n",
      "HTTP request sent, awaiting response... 200 OK\n",
      "Length: 36445475 (35M) [application/zip]\n",
      "Saving to: ‘data/enwik8.zip’\n",
      "\n",
      "enwik8.zip          100%[===================>]  34.76M   916KB/s    in 40s     \n",
      "\n",
      "2020-12-28 17:04:27 (898 KB/s) - ‘data/enwik8.zip’ saved [36445475/36445475]\n",
      "\n",
      "Archive:  data/enwik8.zip\n",
      "  inflating: data/enwik8             \n",
      "enwik8\tenwik8.zip\n",
      "<mediawiki xmlns=\"http://www.mediawiki.org/xml/export-0.3/\" xmlns:xsi=\"http://www.w3.org/2001/XMLSchema-instance\" xsi:schemaLocation=\"http://www.mediawiki.org/xml/export-0.3/ http://www.mediawiki.org/xml/export-0.3.xsd\" version=\"0.3\" xml:lang=\"en\">\n",
      "  <siteinfo>\n",
      "    <sitename>Wikipedia</sitename>\n",
      "    <base>http://en.wikipedia.org/wiki/Main_Page</base>\n",
      "    <generator>MediaWiki 1.6alpha</generator>\n",
      "    <case>first-letter</case>\n",
      "      <namespaces>\n",
      "      <namespace key=\"-2\">Media</namespace>\n",
      "      <namespace key=\"-1\">Special</namespace>\n",
      "      <namespace key=\"0\" />\n"
     ]
    }
   ],
   "source": [
    "#hide_output\n",
    "!wget -P data/ http://mattmahoney.net/dc/enwik8.zip\n",
    "!unzip data/enwik8.zip -d data/\n",
    "!ls data\n",
    "!head -n 10 data/enwik8"
   ]
  },
  {
   "cell_type": "markdown",
   "metadata": {},
   "source": [
    "## Prepare Data"
   ]
  },
  {
   "cell_type": "code",
   "execution_count": null,
   "metadata": {},
   "outputs": [
    {
     "data": {
      "text/html": [
       "<div>\n",
       "<style scoped>\n",
       "    .dataframe tbody tr th:only-of-type {\n",
       "        vertical-align: middle;\n",
       "    }\n",
       "\n",
       "    .dataframe tbody tr th {\n",
       "        vertical-align: top;\n",
       "    }\n",
       "\n",
       "    .dataframe thead th {\n",
       "        text-align: right;\n",
       "    }\n",
       "</style>\n",
       "<table border=\"1\" class=\"dataframe\">\n",
       "  <thead>\n",
       "    <tr style=\"text-align: right;\">\n",
       "      <th></th>\n",
       "      <th>text</th>\n",
       "    </tr>\n",
       "  </thead>\n",
       "  <tbody>\n",
       "    <tr>\n",
       "      <th>0</th>\n",
       "      <td>&lt;mediawiki xmlns=\"http://www.mediawiki.org/xml/export-0.3/\" xmlns:xsi=\"http://www.w3.org/2001/XMLSchema-instance\" xsi:schemaLocation=\"http://www.mediawiki.org/xml/export-0.3/ http://www.mediawiki.org/xml/export-0.3.xsd\" version=\"0.3\" xml:lang=\"en\"&gt;\\n</td>\n",
       "    </tr>\n",
       "    <tr>\n",
       "      <th>1</th>\n",
       "      <td>&lt;siteinfo&gt;\\n</td>\n",
       "    </tr>\n",
       "    <tr>\n",
       "      <th>2</th>\n",
       "      <td>&lt;sitename&gt;Wikipedia&lt;/sitename&gt;\\n</td>\n",
       "    </tr>\n",
       "    <tr>\n",
       "      <th>3</th>\n",
       "      <td>&lt;base&gt;http://en.wikipedia.org/wiki/Main_Page&lt;/base&gt;\\n</td>\n",
       "    </tr>\n",
       "    <tr>\n",
       "      <th>4</th>\n",
       "      <td>&lt;generator&gt;MediaWiki 1.6alpha&lt;/generator&gt;\\n</td>\n",
       "    </tr>\n",
       "  </tbody>\n",
       "</table>\n",
       "</div>"
      ],
      "text/plain": [
       "                                                                                                                                                                                                                                                         text\n",
       "0  <mediawiki xmlns=\"http://www.mediawiki.org/xml/export-0.3/\" xmlns:xsi=\"http://www.w3.org/2001/XMLSchema-instance\" xsi:schemaLocation=\"http://www.mediawiki.org/xml/export-0.3/ http://www.mediawiki.org/xml/export-0.3.xsd\" version=\"0.3\" xml:lang=\"en\">\\n\n",
       "1                                                                                                                                                                                                                                                <siteinfo>\\n\n",
       "2                                                                                                                                                                                                                            <sitename>Wikipedia</sitename>\\n\n",
       "3                                                                                                                                                                                                       <base>http://en.wikipedia.org/wiki/Main_Page</base>\\n\n",
       "4                                                                                                                                                                                                                 <generator>MediaWiki 1.6alpha</generator>\\n"
      ]
     },
     "execution_count": null,
     "metadata": {},
     "output_type": "execute_result"
    }
   ],
   "source": [
    "df = pd.DataFrame({'text':read_lines('/content/data/enwik8')})\n",
    "df.head()"
   ]
  },
  {
   "cell_type": "code",
   "execution_count": null,
   "metadata": {},
   "outputs": [],
   "source": [
    "btt = ByteTextTokenizer(is_lm=True, add_bos=False, add_eos=False)"
   ]
  },
  {
   "cell_type": "code",
   "execution_count": null,
   "metadata": {},
   "outputs": [
    {
     "name": "stdout",
     "output_type": "stream",
     "text": [
      "CPU times: user 2min 3s, sys: 4.37 s, total: 2min 7s\n",
      "Wall time: 2min 1s\n"
     ]
    }
   ],
   "source": [
    "%%time\n",
    "df['toks'] = df['text'].apply(btt)\n",
    "df['lens'] = df['toks'].apply(len)\n",
    "df['lens_cum_sum'] = df.lens.cumsum()"
   ]
  },
  {
   "cell_type": "code",
   "execution_count": null,
   "metadata": {},
   "outputs": [],
   "source": [
    "train_cutoff = df.lens.sum() - 10_000_000  # keep all but 10M characters for val and test\n",
    "train_idxs = df.loc[df['lens_cum_sum'] < train_cutoff].index.values\n",
    "train_idxs = list(range(0, max(train_idxs)))\n",
    "\n",
    "remaining_idxs = len(df) - max(train_idxs)\n",
    "validation_idxs = list(range(max(train_idxs), max(train_idxs) + int(remaining_idxs/2)))\n",
    "test_idxs = list(range(max(validation_idxs), len(df)))\n",
    "\n",
    "splits = [train_idxs, validation_idxs]"
   ]
  },
  {
   "cell_type": "code",
   "execution_count": null,
   "metadata": {},
   "outputs": [],
   "source": [
    "#hide\n",
    "@patch\n",
    "def create_item(self:LMDataLoader, seq):\n",
    "    if seq>=self.n: raise IndexError\n",
    "    sl = self.last_len if seq//self.bs==self.n_batches-1 else self.seq_len\n",
    "    st = (seq%self.bs)*self.bl + (seq//self.bs)*self.seq_len\n",
    "    txt = self.chunks[st : st+sl+1]    \n",
    "    return LMTensorText(txt[:-1]),txt[1:]"
   ]
  },
  {
   "cell_type": "code",
   "execution_count": null,
   "metadata": {},
   "outputs": [],
   "source": [
    "tfms = [attrgetter(\"text\"), btt]\n",
    "dsets = Datasets(df, [tfms], splits=splits, dl_type=LMDataLoader)"
   ]
  },
  {
   "cell_type": "code",
   "execution_count": null,
   "metadata": {},
   "outputs": [
    {
     "name": "stdout",
     "output_type": "stream",
     "text": [
      "CPU times: user 27.1 s, sys: 1.83 s, total: 29 s\n",
      "Wall time: 34.7 s\n"
     ]
    }
   ],
   "source": [
    "%%time\n",
    "bs, sl = 8, 1024\n",
    "# pad_seq2seq = partial(pad_input, pad_idx=bte.pad_token_id, pad_fields=[0,1])\n",
    "dl_kwargs = [{'lens':df['lens'].values[train_idxs]},\n",
    "             {'val_lens':df['lens'].values[validation_idxs]}]\n",
    "dls = dsets.dataloaders(bs=bs, seq_len=sl, dl_kwargs=dl_kwargs, shuffle_train=True, n_workers=2)"
   ]
  },
  {
   "cell_type": "code",
   "execution_count": null,
   "metadata": {},
   "outputs": [
    {
     "data": {
      "text/html": [
       "<table border=\"1\" class=\"dataframe\">\n",
       "  <thead>\n",
       "    <tr style=\"text-align: right;\">\n",
       "      <th></th>\n",
       "      <th>text</th>\n",
       "      <th>text_</th>\n",
       "    </tr>\n",
       "  </thead>\n",
       "  <tbody>\n",
       "    <tr>\n",
       "      <th>0</th>\n",
       "      <td>&lt;page&gt;\\nFailure of a condition does not void the contract, it is just regarded as voidable.\\n!colspan=2 align=center bgcolor=&amp;quot;#BFDFFF&amp;quot;|Urban Area \\n*[http://www.tohokingdom.com/web_pages/m_reviews/vega/return_godzilla_us.htm Toho Kingdom]: ''The Return of Godzilla'' (1984) [New World Pictures].  Reviewer: Miles Imhoff.\\n*[[John Irving]]\\n    &lt;restrictions&gt;move=:edit=&lt;/restrictions&gt;\\n[[et:Bangladesh]]\\n:&amp;lt;math&amp;gt; \\Pi(n; \\phi|m) = \\int_0^u \\frac{1}{1-n \\textrm{sn}^2 (w|m)} \\; dw&amp;lt;/math&amp;gt;\\n\\n      &lt;minor /&gt;\\n{{Infobox_Poland|\\n*[[1945]] - [[Peter Criss|Peter George Criscoula]], American drummer and singer ([[KISS (band)]])\\n\\n\\n*Pratchett, Terry (1993). ''[[Men At Arms]]''. Gollancz.\\n|colspan=2| &amp;amp;nbsp;\\n&amp;lt;/div&amp;gt;\\n'''Cyberpunk''' (a [[portmanteau]] of [[cybernetics]] and [[punk culture|punk]]) is a sub-genre of [[science fiction]] and [[dystopia]]n fiction, focusing on advanced technology such as [[computers]] or [[information technology]] coupled with some degree of breakdown in the social order. The</td>\n",
       "      <td>&lt;page&gt;\\nFailure of a condition does not void the contract, it is just regarded as voidable.\\n!colspan=2 align=center bgcolor=&amp;quot;#BFDFFF&amp;quot;|Urban Area \\n*[http://www.tohokingdom.com/web_pages/m_reviews/vega/return_godzilla_us.htm Toho Kingdom]: ''The Return of Godzilla'' (1984) [New World Pictures].  Reviewer: Miles Imhoff.\\n*[[John Irving]]\\n    &lt;restrictions&gt;move=:edit=&lt;/restrictions&gt;\\n[[et:Bangladesh]]\\n:&amp;lt;math&amp;gt; \\Pi(n; \\phi|m) = \\int_0^u \\frac{1}{1-n \\textrm{sn}^2 (w|m)} \\; dw&amp;lt;/math&amp;gt;\\n\\n      &lt;minor /&gt;\\n{{Infobox_Poland|\\n*[[1945]] - [[Peter Criss|Peter George Criscoula]], American drummer and singer ([[KISS (band)]])\\n\\n\\n*Pratchett, Terry (1993). ''[[Men At Arms]]''. Gollancz.\\n|colspan=2| &amp;amp;nbsp;\\n&amp;lt;/div&amp;gt;\\n'''Cyberpunk''' (a [[portmanteau]] of [[cybernetics]] and [[punk culture|punk]]) is a sub-genre of [[science fiction]] and [[dystopia]]n fiction, focusing on advanced technology such as [[computers]] or [[information technology]] coupled with some degree of breakdown in the social order. The p</td>\n",
       "    </tr>\n",
       "    <tr>\n",
       "      <th>1</th>\n",
       "      <td>nitrogen oxides.  Incomplete combustion is much more common  and will produce large amounts of byproducts, and in the case of burning fuel in automobiles, these byproducts can be quite lethal and damaging to the environment.\\n    &lt;title&gt;Military of Guyana&lt;/title&gt;\\n== Sponsorship ==\\n      &lt;/contributor&gt;\\n[[Paul Atreides]] had two children, [[Leto Atreides II|Leto]] and [[Ghanima]].  At the end of ''[[Dune Messiah]]'', Paul walked into the desert, a blind man, leaving the children in the care of the [[Fremen]] while their aunt [[Alia Atreides|Alia]] rules the universe as regent.  Awoken in the womb by the spice, the children are the heirs to Paul's [[Prescience|prescient]] vision of the fate of the universe, a role that Alia desperately craves.  [[House Corrino]], the previous imperial house, schemes to return to the throne, while the [[Bene Gesserit]] make common cause with the [[Bene Tleilaxu]] and [[Spacing</td>\n",
       "      <td>nitrogen oxides.  Incomplete combustion is much more common  and will produce large amounts of byproducts, and in the case of burning fuel in automobiles, these byproducts can be quite lethal and damaging to the environment.\\n    &lt;title&gt;Military of Guyana&lt;/title&gt;\\n== Sponsorship ==\\n      &lt;/contributor&gt;\\n[[Paul Atreides]] had two children, [[Leto Atreides II|Leto]] and [[Ghanima]].  At the end of ''[[Dune Messiah]]'', Paul walked into the desert, a blind man, leaving the children in the care of the [[Fremen]] while their aunt [[Alia Atreides|Alia]] rules the universe as regent.  Awoken in the womb by the spice, the children are the heirs to Paul's [[Prescience|prescient]] vision of the fate of the universe, a role that Alia desperately craves.  [[House Corrino]], the previous imperial house, schemes to return to the throne, while the [[Bene Gesserit]] make common cause with the [[Bene Tleilaxu]] and [[Spacing Guild]]</td>\n",
       "    </tr>\n",
       "  </tbody>\n",
       "</table>"
      ],
      "text/plain": [
       "<IPython.core.display.HTML object>"
      ]
     },
     "metadata": {},
     "output_type": "display_data"
    }
   ],
   "source": [
    "#collapse_output\n",
    "dls.show_batch(max_n=2,)"
   ]
  },
  {
   "cell_type": "code",
   "execution_count": null,
   "metadata": {},
   "outputs": [],
   "source": [
    "vocab_sz = btt.vocab_size"
   ]
  },
  {
   "cell_type": "code",
   "execution_count": null,
   "metadata": {},
   "outputs": [
    {
     "data": {
      "text/plain": [
       "((8, 1024), (8, 1024))"
      ]
     },
     "execution_count": null,
     "metadata": {},
     "output_type": "execute_result"
    }
   ],
   "source": [
    "xb, yb = dls.one_batch()\n",
    "xb.shape, yb.shape"
   ]
  },
  {
   "cell_type": "code",
   "execution_count": null,
   "metadata": {},
   "outputs": [],
   "source": [
    "#hide\n",
    "del xb, yb\n",
    "torch.cuda.empty_cache()"
   ]
  },
  {
   "cell_type": "markdown",
   "metadata": {},
   "source": [
    "## Training"
   ]
  },
  {
   "cell_type": "code",
   "execution_count": null,
   "metadata": {},
   "outputs": [
    {
     "name": "stderr",
     "output_type": "stream",
     "text": [
      "\u001b[34m\u001b[1mwandb\u001b[0m: Currently logged in as: \u001b[33mfastai_community\u001b[0m (use `wandb login --relogin` to force relogin)\n"
     ]
    },
    {
     "data": {
      "text/html": [
       "\n",
       "                Tracking run with wandb version 0.10.12<br/>\n",
       "                Syncing run <strong style=\"color:#cdcd00\">enc_lm_enwik8_shared_qk</strong> to <a href=\"https://wandb.ai\" target=\"_blank\">Weights & Biases</a> <a href=\"https://docs.wandb.com/integrations/jupyter.html\" target=\"_blank\">(Documentation)</a>.<br/>\n",
       "                Project page: <a href=\"https://wandb.ai/fastai_community/reformer-fastai\" target=\"_blank\">https://wandb.ai/fastai_community/reformer-fastai</a><br/>\n",
       "                Run page: <a href=\"https://wandb.ai/fastai_community/reformer-fastai/runs/1egf4gn5\" target=\"_blank\">https://wandb.ai/fastai_community/reformer-fastai/runs/1egf4gn5</a><br/>\n",
       "                Run data is saved locally in <code>/content/wandb/run-20201228_170831-1egf4gn5</code><br/><br/>\n",
       "            "
      ],
      "text/plain": [
       "<IPython.core.display.HTML object>"
      ]
     },
     "metadata": {},
     "output_type": "display_data"
    },
    {
     "data": {
      "text/html": [
       "<h1>Run(1egf4gn5)</h1><p></p><iframe src=\"https://wandb.ai/fastai_community/reformer-fastai/runs/1egf4gn5\" style=\"border:none;width:100%;height:400px\"></iframe>"
      ],
      "text/plain": [
       "<wandb.sdk.wandb_run.Run at 0x7f5f9815fc88>"
      ]
     },
     "execution_count": null,
     "metadata": {},
     "output_type": "execute_result"
    }
   ],
   "source": [
    "wandb.init(reinit=True, project=\"reformer-fastai\", entity=\"fastai_community\", \n",
    "           name=WANDB_NAME, group=GROUP, notes=NOTES, tags=TAGS, config=CONFIG)"
   ]
  },
  {
   "cell_type": "code",
   "execution_count": null,
   "metadata": {},
   "outputs": [],
   "source": [
    "opt_func = adafactor\n",
    "learn = Learner(dls, TransformerLM(vocab_sz, 1024, n_layers=3, max_seq_len=sl, shared_qk=True),\n",
    "                loss_func=CrossEntropyLossFlat(), opt_func=opt_func,\n",
    "                metrics=[accuracy, perplexity, BPC()]).to_native_fp16()"
   ]
  },
  {
   "cell_type": "code",
   "execution_count": null,
   "metadata": {},
   "outputs": [
    {
     "data": {
      "text/html": [],
      "text/plain": [
       "<IPython.core.display.HTML object>"
      ]
     },
     "metadata": {},
     "output_type": "display_data"
    },
    {
     "data": {
      "text/plain": [
       "SuggestedLRs(lr_min=0.02089296132326126, lr_steep=0.17378008365631104)"
      ]
     },
     "execution_count": null,
     "metadata": {},
     "output_type": "execute_result"
    },
    {
     "data": {
      "image/png": "[encoded data removed]",
      "text/plain": [
       "<Figure size 432x288 with 1 Axes>"
      ]
     },
     "metadata": {
      "needs_background": "light"
     },
     "output_type": "display_data"
    }
   ],
   "source": [
    "#hide\n",
    "learn.lr_find()"
   ]
  },
  {
   "cell_type": "code",
   "execution_count": null,
   "metadata": {},
   "outputs": [
    {
     "data": {
      "text/html": [
       "<table border=\"1\" class=\"dataframe\">\n",
       "  <thead>\n",
       "    <tr style=\"text-align: left;\">\n",
       "      <th>epoch</th>\n",
       "      <th>train_loss</th>\n",
       "      <th>valid_loss</th>\n",
       "      <th>accuracy</th>\n",
       "      <th>perplexity</th>\n",
       "      <th>bpc</th>\n",
       "      <th>time</th>\n",
       "    </tr>\n",
       "  </thead>\n",
       "  <tbody>\n",
       "    <tr>\n",
       "      <td>0</td>\n",
       "      <td>1.730407</td>\n",
       "      <td>1.589415</td>\n",
       "      <td>0.538215</td>\n",
       "      <td>4.900879</td>\n",
       "      <td>1.101698</td>\n",
       "      <td>1:09:00</td>\n",
       "    </tr>\n",
       "    <tr>\n",
       "      <td>1</td>\n",
       "      <td>1.411922</td>\n",
       "      <td>1.349798</td>\n",
       "      <td>0.602156</td>\n",
       "      <td>3.856645</td>\n",
       "      <td>0.935608</td>\n",
       "      <td>1:09:01</td>\n",
       "    </tr>\n",
       "    <tr>\n",
       "      <td>2</td>\n",
       "      <td>1.354414</td>\n",
       "      <td>1.296836</td>\n",
       "      <td>0.616557</td>\n",
       "      <td>3.657704</td>\n",
       "      <td>0.898898</td>\n",
       "      <td>1:09:09</td>\n",
       "    </tr>\n",
       "  </tbody>\n",
       "</table>"
      ],
      "text/plain": [
       "<IPython.core.display.HTML object>"
      ]
     },
     "metadata": {},
     "output_type": "display_data"
    }
   ],
   "source": [
    "learn.fit_one_cycle(3, 5e-4, cbs=WandbCallback(log_model=False, log_preds=False))"
   ]
  },
  {
   "cell_type": "code",
   "execution_count": null,
   "metadata": {},
   "outputs": [
    {
     "data": {
      "image/png": "[encoded data removed]",
      "text/plain": [
       "<Figure size 432x288 with 1 Axes>"
      ]
     },
     "metadata": {
      "needs_background": "light"
     },
     "output_type": "display_data"
    }
   ],
   "source": [
    "learn.recorder.plot_loss()"
   ]
  },
  {
   "cell_type": "code",
   "execution_count": null,
   "metadata": {},
   "outputs": [],
   "source": []
  }
 ],
 "metadata": {
  "kernelspec": {
   "display_name": "Python 3",
   "language": "python",
   "name": "python3"
  }
 },
 "nbformat": 4,
 "nbformat_minor": 4
}
