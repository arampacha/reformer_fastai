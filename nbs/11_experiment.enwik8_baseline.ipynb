{
 "cells": [
  {
   "cell_type": "code",
   "execution_count": null,
   "metadata": {},
   "outputs": [
    {
     "name": "stdout",
     "output_type": "stream",
     "text": [
      "\u001b[K     |████████████████████████████████| 194kB 7.8MB/s \n",
      "\u001b[K     |████████████████████████████████| 163kB 8.6MB/s \n",
      "\u001b[K     |████████████████████████████████| 61kB 8.1MB/s \n",
      "\u001b[K     |████████████████████████████████| 245kB 14.2MB/s \n",
      "\u001b[K     |████████████████████████████████| 17.7MB 209kB/s \n",
      "\u001b[?25h  Building wheel for axial-positional-embedding (setup.py) ... \u001b[?25l\u001b[?25hdone\n",
      "  Building wheel for reformer-fastai (setup.py) ... \u001b[?25l\u001b[?25hdone\n"
     ]
    }
   ],
   "source": [
    "#hide\n",
    "import sys\n",
    "if 'google.colab' in sys.modules:\n",
    "    !pip install -Uqq fastai einops datasets axial_positional_embedding\n",
    "    !pip install -qq git+git://github.com/arampacha/reformer_fastai.git"
   ]
  },
  {
   "cell_type": "code",
   "execution_count": null,
   "metadata": {},
   "outputs": [],
   "source": [
    "#hide\n",
    "%load_ext autoreload\n",
    "%autoreload 2"
   ]
  },
  {
   "cell_type": "code",
   "execution_count": null,
   "metadata": {},
   "outputs": [],
   "source": [
    "#all_slow"
   ]
  },
  {
   "cell_type": "markdown",
   "metadata": {},
   "source": [
    "# enwik8 - baseline"
   ]
  },
  {
   "cell_type": "code",
   "execution_count": null,
   "metadata": {},
   "outputs": [],
   "source": [
    "from fastai.text.all import *\n",
    "\n",
    "from reformer_fastai.tokenizers import ByteTextTokenizer\n",
    "from reformer_fastai.transformer import TransformerLM\n",
    "from reformer_fastai.data import read_and_prepare_data, read_lines\n",
    "from reformer_fastai.metrics import BPC"
   ]
  },
  {
   "cell_type": "markdown",
   "metadata": {},
   "source": [
    "## Experiment Tracking"
   ]
  },
  {
   "cell_type": "markdown",
   "metadata": {},
   "source": [
    "Make sure you have wandb and are logged in:"
   ]
  },
  {
   "cell_type": "code",
   "execution_count": null,
   "metadata": {},
   "outputs": [
    {
     "name": "stdout",
     "output_type": "stream",
     "text": [
      "\u001b[K     |████████████████████████████████| 1.8MB 7.3MB/s \n",
      "\u001b[K     |████████████████████████████████| 102kB 14.1MB/s \n",
      "\u001b[K     |████████████████████████████████| 163kB 54.9MB/s \n",
      "\u001b[K     |████████████████████████████████| 133kB 62.0MB/s \n",
      "\u001b[K     |████████████████████████████████| 81kB 12.2MB/s \n",
      "\u001b[K     |████████████████████████████████| 71kB 6.3MB/s \n",
      "\u001b[?25h  Building wheel for subprocess32 (setup.py) ... \u001b[?25l\u001b[?25hdone\n",
      "\u001b[34m\u001b[1mwandb\u001b[0m: You can find your API key in your browser here: https://wandb.ai/authorize\n",
      "\u001b[34m\u001b[1mwandb\u001b[0m: Paste an API key from your profile and hit enter: \n",
      "\u001b[34m\u001b[1mwandb\u001b[0m: Appending key for api.wandb.ai to your netrc file: /root/.netrc\n"
     ]
    }
   ],
   "source": [
    "#hide\n",
    "# !pip install -Uqq wandb\n",
    "# !wandb login"
   ]
  },
  {
   "cell_type": "markdown",
   "metadata": {},
   "source": [
    "Load Experiment Tracking with Weights & Biases:"
   ]
  },
  {
   "cell_type": "code",
   "execution_count": null,
   "metadata": {},
   "outputs": [],
   "source": [
    "import wandb\n",
    "from fastai.callback.wandb import *\n",
    "\n",
    "WANDB_NAME = 'enc_lm_enwik8'\n",
    "GROUP = 'TEST'     # Group to add a run to, e.g. \"LSH\" for LSH experiments, \"REVERSIBLE\" for reversible layers\n",
    "NOTES = 'Baseline Transformer LM on enwik8 sl 1024'\n",
    "CONFIG = {}\n",
    "TAGS =['lm','test','enwik8']"
   ]
  },
  {
   "cell_type": "markdown",
   "metadata": {},
   "source": [
    "Initialise wandb logging, pleaes **do not change** `project` or `entity` (that that everything gets logged to the same place)"
   ]
  },
  {
   "cell_type": "code",
   "execution_count": null,
   "metadata": {},
   "outputs": [],
   "source": [
    "# wandb.init(reinit=True, project=\"reformer-fastai\", entity=\"fastai_community\", \n",
    "#            name=WANDB_NAME, group=GROUP, notes=NOTES,  tags=TAGS) # config=CONFIG,"
   ]
  },
  {
   "cell_type": "markdown",
   "metadata": {},
   "source": [
    "## Download and Unpack enwik8 Data\n",
    "\n",
    "Download and unzip enwik8 data"
   ]
  },
  {
   "cell_type": "code",
   "execution_count": null,
   "metadata": {},
   "outputs": [
    {
     "name": "stdout",
     "output_type": "stream",
     "text": [
      "--2020-12-27 12:07:49--  http://mattmahoney.net/dc/enwik8.zip\n",
      "Resolving mattmahoney.net (mattmahoney.net)... 67.195.197.24\n",
      "Connecting to mattmahoney.net (mattmahoney.net)|67.195.197.24|:80... connected.\n",
      "HTTP request sent, awaiting response... 200 OK\n",
      "Length: 36445475 (35M) [application/zip]\n",
      "Saving to: ‘data/enwik8.zip’\n",
      "\n",
      "enwik8.zip          100%[===================>]  34.76M   900KB/s    in 40s     \n",
      "\n",
      "2020-12-27 12:08:30 (884 KB/s) - ‘data/enwik8.zip’ saved [36445475/36445475]\n",
      "\n",
      "Archive:  data/enwik8.zip\n",
      "  inflating: data/enwik8             \n",
      "enwik8\tenwik8.zip\n",
      "<mediawiki xmlns=\"http://www.mediawiki.org/xml/export-0.3/\" xmlns:xsi=\"http://www.w3.org/2001/XMLSchema-instance\" xsi:schemaLocation=\"http://www.mediawiki.org/xml/export-0.3/ http://www.mediawiki.org/xml/export-0.3.xsd\" version=\"0.3\" xml:lang=\"en\">\n",
      "  <siteinfo>\n",
      "    <sitename>Wikipedia</sitename>\n",
      "    <base>http://en.wikipedia.org/wiki/Main_Page</base>\n",
      "    <generator>MediaWiki 1.6alpha</generator>\n",
      "    <case>first-letter</case>\n",
      "      <namespaces>\n",
      "      <namespace key=\"-2\">Media</namespace>\n",
      "      <namespace key=\"-1\">Special</namespace>\n",
      "      <namespace key=\"0\" />\n"
     ]
    }
   ],
   "source": [
    "#hide_output\n",
    "!wget -P data/ http://mattmahoney.net/dc/enwik8.zip\n",
    "!unzip data/enwik8.zip -d data/\n",
    "!ls data\n",
    "!head -n 10 data/enwik8"
   ]
  },
  {
   "cell_type": "markdown",
   "metadata": {},
   "source": [
    "## Prepare Data"
   ]
  },
  {
   "cell_type": "code",
   "execution_count": null,
   "metadata": {},
   "outputs": [
    {
     "name": "stdout",
     "output_type": "stream",
     "text": [
      "CPU times: user 519 ms, sys: 107 ms, total: 626 ms\n",
      "Wall time: 632 ms\n"
     ]
    }
   ],
   "source": [
    "df = pd.DataFrame({'text':read_lines('/content/data/enwik8')})\n",
    "df.head()"
   ]
  },
  {
   "cell_type": "code",
   "execution_count": null,
   "metadata": {},
   "outputs": [],
   "source": [
    "btt = ByteTextTokenizer(is_lm=True, add_bos=False, add_eos=False)"
   ]
  },
  {
   "cell_type": "code",
   "execution_count": null,
   "metadata": {},
   "outputs": [
    {
     "name": "stdout",
     "output_type": "stream",
     "text": [
      "CPU times: user 2min 1s, sys: 1.81 s, total: 2min 3s\n",
      "Wall time: 2min 1s\n"
     ]
    }
   ],
   "source": [
    "%%time\n",
    "df['toks'] = df['text'].apply(btt)\n",
    "df['lens'] = df['toks'].apply(len)\n",
    "df['lens_cum_sum'] = df.lens.cumsum()"
   ]
  },
  {
   "cell_type": "code",
   "execution_count": null,
   "metadata": {},
   "outputs": [],
   "source": [
    "train_cutoff = df.lens.sum() - 10_000_000  # keep all but 10M characters for val and test\n",
    "train_idxs = df.loc[df['lens_cum_sum'] < train_cutoff].index.values\n",
    "train_idxs = list(range(0, max(train_idxs)))\n",
    "\n",
    "remaining_idxs = len(df) - max(train_idxs)\n",
    "validation_idxs = list(range(max(train_idxs), max(train_idxs) + int(remaining_idxs/2)))\n",
    "test_idxs = list(range(max(validation_idxs), len(df)))\n",
    "\n",
    "splits = [train_idxs, validation_idxs]"
   ]
  },
  {
   "cell_type": "code",
   "execution_count": null,
   "metadata": {},
   "outputs": [],
   "source": [
    "#hide\n",
    "@patch\n",
    "def create_item(self:LMDataLoader, seq):\n",
    "    if seq>=self.n: raise IndexError\n",
    "    sl = self.last_len if seq//self.bs==self.n_batches-1 else self.seq_len\n",
    "    st = (seq%self.bs)*self.bl + (seq//self.bs)*self.seq_len\n",
    "    txt = self.chunks[st : st+sl+1]    \n",
    "    return LMTensorText(txt[:-1]),txt[1:]"
   ]
  },
  {
   "cell_type": "code",
   "execution_count": null,
   "metadata": {},
   "outputs": [
    {
     "name": "stdout",
     "output_type": "stream",
     "text": [
      "CPU times: user 1.17 s, sys: 41.1 ms, total: 1.21 s\n",
      "Wall time: 1.21 s\n"
     ]
    }
   ],
   "source": [
    "%%time\n",
    "tfms = [attrgetter(\"text\"), btt]\n",
    "dsets = Datasets(df, [tfms], splits=splits, dl_type=LMDataLoader)"
   ]
  },
  {
   "cell_type": "code",
   "execution_count": null,
   "metadata": {},
   "outputs": [
    {
     "name": "stdout",
     "output_type": "stream",
     "text": [
      "CPU times: user 31.1 s, sys: 2.04 s, total: 33.2 s\n",
      "Wall time: 38.2 s\n"
     ]
    }
   ],
   "source": [
    "%%time\n",
    "bs, sl = 8, 1024\n",
    "# pad_seq2seq = partial(pad_input, pad_idx=bte.pad_token_id, pad_fields=[0,1])\n",
    "dl_kwargs = [{'lens':df['lens'].values[train_idxs]},\n",
    "             {'val_lens':df['lens'].values[validation_idxs]}]\n",
    "dls = dsets.dataloaders(bs=bs, seq_len=sl, dl_kwargs=dl_kwargs, n_workers=2)"
   ]
  },
  {
   "cell_type": "code",
   "execution_count": null,
   "metadata": {},
   "outputs": [
    {
     "data": {
      "text/html": [
       "<table border=\"1\" class=\"dataframe\">\n",
       "  <thead>\n",
       "    <tr style=\"text-align: right;\">\n",
       "      <th></th>\n",
       "      <th>text</th>\n",
       "      <th>text_</th>\n",
       "    </tr>\n",
       "  </thead>\n",
       "  <tbody>\n",
       "    <tr>\n",
       "      <th>0</th>\n",
       "      <td>[[fr:Break dance]]\\n*[[Architectural Designer]]\\n|HDI_rank = 173rd\\n*[[1991]] - [[Mikhail Gorbachev]] resigns as president of the [[Soviet Union]] (the union itself is dissolved the next day).\\n\\n[[tpi:Albert Einstein]]\\n\\n\\nIn the [[twentieth century]], [[Rudolf Steiner]] articulated stages of psychological development throughout human life. The first three of these stages, which correspond closely with [[Piaget]]'s later-described stages of childhood, were first presented in Steiner's [[1911]] essay ''The Education of the Child''; his descriptions have been taken up by educators (in the [[Waldorf Schools]]) and by psychologists (in [[biographical therapy]]; see the works of [[Bernard Lievegoed]]).\\n[[nl:Giosuè Carducci]]\\n* [[Common Chimpanzee]] (''Pan troglodytes'')\\n* [[Software Freedom Day]]\\n  &lt;page&gt;\\n      &lt;id&gt;41606982&lt;/id&gt;\\n\\n    &lt;revision&gt;\\n[[de:Glaukos]]\\n*[[Rosanne Cash]]\\n\\n    &lt;id&gt;2308&lt;/id&gt;\\n|colspan=&amp;quot;2&amp;quot; align=&amp;quot;center&amp;quot;|&amp;lt;small&amp;gt;Important people and dates\\n! {{chembox header}} | [[{{PAGENAME}}</td>\n",
       "      <td>[fr:Break dance]]\\n*[[Architectural Designer]]\\n|HDI_rank = 173rd\\n*[[1991]] - [[Mikhail Gorbachev]] resigns as president of the [[Soviet Union]] (the union itself is dissolved the next day).\\n\\n[[tpi:Albert Einstein]]\\n\\n\\nIn the [[twentieth century]], [[Rudolf Steiner]] articulated stages of psychological development throughout human life. The first three of these stages, which correspond closely with [[Piaget]]'s later-described stages of childhood, were first presented in Steiner's [[1911]] essay ''The Education of the Child''; his descriptions have been taken up by educators (in the [[Waldorf Schools]]) and by psychologists (in [[biographical therapy]]; see the works of [[Bernard Lievegoed]]).\\n[[nl:Giosuè Carducci]]\\n* [[Common Chimpanzee]] (''Pan troglodytes'')\\n* [[Software Freedom Day]]\\n  &lt;page&gt;\\n      &lt;id&gt;41606982&lt;/id&gt;\\n\\n    &lt;revision&gt;\\n[[de:Glaukos]]\\n*[[Rosanne Cash]]\\n\\n    &lt;id&gt;2308&lt;/id&gt;\\n|colspan=&amp;quot;2&amp;quot; align=&amp;quot;center&amp;quot;|&amp;lt;small&amp;gt;Important people and dates\\n! {{chembox header}} | [[{{PAGENAME}}</td>\n",
       "    </tr>\n",
       "    <tr>\n",
       "      <th>1</th>\n",
       "      <td>n]] 西单\\n*[[Koninginnedag|Queen's Day]] ([[30 March]] in the Netherlands)\\n[[it:Andrew Wiles]]\\n\\n====Toyota AFL Premiership Season====\\n* [[Luxembourg War Cross]]\\n\\n\\n      &lt;/contributor&gt;\\n* [http://www.balagan.org.uk/war/0711/index.htm Steven Thomas. ''711-1492: Al-Andalus and the Reconquista''.]\\n*The '''[[Democratic Republic of the Congo]]''' ('''DRC''') (known as '''[[Zaire]]''' from 1971 to 1997) is sometimes also refered to as &amp;quot;Congo-Kinshasa&amp;quot;. It is the larger of the two countries and lies to the east. It was once the personal property of [[King Leopold II]] of [[Belgium]], when it was known as the [[Congo Free State]], and later a Belgian colony when it was renamed the [[Belgian Congo]]. When DRC was called Zaire, the other Congo was known simply as &amp;quot;Congo&amp;quot;.\\n*[[Northeast Ten Conference]]\\nOne surprising aspect of the Ackermann function is that the only arithmetic operations it ever uses are addition and subtraction of 1. Its properties come solely from the power of unlimited [[recursion]</td>\n",
       "      <td>]] 西单\\n*[[Koninginnedag|Queen's Day]] ([[30 March]] in the Netherlands)\\n[[it:Andrew Wiles]]\\n\\n====Toyota AFL Premiership Season====\\n* [[Luxembourg War Cross]]\\n\\n\\n      &lt;/contributor&gt;\\n* [http://www.balagan.org.uk/war/0711/index.htm Steven Thomas. ''711-1492: Al-Andalus and the Reconquista''.]\\n*The '''[[Democratic Republic of the Congo]]''' ('''DRC''') (known as '''[[Zaire]]''' from 1971 to 1997) is sometimes also refered to as &amp;quot;Congo-Kinshasa&amp;quot;. It is the larger of the two countries and lies to the east. It was once the personal property of [[King Leopold II]] of [[Belgium]], when it was known as the [[Congo Free State]], and later a Belgian colony when it was renamed the [[Belgian Congo]]. When DRC was called Zaire, the other Congo was known simply as &amp;quot;Congo&amp;quot;.\\n*[[Northeast Ten Conference]]\\nOne surprising aspect of the Ackermann function is that the only arithmetic operations it ever uses are addition and subtraction of 1. Its properties come solely from the power of unlimited [[recursion]]</td>\n",
       "    </tr>\n",
       "    <tr>\n",
       "      <th>2</th>\n",
       "      <td>t way in British English. Furthermore, not all such words are spelled with ''-ize'' even in American English: for example, ''incise,'' ''circumcise.'' These are not examples of the suffix -ize, but the element -cise, meaning &amp;quot;to cut.&amp;quot;\\n{|\\n[[Category:slang]]\\n\\n\\n        &lt;username&gt;Bryan Derksen&lt;/username&gt;\\n     Que Sera, Sera\\n|-\\nFingerspelling is often rapid so that the individual letters become difficult to distinguish, and the word is grasped from the overall hand movement.\\nIn the roughest terms, [[Abductive reasoning|abduction]] is what we use to generate a likely [[hypothesis]] or an initial [[diagnosis]] in response to a [[phenomenon]] of interest or a [[problem]] of concern, while [[Deductive reasoning|deduction]] is used to clarify, to derive, and to explicate the relevant consequences of the selected [[hypothesis]], and [[Induction (philosophy)|induction]] is used to test the sum of the predictions against the sum of the data.\\n \\n* [[US5]] ([[Germany]])\\nMore info see: {{es icon}} [http://www.kafka.</td>\n",
       "      <td>way in British English. Furthermore, not all such words are spelled with ''-ize'' even in American English: for example, ''incise,'' ''circumcise.'' These are not examples of the suffix -ize, but the element -cise, meaning &amp;quot;to cut.&amp;quot;\\n{|\\n[[Category:slang]]\\n\\n\\n        &lt;username&gt;Bryan Derksen&lt;/username&gt;\\n     Que Sera, Sera\\n|-\\nFingerspelling is often rapid so that the individual letters become difficult to distinguish, and the word is grasped from the overall hand movement.\\nIn the roughest terms, [[Abductive reasoning|abduction]] is what we use to generate a likely [[hypothesis]] or an initial [[diagnosis]] in response to a [[phenomenon]] of interest or a [[problem]] of concern, while [[Deductive reasoning|deduction]] is used to clarify, to derive, and to explicate the relevant consequences of the selected [[hypothesis]], and [[Induction (philosophy)|induction]] is used to test the sum of the predictions against the sum of the data.\\n \\n* [[US5]] ([[Germany]])\\nMore info see: {{es icon}} [http://www.kafka.o</td>\n",
       "    </tr>\n",
       "    <tr>\n",
       "      <th>3</th>\n",
       "      <td>version of harp known in tamil as 'yaal', is the symbol of [[Jaffna|City of Jaffna]], [[Sri Lanka]], which's legendary root originates from a harp player.\\n**[[Lombardy-Venetia florin]] - [[Lombardy-Venetia]]\\n[[Category:Adult models|Burke, Brooke]]\\n      &lt;/contributor&gt;\\n''Star after star from Heaven's high arch shall rush,''&amp;lt;br /&amp;gt;\\n[[fr:Aulne]]\\nFor a variety of reasons, governments have occasionally resorted to literally printing money to meet their expenses. Hyperinflation can be sarcastically defined as the point in time when a monetary authority can't even do that: theories of hyperinflation generally look for a relationship between [[seignorage]] and the [[inflation tax]]. Seignorage is the profit made from coining money, named because it was one of the rights of nobility. The &amp;quot;inflation tax&amp;quot; is the amount of improvement in a government's position from its own inflationary actions — since governments are almost always net debtors, reducing the value of previous borrowing reduces their debt</td>\n",
       "      <td>ersion of harp known in tamil as 'yaal', is the symbol of [[Jaffna|City of Jaffna]], [[Sri Lanka]], which's legendary root originates from a harp player.\\n**[[Lombardy-Venetia florin]] - [[Lombardy-Venetia]]\\n[[Category:Adult models|Burke, Brooke]]\\n      &lt;/contributor&gt;\\n''Star after star from Heaven's high arch shall rush,''&amp;lt;br /&amp;gt;\\n[[fr:Aulne]]\\nFor a variety of reasons, governments have occasionally resorted to literally printing money to meet their expenses. Hyperinflation can be sarcastically defined as the point in time when a monetary authority can't even do that: theories of hyperinflation generally look for a relationship between [[seignorage]] and the [[inflation tax]]. Seignorage is the profit made from coining money, named because it was one of the rights of nobility. The &amp;quot;inflation tax&amp;quot; is the amount of improvement in a government's position from its own inflationary actions — since governments are almost always net debtors, reducing the value of previous borrowing reduces their debt l</td>\n",
       "    </tr>\n",
       "  </tbody>\n",
       "</table>"
      ],
      "text/plain": [
       "<IPython.core.display.HTML object>"
      ]
     },
     "metadata": {
      "tags": []
     },
     "output_type": "display_data"
    }
   ],
   "source": [
    "#collapse_output\n",
    "dls.show_batch(max_n=4)"
   ]
  },
  {
   "cell_type": "code",
   "execution_count": null,
   "metadata": {},
   "outputs": [],
   "source": [
    "vocab_sz = btt.vocab_size"
   ]
  },
  {
   "cell_type": "code",
   "execution_count": null,
   "metadata": {},
   "outputs": [],
   "source": [
    "#hide\n",
    "df.drop(columns='toks', inplace=True, )\n",
    "df.to_csv('enwik8.csv')"
   ]
  },
  {
   "cell_type": "code",
   "execution_count": null,
   "metadata": {},
   "outputs": [
    {
     "data": {
      "text/plain": [
       "((8, 1024), (8, 1024))"
      ]
     },
     "execution_count": null,
     "metadata": {
      "tags": []
     },
     "output_type": "execute_result"
    }
   ],
   "source": [
    "xb, yb = dls.one_batch()\n",
    "xb.shape, yb.shape"
   ]
  },
  {
   "cell_type": "code",
   "execution_count": null,
   "metadata": {},
   "outputs": [],
   "source": [
    "#hide\n",
    "del xb, yb\n",
    "torch.cuda.empty_cache()"
   ]
  },
  {
   "cell_type": "markdown",
   "metadata": {},
   "source": [
    "## Training"
   ]
  },
  {
   "cell_type": "code",
   "execution_count": null,
   "metadata": {},
   "outputs": [
    {
     "name": "stderr",
     "output_type": "stream",
     "text": [
      "\u001b[34m\u001b[1mwandb\u001b[0m: Currently logged in as: \u001b[33mfastai_community\u001b[0m (use `wandb login --relogin` to force relogin)\n"
     ]
    },
    {
     "data": {
      "text/html": [
       "\n",
       "                Tracking run with wandb version 0.10.12<br/>\n",
       "                Syncing run <strong style=\"color:#cdcd00\">enc_lm_enwik8</strong> to <a href=\"https://wandb.ai\" target=\"_blank\">Weights & Biases</a> <a href=\"https://docs.wandb.com/integrations/jupyter.html\" target=\"_blank\">(Documentation)</a>.<br/>\n",
       "                Project page: <a href=\"https://wandb.ai/fastai_community/reformer-fastai\" target=\"_blank\">https://wandb.ai/fastai_community/reformer-fastai</a><br/>\n",
       "                Run page: <a href=\"https://wandb.ai/fastai_community/reformer-fastai/runs/2z18csbj\" target=\"_blank\">https://wandb.ai/fastai_community/reformer-fastai/runs/2z18csbj</a><br/>\n",
       "                Run data is saved locally in <code>/content/wandb/run-20201227_121548-2z18csbj</code><br/><br/>\n",
       "            "
      ],
      "text/plain": [
       "<IPython.core.display.HTML object>"
      ]
     },
     "metadata": {
      "tags": []
     },
     "output_type": "display_data"
    },
    {
     "data": {
      "text/html": [
       "<h1>Run(2z18csbj)</h1><p></p><iframe src=\"https://wandb.ai/fastai_community/reformer-fastai/runs/2z18csbj\" style=\"border:none;width:100%;height:400px\"></iframe>"
      ],
      "text/plain": [
       "<wandb.sdk.wandb_run.Run at 0x7faa511d5a90>"
      ]
     },
     "execution_count": null,
     "metadata": {
      "tags": []
     },
     "output_type": "execute_result"
    }
   ],
   "source": [
    "#hide_output\n",
    "wandb.init(reinit=True, project=\"reformer-fastai\", entity=\"fastai_community\", \n",
    "           name=WANDB_NAME, group=GROUP, notes=NOTES, tags=TAGS, config=CONFIG)"
   ]
  },
  {
   "cell_type": "code",
   "execution_count": null,
   "metadata": {},
   "outputs": [],
   "source": [
    "learn = Learner(dls, TransformerLM(vocab_sz, 1024, n_layers=3, max_seq_len=sl),\n",
    "                loss_func=CrossEntropyLossFlat(),\n",
    "                metrics=[accuracy, perplexity, BPC()]).to_native_fp16()"
   ]
  },
  {
   "cell_type": "code",
   "execution_count": null,
   "metadata": {},
   "outputs": [
    {
     "data": {
      "text/html": [],
      "text/plain": [
       "<IPython.core.display.HTML object>"
      ]
     },
     "metadata": {
      "tags": []
     },
     "output_type": "display_data"
    },
    {
     "data": {
      "text/plain": [
       "SuggestedLRs(lr_min=0.017378008365631102, lr_steep=0.14454397559165955)"
      ]
     },
     "execution_count": null,
     "metadata": {
      "tags": []
     },
     "output_type": "execute_result"
    },
    {
     "data": {
      "image/png": "[encoded data removed]",
      "text/plain": [
       "<Figure size 432x288 with 1 Axes>"
      ]
     },
     "metadata": {
      "needs_background": "light",
      "tags": []
     },
     "output_type": "display_data"
    }
   ],
   "source": [
    "learn.lr_find()"
   ]
  },
  {
   "cell_type": "code",
   "execution_count": null,
   "metadata": {},
   "outputs": [
    {
     "data": {
      "text/html": [
       "\n",
       "    <div>\n",
       "        <style>\n",
       "            /* Turns off some styling */\n",
       "            progress {\n",
       "                /* gets rid of default border in Firefox and Opera. */\n",
       "                border: none;\n",
       "                /* Needs to be in here for Safari polyfill so background images work as expected. */\n",
       "                background-size: auto;\n",
       "            }\n",
       "            .progress-bar-interrupted, .progress-bar-interrupted::-webkit-progress-bar {\n",
       "                background: #F44336;\n",
       "            }\n",
       "        </style>\n",
       "      <progress value='1' class='' max='3' style='width:300px; height:20px; vertical-align: middle;'></progress>\n",
       "      33.33% [1/3 1:04:42<2:09:24]\n",
       "    </div>\n",
       "    \n",
       "<table border=\"1\" class=\"dataframe\">\n",
       "  <thead>\n",
       "    <tr style=\"text-align: left;\">\n",
       "      <th>epoch</th>\n",
       "      <th>train_loss</th>\n",
       "      <th>valid_loss</th>\n",
       "      <th>accuracy</th>\n",
       "      <th>perplexity</th>\n",
       "      <th>bpc</th>\n",
       "      <th>time</th>\n",
       "    </tr>\n",
       "  </thead>\n",
       "  <tbody>\n",
       "    <tr>\n",
       "      <td>0</td>\n",
       "      <td>1.367935</td>\n",
       "      <td>1.273670</td>\n",
       "      <td>0.626984</td>\n",
       "      <td>3.573946</td>\n",
       "      <td>0.882841</td>\n",
       "      <td>1:04:42</td>\n",
       "    </tr>\n",
       "  </tbody>\n",
       "</table><p>\n",
       "\n",
       "    <div>\n",
       "        <style>\n",
       "            /* Turns off some styling */\n",
       "            progress {\n",
       "                /* gets rid of default border in Firefox and Opera. */\n",
       "                border: none;\n",
       "                /* Needs to be in here for Safari polyfill so background images work as expected. */\n",
       "                background-size: auto;\n",
       "            }\n",
       "            .progress-bar-interrupted, .progress-bar-interrupted::-webkit-progress-bar {\n",
       "                background: #F44336;\n",
       "            }\n",
       "        </style>\n",
       "      <progress value='8138' class='' max='10987' style='width:300px; height:20px; vertical-align: middle;'></progress>\n",
       "      74.07% [8138/10987 46:40<16:20 1.2395]\n",
       "    </div>\n",
       "    "
      ],
      "text/plain": [
       "<IPython.core.display.HTML object>"
      ]
     },
     "metadata": {
      "tags": []
     },
     "output_type": "display_data"
    },
    {
     "name": "stdout",
     "output_type": "stream",
     "text": [
      "Buffered data was truncated after reaching the output size limit."
     ]
    }
   ],
   "source": [
    "learn.fit_one_cycle(3, 5e-4, cbs=WandbCallback(log_model=False, log_preds=False))"
   ]
  },
  {
   "cell_type": "code",
   "execution_count": null,
   "metadata": {},
   "outputs": [
    {
     "data": {
      "image/png": "[encoded data removed]",
      "text/plain": [
       "<Figure size 432x288 with 1 Axes>"
      ]
     },
     "metadata": {
      "needs_background": "light",
      "tags": []
     },
     "output_type": "display_data"
    }
   ],
   "source": [
    "learn.recorder.plot_loss()"
   ]
  },
  {
   "cell_type": "code",
   "execution_count": null,
   "metadata": {},
   "outputs": [],
   "source": []
  }
 ],
 "metadata": {
  "kernelspec": {
   "display_name": "Python 3",
   "language": "python",
   "name": "python3"
  }
 },
 "nbformat": 4,
 "nbformat_minor": 1
}
