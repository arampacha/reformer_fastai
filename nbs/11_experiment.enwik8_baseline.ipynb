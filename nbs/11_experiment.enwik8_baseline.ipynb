{
  "nbformat": 4,
  "nbformat_minor": 0,
  "metadata": {
    "kernelspec": {
      "display_name": "Python 3",
      "language": "python",
      "name": "python3"
    },
    "colab": {
      "name": "11_experiment.enwik8_baseline.ipynb",
      "provenance": []
    },
    "accelerator": "GPU"
  },
  "cells": [
    {
      "cell_type": "code",
      "metadata": {
        "id": "lzDRHye3tobm",
        "outputId": "28a7dfd2-0b24-400f-e344-33eaf75184c3",
        "colab": {
          "base_uri": "https://localhost:8080/"
        }
      },
      "source": [
        "#hide\n",
        "import sys\n",
        "if 'google.colab' in sys.modules:\n",
        "    !pip install -Uqq fastai einops datasets axial_positional_embedding wandb\n",
        "    !pip install -qq git+git://github.com/arampacha/reformer_fastai.git\n",
        "    import os\n",
        "    os.kill(os.getpid(), 9)"
      ],
      "execution_count": null,
      "outputs": [
        {
          "output_type": "stream",
          "text": [
            "\u001b[K     |████████████████████████████████| 194kB 13.4MB/s \n",
            "\u001b[K     |████████████████████████████████| 163kB 22.6MB/s \n",
            "\u001b[K     |████████████████████████████████| 61kB 9.3MB/s \n",
            "\u001b[K     |████████████████████████████████| 245kB 27.4MB/s \n",
            "\u001b[K     |████████████████████████████████| 17.7MB 343kB/s \n",
            "\u001b[?25h  Building wheel for axial-positional-embedding (setup.py) ... \u001b[?25l\u001b[?25hdone\n",
            "  Building wheel for reformer-fastai (setup.py) ... \u001b[?25l\u001b[?25hdone\n"
          ],
          "name": "stdout"
        }
      ]
    },
    {
      "cell_type": "code",
      "metadata": {
        "id": "857enUMetobv"
      },
      "source": [
        "#hide\n",
        "%load_ext autoreload\n",
        "%autoreload 2"
      ],
      "execution_count": 1,
      "outputs": []
    },
    {
      "cell_type": "code",
      "metadata": {
        "id": "DiOdCw4_tobv"
      },
      "source": [
        "#all_slow"
      ],
      "execution_count": 2,
      "outputs": []
    },
    {
      "cell_type": "markdown",
      "metadata": {
        "id": "dDLTnUG5tobw"
      },
      "source": [
        "# enwik8 - baseline"
      ]
    },
    {
      "cell_type": "code",
      "metadata": {
        "id": "MW4Sj5k1tobw"
      },
      "source": [
        "from fastai.text.all import *\n",
        "\n",
        "from reformer_fastai.tokenizers import ByteTextTokenizer\n",
        "from reformer_fastai.transformer import TransformerLM\n",
        "from reformer_fastai.data import read_and_prepare_data, read_lines\n",
        "from reformer_fastai.metrics import BPC\n",
        "from reformer_fastai.optimizers import adafactor"
      ],
      "execution_count": 3,
      "outputs": []
    },
    {
      "cell_type": "markdown",
      "metadata": {
        "id": "V_n5IwgEtobw"
      },
      "source": [
        "## Experiment Tracking"
      ]
    },
    {
      "cell_type": "markdown",
      "metadata": {
        "id": "hg35fVYBtobx"
      },
      "source": [
        "Make sure you have wandb and are logged in:"
      ]
    },
    {
      "cell_type": "code",
      "metadata": {
        "id": "oOGzyBRftobx",
        "outputId": "f5993905-3e13-4690-b037-b3629fa1f297",
        "colab": {
          "base_uri": "https://localhost:8080/"
        }
      },
      "source": [
        "#hide\n",
        "!wandb login "
      ],
      "execution_count": 4,
      "outputs": [
        {
          "output_type": "stream",
          "text": [
            "\u001b[34m\u001b[1mwandb\u001b[0m: Currently logged in as: \u001b[33mfastai_community\u001b[0m (use `wandb login --relogin` to force relogin)\n"
          ],
          "name": "stdout"
        }
      ]
    },
    {
      "cell_type": "markdown",
      "metadata": {
        "id": "oc9E89b4toby"
      },
      "source": [
        "Load Experiment Tracking with Weights & Biases:"
      ]
    },
    {
      "cell_type": "code",
      "metadata": {
        "id": "csRZsvt4toby"
      },
      "source": [
        "import wandb\n",
        "from fastai.callback.wandb import *\n",
        "\n",
        "WANDB_NAME = 'enc_lm_enwik8_base_af'\n",
        "GROUP = 'TEST'\n",
        "NOTES = 'Baseline Transformer LM on enwik8 sl 1024'\n",
        "CONFIG = {}\n",
        "TAGS =['lm','test','enwik8']"
      ],
      "execution_count": 5,
      "outputs": []
    },
    {
      "cell_type": "markdown",
      "metadata": {
        "id": "DpjjQTEZtoby"
      },
      "source": [
        "Initialise wandb logging, pleaes **do not change** `project` or `entity` (that that everything gets logged to the same place)"
      ]
    },
    {
      "cell_type": "code",
      "metadata": {
        "id": "LMhf4gvFtobz"
      },
      "source": [
        "# wandb.init(reinit=True, project=\"reformer-fastai\", entity=\"fastai_community\", \n",
        "#            name=WANDB_NAME, group=GROUP, notes=NOTES,  tags=TAGS) # config=CONFIG,"
      ],
      "execution_count": 6,
      "outputs": []
    },
    {
      "cell_type": "markdown",
      "metadata": {
        "id": "NKfLoCYqtobz"
      },
      "source": [
        "## Download and Unpack enwik8 Data\n",
        "\n",
        "Download and unzip enwik8 data"
      ]
    },
    {
      "cell_type": "code",
      "metadata": {
        "id": "WHcrgEDFtobz"
      },
      "source": [
        "input_file=untar_data('http://mattmahoney.net/dc/enwik8.zip')"
      ],
      "execution_count": 7,
      "outputs": []
    },
    {
      "cell_type": "markdown",
      "metadata": {
        "id": "N-EdH9jDtob0"
      },
      "source": [
        "## Prepare Data"
      ]
    },
    {
      "cell_type": "code",
      "metadata": {
        "id": "NcnebR-Itob0",
        "outputId": "c0c1ea02-f3b3-47a1-833e-1645cd3ab436",
        "colab": {
          "base_uri": "https://localhost:8080/",
          "height": 212
        }
      },
      "source": [
        "df = pd.DataFrame({'text':read_lines(input_file)})\n",
        "df.head()"
      ],
      "execution_count": 8,
      "outputs": [
        {
          "output_type": "execute_result",
          "data": {
            "text/html": [
              "<div>\n",
              "<style scoped>\n",
              "    .dataframe tbody tr th:only-of-type {\n",
              "        vertical-align: middle;\n",
              "    }\n",
              "\n",
              "    .dataframe tbody tr th {\n",
              "        vertical-align: top;\n",
              "    }\n",
              "\n",
              "    .dataframe thead th {\n",
              "        text-align: right;\n",
              "    }\n",
              "</style>\n",
              "<table border=\"1\" class=\"dataframe\">\n",
              "  <thead>\n",
              "    <tr style=\"text-align: right;\">\n",
              "      <th></th>\n",
              "      <th>text</th>\n",
              "    </tr>\n",
              "  </thead>\n",
              "  <tbody>\n",
              "    <tr>\n",
              "      <th>0</th>\n",
              "      <td>&lt;mediawiki xmlns=\"http://www.mediawiki.org/xml/export-0.3/\" xmlns:xsi=\"http://www.w3.org/2001/XMLSchema-instance\" xsi:schemaLocation=\"http://www.mediawiki.org/xml/export-0.3/ http://www.mediawiki.org/xml/export-0.3.xsd\" version=\"0.3\" xml:lang=\"en\"&gt;\\n</td>\n",
              "    </tr>\n",
              "    <tr>\n",
              "      <th>1</th>\n",
              "      <td>&lt;siteinfo&gt;\\n</td>\n",
              "    </tr>\n",
              "    <tr>\n",
              "      <th>2</th>\n",
              "      <td>&lt;sitename&gt;Wikipedia&lt;/sitename&gt;\\n</td>\n",
              "    </tr>\n",
              "    <tr>\n",
              "      <th>3</th>\n",
              "      <td>&lt;base&gt;http://en.wikipedia.org/wiki/Main_Page&lt;/base&gt;\\n</td>\n",
              "    </tr>\n",
              "    <tr>\n",
              "      <th>4</th>\n",
              "      <td>&lt;generator&gt;MediaWiki 1.6alpha&lt;/generator&gt;\\n</td>\n",
              "    </tr>\n",
              "  </tbody>\n",
              "</table>\n",
              "</div>"
            ],
            "text/plain": [
              "                                                                                                                                                                                                                                                         text\n",
              "0  <mediawiki xmlns=\"http://www.mediawiki.org/xml/export-0.3/\" xmlns:xsi=\"http://www.w3.org/2001/XMLSchema-instance\" xsi:schemaLocation=\"http://www.mediawiki.org/xml/export-0.3/ http://www.mediawiki.org/xml/export-0.3.xsd\" version=\"0.3\" xml:lang=\"en\">\\n\n",
              "1                                                                                                                                                                                                                                                <siteinfo>\\n\n",
              "2                                                                                                                                                                                                                            <sitename>Wikipedia</sitename>\\n\n",
              "3                                                                                                                                                                                                       <base>http://en.wikipedia.org/wiki/Main_Page</base>\\n\n",
              "4                                                                                                                                                                                                                 <generator>MediaWiki 1.6alpha</generator>\\n"
            ]
          },
          "metadata": {
            "tags": []
          },
          "execution_count": 8
        }
      ]
    },
    {
      "cell_type": "code",
      "metadata": {
        "id": "aKl0n_K3tob1"
      },
      "source": [
        "btt = ByteTextTokenizer(is_lm=True, add_bos=False, add_eos=False)"
      ],
      "execution_count": 9,
      "outputs": []
    },
    {
      "cell_type": "code",
      "metadata": {
        "id": "tIz3UGPFtob1",
        "outputId": "7c64fc85-e970-4421-c0cb-46761cf5d83b",
        "colab": {
          "base_uri": "https://localhost:8080/"
        }
      },
      "source": [
        "%%time\n",
        "df['toks'] = df['text'].apply(btt)\n",
        "df['lens'] = df['toks'].apply(len)\n",
        "df['lens_cum_sum'] = df.lens.cumsum()"
      ],
      "execution_count": 10,
      "outputs": [
        {
          "output_type": "stream",
          "text": [
            "CPU times: user 2min, sys: 3.19 s, total: 2min 3s\n",
            "Wall time: 1min 59s\n"
          ],
          "name": "stdout"
        }
      ]
    },
    {
      "cell_type": "code",
      "metadata": {
        "id": "WvSIEcR_tob1"
      },
      "source": [
        "train_cutoff = df.lens.sum() - 10_000_000  # keep all but 10M characters for val and test\n",
        "train_idxs = df.loc[df['lens_cum_sum'] < train_cutoff].index.values\n",
        "train_idxs = list(range(0, max(train_idxs)))\n",
        "\n",
        "remaining_idxs = len(df) - max(train_idxs)\n",
        "validation_idxs = list(range(max(train_idxs), max(train_idxs) + int(remaining_idxs/2)))\n",
        "test_idxs = list(range(max(validation_idxs), len(df)))\n",
        "\n",
        "splits = [train_idxs, validation_idxs]"
      ],
      "execution_count": 11,
      "outputs": []
    },
    {
      "cell_type": "code",
      "metadata": {
        "id": "0SQWbLOdtob2"
      },
      "source": [
        "#hide\n",
        "@patch\n",
        "def create_item(self:LMDataLoader, seq):\n",
        "    if seq>=self.n: raise IndexError\n",
        "    sl = self.last_len if seq//self.bs==self.n_batches-1 else self.seq_len\n",
        "    st = (seq%self.bs)*self.bl + (seq//self.bs)*self.seq_len\n",
        "    txt = self.chunks[st : st+sl+1]    \n",
        "    return LMTensorText(txt[:-1]),txt[1:]"
      ],
      "execution_count": 12,
      "outputs": []
    },
    {
      "cell_type": "code",
      "metadata": {
        "id": "g1Vhiq0ttob2",
        "outputId": "d367f032-230e-42a8-e70c-0ea985c52d99",
        "colab": {
          "base_uri": "https://localhost:8080/"
        }
      },
      "source": [
        "%%time\n",
        "tfms = [attrgetter(\"text\"), btt]\n",
        "dsets = Datasets(df, [tfms], splits=splits, dl_type=LMDataLoader)"
      ],
      "execution_count": 13,
      "outputs": [
        {
          "output_type": "stream",
          "text": [
            "CPU times: user 1.16 s, sys: 47.3 ms, total: 1.2 s\n",
            "Wall time: 1.21 s\n"
          ],
          "name": "stdout"
        }
      ]
    },
    {
      "cell_type": "code",
      "metadata": {
        "id": "s7q3YXFdtob2",
        "outputId": "3d8084ac-ba2f-4f85-d841-02ab959dc7ae",
        "colab": {
          "base_uri": "https://localhost:8080/"
        }
      },
      "source": [
        "%%time\n",
        "bs, sl = 8, 1024\n",
        "# pad_seq2seq = partial(pad_input, pad_idx=bte.pad_token_id, pad_fields=[0,1])\n",
        "dl_kwargs = [{'lens':df['lens'].values[train_idxs]},\n",
        "             {'val_lens':df['lens'].values[validation_idxs]}]\n",
        "dls = dsets.dataloaders(bs=bs, seq_len=sl, dl_kwargs=dl_kwargs, shuffle_train=True, n_workers=2)"
      ],
      "execution_count": 14,
      "outputs": [
        {
          "output_type": "stream",
          "text": [
            "CPU times: user 25.8 s, sys: 944 ms, total: 26.7 s\n",
            "Wall time: 26.7 s\n"
          ],
          "name": "stdout"
        }
      ]
    },
    {
      "cell_type": "code",
      "metadata": {
        "id": "2M_FAHzutob3",
        "outputId": "60ffe5bf-f7b5-4305-d564-64d607ffe116",
        "colab": {
          "base_uri": "https://localhost:8080/",
          "height": 737
        }
      },
      "source": [
        "#collapse_output\n",
        "dls.show_batch(max_n=4)"
      ],
      "execution_count": 15,
      "outputs": [
        {
          "output_type": "display_data",
          "data": {
            "text/html": [
              "<table border=\"1\" class=\"dataframe\">\n",
              "  <thead>\n",
              "    <tr style=\"text-align: right;\">\n",
              "      <th></th>\n",
              "      <th>text</th>\n",
              "      <th>text_</th>\n",
              "    </tr>\n",
              "  </thead>\n",
              "  <tbody>\n",
              "    <tr>\n",
              "      <th>0</th>\n",
              "      <td>&lt;id&gt;8613&lt;/id&gt;\\nWithin the accepted Protestant canon, it is only in the book of Daniel that a &amp;quot;modern&amp;quot; understanding of an afterlife appears. From a Christian point of view, this aforementioned proposed denial of the possibility of afterlife may be interpreted in a different manner: One might see it as a distinction between the &amp;quot;dead&amp;quot; and the &amp;quot;resurrected dead&amp;quot; rather than a denial of the afterlife. The &amp;quot;dead&amp;quot; would represent those who have died outside of God's grace, who by choice do or did not follow God, and thus are dead (spiritually and bodily). The ones who go to be with God, by their choice of faith or actions depending on the religion, would be the &amp;quot;resurrected dead,&amp;quot; &amp;quot;living dead&amp;quot; or, simply, &amp;quot;living.&amp;quot;\\n* In [[mathematics]], [[blackboard bold]] &amp;lt;math&amp;gt;\\mathbb{H}&amp;lt;/math&amp;gt; represents the [[quaternions]] (after [[William Rowan Hamilton]], &amp;lt;math&amp;gt;\\mathbb{Q}&amp;lt;/math&amp;gt; representing the [[rational number|rational]]s).\\n|</td>\n",
              "      <td>&lt;id&gt;8613&lt;/id&gt;\\nWithin the accepted Protestant canon, it is only in the book of Daniel that a &amp;quot;modern&amp;quot; understanding of an afterlife appears. From a Christian point of view, this aforementioned proposed denial of the possibility of afterlife may be interpreted in a different manner: One might see it as a distinction between the &amp;quot;dead&amp;quot; and the &amp;quot;resurrected dead&amp;quot; rather than a denial of the afterlife. The &amp;quot;dead&amp;quot; would represent those who have died outside of God's grace, who by choice do or did not follow God, and thus are dead (spiritually and bodily). The ones who go to be with God, by their choice of faith or actions depending on the religion, would be the &amp;quot;resurrected dead,&amp;quot; &amp;quot;living dead&amp;quot; or, simply, &amp;quot;living.&amp;quot;\\n* In [[mathematics]], [[blackboard bold]] &amp;lt;math&amp;gt;\\mathbb{H}&amp;lt;/math&amp;gt; represents the [[quaternions]] (after [[William Rowan Hamilton]], &amp;lt;math&amp;gt;\\mathbb{Q}&amp;lt;/math&amp;gt; representing the [[rational number|rational]]s).\\n|[</td>\n",
              "    </tr>\n",
              "    <tr>\n",
              "      <th>1</th>\n",
              "      <td>varre]] and the [[Basque Country (autonomous community)|Basque Country]], Catalonia lacks its own tax system; thus the economic financing of the regional administration depends almost entirely on funds raised by national-government taxation and budgeted to Catalonia. This has become a mainstream issue, particularly as the proposed reform of the [[Catalan Statute of Autonomy]] is currently the subject of intense political debate at regional and national level.  From an economic perspective, the regional government aims to achieve a high degree of fiscal autonomy (based on the argument that the region pays in more to the national Spanish coffers than it receives).\\n[[Image:Horloge-republicaine2.jpg|thumb|Clock dial]]\\n\\n\\n==System==\\n[http://www.obesity.com.au/bmi.html Body mass index calculations] are not just for adults&amp;amp;mdash;they can also be used to identify the growing number of overweight children. BMI for children aged 2 to 20 years is calculated just as it is for adults, but it is classified differently.</td>\n",
              "      <td>arre]] and the [[Basque Country (autonomous community)|Basque Country]], Catalonia lacks its own tax system; thus the economic financing of the regional administration depends almost entirely on funds raised by national-government taxation and budgeted to Catalonia. This has become a mainstream issue, particularly as the proposed reform of the [[Catalan Statute of Autonomy]] is currently the subject of intense political debate at regional and national level.  From an economic perspective, the regional government aims to achieve a high degree of fiscal autonomy (based on the argument that the region pays in more to the national Spanish coffers than it receives).\\n[[Image:Horloge-republicaine2.jpg|thumb|Clock dial]]\\n\\n\\n==System==\\n[http://www.obesity.com.au/bmi.html Body mass index calculations] are not just for adults&amp;amp;mdash;they can also be used to identify the growing number of overweight children. BMI for children aged 2 to 20 years is calculated just as it is for adults, but it is classified differently. I</td>\n",
              "    </tr>\n",
              "    <tr>\n",
              "      <th>2</th>\n",
              "      <td>of Scottish opinion of the time. The same is true of a massive history of the Union which Defoe published in [[1709]] and which some historians still treat as a valuable contemporary source for their own works. Defoe took pains to give his history an air of objectivity by giving some space to arguments against the Union, but always having the last word for himself. \\n:''See also: [[#Table of territories and regions|Table of European territories and regions]]''\\n    &lt;title&gt;Aelia Capitolina&lt;/title&gt;\\n&amp;lt;blockquote&amp;gt;''&amp;quot;We cannot know to what extent sexual urges lay behind Charles's preference for drawing and photographing children in the nude.  He contended the preference was entirely [[aesthetic]].  But given his emotional attachment to children as well as his aesthetic appreciation of their forms, his assertion that his interest was strictly artistic is naïve.  He probably felt more than he dared acknowledge, even to himself.</td>\n",
              "      <td>of Scottish opinion of the time. The same is true of a massive history of the Union which Defoe published in [[1709]] and which some historians still treat as a valuable contemporary source for their own works. Defoe took pains to give his history an air of objectivity by giving some space to arguments against the Union, but always having the last word for himself. \\n:''See also: [[#Table of territories and regions|Table of European territories and regions]]''\\n    &lt;title&gt;Aelia Capitolina&lt;/title&gt;\\n&amp;lt;blockquote&amp;gt;''&amp;quot;We cannot know to what extent sexual urges lay behind Charles's preference for drawing and photographing children in the nude.  He contended the preference was entirely [[aesthetic]].  But given his emotional attachment to children as well as his aesthetic appreciation of their forms, his assertion that his interest was strictly artistic is naïve.  He probably felt more than he dared acknowledge, even to himself.  Certainly</td>\n",
              "    </tr>\n",
              "    <tr>\n",
              "      <th>3</th>\n",
              "      <td>cond Lynch project, over which the director would have complete creative control. Although De Laurentiis hoped it would be the next ''[[Star Wars Episode IV: A New Hope|Star Wars]],'' Lynch’s ''Dune'' ([[1984]]) was a critical and commercial dud, costing $45 million to make and grossing a mere $15 million domestically. The film may have been hampered by cuts--the 137-minute film was cut down from Lynch’s three and a half hour [[director's cut]] in a way that made the plot incomprehensible. The studio released an &amp;quot;extended cut&amp;quot; of the film for syndicated television in which some legitimate footage originally cut from the film was reinstated; however the main caveat was that certain shots from elsewhere in the film were repeated throughout the story to give the impression that other footage had been added.  Whatever the case, this was not representative of Lynch’s intended cut, but rather a cut that the</td>\n",
              "      <td>ond Lynch project, over which the director would have complete creative control. Although De Laurentiis hoped it would be the next ''[[Star Wars Episode IV: A New Hope|Star Wars]],'' Lynch’s ''Dune'' ([[1984]]) was a critical and commercial dud, costing $45 million to make and grossing a mere $15 million domestically. The film may have been hampered by cuts--the 137-minute film was cut down from Lynch’s three and a half hour [[director's cut]] in a way that made the plot incomprehensible. The studio released an &amp;quot;extended cut&amp;quot; of the film for syndicated television in which some legitimate footage originally cut from the film was reinstated; however the main caveat was that certain shots from elsewhere in the film were repeated throughout the story to give the impression that other footage had been added.  Whatever the case, this was not representative of Lynch’s intended cut, but rather a cut that the</td>\n",
              "    </tr>\n",
              "  </tbody>\n",
              "</table>"
            ],
            "text/plain": [
              "<IPython.core.display.HTML object>"
            ]
          },
          "metadata": {
            "tags": []
          }
        }
      ]
    },
    {
      "cell_type": "code",
      "metadata": {
        "id": "2WCgoxWXtob3"
      },
      "source": [
        "vocab_sz = btt.vocab_size"
      ],
      "execution_count": 16,
      "outputs": []
    },
    {
      "cell_type": "code",
      "metadata": {
        "id": "EJQ9YJeLtob3"
      },
      "source": [
        "#hide\n",
        "df.drop(columns='toks', inplace=True, )\n",
        "df.to_csv('enwik8.csv')"
      ],
      "execution_count": 17,
      "outputs": []
    },
    {
      "cell_type": "code",
      "metadata": {
        "id": "sBxK2aFGtob4",
        "outputId": "16484cc2-25c0-43e7-a10a-ea4e46e03188",
        "colab": {
          "base_uri": "https://localhost:8080/"
        }
      },
      "source": [
        "xb, yb = dls.one_batch()\n",
        "xb.shape, yb.shape"
      ],
      "execution_count": 18,
      "outputs": [
        {
          "output_type": "execute_result",
          "data": {
            "text/plain": [
              "((8, 1024), (8, 1024))"
            ]
          },
          "metadata": {
            "tags": []
          },
          "execution_count": 18
        }
      ]
    },
    {
      "cell_type": "code",
      "metadata": {
        "id": "X7bYkFcbtob4"
      },
      "source": [
        "#hide\n",
        "del xb, yb\n",
        "torch.cuda.empty_cache()"
      ],
      "execution_count": 19,
      "outputs": []
    },
    {
      "cell_type": "markdown",
      "metadata": {
        "id": "TmhKBm9jtob4"
      },
      "source": [
        "## Training"
      ]
    },
    {
      "cell_type": "code",
      "metadata": {
        "id": "0r86zf3Etob5",
        "outputId": "418cb724-dc8d-4873-b8b5-7ad1ebd36a59",
        "colab": {
          "base_uri": "https://localhost:8080/",
          "height": 598
        }
      },
      "source": [
        "#hide_output\n",
        "wandb.init(reinit=True, project=\"reformer-fastai\", entity=\"fastai_community\", \n",
        "           name=WANDB_NAME, group=GROUP, notes=NOTES, tags=TAGS, config=CONFIG)"
      ],
      "execution_count": 20,
      "outputs": [
        {
          "output_type": "stream",
          "text": [
            "\u001b[34m\u001b[1mwandb\u001b[0m: Currently logged in as: \u001b[33mfastai_community\u001b[0m (use `wandb login --relogin` to force relogin)\n"
          ],
          "name": "stderr"
        },
        {
          "output_type": "display_data",
          "data": {
            "text/html": [
              "\n",
              "                Tracking run with wandb version 0.10.13<br/>\n",
              "                Syncing run <strong style=\"color:#cdcd00\">enc_lm_enwik8_base_af</strong> to <a href=\"https://wandb.ai\" target=\"_blank\">Weights & Biases</a> <a href=\"https://docs.wandb.com/integrations/jupyter.html\" target=\"_blank\">(Documentation)</a>.<br/>\n",
              "                Project page: <a href=\"https://wandb.ai/fastai_community/reformer-fastai\" target=\"_blank\">https://wandb.ai/fastai_community/reformer-fastai</a><br/>\n",
              "                Run page: <a href=\"https://wandb.ai/fastai_community/reformer-fastai/runs/3s0ym8pn\" target=\"_blank\">https://wandb.ai/fastai_community/reformer-fastai/runs/3s0ym8pn</a><br/>\n",
              "                Run data is saved locally in <code>/content/wandb/run-20210115_161445-3s0ym8pn</code><br/><br/>\n",
              "            "
            ],
            "text/plain": [
              "<IPython.core.display.HTML object>"
            ]
          },
          "metadata": {
            "tags": []
          }
        },
        {
          "output_type": "execute_result",
          "data": {
            "text/plain": [
              "<wandb.sdk.wandb_run.Run at 0x7f8b7d3b6358>"
            ],
            "text/html": [
              "<h1>Run(3s0ym8pn)</h1><p></p><iframe src=\"https://wandb.ai/fastai_community/reformer-fastai/runs/3s0ym8pn\" style=\"border:none;width:100%;height:400px\"></iframe>"
            ]
          },
          "metadata": {
            "tags": []
          },
          "execution_count": 20
        }
      ]
    },
    {
      "cell_type": "code",
      "metadata": {
        "id": "XvD0qdcBtob5"
      },
      "source": [
        "# opt_func = partial(adafactor, warmup_init=True)\n",
        "#opt_func = adafactor\n",
        "\n",
        "learn = Learner(dls, TransformerLM(vocab_sz, 1024, n_layers=3, max_seq_len=sl),\n",
        "                loss_func=CrossEntropyLossFlat(), #opt_func=opt_func,\n",
        "                metrics=[accuracy, perplexity, BPC()]).to_fp16()"
      ],
      "execution_count": 21,
      "outputs": []
    },
    {
      "cell_type": "code",
      "metadata": {
        "id": "pMSn26IVtob6",
        "outputId": "3e7c7cd9-a1d2-4542-90b3-3e9827b02388",
        "colab": {
          "base_uri": "https://localhost:8080/",
          "height": 300
        }
      },
      "source": [
        "#hide\n",
        "# Lr find not needed with Adafactor\n",
        "learn.lr_find()"
      ],
      "execution_count": 22,
      "outputs": [
        {
          "output_type": "display_data",
          "data": {
            "text/html": [
              ""
            ],
            "text/plain": [
              "<IPython.core.display.HTML object>"
            ]
          },
          "metadata": {
            "tags": []
          }
        },
        {
          "output_type": "execute_result",
          "data": {
            "text/plain": [
              "SuggestedLRs(lr_min=0.03019951581954956, lr_steep=0.25118863582611084)"
            ]
          },
          "metadata": {
            "tags": []
          },
          "execution_count": 22
        },
        {
          "output_type": "display_data",
          "data": {
            "image/png": "[encoded data removed]",
            "text/plain": [
              "<Figure size 432x288 with 1 Axes>"
            ]
          },
          "metadata": {
            "tags": [],
            "needs_background": "light"
          }
        }
      ]
    },
    {
      "cell_type": "code",
      "metadata": {
        "id": "UKffTTiUtob6",
        "outputId": "66c83291-9b54-408a-a871-e3c360bb4eef",
        "colab": {
          "base_uri": "https://localhost:8080/",
          "height": 140
        }
      },
      "source": [
        "learn.fit_one_cycle(3, cbs=WandbCallback(log_model=False, log_preds=False))"
      ],
      "execution_count": 23,
      "outputs": [
        {
          "output_type": "display_data",
          "data": {
            "text/html": [
              "\n",
              "    <div>\n",
              "        <style>\n",
              "            /* Turns off some styling */\n",
              "            progress {\n",
              "                /* gets rid of default border in Firefox and Opera. */\n",
              "                border: none;\n",
              "                /* Needs to be in here for Safari polyfill so background images work as expected. */\n",
              "                background-size: auto;\n",
              "            }\n",
              "            .progress-bar-interrupted, .progress-bar-interrupted::-webkit-progress-bar {\n",
              "                background: #F44336;\n",
              "            }\n",
              "        </style>\n",
              "      <progress value='1' class='' max='3' style='width:300px; height:20px; vertical-align: middle;'></progress>\n",
              "      33.33% [1/3 1:21:20<2:42:40]\n",
              "    </div>\n",
              "    \n",
              "<table border=\"1\" class=\"dataframe\">\n",
              "  <thead>\n",
              "    <tr style=\"text-align: left;\">\n",
              "      <th>epoch</th>\n",
              "      <th>train_loss</th>\n",
              "      <th>valid_loss</th>\n",
              "      <th>accuracy</th>\n",
              "      <th>perplexity</th>\n",
              "      <th>bpc</th>\n",
              "      <th>time</th>\n",
              "    </tr>\n",
              "  </thead>\n",
              "  <tbody>\n",
              "    <tr>\n",
              "      <td>0</td>\n",
              "      <td>1.486207</td>\n",
              "      <td>1.398917</td>\n",
              "      <td>0.587419</td>\n",
              "      <td>4.050810</td>\n",
              "      <td>2.018210</td>\n",
              "      <td>1:21:20</td>\n",
              "    </tr>\n",
              "  </tbody>\n",
              "</table><p>\n",
              "\n",
              "    <div>\n",
              "        <style>\n",
              "            /* Turns off some styling */\n",
              "            progress {\n",
              "                /* gets rid of default border in Firefox and Opera. */\n",
              "                border: none;\n",
              "                /* Needs to be in here for Safari polyfill so background images work as expected. */\n",
              "                background-size: auto;\n",
              "            }\n",
              "            .progress-bar-interrupted, .progress-bar-interrupted::-webkit-progress-bar {\n",
              "                background: #F44336;\n",
              "            }\n",
              "        </style>\n",
              "      <progress value='8134' class='' max='10987' style='width:300px; height:20px; vertical-align: middle;'></progress>\n",
              "      74.03% [8134/10987 58:56<20:40 1.3280]\n",
              "    </div>\n",
              "    "
            ],
            "text/plain": [
              "<IPython.core.display.HTML object>"
            ]
          },
          "metadata": {
            "tags": []
          }
        },
        {
          "output_type": "stream",
          "text": [
            "Buffered data was truncated after reaching the output size limit."
          ],
          "name": "stdout"
        }
      ]
    },
    {
      "cell_type": "code",
      "metadata": {
        "id": "cJwDb7wSzcYF",
        "outputId": "8ba28a7e-cb45-4e6b-8359-0228de6a1559",
        "colab": {
          "base_uri": "https://localhost:8080/",
          "height": 265
        }
      },
      "source": [
        "learn.recorder.plot_loss()"
      ],
      "execution_count": 24,
      "outputs": [
        {
          "output_type": "display_data",
          "data": {
            "image/png": "[encoded data removed]",
            "text/plain": [
              "<Figure size 432x288 with 1 Axes>"
            ]
          },
          "metadata": {
            "tags": [],
            "needs_background": "light"
          }
        }
      ]
    }
  ]
}