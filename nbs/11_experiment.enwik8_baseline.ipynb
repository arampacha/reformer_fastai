{
 "cells": [
  {
   "cell_type": "code",
   "execution_count": null,
   "metadata": {},
   "outputs": [
    {
     "name": "stdout",
     "output_type": "stream",
     "text": [
      "\u001b[K     |████████████████████████████████| 194kB 10.0MB/s \n",
      "\u001b[K     |████████████████████████████████| 163kB 10.3MB/s \n",
      "\u001b[K     |████████████████████████████████| 61kB 8.7MB/s \n",
      "\u001b[K     |████████████████████████████████| 17.7MB 206kB/s \n",
      "\u001b[K     |████████████████████████████████| 245kB 59.6MB/s \n",
      "\u001b[?25h  Building wheel for axial-positional-embedding (setup.py) ... \u001b[?25l\u001b[?25hdone\n"
     ]
    }
   ],
   "source": [
    "#hide\n",
    "import sys\n",
    "if 'google.colab' in sys.modules:\n",
    "    !pip install -Uqq fastai einops datasets axial_positional_embedding\n",
    "    !pip install -qq git+git://github.com/arampacha/reformer_fastai.git"
   ]
  },
  {
   "cell_type": "code",
   "execution_count": null,
   "metadata": {},
   "outputs": [],
   "source": [
    "#hide\n",
    "%load_ext autoreload\n",
    "%autoreload 2"
   ]
  },
  {
   "cell_type": "code",
   "execution_count": null,
   "metadata": {},
   "outputs": [],
   "source": [
    "#all_slow"
   ]
  },
  {
   "cell_type": "markdown",
   "metadata": {},
   "source": [
    "# enwik8 - baseline"
   ]
  },
  {
   "cell_type": "code",
   "execution_count": null,
   "metadata": {},
   "outputs": [],
   "source": [
    "from fastai.text.all import *\n",
    "\n",
    "from reformer_fastai.tokenizers import ByteTextTokenizer\n",
    "from reformer_fastai.transformer import TransformerLM\n",
    "from reformer_fastai.data import read_and_prepare_data, read_lines\n",
    "from reformer_fastai.metrics import BPC\n",
    "from reformer_fastai.optimizers import adafactor"
   ]
  },
  {
   "cell_type": "markdown",
   "metadata": {},
   "source": [
    "## Experiment Tracking"
   ]
  },
  {
   "cell_type": "markdown",
   "metadata": {},
   "source": [
    "Make sure you have wandb and are logged in:"
   ]
  },
  {
   "cell_type": "code",
   "execution_count": null,
   "metadata": {},
   "outputs": [
    {
     "name": "stdout",
     "output_type": "stream",
     "text": [
      "\u001b[K     |████████████████████████████████| 1.8MB 7.3MB/s \n",
      "\u001b[K     |████████████████████████████████| 133kB 16.8MB/s \n",
      "\u001b[K     |████████████████████████████████| 81kB 10.9MB/s \n",
      "\u001b[K     |████████████████████████████████| 102kB 13.5MB/s \n",
      "\u001b[K     |████████████████████████████████| 163kB 25.8MB/s \n",
      "\u001b[K     |████████████████████████████████| 71kB 11.2MB/s \n",
      "\u001b[?25h  Building wheel for subprocess32 (setup.py) ... \u001b[?25l\u001b[?25hdone\n",
      "\u001b[34m\u001b[1mwandb\u001b[0m: You can find your API key in your browser here: https://wandb.ai/authorize\n",
      "\u001b[34m\u001b[1mwandb\u001b[0m: Paste an API key from your profile and hit enter: \n",
      "\u001b[34m\u001b[1mwandb\u001b[0m: Appending key for api.wandb.ai to your netrc file: /root/.netrc\n"
     ]
    }
   ],
   "source": [
    "#hide\n",
    "!pip install -Uqq wandb\n",
    "!wandb login"
   ]
  },
  {
   "cell_type": "markdown",
   "metadata": {},
   "source": [
    "Load Experiment Tracking with Weights & Biases:"
   ]
  },
  {
   "cell_type": "code",
   "execution_count": null,
   "metadata": {},
   "outputs": [],
   "source": [
    "import wandb\n",
    "from fastai.callback.wandb import *\n",
    "\n",
    "WANDB_NAME = 'enc_lm_enwik8_base_af'\n",
    "GROUP = 'TEST'\n",
    "NOTES = 'Baseline Transformer LM on enwik8 sl 1024'\n",
    "CONFIG = {}\n",
    "TAGS =['lm','test','enwik8']"
   ]
  },
  {
   "cell_type": "markdown",
   "metadata": {},
   "source": [
    "Initialise wandb logging, pleaes **do not change** `project` or `entity` (that that everything gets logged to the same place)"
   ]
  },
  {
   "cell_type": "code",
   "execution_count": null,
   "metadata": {},
   "outputs": [],
   "source": [
    "# wandb.init(reinit=True, project=\"reformer-fastai\", entity=\"fastai_community\", \n",
    "#            name=WANDB_NAME, group=GROUP, notes=NOTES,  tags=TAGS) # config=CONFIG,"
   ]
  },
  {
   "cell_type": "markdown",
   "metadata": {},
   "source": [
    "## Download and Unpack enwik8 Data\n",
    "\n",
    "Download and unzip enwik8 data"
   ]
  },
  {
   "cell_type": "code",
   "execution_count": null,
   "metadata": {},
   "outputs": [
    {
     "name": "stdout",
     "output_type": "stream",
     "text": [
      "--2021-01-02 20:25:37--  http://mattmahoney.net/dc/enwik8.zip\n",
      "Resolving mattmahoney.net (mattmahoney.net)... 67.195.197.24\n",
      "Connecting to mattmahoney.net (mattmahoney.net)|67.195.197.24|:80... connected.\n",
      "HTTP request sent, awaiting response... 200 OK\n",
      "Length: 36445475 (35M) [application/zip]\n",
      "Saving to: ‘data/enwik8.zip’\n",
      "\n",
      "enwik8.zip          100%[===================>]  34.76M   908KB/s    in 40s     \n",
      "\n",
      "2021-01-02 20:26:17 (898 KB/s) - ‘data/enwik8.zip’ saved [36445475/36445475]\n",
      "\n",
      "Archive:  data/enwik8.zip\n",
      "  inflating: data/enwik8             \n",
      "enwik8\tenwik8.zip\n",
      "<mediawiki xmlns=\"http://www.mediawiki.org/xml/export-0.3/\" xmlns:xsi=\"http://www.w3.org/2001/XMLSchema-instance\" xsi:schemaLocation=\"http://www.mediawiki.org/xml/export-0.3/ http://www.mediawiki.org/xml/export-0.3.xsd\" version=\"0.3\" xml:lang=\"en\">\n",
      "  <siteinfo>\n",
      "    <sitename>Wikipedia</sitename>\n",
      "    <base>http://en.wikipedia.org/wiki/Main_Page</base>\n",
      "    <generator>MediaWiki 1.6alpha</generator>\n",
      "    <case>first-letter</case>\n",
      "      <namespaces>\n",
      "      <namespace key=\"-2\">Media</namespace>\n",
      "      <namespace key=\"-1\">Special</namespace>\n",
      "      <namespace key=\"0\" />\n"
     ]
    }
   ],
   "source": [
    "#hide_output\n",
    "!wget -P data/ http://mattmahoney.net/dc/enwik8.zip\n",
    "!unzip data/enwik8.zip -d data/\n",
    "!ls data\n",
    "!head -n 10 data/enwik8"
   ]
  },
  {
   "cell_type": "markdown",
   "metadata": {},
   "source": [
    "## Prepare Data"
   ]
  },
  {
   "cell_type": "code",
   "execution_count": null,
   "metadata": {},
   "outputs": [
    {
     "data": {
      "text/html": [
       "<div>\n",
       "<style scoped>\n",
       "    .dataframe tbody tr th:only-of-type {\n",
       "        vertical-align: middle;\n",
       "    }\n",
       "\n",
       "    .dataframe tbody tr th {\n",
       "        vertical-align: top;\n",
       "    }\n",
       "\n",
       "    .dataframe thead th {\n",
       "        text-align: right;\n",
       "    }\n",
       "</style>\n",
       "<table border=\"1\" class=\"dataframe\">\n",
       "  <thead>\n",
       "    <tr style=\"text-align: right;\">\n",
       "      <th></th>\n",
       "      <th>text</th>\n",
       "    </tr>\n",
       "  </thead>\n",
       "  <tbody>\n",
       "    <tr>\n",
       "      <th>0</th>\n",
       "      <td>&lt;mediawiki xmlns=\"http://www.mediawiki.org/xml/export-0.3/\" xmlns:xsi=\"http://www.w3.org/2001/XMLSchema-instance\" xsi:schemaLocation=\"http://www.mediawiki.org/xml/export-0.3/ http://www.mediawiki.org/xml/export-0.3.xsd\" version=\"0.3\" xml:lang=\"en\"&gt;\\n</td>\n",
       "    </tr>\n",
       "    <tr>\n",
       "      <th>1</th>\n",
       "      <td>&lt;siteinfo&gt;\\n</td>\n",
       "    </tr>\n",
       "    <tr>\n",
       "      <th>2</th>\n",
       "      <td>&lt;sitename&gt;Wikipedia&lt;/sitename&gt;\\n</td>\n",
       "    </tr>\n",
       "    <tr>\n",
       "      <th>3</th>\n",
       "      <td>&lt;base&gt;http://en.wikipedia.org/wiki/Main_Page&lt;/base&gt;\\n</td>\n",
       "    </tr>\n",
       "    <tr>\n",
       "      <th>4</th>\n",
       "      <td>&lt;generator&gt;MediaWiki 1.6alpha&lt;/generator&gt;\\n</td>\n",
       "    </tr>\n",
       "  </tbody>\n",
       "</table>\n",
       "</div>"
      ],
      "text/plain": [
       "                                                                                                                                                                                                                                                         text\n",
       "0  <mediawiki xmlns=\"http://www.mediawiki.org/xml/export-0.3/\" xmlns:xsi=\"http://www.w3.org/2001/XMLSchema-instance\" xsi:schemaLocation=\"http://www.mediawiki.org/xml/export-0.3/ http://www.mediawiki.org/xml/export-0.3.xsd\" version=\"0.3\" xml:lang=\"en\">\\n\n",
       "1                                                                                                                                                                                                                                                <siteinfo>\\n\n",
       "2                                                                                                                                                                                                                            <sitename>Wikipedia</sitename>\\n\n",
       "3                                                                                                                                                                                                       <base>http://en.wikipedia.org/wiki/Main_Page</base>\\n\n",
       "4                                                                                                                                                                                                                 <generator>MediaWiki 1.6alpha</generator>\\n"
      ]
     },
     "execution_count": null,
     "metadata": {},
     "output_type": "execute_result"
    }
   ],
   "source": [
    "df = pd.DataFrame({'text':read_lines('/content/data/enwik8')})\n",
    "df.head()"
   ]
  },
  {
   "cell_type": "code",
   "execution_count": null,
   "metadata": {},
   "outputs": [],
   "source": [
    "btt = ByteTextTokenizer(is_lm=True, add_bos=False, add_eos=False)"
   ]
  },
  {
   "cell_type": "code",
   "execution_count": null,
   "metadata": {},
   "outputs": [
    {
     "name": "stdout",
     "output_type": "stream",
     "text": [
      "CPU times: user 2min 2s, sys: 4.4 s, total: 2min 6s\n",
      "Wall time: 1min 59s\n"
     ]
    }
   ],
   "source": [
    "%%time\n",
    "df['toks'] = df['text'].apply(btt)\n",
    "df['lens'] = df['toks'].apply(len)\n",
    "df['lens_cum_sum'] = df.lens.cumsum()"
   ]
  },
  {
   "cell_type": "code",
   "execution_count": null,
   "metadata": {},
   "outputs": [],
   "source": [
    "train_cutoff = df.lens.sum() - 10_000_000  # keep all but 10M characters for val and test\n",
    "train_idxs = df.loc[df['lens_cum_sum'] < train_cutoff].index.values\n",
    "train_idxs = list(range(0, max(train_idxs)))\n",
    "\n",
    "remaining_idxs = len(df) - max(train_idxs)\n",
    "validation_idxs = list(range(max(train_idxs), max(train_idxs) + int(remaining_idxs/2)))\n",
    "test_idxs = list(range(max(validation_idxs), len(df)))\n",
    "\n",
    "splits = [train_idxs, validation_idxs]"
   ]
  },
  {
   "cell_type": "code",
   "execution_count": null,
   "metadata": {},
   "outputs": [],
   "source": [
    "#hide\n",
    "@patch\n",
    "def create_item(self:LMDataLoader, seq):\n",
    "    if seq>=self.n: raise IndexError\n",
    "    sl = self.last_len if seq//self.bs==self.n_batches-1 else self.seq_len\n",
    "    st = (seq%self.bs)*self.bl + (seq//self.bs)*self.seq_len\n",
    "    txt = self.chunks[st : st+sl+1]    \n",
    "    return LMTensorText(txt[:-1]),txt[1:]"
   ]
  },
  {
   "cell_type": "code",
   "execution_count": null,
   "metadata": {},
   "outputs": [
    {
     "name": "stdout",
     "output_type": "stream",
     "text": [
      "CPU times: user 1.08 s, sys: 51.2 ms, total: 1.13 s\n",
      "Wall time: 1.13 s\n"
     ]
    }
   ],
   "source": [
    "%%time\n",
    "tfms = [attrgetter(\"text\"), btt]\n",
    "dsets = Datasets(df, [tfms], splits=splits, dl_type=LMDataLoader)"
   ]
  },
  {
   "cell_type": "code",
   "execution_count": null,
   "metadata": {},
   "outputs": [
    {
     "name": "stdout",
     "output_type": "stream",
     "text": [
      "CPU times: user 28 s, sys: 1.91 s, total: 30 s\n",
      "Wall time: 35.4 s\n"
     ]
    }
   ],
   "source": [
    "%%time\n",
    "bs, sl = 8, 1024\n",
    "# pad_seq2seq = partial(pad_input, pad_idx=bte.pad_token_id, pad_fields=[0,1])\n",
    "dl_kwargs = [{'lens':df['lens'].values[train_idxs]},\n",
    "             {'val_lens':df['lens'].values[validation_idxs]}]\n",
    "dls = dsets.dataloaders(bs=bs, seq_len=sl, dl_kwargs=dl_kwargs, shuffle_train=True, n_workers=2)"
   ]
  },
  {
   "cell_type": "code",
   "execution_count": null,
   "metadata": {},
   "outputs": [
    {
     "data": {
      "text/html": [
       "<table border=\"1\" class=\"dataframe\">\n",
       "  <thead>\n",
       "    <tr style=\"text-align: right;\">\n",
       "      <th></th>\n",
       "      <th>text</th>\n",
       "      <th>text_</th>\n",
       "    </tr>\n",
       "  </thead>\n",
       "  <tbody>\n",
       "    <tr>\n",
       "      <th>0</th>\n",
       "      <td>\\n      &lt;timestamp&gt;2002-02-25T15:51:15Z&lt;/timestamp&gt;\\n[[hi:प्लेग]]\\nSee also: the discussion of [[race and intelligence]].\\n    &lt;/revision&gt;\\nSome variants of Bangla, particularly Chittagonian and Chakma Bangla (considered by some to be separate languages), have contrastive [[tone (linguistics)|tone]]; differences in the pitch of the speaker's voice can distinguish words.\\n{{commons|Haliaeetus leucocephalus}}\\n0% (1999 est.)\\n    &lt;id&gt;10238&lt;/id&gt;\\n*1969 - [[Ari Meyers]], Puerto Rican-born American actress\\n\\n[[fi:Herakleios]]\\n*Henry Hase 1807-1829\\n        &lt;username&gt;Yaohua2000&lt;/username&gt;\\n\\n\\n[[zh:骨骼]]&lt;/text&gt;\\n*[[1936]] - The [[United Auto Workers]] (UAW) gains autonomy from the [[American Federation of Labor]].\\n|100 TB = 90.9 TiB\\n*[[1950]] - [[Dan Seals]], American singer\\n\\n\\n\\n*[http://www.ranchcardoso.biz An AQH @ a California Bloodless Bullfight]\\n* Ballistic wire printers (discussed in the [[dot matrix printer]]s article)\\n\\n* Militarized police forces and private security forces\\n\\n | author=Siljander, Pauli\\n{{listde</td>\n",
       "      <td>&lt;timestamp&gt;2002-02-25T15:51:15Z&lt;/timestamp&gt;\\n[[hi:प्लेग]]\\nSee also: the discussion of [[race and intelligence]].\\n    &lt;/revision&gt;\\nSome variants of Bangla, particularly Chittagonian and Chakma Bangla (considered by some to be separate languages), have contrastive [[tone (linguistics)|tone]]; differences in the pitch of the speaker's voice can distinguish words.\\n{{commons|Haliaeetus leucocephalus}}\\n0% (1999 est.)\\n    &lt;id&gt;10238&lt;/id&gt;\\n*1969 - [[Ari Meyers]], Puerto Rican-born American actress\\n\\n[[fi:Herakleios]]\\n*Henry Hase 1807-1829\\n        &lt;username&gt;Yaohua2000&lt;/username&gt;\\n\\n\\n[[zh:骨骼]]&lt;/text&gt;\\n*[[1936]] - The [[United Auto Workers]] (UAW) gains autonomy from the [[American Federation of Labor]].\\n|100 TB = 90.9 TiB\\n*[[1950]] - [[Dan Seals]], American singer\\n\\n\\n\\n*[http://www.ranchcardoso.biz An AQH @ a California Bloodless Bullfight]\\n* Ballistic wire printers (discussed in the [[dot matrix printer]]s article)\\n\\n* Militarized police forces and private security forces\\n\\n | author=Siljander, Pauli\\n{{listdev</td>\n",
       "    </tr>\n",
       "    <tr>\n",
       "      <th>1</th>\n",
       "      <td>had retired from Kabul when the [[United Kingdom|British]] armies entered Afghanistan. The Russian governor-general at [[Tashkent]] sent for Abdur Rahman, and pressed him to try his fortunes once more across the Oxus. In March [[1880]] a report reached India that Abdur Rahman was in northern Afghanistan; and the governor-general, [[Robert Bulwer-Lytton, 1st Earl of Lytton|Lord Lytton]], opened communications with him to the effect that the British government were prepared to withdraw their troops, and to recognize Abdur Rahman as ''amir'' of Afghanistan, with the exception of Kandahar and some districts adjacent to it. After some negotiations, an interview took place between him and [[Lepel Griffin]], the diplomatic representative at Kabul of the [[India]]n government. Griffin described Abdur Rahman as a man of middle height, with an exceedingly intelligent face and frank and courteous manners, shrewd and able in conversation on the business in hand.\\n# [[Berlin]] with 3,391,407 inhabitants \\n[[nl:Glossolalie]</td>\n",
       "      <td>had retired from Kabul when the [[United Kingdom|British]] armies entered Afghanistan. The Russian governor-general at [[Tashkent]] sent for Abdur Rahman, and pressed him to try his fortunes once more across the Oxus. In March [[1880]] a report reached India that Abdur Rahman was in northern Afghanistan; and the governor-general, [[Robert Bulwer-Lytton, 1st Earl of Lytton|Lord Lytton]], opened communications with him to the effect that the British government were prepared to withdraw their troops, and to recognize Abdur Rahman as ''amir'' of Afghanistan, with the exception of Kandahar and some districts adjacent to it. After some negotiations, an interview took place between him and [[Lepel Griffin]], the diplomatic representative at Kabul of the [[India]]n government. Griffin described Abdur Rahman as a man of middle height, with an exceedingly intelligent face and frank and courteous manners, shrewd and able in conversation on the business in hand.\\n# [[Berlin]] with 3,391,407 inhabitants \\n[[nl:Glossolalie]]</td>\n",
       "    </tr>\n",
       "    <tr>\n",
       "      <th>2</th>\n",
       "      <td>entury Division, and once again played the Cowboys in the conference final. Nelsen threw for 219 yards and [[Walt Sumner]] returned an interception 88 yards for a touchdown as the Browns took their second straight Eastern championship by the score of 38-14. But the NFL Championship Game was another disappointment for the Browns. [[Joe Kapp]] of the [[Minnesota Vikings]] scored on the team's first possession and another rout began. The Vikings went up 20-0 by halftime and ended up winning 27-7.\\n: = ((''x''&amp;lt;sup&amp;gt;2&amp;lt;/sup&amp;gt; * ''x'')&amp;lt;sup&amp;gt;2&amp;lt;/sup&amp;gt;)&amp;lt;sup&amp;gt;2&amp;lt;/sup&amp;gt; * ''x'' &amp;amp;nbsp; &amp;amp;nbsp; &amp;amp;nbsp; → algorithm needs only 5 multiplications instead of 13 - 1 = 12\\nSince the area has been referred to as the [[Balkans]], notable conflicts have included:\\nIn baseball, the '''batting average''' is defined as the ratio of [[Hit (baseball statistics)|hits]] to [[at bat]]s. \\nDefenders of the title ''dominion'' – including [[Monarchy in Canada|monarchists]] who see signs of creeping [[Cana</td>\n",
       "      <td>ntury Division, and once again played the Cowboys in the conference final. Nelsen threw for 219 yards and [[Walt Sumner]] returned an interception 88 yards for a touchdown as the Browns took their second straight Eastern championship by the score of 38-14. But the NFL Championship Game was another disappointment for the Browns. [[Joe Kapp]] of the [[Minnesota Vikings]] scored on the team's first possession and another rout began. The Vikings went up 20-0 by halftime and ended up winning 27-7.\\n: = ((''x''&amp;lt;sup&amp;gt;2&amp;lt;/sup&amp;gt; * ''x'')&amp;lt;sup&amp;gt;2&amp;lt;/sup&amp;gt;)&amp;lt;sup&amp;gt;2&amp;lt;/sup&amp;gt; * ''x'' &amp;amp;nbsp; &amp;amp;nbsp; &amp;amp;nbsp; → algorithm needs only 5 multiplications instead of 13 - 1 = 12\\nSince the area has been referred to as the [[Balkans]], notable conflicts have included:\\nIn baseball, the '''batting average''' is defined as the ratio of [[Hit (baseball statistics)|hits]] to [[at bat]]s. \\nDefenders of the title ''dominion'' – including [[Monarchy in Canada|monarchists]] who see signs of creeping [[Canad</td>\n",
       "    </tr>\n",
       "    <tr>\n",
       "      <th>3</th>\n",
       "      <td>\\n\\n|-\\n|{{ArabDIN|ʼ}}\\n\\n* [[HyperCard]]\\n*[[Gary Player]], golfer (1936 - )\\n      &lt;comment&gt;Automated conversion&lt;/comment&gt;\\n|-\\n\\n\\n*[[Constantine Andreou]]\\nIn ''[[2061: Odyssey Three]]'', Heywood Floyd is surprised to encounter HAL, now stored alongside Dave Bowman in the Europa monolith.\\n\\n| &amp;lt;center&amp;gt;{{unicode|&amp;amp;#x2713;}}&amp;lt;/center&amp;gt;\\nIn proper form, the archer stands erect, forming a T. The archer's back [[muscle]]s are used to pull the arrow to the anchor point. Most bows will be equipped with a mechanical device called a clicker which produces a clicking sound when the archer reaches the correct draw length. \\n[[Category:1943 deaths|Hilbert, David]]\\n*If the third baseman fields a ball and throws it to first, it is recorded as a 5-3 [[out (baseball)|out]].\\n\\n\\n|11.08.2005 08:20:00 || V-166 || Ariane-5GS || 523 || Thaïcom 4-iPStar 1 || Success\\n[[Image:delta.b747.anet.arp.750pix.jpg|thumb|right|Delta Boeing 747, operated by Pan Am, at London Heathrow Airport in May 1974.]]\\n[[sv:Agrippina d.y.]]\\nAfter first l</td>\n",
       "      <td>\\n|-\\n|{{ArabDIN|ʼ}}\\n\\n* [[HyperCard]]\\n*[[Gary Player]], golfer (1936 - )\\n      &lt;comment&gt;Automated conversion&lt;/comment&gt;\\n|-\\n\\n\\n*[[Constantine Andreou]]\\nIn ''[[2061: Odyssey Three]]'', Heywood Floyd is surprised to encounter HAL, now stored alongside Dave Bowman in the Europa monolith.\\n\\n| &amp;lt;center&amp;gt;{{unicode|&amp;amp;#x2713;}}&amp;lt;/center&amp;gt;\\nIn proper form, the archer stands erect, forming a T. The archer's back [[muscle]]s are used to pull the arrow to the anchor point. Most bows will be equipped with a mechanical device called a clicker which produces a clicking sound when the archer reaches the correct draw length. \\n[[Category:1943 deaths|Hilbert, David]]\\n*If the third baseman fields a ball and throws it to first, it is recorded as a 5-3 [[out (baseball)|out]].\\n\\n\\n|11.08.2005 08:20:00 || V-166 || Ariane-5GS || 523 || Thaïcom 4-iPStar 1 || Success\\n[[Image:delta.b747.anet.arp.750pix.jpg|thumb|right|Delta Boeing 747, operated by Pan Am, at London Heathrow Airport in May 1974.]]\\n[[sv:Agrippina d.y.]]\\nAfter first li</td>\n",
       "    </tr>\n",
       "  </tbody>\n",
       "</table>"
      ],
      "text/plain": [
       "<IPython.core.display.HTML object>"
      ]
     },
     "metadata": {},
     "output_type": "display_data"
    }
   ],
   "source": [
    "#collapse_output\n",
    "dls.show_batch(max_n=4)"
   ]
  },
  {
   "cell_type": "code",
   "execution_count": null,
   "metadata": {},
   "outputs": [],
   "source": [
    "vocab_sz = btt.vocab_size"
   ]
  },
  {
   "cell_type": "code",
   "execution_count": null,
   "metadata": {},
   "outputs": [],
   "source": [
    "#hide\n",
    "df.drop(columns='toks', inplace=True, )\n",
    "df.to_csv('enwik8.csv')"
   ]
  },
  {
   "cell_type": "code",
   "execution_count": null,
   "metadata": {},
   "outputs": [
    {
     "data": {
      "text/plain": [
       "((8, 1024), (8, 1024))"
      ]
     },
     "execution_count": null,
     "metadata": {},
     "output_type": "execute_result"
    }
   ],
   "source": [
    "xb, yb = dls.one_batch()\n",
    "xb.shape, yb.shape"
   ]
  },
  {
   "cell_type": "code",
   "execution_count": null,
   "metadata": {},
   "outputs": [],
   "source": [
    "#hide\n",
    "del xb, yb\n",
    "torch.cuda.empty_cache()"
   ]
  },
  {
   "cell_type": "markdown",
   "metadata": {},
   "source": [
    "## Training"
   ]
  },
  {
   "cell_type": "code",
   "execution_count": null,
   "metadata": {},
   "outputs": [
    {
     "name": "stderr",
     "output_type": "stream",
     "text": [
      "\u001b[34m\u001b[1mwandb\u001b[0m: Currently logged in as: \u001b[33mfastai_community\u001b[0m (use `wandb login --relogin` to force relogin)\n"
     ]
    },
    {
     "data": {
      "text/html": [
       "\n",
       "                Tracking run with wandb version 0.10.12<br/>\n",
       "                Syncing run <strong style=\"color:#cdcd00\">enc_lm_enwik8_base_af</strong> to <a href=\"https://wandb.ai\" target=\"_blank\">Weights & Biases</a> <a href=\"https://docs.wandb.com/integrations/jupyter.html\" target=\"_blank\">(Documentation)</a>.<br/>\n",
       "                Project page: <a href=\"https://wandb.ai/fastai_community/reformer-fastai\" target=\"_blank\">https://wandb.ai/fastai_community/reformer-fastai</a><br/>\n",
       "                Run page: <a href=\"https://wandb.ai/fastai_community/reformer-fastai/runs/1nn942kw\" target=\"_blank\">https://wandb.ai/fastai_community/reformer-fastai/runs/1nn942kw</a><br/>\n",
       "                Run data is saved locally in <code>/content/wandb/run-20210102_202901-1nn942kw</code><br/><br/>\n",
       "            "
      ],
      "text/plain": [
       "<IPython.core.display.HTML object>"
      ]
     },
     "metadata": {},
     "output_type": "display_data"
    },
    {
     "data": {
      "text/html": [
       "<h1>Run(1nn942kw)</h1><p></p><iframe src=\"https://wandb.ai/fastai_community/reformer-fastai/runs/1nn942kw\" style=\"border:none;width:100%;height:400px\"></iframe>"
      ],
      "text/plain": [
       "<wandb.sdk.wandb_run.Run at 0x7f238a3e2a90>"
      ]
     },
     "execution_count": null,
     "metadata": {},
     "output_type": "execute_result"
    }
   ],
   "source": [
    "#hide_output\n",
    "wandb.init(reinit=True, project=\"reformer-fastai\", entity=\"fastai_community\", \n",
    "           name=WANDB_NAME, group=GROUP, notes=NOTES, tags=TAGS, config=CONFIG)"
   ]
  },
  {
   "cell_type": "code",
   "execution_count": null,
   "metadata": {},
   "outputs": [],
   "source": [
    "# opt_func = partial(adafactor, warmup_init=True)\n",
    "opt_func = adafactor\n",
    "\n",
    "learn = Learner(dls, TransformerLM(vocab_sz, 1024, n_layers=3, max_seq_len=sl),\n",
    "                loss_func=CrossEntropyLossFlat(), opt_func=opt_func,\n",
    "                metrics=[accuracy, perplexity, BPC()]).to_native_fp16()"
   ]
  },
  {
   "cell_type": "code",
   "execution_count": null,
   "metadata": {},
   "outputs": [
    {
     "data": {
      "text/html": [],
      "text/plain": [
       "<IPython.core.display.HTML object>"
      ]
     },
     "metadata": {},
     "output_type": "display_data"
    },
    {
     "data": {
      "text/plain": [
       "SuggestedLRs(lr_min=1.8214517331216486e-05, lr_steep=0.00017626078624743968)"
      ]
     },
     "execution_count": null,
     "metadata": {},
     "output_type": "execute_result"
    },
    {
     "data": {
      "image/png": "[encoded data removed]",
      "text/plain": [
       "<Figure size 432x288 with 1 Axes>"
      ]
     },
     "metadata": {
      "needs_background": "light"
     },
     "output_type": "display_data"
    }
   ],
   "source": [
    "#hide\n",
    "learn.lr_find()"
   ]
  },
  {
   "cell_type": "code",
   "execution_count": null,
   "metadata": {},
   "outputs": [
    {
     "data": {
      "text/html": [
       "\n",
       "    <div>\n",
       "        <style>\n",
       "            /* Turns off some styling */\n",
       "            progress {\n",
       "                /* gets rid of default border in Firefox and Opera. */\n",
       "                border: none;\n",
       "                /* Needs to be in here for Safari polyfill so background images work as expected. */\n",
       "                background-size: auto;\n",
       "            }\n",
       "            .progress-bar-interrupted, .progress-bar-interrupted::-webkit-progress-bar {\n",
       "                background: #F44336;\n",
       "            }\n",
       "        </style>\n",
       "      <progress value='1' class='' max='3' style='width:300px; height:20px; vertical-align: middle;'></progress>\n",
       "      33.33% [1/3 1:08:40<2:17:21]\n",
       "    </div>\n",
       "    \n",
       "<table border=\"1\" class=\"dataframe\">\n",
       "  <thead>\n",
       "    <tr style=\"text-align: left;\">\n",
       "      <th>epoch</th>\n",
       "      <th>train_loss</th>\n",
       "      <th>valid_loss</th>\n",
       "      <th>accuracy</th>\n",
       "      <th>perplexity</th>\n",
       "      <th>bpc</th>\n",
       "      <th>time</th>\n",
       "    </tr>\n",
       "  </thead>\n",
       "  <tbody>\n",
       "    <tr>\n",
       "      <td>0</td>\n",
       "      <td>1.431034</td>\n",
       "      <td>1.376386</td>\n",
       "      <td>0.595464</td>\n",
       "      <td>3.960561</td>\n",
       "      <td>0.954038</td>\n",
       "      <td>1:08:40</td>\n",
       "    </tr>\n",
       "  </tbody>\n",
       "</table><p>\n",
       "\n",
       "    <div>\n",
       "        <style>\n",
       "            /* Turns off some styling */\n",
       "            progress {\n",
       "                /* gets rid of default border in Firefox and Opera. */\n",
       "                border: none;\n",
       "                /* Needs to be in here for Safari polyfill so background images work as expected. */\n",
       "                background-size: auto;\n",
       "            }\n",
       "            .progress-bar-interrupted, .progress-bar-interrupted::-webkit-progress-bar {\n",
       "                background: #F44336;\n",
       "            }\n",
       "        </style>\n",
       "      <progress value='8137' class='' max='10987' style='width:300px; height:20px; vertical-align: middle;'></progress>\n",
       "      74.06% [8137/10987 50:15<17:36 1.2478]\n",
       "    </div>\n",
       "    "
      ],
      "text/plain": [
       "<IPython.core.display.HTML object>"
      ]
     },
     "metadata": {},
     "output_type": "display_data"
    },
    {
     "name": "stdout",
     "output_type": "stream",
     "text": [
      "Buffered data was truncated after reaching the output size limit."
     ]
    }
   ],
   "source": [
    "learn.fit(3, cbs=WandbCallback(log_model=False, log_preds=False))"
   ]
  },
  {
   "cell_type": "code",
   "execution_count": null,
   "metadata": {},
   "outputs": [
    {
     "data": {
      "image/png": "[encoded data removed]",
      "text/plain": [
       "<Figure size 432x288 with 1 Axes>"
      ]
     },
     "metadata": {
      "needs_background": "light"
     },
     "output_type": "display_data"
    }
   ],
   "source": [
    "learn.recorder.plot_loss()"
   ]
  },
  {
   "cell_type": "code",
   "execution_count": null,
   "metadata": {},
   "outputs": [],
   "source": []
  }
 ],
 "metadata": {
  "kernelspec": {
   "display_name": "Python 3",
   "language": "python",
   "name": "python3"
  }
 },
 "nbformat": 4,
 "nbformat_minor": 4
}
