{
 "cells": [
  {
   "cell_type": "code",
   "execution_count": null,
   "metadata": {},
   "outputs": [],
   "source": [
    "#hide\n",
    "#all_slow"
   ]
  },
  {
   "cell_type": "code",
   "execution_count": null,
   "metadata": {},
   "outputs": [],
   "source": [
    "#hide\n",
    "%load_ext autoreload\n",
    "%autoreload 2"
   ]
  },
  {
   "cell_type": "code",
   "execution_count": null,
   "metadata": {},
   "outputs": [],
   "source": [
    "from fastai.text.all import *\n",
    "from reformer_fastai.expscript import get_twin_sequence_dataloaders, get_lshlm_model, get_synthetic_learner\n",
    "from reformer_fastai.data import MaskTargCallback"
   ]
  },
  {
   "cell_type": "code",
   "execution_count": null,
   "metadata": {},
   "outputs": [],
   "source": [
    "#hide\n",
    "#skip\n",
    "torch.cuda.set_device(0)"
   ]
  },
  {
   "cell_type": "code",
   "execution_count": null,
   "metadata": {},
   "outputs": [
    {
     "data": {
      "text/plain": [
       "[Path('models/synt_n_hashes-1_use-lsh-True_epohs-1_20210113_05:25:08.pth'),\n",
       " Path('models/synt_testing__15_01_2021_08:19.pth'),\n",
       " Path('models/synt_n_hashes-1_use-lsh-True_epochs-750_20210114_00:47:44.pth'),\n",
       " Path('models/synt_Full-attention-high_lr__15_01_2021_15:01.pth'),\n",
       " Path('models/synt_n_hashes-4_use-lsh-True_epochs-750_20210114_06:02:18.pth'),\n",
       " Path('models/synt_n_hashes-4_use-lsh-False_epochs-750_20210114_20:28:05.pth'),\n",
       " Path('models/synt_n_hashes-4_use-lsh-True_epochs-750_20210115_01:07:30.pth'),\n",
       " Path('models/synt_Full-attention-high_lr__15_01_2021_18:38.pth'),\n",
       " Path('models/synt_n_hashes-1_use-lsh-True_epochs-750_20210114_15:53:00.pth'),\n",
       " Path('models/synt_testest__15_01_2021_08:56.pth'),\n",
       " Path('models/synt_n_hashes-2_use-lsh-True_epochs-750_20210114_02:16:55.pth'),\n",
       " Path('models/synt_n_hashes-2_use-lsh-True_epochs-750_20210114_21:16:23.pth'),\n",
       " Path('models/synt_n_hashes-1_use-lsh-False_epochs-50_20210113_15:16:25.pth'),\n",
       " Path('models/synt_n_hashes-4_use-lsh-True_epohs-100_20210113_14:02:34.pth'),\n",
       " Path('models/synt_n_hashes-2_use-lsh-True_epohs-1_20210113_08:21:15.pth'),\n",
       " Path('models/synt_n_hashes-4_use-lsh-False_epohs-25_20210113_13:24:04.pth'),\n",
       " Path('models/synt_n_hashes-1_use-lsh-True_epohs-10_20210113_12:33:20.pth')]"
      ]
     },
     "execution_count": null,
     "metadata": {},
     "output_type": "execute_result"
    }
   ],
   "source": [
    "#hide\n",
    "#skip\n",
    "# models are saved in models/ **relative** to where script was run\n",
    "pm = Path('models/')\n",
    "[p for p in pm.ls()]"
   ]
  },
  {
   "cell_type": "code",
   "execution_count": null,
   "metadata": {},
   "outputs": [],
   "source": [
    "#hide\n",
    "#skip\n",
    "#local mnodel filenames\n",
    "fn_full='synt_Full-attention-high_lr__15_01_2021_18:38'\n",
    "fn1='synt_n_hashes-1_use-lsh-True_epochs-750_20210114_15:53:00'\n",
    "fn2='synt_n_hashes-2_use-lsh-True_epochs-750_20210114_21:16:23'\n",
    "fn4='synt_n_hashes-4_use-lsh-True_epochs-750_20210115_01:07:30'"
   ]
  },
  {
   "cell_type": "code",
   "execution_count": null,
   "metadata": {},
   "outputs": [
    {
     "data": {
      "text/plain": [
       "[Path('exp_configs/LSH-1-small_lr_14_01_2021_10:45'),\n",
       " Path('exp_configs/LSH-4-small_lr_14_01_2021_14:53.json'),\n",
       " Path('exp_configs/testing_15_01_2021_08:18.json'),\n",
       " Path('exp_configs/Full-attention-high_lr_15_01_2021_14:00.json'),\n",
       " Path('exp_configs/LSH-2-small_lr_14_01_2021_14:52.json'),\n",
       " Path('exp_configs/testest_15_01_2021_08:56.json'),\n",
       " Path('exp_configs/Full-attention-small_lr_14_01_2021_14:55.json'),\n",
       " Path('exp_configs/_tmp_synt.json'),\n",
       " Path('exp_configs/Full-attention-high_lr_15_01_2021_10:29.json')]"
      ]
     },
     "execution_count": null,
     "metadata": {},
     "output_type": "execute_result"
    }
   ],
   "source": [
    "#hide\n",
    "#skip\n",
    "pc = Path('exp_configs/')\n",
    "[p for p in pc.ls()]"
   ]
  },
  {
   "cell_type": "code",
   "execution_count": null,
   "metadata": {},
   "outputs": [
    {
     "name": "stdout",
     "output_type": "stream",
     "text": [
      "{\"vocab_sz\": 128, \"d_model\": 256, \"n_layers\": 1, \"n_heads\": 4, \"d_ff\": 256, \"attn_dropout\": 0.0, \"ff_dropout\": 0.0, \"emb_dropout\": 0.0, \"tie_weights\": true, \"causal\": true, \"pos_enc\": \"absolute\", \"max_seq_len\": 1024, \"axial_shape\": null, \"axial_emb_dims\": null, \"pad_idx\": null, \"prenorm\": false, \"attn_bias\": false, \"bucket_size\": 64, \"use_lsh\": false, \"n_hashes\": 6, \"seed\": 1234}"
     ]
    }
   ],
   "source": [
    "#hide\n",
    "#skip\n",
    "!head 'exp_configs/Full-attention-high_lr_15_01_2021_14:00.json'"
   ]
  },
  {
   "cell_type": "markdown",
   "metadata": {},
   "source": [
    "## Get dataset"
   ]
  },
  {
   "cell_type": "markdown",
   "metadata": {},
   "source": [
    "Settings from experiement. \n",
    "Note: LSH-models run with seed 42. Full attention with 1234 (didn't converge in 42)."
   ]
  },
  {
   "cell_type": "code",
   "execution_count": null,
   "metadata": {},
   "outputs": [],
   "source": [
    "# Dataloaders\n",
    "bs=64\n",
    "sl=1024\n",
    "train_sz=12800\n",
    "valid_sz=1280\n",
    "n_epochs=750\n",
    "seed=42"
   ]
  },
  {
   "cell_type": "code",
   "execution_count": null,
   "metadata": {},
   "outputs": [],
   "source": [
    "dls = get_twin_sequence_dataloaders(bs=bs, sl=sl, train_sz=train_sz, valid_sz=valid_sz, seed=seed)"
   ]
  },
  {
   "cell_type": "markdown",
   "metadata": {},
   "source": [
    "## Load lsh-learners"
   ]
  },
  {
   "cell_type": "code",
   "execution_count": null,
   "metadata": {},
   "outputs": [],
   "source": [
    "# Model\n",
    "n_hashes=1\n",
    "bucket_size=64  # suggested in trax\n",
    "vocab_sz=128    # specific for the synthetic task\n",
    "d_model=256\n",
    "n_layers=1      # specified in paper\n",
    "n_heads=4\n",
    "d_ff=256\n",
    "\n",
    "attn_dropout=0\n",
    "ff_dropout=0\n",
    "emb_dropout=0\n",
    "\n",
    "max_seq_len=sl\n",
    "causal=True\n",
    "use_lsh=True"
   ]
  },
  {
   "cell_type": "code",
   "execution_count": null,
   "metadata": {},
   "outputs": [],
   "source": [
    "def load_learner(n_hashes, use_lsh, fn, d_ff):\n",
    "    model = get_lshlm_model(vocab_sz=vocab_sz, d_model=d_model, n_layers=n_layers, n_heads=n_heads, \n",
    "              max_seq_len=max_seq_len, bucket_size=bucket_size, n_hashes=n_hashes, causal=causal, \n",
    "                use_lsh=use_lsh, seed=seed, attn_dropout=attn_dropout, ff_dropout=ff_dropout, emb_dropout=emb_dropout, \n",
    "                            d_ff=d_ff)\n",
    "    learn = get_synthetic_learner(dls, model)\n",
    "    learn = learn.load(fn)\n",
    "    return learn"
   ]
  },
  {
   "cell_type": "code",
   "execution_count": null,
   "metadata": {},
   "outputs": [
    {
     "data": {
      "text/plain": [
       "(1, 2, 4)"
      ]
     },
     "execution_count": null,
     "metadata": {},
     "output_type": "execute_result"
    }
   ],
   "source": [
    "learn_lsh1 = load_learner(n_hashes=1, use_lsh=True, fn=fn1, d_ff=256)\n",
    "learn_lsh2 = load_learner(n_hashes=2, use_lsh=True, fn=fn2, d_ff=256)\n",
    "learn_lsh4 = load_learner(n_hashes=4, use_lsh=True, fn=fn4, d_ff=256)\n",
    "learn_lsh1.model.n_hashes, learn_lsh2.model.n_hashes, learn_lsh4.model.n_hashes"
   ]
  },
  {
   "cell_type": "markdown",
   "metadata": {},
   "source": [
    "## load full attention with different seed"
   ]
  },
  {
   "cell_type": "markdown",
   "metadata": {},
   "source": [
    "This model was trained with a different seed, since it did't converge with the one used for the LSH-models. Note that `n_hashes`=6 is set in config, but is not used when `use_lsh`=False."
   ]
  },
  {
   "cell_type": "code",
   "execution_count": null,
   "metadata": {},
   "outputs": [
    {
     "data": {
      "text/plain": [
       "False"
      ]
     },
     "execution_count": null,
     "metadata": {},
     "output_type": "execute_result"
    }
   ],
   "source": [
    "seed=1234\n",
    "dls = get_twin_sequence_dataloaders(bs=bs, sl=sl, train_sz=train_sz, valid_sz=valid_sz, seed=seed)\n",
    "learn_full = load_learner(n_hashes=6, use_lsh=False, fn=fn_full, d_ff=256) \n",
    "learn_full.model.use_lsh"
   ]
  },
  {
   "cell_type": "markdown",
   "metadata": {},
   "source": [
    "## Validate LSH-models with changing `n_hashes`:"
   ]
  },
  {
   "cell_type": "markdown",
   "metadata": {},
   "source": [
    "Validate lsh-models with n_hashes=1,2,4,8"
   ]
  },
  {
   "cell_type": "code",
   "execution_count": null,
   "metadata": {},
   "outputs": [
    {
     "data": {
      "text/html": [],
      "text/plain": [
       "<IPython.core.display.HTML object>"
      ]
     },
     "metadata": {},
     "output_type": "display_data"
    },
    {
     "data": {
      "text/html": [],
      "text/plain": [
       "<IPython.core.display.HTML object>"
      ]
     },
     "metadata": {},
     "output_type": "display_data"
    },
    {
     "data": {
      "text/html": [],
      "text/plain": [
       "<IPython.core.display.HTML object>"
      ]
     },
     "metadata": {},
     "output_type": "display_data"
    },
    {
     "data": {
      "text/html": [],
      "text/plain": [
       "<IPython.core.display.HTML object>"
      ]
     },
     "metadata": {},
     "output_type": "display_data"
    },
    {
     "data": {
      "text/html": [],
      "text/plain": [
       "<IPython.core.display.HTML object>"
      ]
     },
     "metadata": {},
     "output_type": "display_data"
    },
    {
     "data": {
      "text/html": [],
      "text/plain": [
       "<IPython.core.display.HTML object>"
      ]
     },
     "metadata": {},
     "output_type": "display_data"
    },
    {
     "data": {
      "text/html": [],
      "text/plain": [
       "<IPython.core.display.HTML object>"
      ]
     },
     "metadata": {},
     "output_type": "display_data"
    },
    {
     "data": {
      "text/html": [],
      "text/plain": [
       "<IPython.core.display.HTML object>"
      ]
     },
     "metadata": {},
     "output_type": "display_data"
    },
    {
     "data": {
      "text/html": [],
      "text/plain": [
       "<IPython.core.display.HTML object>"
      ]
     },
     "metadata": {},
     "output_type": "display_data"
    },
    {
     "data": {
      "text/html": [],
      "text/plain": [
       "<IPython.core.display.HTML object>"
      ]
     },
     "metadata": {},
     "output_type": "display_data"
    },
    {
     "data": {
      "text/html": [],
      "text/plain": [
       "<IPython.core.display.HTML object>"
      ]
     },
     "metadata": {},
     "output_type": "display_data"
    },
    {
     "data": {
      "text/html": [],
      "text/plain": [
       "<IPython.core.display.HTML object>"
      ]
     },
     "metadata": {},
     "output_type": "display_data"
    }
   ],
   "source": [
    "res = []\n",
    "for learner in [learn_lsh4, learn_lsh2, learn_lsh1]:\n",
    "    train_hashes = learner.model.n_hashes\n",
    "    \n",
    "    for eval_hashes in [8,4,2,1]:\n",
    "        learner.model.n_hashes=eval_hashes\n",
    "        _, m_acc = learner.validate(cbs=MaskTargCallback)\n",
    "        res.append((f'LSH-{train_hashes}', f'LSH-{eval_hashes}', m_acc))\n",
    "    \n",
    "    learner.model.n_hashes=train_hashes #reset n_hashes"
   ]
  },
  {
   "cell_type": "markdown",
   "metadata": {},
   "source": [
    "Evaluate LSH-models with full-attention:"
   ]
  },
  {
   "cell_type": "code",
   "execution_count": null,
   "metadata": {},
   "outputs": [
    {
     "data": {
      "text/html": [],
      "text/plain": [
       "<IPython.core.display.HTML object>"
      ]
     },
     "metadata": {},
     "output_type": "display_data"
    },
    {
     "data": {
      "text/html": [],
      "text/plain": [
       "<IPython.core.display.HTML object>"
      ]
     },
     "metadata": {},
     "output_type": "display_data"
    },
    {
     "data": {
      "text/html": [],
      "text/plain": [
       "<IPython.core.display.HTML object>"
      ]
     },
     "metadata": {},
     "output_type": "display_data"
    }
   ],
   "source": [
    "for learner in [learn_lsh4, learn_lsh2, learn_lsh1]:\n",
    "    learner.model.use_lsh=False\n",
    "    _, m_acc = learner.validate(cbs=MaskTargCallback)\n",
    "    res.append((f'LSH-{learner.model.n_hashes}', 'Full Attention', m_acc))\n",
    "    \n",
    "learner.model.use_lsh=True #reset"
   ]
  },
  {
   "cell_type": "markdown",
   "metadata": {},
   "source": [
    "## Validate full attention model"
   ]
  },
  {
   "cell_type": "markdown",
   "metadata": {},
   "source": [
    "Validate model trained with full attention with full attention and LSH"
   ]
  },
  {
   "cell_type": "code",
   "execution_count": null,
   "metadata": {},
   "outputs": [
    {
     "data": {
      "text/html": [],
      "text/plain": [
       "<IPython.core.display.HTML object>"
      ]
     },
     "metadata": {},
     "output_type": "display_data"
    },
    {
     "data": {
      "text/html": [],
      "text/plain": [
       "<IPython.core.display.HTML object>"
      ]
     },
     "metadata": {},
     "output_type": "display_data"
    },
    {
     "data": {
      "text/html": [],
      "text/plain": [
       "<IPython.core.display.HTML object>"
      ]
     },
     "metadata": {},
     "output_type": "display_data"
    },
    {
     "data": {
      "text/html": [],
      "text/plain": [
       "<IPython.core.display.HTML object>"
      ]
     },
     "metadata": {},
     "output_type": "display_data"
    },
    {
     "data": {
      "text/html": [],
      "text/plain": [
       "<IPython.core.display.HTML object>"
      ]
     },
     "metadata": {},
     "output_type": "display_data"
    }
   ],
   "source": [
    "# validate with full attention\n",
    "_,m_acc = learn_full.validate(cbs=MaskTargCallback)\n",
    "res.append(('Full Attention','Full Attention', m_acc))\n",
    "\n",
    "#validate with lsh-1,2,4,8\n",
    "learn_full.model.use_lsh=True\n",
    "for n_hashes in [8,4,2,1]:\n",
    "    learn_full.model.n_hashes=n_hashes\n",
    "    _, m_acc = learn_full.validate(cbs=MaskTargCallback)\n",
    "    res.append(('Full Attention', f'LSH-{learn_full.model.n_hashes}', m_acc))"
   ]
  },
  {
   "cell_type": "markdown",
   "metadata": {},
   "source": [
    "## summarize results"
   ]
  },
  {
   "cell_type": "code",
   "execution_count": null,
   "metadata": {},
   "outputs": [],
   "source": [
    "cols = ['Train', 'Eval', 'Masked_Accuracy']\n",
    "df = pd.DataFrame(res, columns=cols)\n",
    "df['Masked_Accuracy'] = df['Masked_Accuracy'].round(4)*100"
   ]
  },
  {
   "cell_type": "code",
   "execution_count": null,
   "metadata": {},
   "outputs": [
    {
     "data": {
      "text/html": [
       "<div>\n",
       "<style scoped>\n",
       "    .dataframe tbody tr th:only-of-type {\n",
       "        vertical-align: middle;\n",
       "    }\n",
       "\n",
       "    .dataframe tbody tr th {\n",
       "        vertical-align: top;\n",
       "    }\n",
       "\n",
       "    .dataframe thead th {\n",
       "        text-align: right;\n",
       "    }\n",
       "</style>\n",
       "<table border=\"1\" class=\"dataframe\">\n",
       "  <thead>\n",
       "    <tr style=\"text-align: right;\">\n",
       "      <th>Eval</th>\n",
       "      <th>Full Attention</th>\n",
       "      <th>LSH-8</th>\n",
       "      <th>LSH-4</th>\n",
       "      <th>LSH-2</th>\n",
       "      <th>LSH-1</th>\n",
       "    </tr>\n",
       "    <tr>\n",
       "      <th>Train</th>\n",
       "      <th></th>\n",
       "      <th></th>\n",
       "      <th></th>\n",
       "      <th></th>\n",
       "      <th></th>\n",
       "    </tr>\n",
       "  </thead>\n",
       "  <tbody>\n",
       "    <tr>\n",
       "      <th>Full Attention</th>\n",
       "      <td>100.00</td>\n",
       "      <td>1.37</td>\n",
       "      <td>1.85</td>\n",
       "      <td>3.00</td>\n",
       "      <td>4.56</td>\n",
       "    </tr>\n",
       "    <tr>\n",
       "      <th>LSH-4</th>\n",
       "      <td>46.54</td>\n",
       "      <td>99.71</td>\n",
       "      <td>99.77</td>\n",
       "      <td>93.05</td>\n",
       "      <td>77.62</td>\n",
       "    </tr>\n",
       "    <tr>\n",
       "      <th>LSH-2</th>\n",
       "      <td>75.94</td>\n",
       "      <td>96.60</td>\n",
       "      <td>97.45</td>\n",
       "      <td>97.08</td>\n",
       "      <td>86.06</td>\n",
       "    </tr>\n",
       "    <tr>\n",
       "      <th>LSH-1</th>\n",
       "      <td>70.65</td>\n",
       "      <td>76.61</td>\n",
       "      <td>79.68</td>\n",
       "      <td>79.34</td>\n",
       "      <td>56.09</td>\n",
       "    </tr>\n",
       "  </tbody>\n",
       "</table>\n",
       "</div>"
      ],
      "text/plain": [
       "Eval            Full Attention  LSH-8  LSH-4  LSH-2  LSH-1\n",
       "Train                                                     \n",
       "Full Attention          100.00   1.37   1.85   3.00   4.56\n",
       "LSH-4                    46.54  99.71  99.77  93.05  77.62\n",
       "LSH-2                    75.94  96.60  97.45  97.08  86.06\n",
       "LSH-1                    70.65  76.61  79.68  79.34  56.09"
      ]
     },
     "execution_count": null,
     "metadata": {},
     "output_type": "execute_result"
    }
   ],
   "source": [
    "df = df.pivot_table(index=cols[0],\n",
    "                   columns=cols[1],\n",
    "                   values=cols[2])\n",
    "df = df.iloc[[0,3,2,1], [0,4,3,2,1]]\n",
    "df"
   ]
  },
  {
   "cell_type": "markdown",
   "metadata": {},
   "source": [
    "![table2](images/paper_table2.png)"
   ]
  },
  {
   "cell_type": "code",
   "execution_count": null,
   "metadata": {},
   "outputs": [
    {
     "name": "stdout",
     "output_type": "stream",
     "text": [
      "| Train          |   Full Attention |   LSH-8 |   LSH-4 |   LSH-2 |   LSH-1 |\n",
      "|:---------------|-----------------:|--------:|--------:|--------:|--------:|\n",
      "| Full Attention |           100    |    1.37 |    1.85 |    3    |    4.56 |\n",
      "| LSH-4          |            46.54 |   99.71 |   99.77 |   93.05 |   77.62 |\n",
      "| LSH-2          |            75.94 |   96.6  |   97.45 |   97.08 |   86.06 |\n",
      "| LSH-1          |            70.65 |   76.61 |   79.68 |   79.34 |   56.09 |\n"
     ]
    }
   ],
   "source": [
    "#hide\n",
    "#skip\n",
    "print(df.to_markdown())"
   ]
  },
  {
   "cell_type": "code",
   "execution_count": null,
   "metadata": {},
   "outputs": [],
   "source": []
  }
 ],
 "metadata": {
  "kernelspec": {
   "display_name": "Python 3",
   "language": "python",
   "name": "python3"
  }
 },
 "nbformat": 4,
 "nbformat_minor": 4
}
