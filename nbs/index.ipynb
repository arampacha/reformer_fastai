{
 "cells": [
  {
   "cell_type": "markdown",
   "metadata": {},
   "source": [
    "# Reformer Reproducibility Experiments\n",
    "\n",
    "> Fastai community entry to [2020 Papers With Code Reproducibility Challenge](https://paperswithcode.com/rc2020)"
   ]
  },
  {
   "cell_type": "markdown",
   "metadata": {},
   "source": [
    "## Our Reproducibility Challenge Submission\n",
    "\n",
    "- Our OpenReview paper submission to the challenge can be found [here](https://openreview.net/forum?id=3s8Y7dHYkN-) \n",
    "- Our Weights & Biases Report, with interactive charts, is available [here](https://wandb.ai/fastai_community/reformer-fastai/reports/Reformer-Reproducibility-Final-Edits---Vmlldzo0MzQ1OTg) \n",
    "\n",
    "## Installation"
   ]
  },
  {
   "cell_type": "markdown",
   "metadata": {},
   "source": [
    "### Setup\n",
    "If you don't already, its a good idea to install the package into a virtual environment\n",
    "\n",
    "```\n",
    "python3 -m venv my_env\n",
    "source ./my_env/bin/activate\n",
    "```\n",
    "\n",
    "### Install\n",
    "Then you can install the package via pip:\n",
    "\n",
    "`pip install reformer-fastai`\n",
    "\n",
    "Or (even better) install latest version from github:\n",
    "\n",
    "`pip install git+git://github.com/arampacha/reformer_fastai.git`\n",
    "\n",
    "### Contributing\n",
    "This project used nbdev for all development, see [their docs here](https://nbdev.fast.ai/) to install nbdev and get started. Once you have nbdev installed we suggest you follow the suggested [contributor workflow](https://github.com/arampacha/reformer_fastai/blob/master/CONTRIBUTING.md)"
   ]
  },
  {
   "cell_type": "markdown",
   "metadata": {},
   "source": [
    "## Running Experiments"
   ]
  },
  {
   "cell_type": "markdown",
   "metadata": {},
   "source": [
    "A pip installed version of this library is needed to run experiments. All experiments are run using the `run_exp` command, followed by the particular task name and then the parameters related to that task. `run_exp --help` will display a list of all parameters as well as a brief description. For brevity, an example of how to run a Reformer Language Model experiment is show below, **a list of all experiment commands can be found here**\n",
    "\n",
    "### Example: Reversible Language Model\n",
    "Below is an example of the code used that generated the results in Section 4.4 \"Effect of reversible layers\" of our submission paper.\n",
    "\n",
    "```\n",
    "run_exp \"lm_rev\" \\\n",
    "        --n_epochs=10 \\\n",
    "        --bs=2 \\\n",
    "        --max_seq_len=4096 \\\n",
    "        --grad_accum=8 \\\n",
    "        --save_model=True  \\\n",
    "        --clip=0.5 \\\n",
    "        --seed=444 \\\n",
    "        --precision=2 \\\n",
    "        --do_wandb_logging=False \\\n",
    "```"
   ]
  },
  {
   "cell_type": "markdown",
   "metadata": {},
   "source": [
    "## Results\n",
    "All full description of our results, including charts and tables can be found in our paper [here on OpenReview](https://openreview.net/forum?id=3s8Y7dHYkN-). Our results are summarised as follows:\n",
    "\n",
    "> Claims around speed on longer sequences and reduced memory footprint were validated; as sequence length\n",
    "increased, Locality Sensitive Hashing (\"LSH\") Attention became faster and increasing the number of hashes improved\n",
    "performance. We could not achieve the performance of a traditional Transformer with Reformer. Some experiments\n",
    "were not run for as long as in the paper due to a lack of computational resources. Potentially the under-performance\n",
    "of our Reformer may be due to under-training, implementation differences or nuances in JAX vs Pytorch. Also,\n",
    "exploding gradients were encountered with mixed precision training and several model settings were found to be\n",
    "unstable depending on the random seed or learning rate."
   ]
  },
  {
   "cell_type": "markdown",
   "metadata": {},
   "source": [
    "## Project Links\n",
    "\n",
    "- [Our OpenReview paper submission](https://openreview.net/forum?id=3s8Y7dHYkN-)\n",
    "- [Reformer Reproducibility Report on WandB](https://wandb.ai/fastai_community/reformer-fastai/reports/Reformer-Reproducibility-Final-Edits---Vmlldzo0MzQ1OTg)\n",
    "- [Our project documentation](https://arampacha.github.io/reformer_fastai/)\n",
    "- [Fastai forums thread](https://forums.fast.ai/t/reproducibility-challenge-2020-fastai-folks-interested/80336/39)\n",
    "- [Google doc used for early planning](https://docs.google.com/document/d/1wF83E3B3yXIGZixEgOUJI2T2XXhT1DVCrPXS5Dbsyh8/edit)"
   ]
  },
  {
   "cell_type": "markdown",
   "metadata": {},
   "source": [
    "## Resources"
   ]
  },
  {
   "cell_type": "markdown",
   "metadata": {},
   "source": [
    "### Author's Code and Resources\n",
    "- [Reformer Paper](https://openreview.net/pdf?id=rkgNKkHtvB)\n",
    "- [Authors ICLR video](https://iclr.cc/virtual_2020/poster_rkgNKkHtvB.html)\n",
    "- [Google Blog](https://ai.googleblog.com/2020/01/reformer-efficient-transformer.html)\n",
    "- [Authors code (TRAX)](https://github.com/google/trax/tree/master/trax/models/reformer)\n",
    "- [Reformer enwik8 model and training config](https://github.com/google/trax/blob/f8024e8057599b92fce82842f342cb3d39c8f405/trax/supervised/configs/reformer_enwik8.gin)"
   ]
  },
  {
   "cell_type": "markdown",
   "metadata": {},
   "source": [
    "### More Code\n",
    "- [@lucidrain’s Reformer code](https://github.com/lucidrains/reformer-pytorch/)\n",
    "- [HuggingFace: Reformer source code](https://github.com/huggingface/transformers/blob/a1bbcf3f6c20e15fe799a8659d6b7bd36fdf11ed/src/transformers/modeling_reformer.py)\n",
    "    - [Reformer enwik8 configs](https://github.com/google/trax/blob/master/trax/supervised/configs/reformer_enwik8.gin)\n",
    "    - [Reformer WMT14 en-de configs](https://github.com/google/trax/blob/master/trax/supervised/configs/reformer_wmt_ende.gin)\n",
    "    - [Reformer Machine Translation example](https://github.com/google/trax/blob/a0483a12cb7ebece40b5e302e8e81fd9249c6ef6/trax/models/reformer/machine_translation.ipynb)\n",
    "    = [SubwordTextEncoder tokenizer used for Machine Translation](https://github.com/tensorflow/tensor2tensor/blob/21dba2c1bdcc7ab582a2bfd8c0885c217963bb4f/tensor2tensor/data_generators/text_encoder.py#L448)\n",
    "- [HuggingFace: Reformer notebook example](https://colab.research.google.com/github/patrickvonplaten/blog/blob/master/notebooks/03_reformer.ipynb)\n",
    "- [HuggingFace: long sequences](https://colab.research.google.com/github/patrickvonplaten/notebooks/blob/master/PyTorch_Reformer.ipynb)\n",
    "- [HuggingFace: Pretraining](https://colab.research.google.com/drive/1tzzh0i8PgDQGV3SMFUGxM7_gGae3K-uW?usp=sharing)"
   ]
  },
  {
   "cell_type": "markdown",
   "metadata": {},
   "source": [
    "### Data\n",
    "\n",
    "**enwik8**\n",
    "- [enwik8.zip, raw data, 100mb](http://mattmahoney.net/dc/enwik8.zip)\n",
    "- [Tensor2Tensor enwik8 data generator code, with train/dev/test split](https://github.com/tensorflow/tensor2tensor/blob/master/tensor2tensor/data_generators/enwik8.py). File lengths:\n",
    "    - Train: 89,621,832\n",
    "    - Eval: 5,000,000\n",
    "    - Test: 5,000,000\n",
    "- [enwik8 notebook Tensor2Tensor](https://github.com/morganmcg1/reformer-fastai/blob/main/enwiki8_Tensor2Tensor_download.ipynb)\n",
    "\n",
    "**WMT14**\n",
    "- [WMT on HuggingFace Datasets](https://huggingface.co/datasets/viewer/?dataset=wmt14&config=cs-en)\n",
    "- [Reformer WMT14 vocab](https://github.com/google/trax/tree/a0483a12cb7ebece40b5e302e8e81fd9249c6ef6/trax/models/reformer/testdata)\n",
    "- Reformer.input_vocab_size = 33300, from [WMT14 model config](https://github.com/google/trax/blob/master/trax/supervised/configs/reformer_wmt_ende.gin)\n",
    "- Train Test split: (guess) newstest2013 for validation and newstest2014 for test, in consistence with Vaswani et al. (2017) - from https://arxiv.org/pdf/2009.02070.pdf\n",
    "- Tokenizer: [Tensor2Tensor SubWordTextEncoder](https://github.com/tensorflow/tensor2tensor/blob/21dba2c1bdcc7ab582a2bfd8c0885c217963bb4f/tensor2tensor/data_generators/text_encoder.py#L448)"
   ]
  },
  {
   "cell_type": "markdown",
   "metadata": {},
   "source": [
    "### Explainers\n",
    "\n",
    "- [Yannic K explainer](https://www.youtube.com/watch?v=i4H0kjxrias&t=1s)\n",
    "- [HuggingFace blog post](https://huggingface.co/blog/reformer)\n",
    "- [Illustrating the Reformer blog post](https://towardsdatascience.com/illustrating-the-reformer-393575ac6ba0)\n",
    "- [Reformer Deep Dive](https://www.pragmatic.ml/reformer-deep-dive/)"
   ]
  },
  {
   "cell_type": "markdown",
   "metadata": {},
   "source": [
    "### Related\n",
    "\n",
    "- [Coursera Attention Models in NLP course, with Reformer co-author](https://www.coursera.org/learn/attention-models-in-nlp)\n",
    "- [@hallvagi Attention blogpost](https://hallvagi.github.io/dl-explorer/fastai/attention/lstm/2020/06/29/Attention.html)\n",
    "- [The Transformer Family by @lilianweng](https://lilianweng.github.io/lil-log/2020/04/07/the-transformer-family.html)\n",
    "- [A Family of Attention Mechanisms bu @lilianweng](https://lilianweng.github.io/lil-log/2018/06/24/attention-attention.html#a-family-of-attention-mechanisms)"
   ]
  },
  {
   "cell_type": "code",
   "execution_count": null,
   "metadata": {},
   "outputs": [],
   "source": []
  }
 ],
 "metadata": {
  "kernelspec": {
   "display_name": "Python 3",
   "language": "python",
   "name": "python3"
  }
 },
 "nbformat": 4,
 "nbformat_minor": 4
}
