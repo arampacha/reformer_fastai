{
 "cells": [
  {
   "cell_type": "code",
   "execution_count": null,
   "metadata": {},
   "outputs": [],
   "source": [
    "# default_exp expscript"
   ]
  },
  {
   "cell_type": "code",
   "execution_count": null,
   "metadata": {},
   "outputs": [],
   "source": [
    "#hide\n",
    "%load_ext autoreload\n",
    "%autoreload 2"
   ]
  },
  {
   "cell_type": "code",
   "execution_count": null,
   "metadata": {},
   "outputs": [],
   "source": [
    "#exports\n",
    "import sys\n",
    "import multiprocessing\n",
    "\n",
    "from fastcore.all import *\n",
    "from fastai.basics import *\n",
    "from fastai.text.all import *\n",
    "from fastai.distributed import *\n",
    "\n",
    "from reformer_fastai.all import *"
   ]
  },
  {
   "cell_type": "code",
   "execution_count": null,
   "metadata": {},
   "outputs": [],
   "source": [
    "#all_slow"
   ]
  },
  {
   "cell_type": "markdown",
   "metadata": {},
   "source": [
    "# Experiment Script\n",
    "\n",
    "Experiments are run with this script by specifying:\n",
    "\n",
    "1) The task to run, i.e. synthetic task, language modelling or translation\n",
    "2) (Optionally) override default parameters for the dataloaders, models, training loop and logging\n",
    "\n",
    "To run the training script run `run_exp` from within the `reformer_fastai` repo. For example:\n",
    "\n",
    "```\n",
    "run_exp 'synth' lr=1e-4 bs=32 \n",
    "```\n",
    "\n",
    "To run experiment script on multiple GPUs use `fastai.launch`:\n",
    "\n",
    "```\n",
    "python -m fastai.launch [--gpus 1,2] expscript.py [args]\n",
    "```"
   ]
  },
  {
   "cell_type": "markdown",
   "metadata": {},
   "source": [
    "## Experiment Configs\n",
    "\n",
    "Model Configs can be found the `21_experiment-config.ipynb` notebook"
   ]
  },
  {
   "cell_type": "markdown",
   "metadata": {},
   "source": [
    "## Data"
   ]
  },
  {
   "cell_type": "markdown",
   "metadata": {},
   "source": [
    "enwik8 Data Download"
   ]
  },
  {
   "cell_type": "code",
   "execution_count": null,
   "metadata": {},
   "outputs": [],
   "source": [
    "#export\n",
    "def download_enwik8_data(data_path='./data'):\n",
    "    dest = Path(data_path)\n",
    "    if not dest.exists(): dest.mkdir()\n",
    "    return untar_data('http://mattmahoney.net/dc/enwik8.zip', dest=dest)"
   ]
  },
  {
   "cell_type": "markdown",
   "metadata": {},
   "source": [
    "## Dataloaders"
   ]
  },
  {
   "cell_type": "markdown",
   "metadata": {},
   "source": [
    "### Twin Sequence Dataloader"
   ]
  },
  {
   "cell_type": "code",
   "execution_count": null,
   "metadata": {},
   "outputs": [],
   "source": [
    "#export\n",
    "def get_twin_sequence_dataloaders(bs:int=32, sl:int=1024, train_sz:int=500, valid_sz:int=100, seed=None):\n",
    "    \n",
    "    dls = DataLoaders.from_dsets(DeterministicTwinSequence(sl, train_sz, seed), \n",
    "                                 DeterministicTwinSequence(sl, valid_sz, seed), \n",
    "                                 bs=bs, shuffle=False, device='cuda')\n",
    "    return dls"
   ]
  },
  {
   "cell_type": "markdown",
   "metadata": {},
   "source": [
    "### enwik8 Dataloader\n",
    "\n",
    "`val_test_chars` sets the the number of tokens in the combined validation and test set. Valdiation and test sets will have `val_test_chars / 2` tokens each"
   ]
  },
  {
   "cell_type": "code",
   "execution_count": null,
   "metadata": {},
   "outputs": [],
   "source": [
    "#export    \n",
    "def get_enwik8_dataloader(data_path='data', bs:int=8, val_bs:int=32, sl:int=1024, n_workers=None, \n",
    "                          val_test_chars:int=10e6, verbose=False, tiny=False):\n",
    "      \n",
    "    if 'google.colab' in sys.modules:\n",
    "        data_path = '/content' + data_path + '/enwik8'\n",
    "    else:\n",
    "        data_path = data_path + '/enwik8'\n",
    "    \n",
    "    if verbose: print('Reading data into dataframe ...')\n",
    "    df = pd.DataFrame({'text':read_lines(data_path)})\n",
    "    if tiny: \n",
    "        df = df.sample(frac=0.05)\n",
    "        df.reset_index(drop=True, inplace=True)\n",
    "        val_test_chars = 10000\n",
    "        \n",
    "    if verbose: print('done')\n",
    "    \n",
    "    # Do tokenization\n",
    "    btt = ByteTextTokenizer(is_lm=True, add_bos=False, add_eos=False)\n",
    "    if verbose: print('Tokenizing text ...')\n",
    "    df['toks'] = df['text'].apply(btt)\n",
    "    if verbose: print('done')\n",
    "    \n",
    "    # Get length of each sample and cumulative sum of lens\n",
    "    df['lens'] = df['toks'].apply(len)\n",
    "    df['lens_cum_sum'] = df.lens.cumsum()\n",
    "    \n",
    "    # Get splits, split train/valid/test based on count of tokens in each split\n",
    "    train_cutoff = df.lens.sum() - val_test_chars  # keep all but 10M characters for val and test\n",
    "    train_idxs = df.loc[df['lens_cum_sum'] < train_cutoff].index.values\n",
    "    train_idxs = list(range(0, max(train_idxs)))\n",
    "\n",
    "    remaining_idxs = len(df) - max(train_idxs)\n",
    "    validation_idxs = list(range(max(train_idxs), max(train_idxs) + int(remaining_idxs/2)))\n",
    "    test_idxs = list(range(max(validation_idxs), len(df)))\n",
    "\n",
    "    splits = [train_idxs, validation_idxs]\n",
    "     \n",
    "    # Get Datasets\n",
    "    if verbose: print('Setting up Datasets ...')\n",
    "    tfms = [attrgetter(\"text\"), btt]\n",
    "    dsets = Datasets(df, [tfms], splits=splits, dl_type=LMDataLoader)\n",
    "    if verbose: print('done')\n",
    "    \n",
    "    # Get Dataloaders\n",
    "    dl_kwargs = [{'lens':df['lens'].values[train_idxs]},\n",
    "                 {'val_lens':df['lens'].values[validation_idxs]}]\n",
    "    if verbose: print('Setting up Dataloaders ...')\n",
    "    \n",
    "    n_cpus = multiprocessing.cpu_count()\n",
    "    n_workers = n_cpus if n_workers is None else n_workers\n",
    "    \n",
    "    dls = dsets.dataloaders(bs=bs, val_bs=val_bs, seq_len=sl, dl_kwargs=dl_kwargs, shuffle_train=True, n_workers=n_workers)\n",
    "    print('done')\n",
    "    return dls"
   ]
  },
  {
   "cell_type": "markdown",
   "metadata": {},
   "source": [
    "## Learner"
   ]
  },
  {
   "cell_type": "markdown",
   "metadata": {},
   "source": [
    "### Sythetic Task Learner"
   ]
  },
  {
   "cell_type": "code",
   "execution_count": null,
   "metadata": {},
   "outputs": [],
   "source": [
    "#export\n",
    "def get_synthetic_learner(dls, model):\n",
    "    \n",
    "    learn = Learner(dls, model, \n",
    "                    loss_func=CrossEntropyLossFlat(ignore_index=-100), \n",
    "                    metrics=[MaskedAccuracy()]).to_fp16()\n",
    "    return learn"
   ]
  },
  {
   "cell_type": "markdown",
   "metadata": {},
   "source": [
    "### enwik8 Language Modelling Task Learner"
   ]
  },
  {
   "cell_type": "code",
   "execution_count": null,
   "metadata": {},
   "outputs": [],
   "source": [
    "#export\n",
    "def get_lm_learner(dls, model, opt_func=adafactor):\n",
    "    learn = Learner(dls, model, \n",
    "                    loss_func=CrossEntropyLossFlat(ignore_index=dls.byte_text_tokenizer.pad_token_id), \n",
    "                    opt_func=opt_func, metrics=[accuracy, perplexity, bpc]).to_fp16()\n",
    "    return learn"
   ]
  },
  {
   "cell_type": "markdown",
   "metadata": {},
   "source": [
    "## Logging"
   ]
  },
  {
   "cell_type": "code",
   "execution_count": null,
   "metadata": {},
   "outputs": [],
   "source": [
    "#export\n",
    "def init_wandb(cbs:list=[], wandb_name:str='', wandb_group:str='', wandb_notes:str='', wandb_tags:str='test'):\n",
    "    \n",
    "    wandb_tags_ls = wandb_tags.split(' ')\n",
    "    \n",
    "    try:\n",
    "        import wandb\n",
    "        #!wandb login\n",
    "    except ImportError as e:\n",
    "        print(e)\n",
    "\n",
    "    # Init wandb\n",
    "    try:\n",
    "        wandb_run=wandb.init(reinit=True, project=\"reformer-fastai\", entity=\"fastai_community\", \n",
    "               name=wandb_name, group=wandb_group, notes=wandb_notes, tags=wandb_tags_ls, config={})\n",
    "        print('Weights & Biases initialised ...')\n",
    "    except Exception as e:\n",
    "        print(e)\n",
    "\n",
    "    cbs.append(WandbCallback(log_model=False, log_preds=False))\n",
    "    return wandb_run, cbs"
   ]
  },
  {
   "cell_type": "markdown",
   "metadata": {},
   "source": [
    "## Training Script\n",
    "\n",
    "### Command line arguments\n",
    "Only arguments used to alternate between different experiment runs  will be passed to the model from the command line, e.g. for the Synthetic experiment, only `n_hashes` and `use_lsh` can be changed from the command line. All other model parameters are fixed from `SyntheticConfig`"
   ]
  },
  {
   "cell_type": "code",
   "execution_count": null,
   "metadata": {},
   "outputs": [
    {
     "name": "stdout",
     "output_type": "stream",
     "text": [
      "None\n"
     ]
    }
   ],
   "source": [
    "seed = 0\n",
    "seed = seed if seed!=0 else None \n",
    "print(seed)"
   ]
  },
  {
   "cell_type": "code",
   "execution_count": null,
   "metadata": {},
   "outputs": [],
   "source": [
    "#export\n",
    "@call_parse\n",
    "def run_exp(task:Param(help=\"Task options: 'synt','lm_base','lm_rev',lm_shared_qk, trans\", type=str),\n",
    "         data_path:Param(help=\"Path to data folder\", type=str, default='./data'),\n",
    "         n_epochs:Param(help=\"Number of epochs\", type=int, default=1),\n",
    "         lr:Param(help=\"Learning rate\", type=float, default=1e-3),               \n",
    "         bs:Param(help=\"Batch size\", type=int, default=64),\n",
    "         train_sz:Param(help=\"TwinSequence train size\", type=int, default=12800),\n",
    "         valid_sz:Param(help=\"TwinSequence valid size\", type=int, default=1280),\n",
    "         n_hashes:Param(help=\"Number of LSH Attention hashes\", type=int, default=1),\n",
    "         use_lsh:Param(help=\"Use LSH Attention\", type=bool_arg, default=False),\n",
    "         max_seq_len:Param(help=\"Max sequence length for model embedding and dataloader\", type=int, default=2048),\n",
    "         do_wandb_logging:Param(help=\"Use weights and biases logging\", type=bool_arg, default=False),\n",
    "         run_name:Param(help=\"Run name for wandb tracking and model filename\", type=str, default=''),\n",
    "         wandb_group:Param(help=\"wandb group\", type=str, default='TEST'),\n",
    "         wandb_notes:Param(help=\"wandb notes\", type=str, default='My experiment notes'),\n",
    "         wandb_tags:Param(help=\"wandb tags, add tags in a single string, space separated\", type=str, default='test'),\n",
    "         save_model:Param(help=\"Save model locally in /models\", type=bool_arg, default=False),\n",
    "         grad_accum:Param(help=\"Gradient Accumulation, set greater than 1 to implement\", type=int, default=1),\n",
    "         clip:Param(help=\"Gradient Clipping, will be set if > 0.0\", type=float, default=0.0),\n",
    "         cuda_id:Param(help=\"Which cuda device to use\", type=int, default=0),\n",
    "         seed:Param(help=\"Set seed for reproducibiltiy, passing anything except 0 will use fastai's set_seed\", type=int, default=0),\n",
    "         distrib:Param(help=\"Set to True if using distributed training\", type=bool_arg, default=False),\n",
    "         verbose:Param(help=\"Print script logs\", type=bool_arg, default=True),\n",
    "         tiny:Param(help=\"Use 5% of data, for quick iteration and testings\", type=bool_arg, default=False),\n",
    "        ):\n",
    "\n",
    "    \"\"\"Task options: 'synt','lm_base','lm_rev',lm_shared_qk, trans\"\"\"\n",
    "    #Set up distributed training\n",
    "    _wrapper = rank0_first if distrib else partial\n",
    "    if distrib: cuda_id = None \n",
    "    \n",
    "    # Callbacks used for training\n",
    "    cbs = []               \n",
    "    \n",
    "    #random seeds\n",
    "    if seed!=0:\n",
    "        set_seed(seed, reproducible=True)  # this  sets `torch.cudnn.backends ++`\n",
    "    else: \n",
    "        seed = None   # this is passed to LSH and data generator. They expect None or int\n",
    "    \n",
    "    if task == 'synt':\n",
    "        \"Model + Data Args than can be changed from command line: train_sz, valid_sz, n_hashes, use_lsh, seed\"\n",
    "        \n",
    "        \n",
    "        if run_name == '': \n",
    "            if use_lsh: run_name = f'{task}_lsh-{n_hashes}_bs-{bs}_n_eps-{n_epochs}'\n",
    "            else: run_name = f'{task}_full-attn_bs-{bs}_n_eps-{n_epochs}'\n",
    "        \n",
    "        print('Getting model ...')\n",
    "        config = SyntheticConfig(warn=False, verbose=verbose, n_hashes=n_hashes, use_lsh=use_lsh)\n",
    "        if verbose: print(config)\n",
    "        config.save(run_name, add_tstmp=True)\n",
    "        model = LSHLM.from_config(config)\n",
    "        print('done!')\n",
    "        \n",
    "        print('Getting dataloaders ...')\n",
    "        if train_sz != 12800: print(f'Note, \"train_sz\" changed from recommended 12800 to {train_sz}')\n",
    "        dls = get_twin_sequence_dataloaders(bs=bs, sl=config['max_seq_len'], train_sz=train_sz, \n",
    "                                            valid_sz=valid_sz, seed=seed)\n",
    "        print('done!')\n",
    "        \n",
    "        print('Getting learner ...')\n",
    "        learn = get_synthetic_learner(dls, model)\n",
    "        print('done!')\n",
    "        \n",
    "        # Set up Weights & Biases logging, if needed\n",
    "        if do_wandb_logging: \n",
    "            wandb_run, cbs = init_wandb(cbs, wandb_name=run_name, wandb_group=wandb_group,\n",
    "                                        wandb_notes=wandb_notes, wandb_tags=wandb_tags)\n",
    "        \n",
    "        # Append training callbacks needed\n",
    "        cbs.append(MaskTargCallback())\n",
    "        \n",
    "        # Start training\n",
    "        print('Starting training...')\n",
    "        with learn.distrib_ctx(cuda_id=cuda_id): learn.fit_one_cycle(n_epochs, lr, cbs=cbs)\n",
    "        print('done!')\n",
    "        \n",
    "        # Close wandb logging for this run\n",
    "        if do_wandb_logging: wandb_run.finish()\n",
    "        \n",
    "        # Save model weights if needed, saved in /models relative to where script is run\n",
    "        if save_model:\n",
    "            now = time.strftime(\"_%d_%m_%Y_%H:%M\", time.gmtime())\n",
    "            learn.save(f'{task}_{run_name}_{now}')\n",
    "    \n",
    "    elif 'lm' in task:\n",
    "        \"Model args that can be changed from command line: axial_shape, max_seq_len\"\n",
    "        axial_shape = get_axial_shape(max_seq_len)\n",
    "        if task == 'lm_base':\n",
    "            if run_name == '': run_name = f'{task}_enwik8_sl-{max_seq_len}_bs-{bs}_n_eps-{n_epochs}'\n",
    "            config = TransformerLMConfigEnwik8(warn=False, verbose=verbose, \n",
    "                                               axial_shape=axial_shape, max_seq_len=max_seq_len)\n",
    "            print('Getting model ...')\n",
    "            model = TransformerLM.from_config(config)\n",
    "            print('done!')\n",
    "        elif task == 'lm_rev':\n",
    "            if run_name == '': run_name = f'{task}_enwik8_sl-{max_seq_len}_bs-{bs}_n_eps-{n_epochs}'\n",
    "            config = ReversibleLMConfigEnwik8(warn=False, verbose=verbose, \n",
    "                                              axial_shape=axial_shape, max_seq_len=max_seq_len)\n",
    "            print('Getting model ...')\n",
    "            model = ReversibleLM.from_config(config)\n",
    "            print('done!')\n",
    "        elif task == 'lm_shared_qk':\n",
    "            if run_name == '': run_name = f'{task}_enwik8_sl-{max_seq_len}_bs-{bs}_n_eps-{n_epochs}'\n",
    "            config = TransformerLMConfigEnwik8(warn=False, verbose=verbose, shared_qk=True, \n",
    "                                               axial_shape=axial_shape, max_seq_len=max_seq_len)\n",
    "            print('Getting model ...')\n",
    "            model = TransformerLM.from_config(config)\n",
    "            print('done!')\n",
    "        \n",
    "        if verbose: print(config)\n",
    "        config.save(run_name, add_tstmp=True)\n",
    "\n",
    "        print('Checking data')\n",
    "        _wrapper(download_enwik8_data, data_path=data_path)\n",
    "        print('done')\n",
    "        \n",
    "        print('Getting dataloaders ...')\n",
    "        dls = get_enwik8_dataloader(data_path=data_path, bs=bs, val_bs=bs, sl=max_seq_len, \n",
    "                                    verbose=verbose, tiny=tiny)\n",
    "        print('done')\n",
    "        \n",
    "        print('Getting learner ...')\n",
    "        learn = get_lm_learner(dls, model, opt_func=adafactor)\n",
    "        print('done!')\n",
    "        \n",
    "        # CALLBACKS\n",
    "        # Gradient Clipping\n",
    "        if clip != 0.0: cbs.append(GradientClip(max_norm=clip))\n",
    "        \n",
    "        # Gradient Accumulation\n",
    "        if grad_accum > 1: \n",
    "            print(f'Gradient accumulation on, virtual batch size == {grad_accum}')\n",
    "            cbs.append(GradientAccumulation(n_acc=grad_accum))\n",
    "            run_name = run_name + f'_grad-accum-{grad_accum}'\n",
    "        \n",
    "        # Set up Weights & Biases logging, if needed\n",
    "        if do_wandb_logging: \n",
    "            wandb_run, cbs = init_wandb(cbs, wandb_name=run_name, wandb_group=wandb_group,\n",
    "                                        wandb_notes=wandb_notes, wandb_tags=wandb_tags)\n",
    "        \n",
    "        # Start training\n",
    "        print('Starting training...')\n",
    "        with learn.distrib_ctx(cuda_id=cuda_id): learn.fit(n_epochs, cbs=cbs)\n",
    "        print('done!')\n",
    "        \n",
    "        # Close wandb logging for this run\n",
    "        if do_wandb_logging: wandb_run.finish()\n",
    "        \n",
    "        # Save model weights if needed, saved in /models relative to where script is run\n",
    "        if save_model:\n",
    "            now = time.strftime(\"_%d_%m_%Y_%H:%M\", time.gmtime())\n",
    "            learn.save(f'{task}_{run_name}_{now}')\n",
    "        \n",
    "    elif task == 'test_cfg':\n",
    "        print('Locals ', locals())\n",
    "        print()\n",
    "        config = SyntheticConfig(verbouse=True, **locals())\n",
    "        print(config)\n",
    "        config.save('test')\n",
    "        config2 = SyntheticConfig.from_file('test')\n",
    "        print(config2)\n",
    "        \n",
    "    elif task == 'test':\n",
    "        print('testing testing :)')\n",
    "        print(verbose)\n",
    "        \n",
    "    else:\n",
    "        print('No task run')"
   ]
  },
  {
   "cell_type": "markdown",
   "metadata": {},
   "source": [
    "## Running the Script\n",
    "\n",
    "Example command to run full scale experiment, note than `run_name` can be passed, but if not passed it will be automatically constructed based on the task and relevant arguments\n",
    "\n",
    "#### Running the Synthetic Experiment:\n",
    "\n",
    "```\n",
    "run_exp 'synt' \\\n",
    "    --n_epochs=750 \\\n",
    "    --lr=1e-4 \\\n",
    "    --bs=128 \\\n",
    "    --use_lsh=True \\\n",
    "    --n_hashes=1 \\\n",
    "    --train_sz=12800 \\\n",
    "    --valid_sz=1280 \\\n",
    "    --seed=1234 \\\n",
    "    --wandb_group='Synthetic' \\\n",
    "    --wandb_tags='synthetic_task lsh lm test' \\\n",
    "    --run_name='synth_lsh_1_hash' \n",
    "```\n",
    "\n",
    "#### Running the Reversible Language Model experiment:\n",
    "\n",
    "> For the full 60k steps with a sequence length of 65536, the number of epochs can be calculated as follows:\n",
    "with sl == 2\\*\\*16, 1 epoch of enwik8 will have 172 batches, therefore; n_epoch == 60000/172 == 349\n",
    "\n",
    "```\n",
    "run_exp 'lm_rev' \\\n",
    "    --n_epochs=3 \\\n",
    "    --lr=1e-4 \\\n",
    "    --bs=8 \\\n",
    "    --max_seq_len=4096 \\\n",
    "    --axial_shape='64,64' \\\n",
    "    --do_wandb_logging=True \\\n",
    "    --wandb_group='enwik8_lm_rev' \\\n",
    "    --wandb_tags='lm_rev lm exp' \\\n",
    "    --grad_accum=4\n",
    "```"
   ]
  },
  {
   "cell_type": "code",
   "execution_count": null,
   "metadata": {},
   "outputs": [
    {
     "name": "stdout",
     "output_type": "stream",
     "text": [
      "Converted 00_core.ipynb.\n",
      "Converted 01_layers.ipynb.\n",
      "Converted 02_attention.ipynb.\n",
      "Converted 03_transformer.ipynb.\n",
      "Converted 04_reformer.ipynb.\n",
      "Converted 05_tokenizers.ipynb.\n",
      "Converted 06_data.ipynb.\n",
      "Converted 07_metrics.ipynb.\n",
      "Converted 08_optimizers.ipynb.\n",
      "Converted 09_tracking.ipynb.\n",
      "Converted 10_experiment.synthetic-task.ipynb.\n",
      "Converted 10a_experiment.synthetic-task-comparison.ipynb.\n",
      "Converted 10b_experiment.synthetic-task-minimal.ipynb.\n",
      "Converted 10c_experiment.synthetic-task-analysis.ipynb.\n",
      "Converted 11_experiment.enwik8_baseline.ipynb.\n",
      "Converted 12_experiment.enwik8_sharedQK.ipynb.\n",
      "Converted 13_experiment.enwik8_reversible.ipynb.\n",
      "Converted 20_experiment-script.ipynb.\n",
      "Converted 21_experiment-configs.ipynb.\n",
      "Converted 50_exploration.LSH.ipynb.\n",
      "Converted index.ipynb.\n",
      "Converted reproducibility.report_1_reproducibility_summary.ipynb.\n"
     ]
    }
   ],
   "source": [
    "#hide\n",
    "from nbdev.export import notebook2script; notebook2script()"
   ]
  },
  {
   "cell_type": "code",
   "execution_count": null,
   "metadata": {},
   "outputs": [],
   "source": []
  }
 ],
 "metadata": {
  "kernelspec": {
   "display_name": "Python 3",
   "language": "python",
   "name": "python3"
  }
 },
 "nbformat": 4,
 "nbformat_minor": 4
}
